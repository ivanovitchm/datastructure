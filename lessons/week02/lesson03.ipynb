{
  "nbformat": 4,
  "nbformat_minor": 0,
  "metadata": {
    "colab": {
      "provenance": []
    },
    "kernelspec": {
      "name": "python3",
      "display_name": "Python 3"
    },
    "language_info": {
      "name": "python"
    }
  },
  "cells": [
    {
      "cell_type": "markdown",
      "source": [
        "# Part 1"
      ],
      "metadata": {
        "id": "o5NjK5PE2wZW"
      }
    },
    {
      "cell_type": "code",
      "execution_count": null,
      "metadata": {
        "id": "cGIQKdJqIDhz"
      },
      "outputs": [],
      "source": [
        "import networkx as nx\n",
        "import matplotlib.pyplot as plt\n",
        "\n",
        "# Create an undirected graph\n",
        "G = nx.Graph()\n",
        "\n",
        "# Add nodes (land masses)\n",
        "G.add_nodes_from(['A', 'B', 'C', 'D'])\n",
        "\n",
        "# Add edges (bridges between the land masses)\n",
        "edges = [\n",
        "    ('A', 'B'), ('A', 'B'),        # Two bridges between A and B\n",
        "    ('A', 'C'), ('A', 'C'),        # Two bridges between A and C\n",
        "    ('A', 'D'),                    # One bridge between A and D\n",
        "    ('B', 'D'),                    # One bridge between B and D\n",
        "    ('C', 'D')                     # One bridge between C and D\n",
        "]\n",
        "\n",
        "G.add_edges_from(edges)"
      ]
    },
    {
      "cell_type": "code",
      "source": [
        "# Define node positions to reflect the geographical layout\n",
        "pos = {\n",
        "    'A': (0, 1),   # North bank\n",
        "    'B': (2, 1),   # Northeast island\n",
        "    'C': (0, -1),  # Southeast island\n",
        "    'D': (2, -1)   # South bank\n",
        "}\n",
        "\n",
        "# Draw the graph\n",
        "plt.figure(figsize=(8, 6))\n",
        "nx.draw(G, pos, with_labels=True, node_size=1000, node_color='lightblue', font_size=14, font_weight='bold')\n",
        "nx.draw_networkx_edges(G, pos, edgelist=edges, width=2)\n",
        "plt.title(\"Seven Bridges of Königsberg\", fontsize=16)\n",
        "plt.axis('off')\n",
        "plt.show()"
      ],
      "metadata": {
        "id": "NsWcCZazIq5V"
      },
      "execution_count": null,
      "outputs": []
    },
    {
      "cell_type": "code",
      "source": [
        "import networkx as nx\n",
        "import matplotlib.pyplot as plt\n",
        "\n",
        "# Create an undirected graph\n",
        "G = nx.Graph()\n",
        "\n",
        "# Add nodes\n",
        "G.add_nodes_from([1, 2, 3, 4])\n",
        "\n",
        "# Add edges (unweighted)\n",
        "edges = [(1, 2), (1, 3), (2, 3), (3, 4)]\n",
        "G.add_edges_from(edges)\n",
        "\n",
        "# Draw the graph\n",
        "nx.draw(G, with_labels=True, node_color='lightblue', node_size=500)\n",
        "plt.title(\"Undirected and Unweighted Graph\")\n",
        "plt.show()"
      ],
      "metadata": {
        "id": "ZvevMKVyMo0w"
      },
      "execution_count": null,
      "outputs": []
    },
    {
      "cell_type": "code",
      "source": [
        "import networkx as nx\n",
        "import matplotlib.pyplot as plt\n",
        "\n",
        "# Create an undirected graph\n",
        "G = nx.Graph()\n",
        "\n",
        "# Add nodes\n",
        "G.add_nodes_from([1, 2, 3, 4])\n",
        "\n",
        "# Add weighted edges\n",
        "edges = [\n",
        "    (1, 2, {'weight': 2.5}),\n",
        "    (1, 3, {'weight': 1.2}),\n",
        "    (2, 3, {'weight': 0.75}),\n",
        "    (3, 4, {'weight': 1.8})\n",
        "]\n",
        "G.add_edges_from(edges)\n",
        "\n",
        "# Get edge weights\n",
        "edge_labels = nx.get_edge_attributes(G, 'weight')\n",
        "\n",
        "# Draw the graph\n",
        "pos = nx.spring_layout(G)\n",
        "nx.draw(G, pos, with_labels=True, node_color='lightgreen', node_size=500)\n",
        "nx.draw_networkx_edge_labels(G, pos, edge_labels=edge_labels)\n",
        "plt.title(\"Undirected and Weighted Graph\")\n",
        "plt.show()"
      ],
      "metadata": {
        "id": "JZpetnhkOUMU"
      },
      "execution_count": null,
      "outputs": []
    },
    {
      "cell_type": "code",
      "source": [
        "edge_labels"
      ],
      "metadata": {
        "id": "kEV2AVg8j2GZ"
      },
      "execution_count": null,
      "outputs": []
    },
    {
      "cell_type": "code",
      "source": [
        "import networkx as nx\n",
        "import matplotlib.pyplot as plt\n",
        "\n",
        "# Create a directed graph\n",
        "G = nx.DiGraph()\n",
        "\n",
        "# Add nodes\n",
        "G.add_nodes_from(['1', '2', '3', '4'])\n",
        "\n",
        "# Add edges (unweighted)\n",
        "edges = [('1', '2'), ('2', '3'), ('3', '1'), ('3', '4')]\n",
        "G.add_edges_from(edges)\n",
        "\n",
        "# Draw the graph\n",
        "pos = nx.circular_layout(G)\n",
        "nx.draw(G, pos, with_labels=True, node_color='orange', node_size=500, arrowsize=20)\n",
        "plt.title(\"Directed and Unweighted Graph\")\n",
        "plt.show()"
      ],
      "metadata": {
        "id": "q7xBCCxYP0EA"
      },
      "execution_count": null,
      "outputs": []
    },
    {
      "cell_type": "code",
      "source": [
        "import networkx as nx\n",
        "import matplotlib.pyplot as plt\n",
        "\n",
        "fig, axes = plt.subplots(2, 2, figsize=(12, 10))\n",
        "\n",
        "# --- Undirected and Unweighted Graph ---\n",
        "G1 = nx.Graph()\n",
        "G1.add_nodes_from([1, 2, 3, 4])\n",
        "edges1 = [(1, 2), (1, 3), (2, 3), (3, 4)]\n",
        "G1.add_edges_from(edges1)\n",
        "nx.draw(G1, ax=axes[0, 0], with_labels=True, node_color='lightblue', node_size=500)\n",
        "axes[0, 0].set_title(\"Undirected and Unweighted\")\n",
        "\n",
        "# --- Undirected and Weighted Graph ---\n",
        "G2 = nx.Graph()\n",
        "G2.add_nodes_from([1, 2, 3, 4])\n",
        "edges2 = [\n",
        "    (1, 2, {'weight': 2.5}),\n",
        "    (3, 1, {'weight': 1.2}),\n",
        "    (2, 3, {'weight': 0.75}),\n",
        "    (3, 4, {'weight': 1.8})\n",
        "]\n",
        "G2.add_edges_from(edges2)\n",
        "pos2 = nx.spring_layout(G2)\n",
        "edge_labels2 = nx.get_edge_attributes(G2, 'weight')\n",
        "nx.draw(G2, pos2, ax=axes[0, 1], with_labels=True, node_color='lightgreen', node_size=500)\n",
        "nx.draw_networkx_edge_labels(G2, pos2, edge_labels=edge_labels2, ax=axes[0, 1])\n",
        "axes[0, 1].set_title(\"Undirected and Weighted\")\n",
        "\n",
        "# --- Directed and Unweighted Graph ---\n",
        "G3 = nx.DiGraph()\n",
        "G3.add_nodes_from(['A', 'B', 'C', 'D'])\n",
        "edges3 = [('A', 'B'), ('B', 'C'), ('C', 'A'), ('C', 'D')]\n",
        "G3.add_edges_from(edges3)\n",
        "pos3 = nx.circular_layout(G3)\n",
        "nx.draw(G3, pos3, ax=axes[1, 0], with_labels=True, node_color='orange', node_size=500, arrowsize=20)\n",
        "axes[1, 0].set_title(\"Directed and Unweighted\")\n",
        "\n",
        "# --- Directed and Weighted Graph ---\n",
        "G4 = nx.DiGraph()\n",
        "G4.add_nodes_from(['X', 'Y', 'Z', 'W'])\n",
        "edges4 = [\n",
        "    ('X', 'Y', {'weight': 3}),\n",
        "    ('Y', 'Z', {'weight': 2}),\n",
        "    ('Z', 'X', {'weight': 4}),\n",
        "    ('Z', 'W', {'weight': 1})\n",
        "]\n",
        "G4.add_edges_from(edges4)\n",
        "pos4 = nx.spring_layout(G4)\n",
        "edge_labels4 = nx.get_edge_attributes(G4, 'weight')\n",
        "nx.draw(G4, pos4, ax=axes[1, 1], with_labels=True, node_color='pink', node_size=500, arrowsize=20)\n",
        "nx.draw_networkx_edge_labels(G4, pos4, edge_labels=edge_labels4, ax=axes[1, 1])\n",
        "axes[1, 1].set_title(\"Directed and Weighted\")\n",
        "\n",
        "# Adjust layout\n",
        "plt.tight_layout()\n",
        "plt.show()\n"
      ],
      "metadata": {
        "id": "zxEl67qxRjzX"
      },
      "execution_count": null,
      "outputs": []
    },
    {
      "cell_type": "code",
      "source": [
        "del G"
      ],
      "metadata": {
        "id": "BzrHnj4EUH2-"
      },
      "execution_count": null,
      "outputs": []
    },
    {
      "cell_type": "code",
      "source": [
        "import networkx as nx\n",
        "import matplotlib.pyplot as plt\n",
        "\n",
        "# Create a directed graph\n",
        "G = nx.DiGraph()\n",
        "\n",
        "# Add nodes\n",
        "G.add_nodes_from([1, 2, 3, 4])\n",
        "\n",
        "# Add weighted edges\n",
        "edges = [\n",
        "    (1, 2, {'weight': 2.5}),\n",
        "    (3, 1, {'weight': 1.2}),\n",
        "    (2, 3, {'weight': 0.75}),\n",
        "    (3, 4, {'weight': 1.8})\n",
        "]\n",
        "G.add_edges_from(edges)\n",
        "\n",
        "# Get edge weights\n",
        "edge_labels = nx.get_edge_attributes(G, 'weight')\n",
        "\n",
        "# Draw the graph\n",
        "pos = nx.spring_layout(G)\n",
        "nx.draw(G, pos, with_labels=True, node_color='pink', node_size=500, arrowsize=20)\n",
        "nx.draw_networkx_edge_labels(G, pos, edge_labels=edge_labels)\n",
        "plt.title(\"Directed and Weighted Graph\")\n",
        "plt.show()"
      ],
      "metadata": {
        "id": "o37iNevQShuG"
      },
      "execution_count": null,
      "outputs": []
    },
    {
      "cell_type": "code",
      "source": [
        "import networkx as nx\n",
        "import matplotlib.pyplot as plt\n",
        "\n",
        "# Create a directed graph\n",
        "G = nx.DiGraph()\n",
        "\n",
        "# Add nodes\n",
        "G.add_nodes_from(['X', 'Y', 'Z', 'W'])\n",
        "\n",
        "# Add weighted edges\n",
        "edges = [\n",
        "    ('X', 'Y', {'weight': 3}),\n",
        "    ('Y', 'Z', {'weight': 2}),\n",
        "    ('Z', 'X', {'weight': 4}),\n",
        "    ('Z', 'W', {'weight': 1})\n",
        "]\n",
        "G.add_edges_from(edges)\n",
        "\n",
        "# Get edge weights\n",
        "edge_labels = nx.get_edge_attributes(G, 'weight')\n",
        "\n",
        "# Draw the graph\n",
        "pos = nx.spring_layout(G)\n",
        "nx.draw(G, pos, with_labels=True, node_color='pink', node_size=500, arrowsize=20)\n",
        "nx.draw_networkx_edge_labels(G, pos, edge_labels=edge_labels)\n",
        "plt.title(\"Directed and Weighted Graph\")\n",
        "plt.show()\n"
      ],
      "metadata": {
        "id": "0avFk369TyJc"
      },
      "execution_count": null,
      "outputs": []
    },
    {
      "cell_type": "code",
      "source": [
        "import networkx as nx\n",
        "import matplotlib.pyplot as plt\n",
        "\n",
        "# Step 1: Create an empty graph\n",
        "B = nx.Graph()\n",
        "\n",
        "# Step 2: Define the two node sets\n",
        "U = {'A', 'B', 'C'}\n",
        "V = {1, 2, 3, 4}\n",
        "\n",
        "# Step 3: Add nodes with the bipartite attribute\n",
        "B.add_nodes_from(U, bipartite=0)\n",
        "B.add_nodes_from(V, bipartite=1)\n",
        "\n",
        "# Step 4: Add edges between nodes from U to V\n",
        "edges = [('A', 1), ('A', 2), ('B', 2), ('B', 3), ('C', 3), ('C', 4)]\n",
        "B.add_edges_from(edges)\n",
        "\n",
        "# Step 5: Visualize the bipartite graph\n",
        "pos = nx.bipartite_layout(B, U)\n",
        "nx.draw_networkx_nodes(B, pos, nodelist=U, node_color='lightblue', node_size=500, label='Set U')\n",
        "nx.draw_networkx_nodes(B, pos, nodelist=V, node_color='lightgreen', node_size=500, label='Set V')\n",
        "nx.draw_networkx_edges(B, pos)\n",
        "nx.draw_networkx_labels(B, pos)\n",
        "plt.legend(scatterpoints=1)\n",
        "plt.title(\"Bipartite Graph\")\n",
        "plt.axis('off')\n",
        "plt.show()"
      ],
      "metadata": {
        "id": "1KpaiyhrUAra"
      },
      "execution_count": null,
      "outputs": []
    },
    {
      "cell_type": "code",
      "source": [
        "import networkx as nx\n",
        "import matplotlib.pyplot as plt\n",
        "from matplotlib.lines import Line2D  # Import Line2D for custom legend handles\n",
        "\n",
        "# Step 1: Create an empty graph\n",
        "G = nx.Graph()\n",
        "\n",
        "# Step 2: Define the two node sets\n",
        "U = {'A', 'B', 'C'}\n",
        "V = {1, 2, 3, 4}\n",
        "\n",
        "# Step 3: Add nodes with the bipartite attribute\n",
        "G.add_nodes_from(U, bipartite=0)\n",
        "G.add_nodes_from(V, bipartite=1)\n",
        "\n",
        "# Step 4: Add edges between nodes from U to V\n",
        "edges = [('A', 1), ('A', 2), ('B', 2), ('B', 3), ('C', 3), ('C', 4)]\n",
        "G.add_edges_from(edges)\n",
        "\n",
        "# Step 5: Visualize the bipartite graph\n",
        "pos = nx.bipartite_layout(G, U)\n",
        "\n",
        "# Draw nodes for each set\n",
        "nx.draw_networkx_nodes(G, pos, nodelist=U, node_color='lightblue', node_size=500)\n",
        "nx.draw_networkx_nodes(G, pos, nodelist=V, node_color='lightgreen', node_size=500)\n",
        "nx.draw_networkx_edges(G, pos)\n",
        "nx.draw_networkx_labels(G, pos)\n",
        "\n",
        "# Create custom legend handles\n",
        "legend_elements = [\n",
        "    Line2D([0], [0], marker='o', color='w', label='Set U',\n",
        "           markerfacecolor='lightblue', markersize=15),\n",
        "    Line2D([0], [0], marker='o', color='w', label='Set V',\n",
        "           markerfacecolor='lightgreen', markersize=15)\n",
        "]\n",
        "\n",
        "# Add the legend to the plot\n",
        "plt.legend(handles=legend_elements)\n",
        "plt.title(\"Bipartite Graph\")\n",
        "plt.axis('off')\n",
        "# save the figure\n",
        "plt.savefig('grafo_bipartite.png', transparent=True)\n",
        "plt.show()"
      ],
      "metadata": {
        "id": "6pWS1LTike3n"
      },
      "execution_count": null,
      "outputs": []
    },
    {
      "cell_type": "code",
      "source": [
        "is_bipartite = nx.is_bipartite(G)\n",
        "print(f\"Is the graph bipartite? {is_bipartite}\")"
      ],
      "metadata": {
        "id": "O-pRQW8MiWU2"
      },
      "execution_count": null,
      "outputs": []
    },
    {
      "cell_type": "code",
      "source": [
        "from networkx.algorithms import bipartite\n",
        "\n",
        "projected_U = bipartite.projected_graph(G, U)\n",
        "nx.draw(projected_U, with_labels=True, node_color='lightblue',node_size=500)\n",
        "plt.title(\"Projection onto Set U\")\n",
        "\n",
        "# save the figure\n",
        "plt.savefig('projected.png', transparent=True)\n",
        "plt.show()"
      ],
      "metadata": {
        "id": "kHQMzYYGivEm"
      },
      "execution_count": null,
      "outputs": []
    },
    {
      "cell_type": "code",
      "source": [
        "projected_V = bipartite.projected_graph(B, V)\n",
        "nx.draw(projected_V, with_labels=True, node_color='lightgreen', node_size=500)\n",
        "plt.title(\"Projection onto Set V\")\n",
        "\n",
        "plt.show()"
      ],
      "metadata": {
        "id": "XCwVD10yi47B"
      },
      "execution_count": null,
      "outputs": []
    },
    {
      "cell_type": "code",
      "source": [
        "import networkx as nx\n",
        "import matplotlib.pyplot as plt\n",
        "\n",
        "# Create a MultiGraph to handle multiple edges\n",
        "G = nx.MultiGraph()\n",
        "\n",
        "# List of nodes\n",
        "nodes = ['Alice', 'Bob', 'Charlie', 'Diana']\n",
        "\n",
        "# Add nodes to the graph\n",
        "G.add_nodes_from(nodes)\n",
        "\n",
        "# Edges in Layer 1 (Friendships)\n",
        "friendships = [\n",
        "    ('Alice', 'Bob'),\n",
        "    ('Alice', 'Charlie'),\n",
        "    ('Bob', 'Charlie')\n",
        "]\n",
        "\n",
        "# Edges in Layer 2 (Professional Relationships)\n",
        "professional_relationships = [\n",
        "    ('Alice', 'Diana'),\n",
        "    ('Bob', 'Diana'),\n",
        "    ('Charlie', 'Diana')\n",
        "]\n",
        "\n",
        "# Add edges with layer attribute\n",
        "#G.add_edges_from(friendships, layer='friendship')\n",
        "#G.add_edges_from(professional_relationships, layer='professional')\n",
        "\n",
        "# Adding edges with more attributes\n",
        "G.add_edge('Alice', 'Bob', layer='friendship', weight=1)\n",
        "G.add_edge('Alice', 'Charlie', layer='friendship', weight=1)\n",
        "G.add_edge('Bob', 'Charlie', layer='friendship', weight=1)\n",
        "\n",
        "G.add_edge('Alice', 'Diana', layer='professional', weight=2)\n",
        "G.add_edge('Bob', 'Diana', layer='professional', weight=2)\n",
        "G.add_edge('Charlie', 'Diana', layer='professional', weight=2)\n",
        "\n",
        "# Positions for nodes\n",
        "pos = nx.spring_layout(G, seed=42)  # Fixed seed for reproducibility\n",
        "\n",
        "# Separate edges by layer\n",
        "edges_friendship = [(u, v) for u, v, d in G.edges(data=True) if d['layer'] == 'friendship']\n",
        "edges_professional = [(u, v) for u, v, d in G.edges(data=True) if d['layer'] == 'professional']\n",
        "\n",
        "# Draw nodes\n",
        "nx.draw_networkx_nodes(G, pos, node_size=500, node_color='lightblue')\n",
        "\n",
        "# Draw edges for friendship layer\n",
        "nx.draw_networkx_edges(G, pos, edgelist=edges_friendship, edge_color='blue', label='Friendship')\n",
        "\n",
        "# Draw edges for professional layer\n",
        "nx.draw_networkx_edges(G, pos, edgelist=edges_professional, edge_color='green', style='dashed', label='Professional')\n",
        "\n",
        "# Draw labels\n",
        "nx.draw_networkx_labels(G, pos)\n",
        "\n",
        "# Create custom legend\n",
        "from matplotlib.lines import Line2D\n",
        "\n",
        "legend_elements = [\n",
        "    Line2D([0], [0], color='blue', lw=2, label='Friendship'),\n",
        "    Line2D([0], [0], color='green', lw=2, linestyle='dashed', label='Professional')\n",
        "]\n",
        "\n",
        "plt.legend(handles=legend_elements)\n",
        "plt.title('Multilayer Graph')\n",
        "plt.axis('off')\n",
        "# save the figure\n",
        "plt.savefig('multigraph.png', transparent=True)\n",
        "plt.show()\n"
      ],
      "metadata": {
        "id": "OnDfM9RSi-KY"
      },
      "execution_count": null,
      "outputs": []
    },
    {
      "cell_type": "code",
      "source": [
        "G.edges(data=True)"
      ],
      "metadata": {
        "id": "Z7a7JO7VrIKe"
      },
      "execution_count": null,
      "outputs": []
    },
    {
      "cell_type": "markdown",
      "source": [
        "# Part 2"
      ],
      "metadata": {
        "id": "t9MALrKf2yiS"
      }
    },
    {
      "cell_type": "markdown",
      "source": [
        "## Density"
      ],
      "metadata": {
        "id": "ojigl1Kz9BLU"
      }
    },
    {
      "cell_type": "code",
      "source": [
        "import networkx as nx\n",
        "import gzip\n",
        "import urllib.request\n",
        "\n",
        "# URL of the dataset (compressed file of Enron email network)\n",
        "url = \"https://snap.stanford.edu/data/email-Enron.txt.gz\"\n",
        "filename = \"email-Enron.txt.gz\"\n",
        "\n",
        "# Download the file from the URL\n",
        "urllib.request.urlretrieve(url, filename)"
      ],
      "metadata": {
        "id": "sOE-b1Bs25tO"
      },
      "execution_count": null,
      "outputs": []
    },
    {
      "cell_type": "code",
      "source": [
        "# Create an undirected graph\n",
        "G = nx.Graph()\n",
        "\n",
        "# Open and read the compressed file line by line\n",
        "with gzip.open(filename, 'rt') as f:\n",
        "    for line in f:\n",
        "        if line.startswith(\"#\"):\n",
        "            continue  # Skip comment lines\n",
        "        src, dst = map(int, line.strip().split())  # Extract source and destination node IDs\n",
        "        G.add_edge(src, dst)  # Add an undirected edge between the nodes"
      ],
      "metadata": {
        "id": "sOsxZGk23GII"
      },
      "execution_count": null,
      "outputs": []
    },
    {
      "cell_type": "code",
      "source": [
        "# Calculate number of nodes (vertices)\n",
        "num_nodes = G.number_of_nodes()\n",
        "\n",
        "# Calculate number of edges (links)\n",
        "num_edges = G.number_of_edges()\n",
        "\n",
        "# Calculate network density\n",
        "density = nx.density(G)\n",
        "\n",
        "manual_density = 2 * num_edges / (num_nodes * (num_nodes - 1))\n",
        "\n",
        "# Print basic network statistics\n",
        "print(f\"Number of nodes: {num_nodes}\")\n",
        "print(f\"Number of edges: {num_edges}\")\n",
        "print(f\"Network density: {density:.6f}\")\n",
        "print(f\"Network density calc: {manual_density:.6f}\")"
      ],
      "metadata": {
        "id": "-wIsA0CC3aln"
      },
      "execution_count": null,
      "outputs": []
    },
    {
      "cell_type": "markdown",
      "source": [
        "## Subgraph"
      ],
      "metadata": {
        "id": "L7ecbHr79DUi"
      }
    },
    {
      "cell_type": "code",
      "source": [
        "import networkx as nx\n",
        "import gzip\n",
        "import urllib.request\n",
        "import random\n",
        "\n",
        "# Step 1: Download the citation network dataset\n",
        "url = \"https://snap.stanford.edu/data/cit-Patents.txt.gz\"\n",
        "filename = \"cit-Patents.txt.gz\"\n",
        "urllib.request.urlretrieve(url, filename)"
      ],
      "metadata": {
        "id": "kYr5Humm3oYT"
      },
      "execution_count": null,
      "outputs": []
    },
    {
      "cell_type": "code",
      "source": [
        "# Step 2: Create a directed graph and load data\n",
        "G = nx.DiGraph()\n",
        "with gzip.open(filename, 'rt') as f:\n",
        "    for line in f:\n",
        "        if line.startswith(\"#\"):\n",
        "            continue  # Skip comment lines\n",
        "        src, dst = map(int, line.strip().split())\n",
        "        G.add_edge(src, dst)"
      ],
      "metadata": {
        "id": "1DrgheoP9Ezy"
      },
      "execution_count": null,
      "outputs": []
    },
    {
      "cell_type": "code",
      "source": [
        "print(f\"Full graph: {G.number_of_nodes()} nodes,{G.number_of_edges()} edges, {nx.density(G)}\")"
      ],
      "metadata": {
        "id": "9uatcgII-np0"
      },
      "execution_count": null,
      "outputs": []
    },
    {
      "cell_type": "code",
      "source": [
        "# Step 3: Randomly sample 10% of the nodes\n",
        "num_sample = int(0.10 * G.number_of_nodes())\n",
        "sample_nodes = random.sample(list(G.nodes()), num_sample)\n",
        "\n",
        "# Step 4: Create the subgraph induced by the sampled nodes\n",
        "subG = G.subgraph(sample_nodes)"
      ],
      "metadata": {
        "id": "JgHWu3YB9Ivy"
      },
      "execution_count": null,
      "outputs": []
    },
    {
      "cell_type": "code",
      "source": [
        "# Step 5: Compute and print basic metrics\n",
        "print(f\"\\nSampled subgraph (10% of nodes):\")\n",
        "print(f\"Nodes: {subG.number_of_nodes()}\")\n",
        "print(f\"Edges: {subG.number_of_edges()}\")\n",
        "print(f\"Density: {nx.density(subG):.6f}\")"
      ],
      "metadata": {
        "id": "s55Htcam-rJ2"
      },
      "execution_count": null,
      "outputs": []
    },
    {
      "cell_type": "markdown",
      "source": [
        "## Degree"
      ],
      "metadata": {
        "id": "cci-WJHpn1fC"
      }
    },
    {
      "cell_type": "code",
      "source": [
        "import networkx as nx\n",
        "import urllib.request\n",
        "import zipfile\n",
        "import os\n",
        "import matplotlib.pyplot as plt\n",
        "import pandas as pd\n",
        "import seaborn as sns\n",
        "from collections import Counter\n",
        "\n",
        "\n",
        "# Step 1: Download and unzip the dataset\n",
        "url = \"https://snap.stanford.edu/data/twitch_gamers.zip\"\n",
        "zip_filename = \"twitch_gamers.zip\"\n",
        "urllib.request.urlretrieve(url, zip_filename)"
      ],
      "metadata": {
        "id": "jT6BSqLYn2Z-"
      },
      "execution_count": null,
      "outputs": []
    },
    {
      "cell_type": "code",
      "source": [
        "# Step 2: Extract the ZIP file\n",
        "with zipfile.ZipFile(zip_filename, 'r') as zip_ref:\n",
        "    zip_ref.extractall(\"twitch_data\")\n",
        "\n",
        "# Step 3: Load the edge list from CSV using pandas\n",
        "edge_file = \"twitch_data/large_twitch_edges.csv\"\n",
        "df = pd.read_csv(edge_file)\n",
        "\n",
        "# Step 4: Create an undirected graph from the edge list\n",
        "G = nx.from_pandas_edgelist(df, source='numeric_id_1',\n",
        "                            target='numeric_id_2')\n",
        "\n",
        "# Step 5: Print basic info\n",
        "print(f\"Number of nodes: {G.number_of_nodes()}\")\n",
        "print(f\"Number of edges: {G.number_of_edges()}\")"
      ],
      "metadata": {
        "id": "gr9vmSKTpM1s"
      },
      "execution_count": null,
      "outputs": []
    },
    {
      "cell_type": "code",
      "source": [
        "# Step 4: Compute degrees\n",
        "degrees = [deg for node, deg in G.degree()]\n",
        "\n",
        "# Step 5: Show degree statistics\n",
        "print(f\"Max degree: {max(degrees)}\")\n",
        "print(f\"Average degree: {sum(degrees)/len(degrees):.2f}\")\n",
        "print(f\"Average degree alternative: {nx.density(G)*(G.number_of_nodes()-1):.2f}\")"
      ],
      "metadata": {
        "id": "GYUrbf-Cpdkp"
      },
      "execution_count": null,
      "outputs": []
    },
    {
      "cell_type": "code",
      "source": [
        "# Set a clean, minimalist style\n",
        "plt.figure(figsize=(10, 6))\n",
        "sns.set_style(\"whitegrid\")\n",
        "\n",
        "# Plot histogram with soft color and clear edges\n",
        "plt.hist(degrees, bins=50, color=\"#4C72B0\", edgecolor='white', alpha=0.85)\n",
        "\n",
        "# Titles with hierarchy and clarity\n",
        "plt.title(\"Node Degree Distribution in Twitch Gamer Network\", fontsize=16, weight='bold')\n",
        "plt.xlabel(\"Degree\", fontsize=14)\n",
        "plt.ylabel(\"Number of Nodes\", fontsize=14)\n",
        "\n",
        "# Reduce ticks clutter and highlight major ones\n",
        "plt.xticks(fontsize=12)\n",
        "plt.yticks(fontsize=12)\n",
        "\n",
        "# Remove top/right borders to reduce distraction\n",
        "sns.despine()\n",
        "\n",
        "# Add grid only on y-axis to improve readability\n",
        "plt.grid(axis='y', linestyle='--', linewidth=0.5, alpha=0.7)\n",
        "\n",
        "plt.tight_layout()\n",
        "plt.show()"
      ],
      "metadata": {
        "id": "vblpYxqrsaOj"
      },
      "execution_count": null,
      "outputs": []
    },
    {
      "cell_type": "code",
      "source": [
        "# Count the frequency of each degree\n",
        "degree_count = Counter(degrees)\n",
        "\n",
        "# Sort by degree (optional, for readability)\n",
        "sorted_degree_count = dict(sorted(degree_count.items()))\n",
        "\n",
        "# Print the histogram values\n",
        "print(\"Degree\\tNumber of Nodes\")\n",
        "for degree, count in sorted_degree_count.items():\n",
        "    print(f\"{degree}\\t{count}\")"
      ],
      "metadata": {
        "id": "v0nMlWDnsg1l"
      },
      "execution_count": null,
      "outputs": []
    },
    {
      "cell_type": "code",
      "source": [
        "import seaborn as sns\n",
        "import matplotlib.pyplot as plt\n",
        "\n",
        "# Filter degrees up to 200\n",
        "filtered_degrees = [d for d in degrees if d <= 200]\n",
        "\n",
        "# Plot the histogram\n",
        "plt.figure(figsize=(10, 6))\n",
        "sns.set_style(\"whitegrid\")\n",
        "\n",
        "plt.hist(filtered_degrees, bins=50, color=\"#4C72B0\", edgecolor='white', alpha=0.85)\n",
        "\n",
        "plt.title(\"Degree Distribution (Nodes with Degree ≤ 200)\", fontsize=16, weight='bold')\n",
        "plt.xlabel(\"Degree\", fontsize=14)\n",
        "plt.ylabel(\"Number of Nodes\", fontsize=14)\n",
        "\n",
        "plt.xticks(fontsize=12)\n",
        "plt.yticks(fontsize=12)\n",
        "sns.despine()\n",
        "plt.grid(axis='y', linestyle='--', linewidth=0.5, alpha=0.7)\n",
        "plt.tight_layout()\n",
        "\n",
        "# Save figure with transparent background and high resolution\n",
        "plt.savefig(\"degree_histogram.png\", dpi=300, transparent=True, bbox_inches='tight')\n",
        "\n",
        "# Optional: Show plot after saving\n",
        "plt.show()"
      ],
      "metadata": {
        "id": "Xgo_-JgNtL-a"
      },
      "execution_count": null,
      "outputs": []
    },
    {
      "cell_type": "code",
      "source": [],
      "metadata": {
        "id": "3wgL3Tnot36r"
      },
      "execution_count": null,
      "outputs": []
    }
  ]
}