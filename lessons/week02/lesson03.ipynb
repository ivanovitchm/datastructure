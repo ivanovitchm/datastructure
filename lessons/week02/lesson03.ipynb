{
  "nbformat": 4,
  "nbformat_minor": 0,
  "metadata": {
    "colab": {
      "provenance": []
    },
    "kernelspec": {
      "name": "python3",
      "display_name": "Python 3"
    },
    "language_info": {
      "name": "python"
    }
  },
  "cells": [
    {
      "cell_type": "code",
      "execution_count": null,
      "metadata": {
        "id": "cGIQKdJqIDhz"
      },
      "outputs": [],
      "source": [
        "import networkx as nx\n",
        "import matplotlib.pyplot as plt\n",
        "\n",
        "# Create an undirected graph\n",
        "G = nx.Graph()\n",
        "\n",
        "# Add nodes (land masses)\n",
        "G.add_nodes_from(['A', 'B', 'C', 'D'])\n",
        "\n",
        "# Add edges (bridges between the land masses)\n",
        "edges = [\n",
        "    ('A', 'B'), ('A', 'B'),        # Two bridges between A and B\n",
        "    ('A', 'C'), ('A', 'C'),        # Two bridges between A and C\n",
        "    ('A', 'D'),                    # One bridge between A and D\n",
        "    ('B', 'D'),                    # One bridge between B and D\n",
        "    ('C', 'D')                     # One bridge between C and D\n",
        "]\n",
        "\n",
        "G.add_edges_from(edges)"
      ]
    },
    {
      "cell_type": "code",
      "source": [
        "# Define node positions to reflect the geographical layout\n",
        "pos = {\n",
        "    'A': (0, 1),   # North bank\n",
        "    'B': (2, 1),   # Northeast island\n",
        "    'C': (0, -1),  # Southeast island\n",
        "    'D': (2, -1)   # South bank\n",
        "}\n",
        "\n",
        "# Draw the graph\n",
        "plt.figure(figsize=(8, 6))\n",
        "nx.draw(G, pos, with_labels=True, node_size=1000, node_color='lightblue', font_size=14, font_weight='bold')\n",
        "nx.draw_networkx_edges(G, pos, edgelist=edges, width=2)\n",
        "plt.title(\"Seven Bridges of Königsberg\", fontsize=16)\n",
        "plt.axis('off')\n",
        "plt.show()"
      ],
      "metadata": {
        "id": "NsWcCZazIq5V"
      },
      "execution_count": null,
      "outputs": []
    },
    {
      "cell_type": "code",
      "source": [
        "import networkx as nx\n",
        "import matplotlib.pyplot as plt\n",
        "\n",
        "# Create an undirected graph\n",
        "G = nx.Graph()\n",
        "\n",
        "# Add nodes\n",
        "G.add_nodes_from([1, 2, 3, 4])\n",
        "\n",
        "# Add edges (unweighted)\n",
        "edges = [(1, 2), (1, 3), (2, 3), (3, 4)]\n",
        "G.add_edges_from(edges)\n",
        "\n",
        "# Draw the graph\n",
        "nx.draw(G, with_labels=True, node_color='lightblue', node_size=500)\n",
        "plt.title(\"Undirected and Unweighted Graph\")\n",
        "plt.show()"
      ],
      "metadata": {
        "id": "ZvevMKVyMo0w"
      },
      "execution_count": null,
      "outputs": []
    },
    {
      "cell_type": "code",
      "source": [
        "import networkx as nx\n",
        "import matplotlib.pyplot as plt\n",
        "\n",
        "# Create an undirected graph\n",
        "G = nx.Graph()\n",
        "\n",
        "# Add nodes\n",
        "G.add_nodes_from([1, 2, 3, 4])\n",
        "\n",
        "# Add weighted edges\n",
        "edges = [\n",
        "    (1, 2, {'weight': 2.5}),\n",
        "    (1, 3, {'weight': 1.2}),\n",
        "    (2, 3, {'weight': 0.75}),\n",
        "    (3, 4, {'weight': 1.8})\n",
        "]\n",
        "G.add_edges_from(edges)\n",
        "\n",
        "# Get edge weights\n",
        "edge_labels = nx.get_edge_attributes(G, 'weight')\n",
        "\n",
        "# Draw the graph\n",
        "pos = nx.spring_layout(G)\n",
        "nx.draw(G, pos, with_labels=True, node_color='lightgreen', node_size=500)\n",
        "nx.draw_networkx_edge_labels(G, pos, edge_labels=edge_labels)\n",
        "plt.title(\"Undirected and Weighted Graph\")\n",
        "plt.show()"
      ],
      "metadata": {
        "id": "JZpetnhkOUMU"
      },
      "execution_count": null,
      "outputs": []
    },
    {
      "cell_type": "code",
      "source": [
        "edge_labels"
      ],
      "metadata": {
        "id": "kEV2AVg8j2GZ"
      },
      "execution_count": null,
      "outputs": []
    },
    {
      "cell_type": "code",
      "source": [
        "import networkx as nx\n",
        "import matplotlib.pyplot as plt\n",
        "\n",
        "# Create a directed graph\n",
        "G = nx.DiGraph()\n",
        "\n",
        "# Add nodes\n",
        "G.add_nodes_from(['1', '2', '3', '4'])\n",
        "\n",
        "# Add edges (unweighted)\n",
        "edges = [('1', '2'), ('2', '3'), ('3', '1'), ('3', '4')]\n",
        "G.add_edges_from(edges)\n",
        "\n",
        "# Draw the graph\n",
        "pos = nx.circular_layout(G)\n",
        "nx.draw(G, pos, with_labels=True, node_color='orange', node_size=500, arrowsize=20)\n",
        "plt.title(\"Directed and Unweighted Graph\")\n",
        "plt.show()"
      ],
      "metadata": {
        "id": "q7xBCCxYP0EA"
      },
      "execution_count": null,
      "outputs": []
    },
    {
      "cell_type": "code",
      "source": [
        "import networkx as nx\n",
        "import matplotlib.pyplot as plt\n",
        "\n",
        "fig, axes = plt.subplots(2, 2, figsize=(12, 10))\n",
        "\n",
        "# --- Undirected and Unweighted Graph ---\n",
        "G1 = nx.Graph()\n",
        "G1.add_nodes_from([1, 2, 3, 4])\n",
        "edges1 = [(1, 2), (1, 3), (2, 3), (3, 4)]\n",
        "G1.add_edges_from(edges1)\n",
        "nx.draw(G1, ax=axes[0, 0], with_labels=True, node_color='lightblue', node_size=500)\n",
        "axes[0, 0].set_title(\"Undirected and Unweighted\")\n",
        "\n",
        "# --- Undirected and Weighted Graph ---\n",
        "G2 = nx.Graph()\n",
        "G2.add_nodes_from([1, 2, 3, 4])\n",
        "edges2 = [\n",
        "    (1, 2, {'weight': 2.5}),\n",
        "    (3, 1, {'weight': 1.2}),\n",
        "    (2, 3, {'weight': 0.75}),\n",
        "    (3, 4, {'weight': 1.8})\n",
        "]\n",
        "G2.add_edges_from(edges2)\n",
        "pos2 = nx.spring_layout(G2)\n",
        "edge_labels2 = nx.get_edge_attributes(G2, 'weight')\n",
        "nx.draw(G2, pos2, ax=axes[0, 1], with_labels=True, node_color='lightgreen', node_size=500)\n",
        "nx.draw_networkx_edge_labels(G2, pos2, edge_labels=edge_labels2, ax=axes[0, 1])\n",
        "axes[0, 1].set_title(\"Undirected and Weighted\")\n",
        "\n",
        "# --- Directed and Unweighted Graph ---\n",
        "G3 = nx.DiGraph()\n",
        "G3.add_nodes_from(['A', 'B', 'C', 'D'])\n",
        "edges3 = [('A', 'B'), ('B', 'C'), ('C', 'A'), ('C', 'D')]\n",
        "G3.add_edges_from(edges3)\n",
        "pos3 = nx.circular_layout(G3)\n",
        "nx.draw(G3, pos3, ax=axes[1, 0], with_labels=True, node_color='orange', node_size=500, arrowsize=20)\n",
        "axes[1, 0].set_title(\"Directed and Unweighted\")\n",
        "\n",
        "# --- Directed and Weighted Graph ---\n",
        "G4 = nx.DiGraph()\n",
        "G4.add_nodes_from(['X', 'Y', 'Z', 'W'])\n",
        "edges4 = [\n",
        "    ('X', 'Y', {'weight': 3}),\n",
        "    ('Y', 'Z', {'weight': 2}),\n",
        "    ('Z', 'X', {'weight': 4}),\n",
        "    ('Z', 'W', {'weight': 1})\n",
        "]\n",
        "G4.add_edges_from(edges4)\n",
        "pos4 = nx.spring_layout(G4)\n",
        "edge_labels4 = nx.get_edge_attributes(G4, 'weight')\n",
        "nx.draw(G4, pos4, ax=axes[1, 1], with_labels=True, node_color='pink', node_size=500, arrowsize=20)\n",
        "nx.draw_networkx_edge_labels(G4, pos4, edge_labels=edge_labels4, ax=axes[1, 1])\n",
        "axes[1, 1].set_title(\"Directed and Weighted\")\n",
        "\n",
        "# Adjust layout\n",
        "plt.tight_layout()\n",
        "plt.show()\n"
      ],
      "metadata": {
        "id": "zxEl67qxRjzX"
      },
      "execution_count": null,
      "outputs": []
    },
    {
      "cell_type": "code",
      "source": [
        "del G"
      ],
      "metadata": {
        "id": "BzrHnj4EUH2-"
      },
      "execution_count": null,
      "outputs": []
    },
    {
      "cell_type": "code",
      "source": [
        "import networkx as nx\n",
        "import matplotlib.pyplot as plt\n",
        "\n",
        "# Create a directed graph\n",
        "G = nx.DiGraph()\n",
        "\n",
        "# Add nodes\n",
        "G.add_nodes_from([1, 2, 3, 4])\n",
        "\n",
        "# Add weighted edges\n",
        "edges = [\n",
        "    (1, 2, {'weight': 2.5}),\n",
        "    (3, 1, {'weight': 1.2}),\n",
        "    (2, 3, {'weight': 0.75}),\n",
        "    (3, 4, {'weight': 1.8})\n",
        "]\n",
        "G.add_edges_from(edges)\n",
        "\n",
        "# Get edge weights\n",
        "edge_labels = nx.get_edge_attributes(G, 'weight')\n",
        "\n",
        "# Draw the graph\n",
        "pos = nx.spring_layout(G)\n",
        "nx.draw(G, pos, with_labels=True, node_color='pink', node_size=500, arrowsize=20)\n",
        "nx.draw_networkx_edge_labels(G, pos, edge_labels=edge_labels)\n",
        "plt.title(\"Directed and Weighted Graph\")\n",
        "plt.show()"
      ],
      "metadata": {
        "id": "o37iNevQShuG"
      },
      "execution_count": null,
      "outputs": []
    },
    {
      "cell_type": "code",
      "source": [
        "import networkx as nx\n",
        "import matplotlib.pyplot as plt\n",
        "\n",
        "# Create a directed graph\n",
        "G = nx.DiGraph()\n",
        "\n",
        "# Add nodes\n",
        "G.add_nodes_from(['X', 'Y', 'Z', 'W'])\n",
        "\n",
        "# Add weighted edges\n",
        "edges = [\n",
        "    ('X', 'Y', {'weight': 3}),\n",
        "    ('Y', 'Z', {'weight': 2}),\n",
        "    ('Z', 'X', {'weight': 4}),\n",
        "    ('Z', 'W', {'weight': 1})\n",
        "]\n",
        "G.add_edges_from(edges)\n",
        "\n",
        "# Get edge weights\n",
        "edge_labels = nx.get_edge_attributes(G, 'weight')\n",
        "\n",
        "# Draw the graph\n",
        "pos = nx.spring_layout(G)\n",
        "nx.draw(G, pos, with_labels=True, node_color='pink', node_size=500, arrowsize=20)\n",
        "nx.draw_networkx_edge_labels(G, pos, edge_labels=edge_labels)\n",
        "plt.title(\"Directed and Weighted Graph\")\n",
        "plt.show()\n"
      ],
      "metadata": {
        "id": "0avFk369TyJc"
      },
      "execution_count": null,
      "outputs": []
    },
    {
      "cell_type": "code",
      "source": [
        "import networkx as nx\n",
        "import matplotlib.pyplot as plt\n",
        "\n",
        "# Step 1: Create an empty graph\n",
        "B = nx.Graph()\n",
        "\n",
        "# Step 2: Define the two node sets\n",
        "U = {'A', 'B', 'C'}\n",
        "V = {1, 2, 3, 4}\n",
        "\n",
        "# Step 3: Add nodes with the bipartite attribute\n",
        "B.add_nodes_from(U, bipartite=0)\n",
        "B.add_nodes_from(V, bipartite=1)\n",
        "\n",
        "# Step 4: Add edges between nodes from U to V\n",
        "edges = [('A', 1), ('A', 2), ('B', 2), ('B', 3), ('C', 3), ('C', 4)]\n",
        "B.add_edges_from(edges)\n",
        "\n",
        "# Step 5: Visualize the bipartite graph\n",
        "pos = nx.bipartite_layout(B, U)\n",
        "nx.draw_networkx_nodes(B, pos, nodelist=U, node_color='lightblue', node_size=500, label='Set U')\n",
        "nx.draw_networkx_nodes(B, pos, nodelist=V, node_color='lightgreen', node_size=500, label='Set V')\n",
        "nx.draw_networkx_edges(B, pos)\n",
        "nx.draw_networkx_labels(B, pos)\n",
        "plt.legend(scatterpoints=1)\n",
        "plt.title(\"Bipartite Graph\")\n",
        "plt.axis('off')\n",
        "plt.show()"
      ],
      "metadata": {
        "id": "1KpaiyhrUAra"
      },
      "execution_count": null,
      "outputs": []
    },
    {
      "cell_type": "code",
      "source": [
        "import networkx as nx\n",
        "import matplotlib.pyplot as plt\n",
        "from matplotlib.lines import Line2D  # Import Line2D for custom legend handles\n",
        "\n",
        "# Step 1: Create an empty graph\n",
        "G = nx.Graph()\n",
        "\n",
        "# Step 2: Define the two node sets\n",
        "U = {'A', 'B', 'C'}\n",
        "V = {1, 2, 3, 4}\n",
        "\n",
        "# Step 3: Add nodes with the bipartite attribute\n",
        "G.add_nodes_from(U, bipartite=0)\n",
        "G.add_nodes_from(V, bipartite=1)\n",
        "\n",
        "# Step 4: Add edges between nodes from U to V\n",
        "edges = [('A', 1), ('A', 2), ('B', 2), ('B', 3), ('C', 3), ('C', 4)]\n",
        "G.add_edges_from(edges)\n",
        "\n",
        "# Step 5: Visualize the bipartite graph\n",
        "pos = nx.bipartite_layout(G, U)\n",
        "\n",
        "# Draw nodes for each set\n",
        "nx.draw_networkx_nodes(G, pos, nodelist=U, node_color='lightblue', node_size=500)\n",
        "nx.draw_networkx_nodes(G, pos, nodelist=V, node_color='lightgreen', node_size=500)\n",
        "nx.draw_networkx_edges(G, pos)\n",
        "nx.draw_networkx_labels(G, pos)\n",
        "\n",
        "# Create custom legend handles\n",
        "legend_elements = [\n",
        "    Line2D([0], [0], marker='o', color='w', label='Set U',\n",
        "           markerfacecolor='lightblue', markersize=15),\n",
        "    Line2D([0], [0], marker='o', color='w', label='Set V',\n",
        "           markerfacecolor='lightgreen', markersize=15)\n",
        "]\n",
        "\n",
        "# Add the legend to the plot\n",
        "plt.legend(handles=legend_elements)\n",
        "plt.title(\"Bipartite Graph\")\n",
        "plt.axis('off')\n",
        "# save the figure\n",
        "plt.savefig('grafo_bipartite.png', transparent=True)\n",
        "plt.show()"
      ],
      "metadata": {
        "id": "6pWS1LTike3n"
      },
      "execution_count": null,
      "outputs": []
    },
    {
      "cell_type": "code",
      "source": [
        "is_bipartite = nx.is_bipartite(G)\n",
        "print(f\"Is the graph bipartite? {is_bipartite}\")"
      ],
      "metadata": {
        "id": "O-pRQW8MiWU2"
      },
      "execution_count": null,
      "outputs": []
    },
    {
      "cell_type": "code",
      "source": [
        "from networkx.algorithms import bipartite\n",
        "\n",
        "projected_U = bipartite.projected_graph(G, U)\n",
        "nx.draw(projected_U, with_labels=True, node_color='lightblue',node_size=500)\n",
        "plt.title(\"Projection onto Set U\")\n",
        "\n",
        "# save the figure\n",
        "plt.savefig('projected.png', transparent=True)\n",
        "plt.show()"
      ],
      "metadata": {
        "id": "kHQMzYYGivEm"
      },
      "execution_count": null,
      "outputs": []
    },
    {
      "cell_type": "code",
      "source": [
        "projected_V = bipartite.projected_graph(B, V)\n",
        "nx.draw(projected_V, with_labels=True, node_color='lightgreen', node_size=500)\n",
        "plt.title(\"Projection onto Set V\")\n",
        "\n",
        "plt.show()"
      ],
      "metadata": {
        "id": "XCwVD10yi47B"
      },
      "execution_count": null,
      "outputs": []
    },
    {
      "cell_type": "code",
      "source": [
        "import networkx as nx\n",
        "import matplotlib.pyplot as plt\n",
        "\n",
        "# Create a MultiGraph to handle multiple edges\n",
        "G = nx.MultiGraph()\n",
        "\n",
        "# List of nodes\n",
        "nodes = ['Alice', 'Bob', 'Charlie', 'Diana']\n",
        "\n",
        "# Add nodes to the graph\n",
        "G.add_nodes_from(nodes)\n",
        "\n",
        "# Edges in Layer 1 (Friendships)\n",
        "friendships = [\n",
        "    ('Alice', 'Bob'),\n",
        "    ('Alice', 'Charlie'),\n",
        "    ('Bob', 'Charlie')\n",
        "]\n",
        "\n",
        "# Edges in Layer 2 (Professional Relationships)\n",
        "professional_relationships = [\n",
        "    ('Alice', 'Diana'),\n",
        "    ('Bob', 'Diana'),\n",
        "    ('Charlie', 'Diana')\n",
        "]\n",
        "\n",
        "# Add edges with layer attribute\n",
        "#G.add_edges_from(friendships, layer='friendship')\n",
        "#G.add_edges_from(professional_relationships, layer='professional')\n",
        "\n",
        "# Adding edges with more attributes\n",
        "G.add_edge('Alice', 'Bob', layer='friendship', weight=1)\n",
        "G.add_edge('Alice', 'Charlie', layer='friendship', weight=1)\n",
        "G.add_edge('Bob', 'Charlie', layer='friendship', weight=1)\n",
        "\n",
        "G.add_edge('Alice', 'Diana', layer='professional', weight=2)\n",
        "G.add_edge('Bob', 'Diana', layer='professional', weight=2)\n",
        "G.add_edge('Charlie', 'Diana', layer='professional', weight=2)\n",
        "\n",
        "# Positions for nodes\n",
        "pos = nx.spring_layout(G, seed=42)  # Fixed seed for reproducibility\n",
        "\n",
        "# Separate edges by layer\n",
        "edges_friendship = [(u, v) for u, v, d in G.edges(data=True) if d['layer'] == 'friendship']\n",
        "edges_professional = [(u, v) for u, v, d in G.edges(data=True) if d['layer'] == 'professional']\n",
        "\n",
        "# Draw nodes\n",
        "nx.draw_networkx_nodes(G, pos, node_size=500, node_color='lightblue')\n",
        "\n",
        "# Draw edges for friendship layer\n",
        "nx.draw_networkx_edges(G, pos, edgelist=edges_friendship, edge_color='blue', label='Friendship')\n",
        "\n",
        "# Draw edges for professional layer\n",
        "nx.draw_networkx_edges(G, pos, edgelist=edges_professional, edge_color='green', style='dashed', label='Professional')\n",
        "\n",
        "# Draw labels\n",
        "nx.draw_networkx_labels(G, pos)\n",
        "\n",
        "# Create custom legend\n",
        "from matplotlib.lines import Line2D\n",
        "\n",
        "legend_elements = [\n",
        "    Line2D([0], [0], color='blue', lw=2, label='Friendship'),\n",
        "    Line2D([0], [0], color='green', lw=2, linestyle='dashed', label='Professional')\n",
        "]\n",
        "\n",
        "plt.legend(handles=legend_elements)\n",
        "plt.title('Multilayer Graph')\n",
        "plt.axis('off')\n",
        "# save the figure\n",
        "plt.savefig('multigraph.png', transparent=True)\n",
        "plt.show()\n"
      ],
      "metadata": {
        "id": "OnDfM9RSi-KY"
      },
      "execution_count": null,
      "outputs": []
    },
    {
      "cell_type": "code",
      "source": [
        "G.edges(data=True)"
      ],
      "metadata": {
        "id": "Z7a7JO7VrIKe"
      },
      "execution_count": null,
      "outputs": []
    }
  ]
}