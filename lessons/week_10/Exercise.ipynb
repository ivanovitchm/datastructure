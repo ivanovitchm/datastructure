{
  "nbformat": 4,
  "nbformat_minor": 0,
  "metadata": {
    "colab": {
      "provenance": []
    },
    "kernelspec": {
      "name": "python3",
      "display_name": "Python 3"
    },
    "language_info": {
      "name": "python"
    }
  },
  "cells": [
    {
      "cell_type": "markdown",
      "metadata": {
        "id": "yUN3GNJg9Qhx"
      },
      "source": [
        "This exercise is based on Menczer et al **A First Course in Network Science** which can be accessed [here](https://github.com/CambridgeUniversityPress/FirstCourseNetworkScience/blob/master/tutorials/Chapter%202%20Tutorial.ipynb)."
      ]
    },
    {
      "cell_type": "code",
      "metadata": {
        "id": "DUoqNSZIFJ6j"
      },
      "source": [
        "!pip install nxviz"
      ],
      "execution_count": null,
      "outputs": []
    },
    {
      "cell_type": "code",
      "metadata": {
        "id": "vPnW354_FH1P"
      },
      "source": [
        "import networkx as nx\n",
        "import matplotlib.pyplot as plt\n",
        "import nxviz"
      ],
      "execution_count": 3,
      "outputs": []
    },
    {
      "cell_type": "markdown",
      "metadata": {
        "id": "4PDJ1weA_W5Q"
      },
      "source": [
        "# 1. Dataset: US air traffic network\n",
        "\n",
        "[This](https://github.com/CambridgeUniversityPress/FirstCourseNetworkScience/tree/master/datasets) repository contains several example network datasets. Among these is a network of US air travel routes:"
      ]
    },
    {
      "cell_type": "code",
      "metadata": {
        "id": "iqE6aU8GEXnk"
      },
      "source": [
        "# download the dataset \n",
        "!gdown https://drive.google.com/uc?id=1-DD9h8ruCauuIpZ8SQ0SCknW6R8OsTs6"
      ],
      "execution_count": null,
      "outputs": []
    },
    {
      "cell_type": "code",
      "metadata": {
        "id": "MlXFNUAT_W5Q"
      },
      "source": [
        "G = nx.read_graphml('openflights_usa.graphml.gz')"
      ],
      "execution_count": 6,
      "outputs": []
    },
    {
      "cell_type": "markdown",
      "metadata": {
        "id": "PRZ4IWjW_W5R"
      },
      "source": [
        "The nodes in this graph are airports, represented by their [IATA codes](https://en.wikipedia.org/wiki/List_of_airports_by_IATA_code:_A); two nodes are connected with an edge if there is a scheduled flight directly connecting these two airports. We'll assume this graph to be undirected since a flight in one direction usually means there is a return flight.\n",
        "\n",
        "Thus this graph has edges\n",
        "```\n",
        "[('HOM', 'ANC'), ('BGM', 'PHL'), ('BGM', 'IAD'), ...]\n",
        "```\n",
        "where ANC is Anchorage, IAD is Washington Dulles, etc.\n",
        "\n",
        "These nodes also have **attributes** associated with them, containing additional information about the airports:"
      ]
    },
    {
      "cell_type": "code",
      "metadata": {
        "id": "vspxbitz_W5R",
        "colab": {
          "base_uri": "https://localhost:8080/"
        },
        "outputId": "dd5f5430-2a24-4a6a-d5f4-faa98a2667c9"
      },
      "source": [
        "G.nodes['IND']"
      ],
      "execution_count": 7,
      "outputs": [
        {
          "output_type": "execute_result",
          "data": {
            "text/plain": [
              "{'name': 'Indianapolis International Airport',\n",
              " 'latitude': 39.7173,\n",
              " 'longitude': -86.294403,\n",
              " 'IATA': 'IND'}"
            ]
          },
          "metadata": {},
          "execution_count": 7
        }
      ]
    },
    {
      "cell_type": "markdown",
      "metadata": {
        "id": "KVqLZ0eJ_W5R"
      },
      "source": [
        "Node attributes are stored as a dictionary, so the values can be accessed individually as such:"
      ]
    },
    {
      "cell_type": "code",
      "metadata": {
        "id": "sWlK8-5H_W5R",
        "colab": {
          "base_uri": "https://localhost:8080/",
          "height": 35
        },
        "outputId": "ae31354a-676d-4f9f-a2de-3b47e5306e3a"
      },
      "source": [
        "G.nodes['IND']['name']"
      ],
      "execution_count": 8,
      "outputs": [
        {
          "output_type": "execute_result",
          "data": {
            "text/plain": [
              "'Indianapolis International Airport'"
            ],
            "application/vnd.google.colaboratory.intrinsic+json": {
              "type": "string"
            }
          },
          "metadata": {},
          "execution_count": 8
        }
      ]
    },
    {
      "cell_type": "markdown",
      "metadata": {
        "id": "5-9zfvb8GZNh"
      },
      "source": [
        "It is possible to note the number of nodes and edges."
      ]
    },
    {
      "cell_type": "code",
      "metadata": {
        "colab": {
          "base_uri": "https://localhost:8080/"
        },
        "id": "4zQcUgK5GQgC",
        "outputId": "ec2780bb-d9ec-4524-f7e1-ec4400c8aba0"
      },
      "source": [
        "G.number_of_nodes()"
      ],
      "execution_count": 9,
      "outputs": [
        {
          "output_type": "execute_result",
          "data": {
            "text/plain": [
              "546"
            ]
          },
          "metadata": {},
          "execution_count": 9
        }
      ]
    },
    {
      "cell_type": "code",
      "metadata": {
        "colab": {
          "base_uri": "https://localhost:8080/"
        },
        "id": "EtUmXzo7GUWO",
        "outputId": "0941437f-eead-4ae5-b318-952f266dc230"
      },
      "source": [
        "G.number_of_edges()"
      ],
      "execution_count": 10,
      "outputs": [
        {
          "output_type": "execute_result",
          "data": {
            "text/plain": [
              "2781"
            ]
          },
          "metadata": {},
          "execution_count": 10
        }
      ]
    },
    {
      "cell_type": "markdown",
      "metadata": {
        "id": "B17DSyUH_W5R"
      },
      "source": [
        "# EXERCISE 1\n",
        "\n",
        "Is there a direct flight between Indianapolis and Fairbanks, Alaska (FAI)? A direct flight is one with no intermediate stops."
      ]
    },
    {
      "cell_type": "code",
      "metadata": {
        "id": "mwPoJZBEPX4e"
      },
      "source": [
        "# put your code here"
      ],
      "execution_count": null,
      "outputs": []
    },
    {
      "cell_type": "markdown",
      "metadata": {
        "id": "GpVfRYrS_W5R"
      },
      "source": [
        "# EXERCISE 2\n",
        "\n",
        "If I wanted to fly from Indianapolis to Fairbanks, Alaska what would be an itinerary with the fewest number of flights?"
      ]
    },
    {
      "cell_type": "code",
      "metadata": {
        "id": "cD3GBl2vPZ5I"
      },
      "source": [
        "# put your code here"
      ],
      "execution_count": null,
      "outputs": []
    },
    {
      "cell_type": "markdown",
      "metadata": {
        "id": "qJLtm7up_W5R"
      },
      "source": [
        "# EXERCISE 3\n",
        "\n",
        "Is it possible to travel from any airport in the US to any other airport in the US, possibly using connecting flights? In other words, does there exist a path in the network between every possible pair of airports?"
      ]
    },
    {
      "cell_type": "code",
      "metadata": {
        "id": "sHnszjGuNoKQ"
      },
      "source": [
        "# put your code here"
      ],
      "execution_count": null,
      "outputs": []
    }
  ]
}