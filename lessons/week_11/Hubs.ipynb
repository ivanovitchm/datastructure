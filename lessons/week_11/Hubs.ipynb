{
  "nbformat": 4,
  "nbformat_minor": 0,
  "metadata": {
    "colab": {
      "name": "Hubs.ipynb",
      "provenance": [],
      "toc_visible": true
    },
    "kernelspec": {
      "name": "python3",
      "display_name": "Python 3"
    },
    "language_info": {
      "name": "python"
    }
  },
  "cells": [
    {
      "cell_type": "markdown",
      "metadata": {
        "id": "47hOtlsHJQEY"
      },
      "source": [
        "# 1 Import libraries"
      ]
    },
    {
      "cell_type": "code",
      "metadata": {
        "id": "gdimP1FBRfay"
      },
      "source": [
        "!pip install nxviz==0.6.3"
      ],
      "execution_count": null,
      "outputs": []
    },
    {
      "cell_type": "code",
      "metadata": {
        "id": "aXqklYkjRVZ_"
      },
      "source": [
        "import networkx as nx\n",
        "import nxviz\n",
        "from nxviz.plots import CircosPlot\n",
        "import matplotlib.pyplot as plt\n",
        "import matplotlib.patches as mpatches\n",
        "import numpy as np\n",
        "import seaborn as sns\n",
        "import pandas as pd"
      ],
      "execution_count": null,
      "outputs": []
    },
    {
      "cell_type": "markdown",
      "metadata": {
        "id": "kGpN0bLzJZML"
      },
      "source": [
        "# 2 Baseline graph"
      ]
    },
    {
      "cell_type": "code",
      "metadata": {
        "id": "p2Ac_HYSRwRY"
      },
      "source": [
        "g = nx.Graph()\n",
        "g.add_edges_from([('a','d'),\n",
        "                  ('b','e'),\n",
        "                  ('c','e'),\n",
        "                  ('d','i'),\n",
        "                  ('e','i'),\n",
        "                  ('f','h'),\n",
        "                  ('g','h'),\n",
        "                  ('h','i'),('h','j'),\n",
        "                  ('i','l'),\n",
        "                  ('j','n'),\n",
        "                  ('l','m'),('l','n'),('l','k'),('l','o'),\n",
        "                  ('m','u'),\n",
        "                  ('n','k'),('n','o'),('n','s'),\n",
        "                  ('o','k'),('o','p'),('o','s'),\n",
        "                  ('p','k'),('p','s'),\n",
        "                  ('k','s'),('k','u'),\n",
        "                  ('q','s'),\n",
        "                  ('r','s'),\n",
        "                  ('s','u')])\n",
        "\n",
        "for n, d in g.nodes(data=True):\n",
        "    g.nodes[n][\"class\"] = g.degree(n)"
      ],
      "execution_count": null,
      "outputs": []
    },
    {
      "cell_type": "code",
      "metadata": {
        "id": "QOcaaTaeR42a"
      },
      "source": [
        "c = CircosPlot(\n",
        "    g,\n",
        "    node_grouping=\"class\",\n",
        "    node_color=\"class\",\n",
        "    node_order=\"class\",\n",
        "    node_labels=True,\n",
        "    group_label_position=\"middle\",\n",
        "    group_label_color=True,\n",
        "    group_label_offset=2,\n",
        ")\n",
        "c.draw()\n",
        "plt.show()"
      ],
      "execution_count": null,
      "outputs": []
    },
    {
      "cell_type": "markdown",
      "metadata": {
        "id": "VjPL39pTJigw"
      },
      "source": [
        "# 3 Basic definitions"
      ]
    },
    {
      "cell_type": "markdown",
      "metadata": {
        "id": "pp_arcNMJ8-X"
      },
      "source": [
        "Exccentriciy, Periphery, Radius, Center"
      ]
    },
    {
      "cell_type": "code",
      "metadata": {
        "id": "tYG-QXu_wtaz"
      },
      "source": [
        "fig, ax = plt.subplots(1,1,figsize=(10,8))\n",
        "\n",
        "# layout position\n",
        "pos = nx.spring_layout(g,seed=123456789,k=0.3)\n",
        "# color of nodes based on eccentricity\n",
        "color = list(dict(nx.eccentricity(g)).values())\n",
        "\n",
        "# draw edges\n",
        "nx.draw_networkx_edges(g,\n",
        "                       pos=pos,\n",
        "                       alpha=0.4, ax=ax)\n",
        "\n",
        "# draw nodes\n",
        "nodes = nx.draw_networkx_nodes(g,\n",
        "                 pos=pos,\n",
        "                 node_color=color,\n",
        "                 cmap=plt.cm.jet,ax=ax)\n",
        "\n",
        "# draw labels\n",
        "nx.draw_networkx_labels(g, pos=pos,\n",
        "                        font_color='white', ax=ax)\n",
        "\n",
        "\n",
        "plt.axis(\"off\")\n",
        "plt.colorbar(nodes)\n",
        "plt.savefig('eccentricity.png', transparent=True,dpi=300)\n",
        "plt.show()"
      ],
      "execution_count": null,
      "outputs": []
    },
    {
      "cell_type": "code",
      "metadata": {
        "id": "5yquhZpJ1DaF"
      },
      "source": [
        "# the diameter of networks is the maximum eccentricy\n",
        "print(\"Diameter of network (g): {}\".format(nx.diameter(g)))\n",
        "\n",
        "# whom are in the diamter\n",
        "print([k for k,v in nx.eccentricity(g).items() if v == nx.diameter(g)])"
      ],
      "execution_count": null,
      "outputs": []
    },
    {
      "cell_type": "code",
      "metadata": {
        "id": "aaV5juQB4kCW"
      },
      "source": [
        "# the periphery of a network is a set of all nodes whose eccentriciy is equals the diameter\n",
        "nx.periphery(g)"
      ],
      "execution_count": null,
      "outputs": []
    },
    {
      "cell_type": "code",
      "metadata": {
        "id": "eRnXKxUU2UUw"
      },
      "source": [
        "# the radius of a network is the minimum eccentricity\n",
        "print(\"Radius of network(g): {}\".format(nx.radius(g)))\n",
        "print([k for k,v in nx.eccentricity(g).items() if v == nx.radius(g)])"
      ],
      "execution_count": null,
      "outputs": []
    },
    {
      "cell_type": "code",
      "metadata": {
        "id": "GEUMoSYe3oQK"
      },
      "source": [
        "# the center of a network is a set all nodes whose eccentricity equal the radius\n",
        "nx.center(g)"
      ],
      "execution_count": null,
      "outputs": []
    },
    {
      "cell_type": "markdown",
      "metadata": {
        "id": "1vhh0rqvKNxY"
      },
      "source": [
        "# 4 Node ranking"
      ]
    },
    {
      "cell_type": "markdown",
      "metadata": {
        "id": "VDSLwBDOKRkX"
      },
      "source": [
        "## 4.1 Degree Centrality"
      ]
    },
    {
      "cell_type": "code",
      "metadata": {
        "id": "GfPALZ3QUtlP"
      },
      "source": [
        "# the degree of network(g)\n",
        "fig, ax = plt.subplots(1,1,figsize=(10,8))\n",
        "\n",
        "# layout position\n",
        "pos = nx.spring_layout(g,seed=123456789,k=0.3)\n",
        "# color of nodes\n",
        "color = list(dict(nx.degree(g)).values())\n",
        "\n",
        "# draw edges\n",
        "nx.draw_networkx_edges(g,\n",
        "                       pos=pos,\n",
        "                       alpha=0.4, ax=ax)\n",
        "\n",
        "# draw nodes\n",
        "nodes = nx.draw_networkx_nodes(g,\n",
        "                 pos=pos,\n",
        "                 node_color=color,\n",
        "                 cmap=plt.cm.jet,ax=ax)\n",
        "\n",
        "# draw labels\n",
        "nx.draw_networkx_labels(g, pos=pos,\n",
        "                        font_color='white', ax=ax)\n",
        "\n",
        "\n",
        "plt.axis(\"off\")\n",
        "plt.colorbar(nodes)\n",
        "plt.savefig('degree.png', transparent=True,dpi=300)\n",
        "plt.show()"
      ],
      "execution_count": null,
      "outputs": []
    },
    {
      "cell_type": "code",
      "metadata": {
        "id": "edPi4ZsQZ6pc"
      },
      "source": [
        "# the degree centrality of network(g)\n",
        "fig, ax = plt.subplots(1,1,figsize=(10,8))\n",
        "\n",
        "# layout position\n",
        "pos = nx.spring_layout(g,seed=123456789,k=0.3)\n",
        "# color of nodes\n",
        "color = list(dict(nx.degree_centrality(g)).values())\n",
        "\n",
        "# draw edges\n",
        "nx.draw_networkx_edges(g,\n",
        "                       pos=pos,\n",
        "                       alpha=0.4, ax=ax)\n",
        "\n",
        "# draw nodes\n",
        "nodes = nx.draw_networkx_nodes(g,\n",
        "                 pos=pos,\n",
        "                 node_color=color,\n",
        "                 cmap=plt.cm.jet,\n",
        "                 ax=ax)\n",
        "\n",
        "# draw labels\n",
        "nx.draw_networkx_labels(g, pos=pos,\n",
        "                        font_color='white', ax=ax)\n",
        "\n",
        "\n",
        "plt.axis(\"off\")\n",
        "plt.colorbar(nodes)\n",
        "plt.savefig('degree_centrality.png', transparent=True,dpi=300)\n",
        "plt.show()"
      ],
      "execution_count": null,
      "outputs": []
    },
    {
      "cell_type": "code",
      "metadata": {
        "id": "Uh9AMGhjNVeu"
      },
      "source": [
        "nx.degree_centrality(g)"
      ],
      "execution_count": null,
      "outputs": []
    },
    {
      "cell_type": "markdown",
      "metadata": {
        "id": "zXVhKitENj3D"
      },
      "source": [
        "## 4.2 Closeness Centrality"
      ]
    },
    {
      "cell_type": "code",
      "metadata": {
        "id": "yagSrjlgrC48"
      },
      "source": [
        "nx.closeness_centrality(g)"
      ],
      "execution_count": null,
      "outputs": []
    },
    {
      "cell_type": "code",
      "metadata": {
        "id": "jHPWhroKrFrO"
      },
      "source": [
        "# the closeness centrality of network(g)\n",
        "fig, ax = plt.subplots(1,1,figsize=(10,8))\n",
        "\n",
        "# layout position\n",
        "pos = nx.spring_layout(g,seed=123456789,k=0.3)\n",
        "# color of nodes\n",
        "color = list(dict(nx.closeness_centrality(g)).values())\n",
        "\n",
        "# draw edges\n",
        "nx.draw_networkx_edges(g,\n",
        "                       pos=pos,\n",
        "                       alpha=0.4, ax=ax)\n",
        "\n",
        "# draw nodes\n",
        "nodes = nx.draw_networkx_nodes(g,\n",
        "                 pos=pos,\n",
        "                 node_color=color,\n",
        "                 cmap=plt.cm.jet,\n",
        "                 ax=ax)\n",
        "\n",
        "# draw labels\n",
        "nx.draw_networkx_labels(g, pos=pos,\n",
        "                        font_color='white', ax=ax)\n",
        "\n",
        "\n",
        "plt.axis(\"off\")\n",
        "plt.colorbar(nodes)\n",
        "plt.savefig('closeness_centrality.png', transparent=True,dpi=600)\n",
        "plt.show()"
      ],
      "execution_count": null,
      "outputs": []
    },
    {
      "cell_type": "markdown",
      "metadata": {
        "id": "vqlupG50r8Yf"
      },
      "source": [
        "## 4.3 Betweenness Centrality"
      ]
    },
    {
      "cell_type": "code",
      "metadata": {
        "id": "QlHOpYdpbS2o"
      },
      "source": [
        "nx.betweenness_centrality(g)"
      ],
      "execution_count": null,
      "outputs": []
    },
    {
      "cell_type": "code",
      "metadata": {
        "id": "KGLOBGhcbVGp"
      },
      "source": [
        "# the betwenness centrality of network(g)\n",
        "fig, ax = plt.subplots(1,1,figsize=(10,8))\n",
        "\n",
        "# layout position\n",
        "pos = nx.spring_layout(g,seed=123456789,k=0.3)\n",
        "# color of nodes\n",
        "color = list(dict(nx.betweenness_centrality(g)).values())\n",
        "\n",
        "# draw edges\n",
        "nx.draw_networkx_edges(g,\n",
        "                       pos=pos,\n",
        "                       alpha=0.4, ax=ax)\n",
        "\n",
        "# draw nodes\n",
        "nodes = nx.draw_networkx_nodes(g,\n",
        "                 pos=pos,\n",
        "                 node_color=color,\n",
        "                 cmap=plt.cm.jet,\n",
        "                 ax=ax)\n",
        "\n",
        "# draw labels\n",
        "nx.draw_networkx_labels(g, pos=pos,\n",
        "                        font_color='white', ax=ax)\n",
        "\n",
        "\n",
        "plt.axis(\"off\")\n",
        "plt.colorbar(nodes)\n",
        "plt.savefig('betweenness_centrality.png', transparent=True,dpi=600)\n",
        "plt.show()"
      ],
      "execution_count": null,
      "outputs": []
    },
    {
      "cell_type": "markdown",
      "metadata": {
        "id": "ix_GsVjVc_d4"
      },
      "source": [
        "## 4.4 EigenVector Centrality"
      ]
    },
    {
      "cell_type": "code",
      "metadata": {
        "id": "OKW6WdOC1NWh"
      },
      "source": [
        "# the eigenvector centrality of network(g)\n",
        "fig, ax = plt.subplots(1,1,figsize=(10,8))\n",
        "\n",
        "# layout position\n",
        "pos = nx.spring_layout(g,seed=123456789,k=0.3)\n",
        "# color of nodes\n",
        "color = list(dict(nx.eigenvector_centrality(g)).values())\n",
        "\n",
        "# draw edges\n",
        "nx.draw_networkx_edges(g,\n",
        "                       pos=pos,\n",
        "                       alpha=0.4, ax=ax)\n",
        "\n",
        "# draw nodes\n",
        "nodes = nx.draw_networkx_nodes(g,\n",
        "                 pos=pos,\n",
        "                 node_color=color,\n",
        "                 cmap=plt.cm.jet,\n",
        "                 ax=ax)\n",
        "\n",
        "# draw labels\n",
        "nx.draw_networkx_labels(g, pos=pos,\n",
        "                        font_color='white', ax=ax)\n",
        "\n",
        "\n",
        "plt.axis(\"off\")\n",
        "plt.colorbar(nodes)\n",
        "plt.savefig('eigenvector_centrality.png', transparent=True,dpi=600)\n",
        "plt.show()"
      ],
      "execution_count": null,
      "outputs": []
    },
    {
      "cell_type": "markdown",
      "metadata": {
        "id": "HnPu8MV5qe2X"
      },
      "source": [
        "## 4.5 All together"
      ]
    },
    {
      "cell_type": "code",
      "metadata": {
        "id": "1Vy-c3P7qqCT"
      },
      "source": [
        "# the eigenvector centrality of network(g)\n",
        "fig, ax = plt.subplots(2,2,figsize=(10,8))\n",
        "\n",
        "# max value of metrics \n",
        "max_centrality = max([max([v for k, v in nx.eigenvector_centrality(g).items()]),\n",
        "                      max([v for k, v in nx.degree_centrality(g).items()]),\n",
        "                      max([v for k, v in nx.closeness_centrality(g).items()]),\n",
        "                      max([v for k, v in nx.betweenness_centrality(g).items()])])\n",
        "\n",
        "# layout position\n",
        "pos = nx.spring_layout(g,seed=123456789,k=0.3)\n",
        "\n",
        "# color of nodes\n",
        "color_degree = list(dict(nx.degree_centrality(g)).values())\n",
        "color_closeness = list(dict(nx.closeness_centrality(g)).values())\n",
        "color_betweenness = list(dict(nx.betweenness_centrality(g)).values())\n",
        "color_eigenvector = list(dict(nx.eigenvector_centrality(g)).values())\n",
        "\n",
        "# \n",
        "# draw edges\n",
        "#\n",
        "# degree centrality\n",
        "nx.draw_networkx_edges(g,\n",
        "                       pos=pos,\n",
        "                       alpha=0.4, ax=ax[0,0])\n",
        "\n",
        "# closeness centrality\n",
        "nx.draw_networkx_edges(g,\n",
        "                       pos=pos,\n",
        "                       alpha=0.4, ax=ax[0,1])\n",
        "\n",
        "# betweenness centrality\n",
        "nx.draw_networkx_edges(g,\n",
        "                       pos=pos,\n",
        "                       alpha=0.4, ax=ax[1,0])\n",
        "\n",
        "# eigenvector centrality\n",
        "nx.draw_networkx_edges(g,\n",
        "                       pos=pos,\n",
        "                       alpha=0.4, ax=ax[1,1])\n",
        "\n",
        "# draw nodes\n",
        "nodes = nx.draw_networkx_nodes(g,\n",
        "                 pos=pos,\n",
        "                 node_color=color_degree,\n",
        "                 cmap=plt.cm.jet,vmin=0,vmax=max_centrality,\n",
        "                 ax=ax[0,0])\n",
        "nodes = nx.draw_networkx_nodes(g,\n",
        "                 pos=pos,\n",
        "                 node_color=color_closeness,\n",
        "                 cmap=plt.cm.jet,vmin=0,vmax=max_centrality,\n",
        "                 ax=ax[0,1])\n",
        "nodes = nx.draw_networkx_nodes(g,\n",
        "                 pos=pos,\n",
        "                 node_color=color_betweenness,\n",
        "                 cmap=plt.cm.jet,vmin=0,vmax=max_centrality,\n",
        "                 ax=ax[1,0])\n",
        "nodes = nx.draw_networkx_nodes(g,\n",
        "                 pos=pos,\n",
        "                 node_color=color_eigenvector,\n",
        "                 cmap=plt.cm.jet,vmin=0,vmax=max_centrality,\n",
        "                 ax=ax[1,1])\n",
        "\n",
        "# \n",
        "# draw labels\n",
        "#\n",
        "nx.draw_networkx_labels(g, pos=pos,\n",
        "                        font_color='white', ax=ax[0,0])\n",
        "nx.draw_networkx_labels(g, pos=pos,\n",
        "                        font_color='white', ax=ax[0,1])\n",
        "nx.draw_networkx_labels(g, pos=pos,\n",
        "                        font_color='white', ax=ax[1,0])\n",
        "nx.draw_networkx_labels(g, pos=pos,\n",
        "                        font_color='white', ax=ax[1,1])\n",
        "\n",
        "# eliminate axis\n",
        "ax[0,0].axis(\"off\")\n",
        "ax[1,0].axis(\"off\")\n",
        "ax[0,1].axis(\"off\")\n",
        "ax[1,1].axis(\"off\")\n",
        "\n",
        "ax[0,0].set_title(\"Degree Centraliy\")\n",
        "ax[0,1].set_title(\"Closeness Centraliy\")\n",
        "ax[1,0].set_title(\"Betweenness Centraliy\")\n",
        "ax[1,1].set_title(\"Eigenvector Centraliy\")\n",
        "\n",
        "\n",
        "# Create an unique colorbar\n",
        "# reference: https://stackoverflow.com/questions/60848582/unique-colorbar-at-the-right-of-multiple-subplots\n",
        "plt.subplots_adjust(bottom=0., right=0.92, top=1.)\n",
        "cax = plt.axes([0.95, 0.3, 0.025, 0.4])\n",
        "sm = plt.cm.ScalarMappable(cmap=plt.cm.jet, norm=plt.Normalize(vmin=0, vmax=max_centrality))\n",
        "cbar=plt.colorbar(sm,cax)\n",
        "\n",
        "plt.savefig('alltogether.png', transparent=True,dpi=600,bbox_inches=\"tight\")\n",
        "plt.show()"
      ],
      "execution_count": null,
      "outputs": []
    },
    {
      "cell_type": "markdown",
      "metadata": {
        "id": "WMWrRCrLxiYi"
      },
      "source": [
        "# 5 Centrality Distribution"
      ]
    },
    {
      "cell_type": "markdown",
      "metadata": {
        "id": "yHWilJmW7-28"
      },
      "source": [
        "## 5.1 Histogram, PDF and CDF"
      ]
    },
    {
      "cell_type": "code",
      "metadata": {
        "id": "QFmITl-DzaQl"
      },
      "source": [
        "plt.style.use(\"default\")\n",
        "# degree sequence\n",
        "degree_sequence = sorted([d for n, d in g.degree()], reverse=True)  \n",
        "\n",
        "fig, ax = plt.subplots(1,2,figsize=(8,6))\n",
        "\n",
        "# all_data has information about degree_sequence and the width of each bin\n",
        "all_data = ax[0].hist(degree_sequence,bins=7)\n",
        "ax[1].hist(degree_sequence,bins=7,density=True)\n",
        "\n",
        "ax[0].set_title(\"Degree Histogram\")\n",
        "ax[0].set_ylabel(\"Count\")\n",
        "ax[0].set_xlabel(\"Degree\")\n",
        "\n",
        "ax[1].set_title(\"Probability Density Function\")\n",
        "ax[1].set_ylabel(\"Probability\")\n",
        "ax[1].set_xlabel(\"Degree\")\n",
        "\n",
        "plt.tight_layout()\n",
        "plt.show()"
      ],
      "execution_count": null,
      "outputs": []
    },
    {
      "cell_type": "code",
      "metadata": {
        "id": "Ezqef_zNk-04"
      },
      "source": [
        "print(all_data)"
      ],
      "execution_count": null,
      "outputs": []
    },
    {
      "cell_type": "code",
      "metadata": {
        "id": "36hNf1fIlHOl"
      },
      "source": [
        "# print the width of each bin\n",
        "print(all_data[1])"
      ],
      "execution_count": null,
      "outputs": []
    },
    {
      "cell_type": "code",
      "metadata": {
        "id": "564m8FPvlg8n"
      },
      "source": [
        "# calc the width of each bin using numpy\n",
        "# diff calc the difference between two positions in the array\n",
        "bin_width = np.diff(all_data[1])\n",
        "bin_width"
      ],
      "execution_count": null,
      "outputs": []
    },
    {
      "cell_type": "code",
      "metadata": {
        "id": "xRxiOVWbmDr9"
      },
      "source": [
        "# total number of elements in array\n",
        "all_data[0].sum()"
      ],
      "execution_count": null,
      "outputs": []
    },
    {
      "cell_type": "code",
      "metadata": {
        "id": "ce21YeT0lo7I"
      },
      "source": [
        "# probability density function for each bin\n",
        "# please check the right figure above and compare the results\n",
        "all_data[0]/(all_data[0].sum() * bin_width)"
      ],
      "execution_count": null,
      "outputs": []
    },
    {
      "cell_type": "code",
      "metadata": {
        "id": "5oG6jL9-1ljF"
      },
      "source": [
        "plt.style.use(\"fivethirtyeight\")\n",
        "#plt.style.use(\"default\")\n",
        "\n",
        "fig, ax = plt.subplots(1,1,figsize=(10,8))\n",
        "\n",
        "sns.histplot(degree_sequence,bins=7,label=\"Count\",ax=ax)\n",
        "ax2 = ax.twinx()\n",
        "sns.kdeplot(degree_sequence,color='r',label=\"Probability Density Function (PDF)\",ax=ax2)\n",
        "\n",
        "# ask matplotlib for the plotted objects and their labels\n",
        "lines, labels = ax.get_legend_handles_labels()\n",
        "lines2, labels2 = ax2.get_legend_handles_labels()\n",
        "ax2.legend(lines + lines2, labels + labels2, loc=0)\n",
        "\n",
        "ax.grid(False)\n",
        "ax2.grid(False)\n",
        "ax.set_xlabel(\"Degree\")\n",
        "ax2.set_ylabel(\"Probability\")\n",
        "\n",
        "plt.savefig('probability_density_function.png', transparent=True,dpi=600,bbox_inches=\"tight\")\n",
        "plt.show()"
      ],
      "execution_count": null,
      "outputs": []
    },
    {
      "cell_type": "code",
      "metadata": {
        "id": "BpmbDqR3ZP_A"
      },
      "source": [
        "plt.style.use(\"fivethirtyeight\")\n",
        "#plt.style.use(\"default\")\n",
        "\n",
        "fig, ax = plt.subplots(1,1,figsize=(10,8))\n",
        "\n",
        "sns.histplot(degree_sequence,bins=7,label=\"Count\",ax=ax)\n",
        "ax2 = ax.twinx()\n",
        "sns.kdeplot(degree_sequence,color='r',label=\"Cumulative Density Function (CDF)\",ax=ax2,cumulative=True)\n",
        "\n",
        "# ask matplotlib for the plotted objects and their labels\n",
        "lines, labels = ax.get_legend_handles_labels()\n",
        "lines2, labels2 = ax2.get_legend_handles_labels()\n",
        "ax2.legend(lines + lines2, labels + labels2, loc=0)\n",
        "\n",
        "ax.grid(False)\n",
        "ax2.grid(False)\n",
        "ax.set_xlabel(\"Degree\")\n",
        "ax2.set_ylabel(\"Probability\")\n",
        "\n",
        "plt.savefig('cumulative_density_function.png', transparent=True,dpi=600,bbox_inches=\"tight\")\n",
        "plt.show()"
      ],
      "execution_count": null,
      "outputs": []
    },
    {
      "cell_type": "code",
      "metadata": {
        "id": "Dpiks9Z48xIR"
      },
      "source": [
        "plt.style.use(\"ggplot\")\n",
        "\n",
        "# Another way to visualize the cumulative distribution\n",
        "def ecdf(data):\n",
        "    return np.sort(data), np.arange(1, len(data) + 1) / len(data)\n",
        "\n",
        "def ecdf_degree(G):\n",
        "    \"\"\"ECDF of degree.\"\"\"\n",
        "    num_neighbors = [len(list(G.neighbors(n))) for n in G.nodes()]\n",
        "    x, y = ecdf(num_neighbors)\n",
        "    plt.scatter(x, y)\n",
        "    plt.xlabel(\"degree\")\n",
        "    plt.ylabel(\"cumulative fraction\")"
      ],
      "execution_count": null,
      "outputs": []
    },
    {
      "cell_type": "code",
      "metadata": {
        "id": "gaBlZUZQBgMf"
      },
      "source": [
        "#\n",
        "# insighs\n",
        "# cdf(1) - almore 40% of vertices has degree 1\n",
        "# cdf(2) P(degree <= 2) - 50% of vertices has at least degree 2 or less\n",
        "# cdf(6) P(degree <= 6) - more than 95% of vertices has at least degree 6 or less\n",
        "ecdf_degree(g)"
      ],
      "execution_count": null,
      "outputs": []
    },
    {
      "cell_type": "markdown",
      "metadata": {
        "id": "qHYaE4y5BjpW"
      },
      "source": [
        "## 5.2 Sociopatterns"
      ]
    },
    {
      "cell_type": "markdown",
      "metadata": {
        "id": "IHOqZeA_8KVz"
      },
      "source": [
        "At the time of writing (July 2021), finding important nodes in a graph has actually taken on a measure of importance that we might not have appreciated before. With the COVID-19 virus spreading, contact tracing has become quite important. In an infectious disease contact network, where individuals are nodes and contact between individuals of some kind are the edges, an \"important\" node in this contact network would be an individual who was infected who also was in contact with many people during the time that they were infected.\n",
        "\n",
        "The dataset that we will use in this chapter is the [\"sociopatterns network\"](http://www.sociopatterns.org/datasets/infectious-sociopatterns-dynamic-contact-networks/) dataset. Incidentally, it's also about infectious diseases.\n",
        "\n",
        "> This network describes the face-to-face behavior of people during the exhibition INFECTIOUS: STAY AWAY in 2009 at the Science Gallery in Dublin. Nodes represent exhibition visitors; edges represent face-to-face contacts that were active for at least 20 seconds. Multiple edges between two nodes are possible and denote multiple contacts. The network contains the data from the day with the most interactions\n",
        "\n",
        "To simplify the network, we have represented only the last contact between individuals.\n",
        "\n"
      ]
    },
    {
      "cell_type": "code",
      "metadata": {
        "id": "DhfWAA_l8XPl"
      },
      "source": [
        "# download the dataset \n",
        "!gdown https://drive.google.com/uc?id=1I_De4D7PBPiex7b7z7uOCNQx0zqOT-vP"
      ],
      "execution_count": null,
      "outputs": []
    },
    {
      "cell_type": "markdown",
      "metadata": {
        "id": "KWmUNklEDENR"
      },
      "source": [
        "The meaning of the columns in out.sociopatterns-infectious are:\n",
        "\n",
        "- First column: ID of from node\n",
        "- Second column: ID of to node\n",
        "- Third column: edge weight\n",
        "- Fourth column: timestamp of the edge"
      ]
    },
    {
      "cell_type": "code",
      "metadata": {
        "id": "KhNWMz-19UD5"
      },
      "source": [
        "# Read the edge list\n",
        "df = pd.read_csv(\"out.sociopatterns-infectious\",sep=\" \",skiprows=2,header=None)\n",
        "df.head()"
      ],
      "execution_count": null,
      "outputs": []
    },
    {
      "cell_type": "code",
      "metadata": {
        "id": "1oTyN2GX9a_L"
      },
      "source": [
        "# lets use only the first three columns\n",
        "df = df[[0, 1, 2]]\n",
        "df.columns = [\"person1\", \"person2\", \"weight\"]\n",
        "df.head()"
      ],
      "execution_count": null,
      "outputs": []
    },
    {
      "cell_type": "code",
      "metadata": {
        "id": "E7M11JpsDdCZ"
      },
      "source": [
        "g2 = nx.Graph()\n",
        "\n",
        "for row in df.iterrows():\n",
        "  p1 = row[1][\"person1\"]\n",
        "  p2 = row[1][\"person2\"]\n",
        "  if g2.has_edge(p1, p2):\n",
        "    g2.edges[p1, p2][\"weight\"] += 1\n",
        "  else:\n",
        "    g2.add_edge(p1, p2, weight=1)\n",
        "\n",
        "for n in sorted(g2.nodes()):\n",
        "  g2.nodes[n][\"order\"] = float(n)"
      ],
      "execution_count": null,
      "outputs": []
    },
    {
      "cell_type": "code",
      "metadata": {
        "id": "8_zVbLQdD9uW"
      },
      "source": [
        "# As usual, before proceeding with any analysis, we should know basic graph statistics.\n",
        "len(g2.nodes),len(g2.edges())"
      ],
      "execution_count": null,
      "outputs": []
    },
    {
      "cell_type": "code",
      "metadata": {
        "id": "J2Q2OyynKMwI"
      },
      "source": [
        "# small network\n",
        "len(g.nodes),len(g.edges())"
      ],
      "execution_count": null,
      "outputs": []
    },
    {
      "cell_type": "code",
      "metadata": {
        "id": "E-A3OmboKqCH"
      },
      "source": [
        "# the degree of network(g2)\n",
        "fig, ax = plt.subplots(1,1,figsize=(10,8))\n",
        "\n",
        "# layout position\n",
        "pos = nx.spring_layout(g2,seed=123456789,k=0.3)\n",
        "# color of nodes\n",
        "color = list(dict(nx.degree(g2)).values())\n",
        "\n",
        "# draw edges\n",
        "nx.draw_networkx_edges(g2,\n",
        "                       pos=pos,\n",
        "                       alpha=0.4, ax=ax)\n",
        "\n",
        "# draw nodes\n",
        "nodes = nx.draw_networkx_nodes(g2,\n",
        "                 pos=pos,\n",
        "                 node_color=color,\n",
        "                 cmap=plt.cm.jet,ax=ax)\n",
        "\n",
        "# draw labels\n",
        "nx.draw_networkx_labels(g2, pos=pos,\n",
        "                        font_color='white', ax=ax)\n",
        "\n",
        "\n",
        "plt.axis(\"off\")\n",
        "plt.colorbar(nodes)\n",
        "plt.savefig('degree_sociopatterns.png', transparent=True,dpi=600)\n",
        "plt.show()"
      ],
      "execution_count": null,
      "outputs": []
    },
    {
      "cell_type": "code",
      "metadata": {
        "id": "WQgdG4-LETFv"
      },
      "source": [
        "ecdf_degree(g2)"
      ],
      "execution_count": null,
      "outputs": []
    },
    {
      "cell_type": "code",
      "metadata": {
        "id": "Mb4xdvRjEdp1"
      },
      "source": [
        "plt.style.use(\"ggplot\")\n",
        "#plt.style.use(\"default\")\n",
        "\n",
        "fig, ax = plt.subplots(1,2,figsize=(8,6))\n",
        "\n",
        "# degree sequence\n",
        "degree_sequence2 = sorted([d for n, d in g2.degree()], reverse=True)  \n",
        "\n",
        "sns.kdeplot(degree_sequence2,color='r',label=\"SocioPatterns\",ax=ax[0],cumulative=True,log_scale=True)\n",
        "sns.kdeplot(degree_sequence,color='b',label=\"Small Network\",ax=ax[0],cumulative=True,log_scale=True)\n",
        "\n",
        "ax[0].grid(False)\n",
        "ax[0].set_xlabel(\"Degree (logscale)\")\n",
        "ax[0].set_ylabel(\"Cumulative Density Function\")\n",
        "#ax[0].legend(loc=\"lower right\")\n",
        "\n",
        "sns.kdeplot(degree_sequence2,color='r',label=\"SocioPatterns\",ax=ax[1],cumulative=True,log_scale=False)\n",
        "sns.kdeplot(degree_sequence,color='b',label=\"Small Network\",ax=ax[1],cumulative=True,log_scale=False)\n",
        "\n",
        "ax[1].grid(False)\n",
        "ax[1].set_xlabel(\"Degree\")\n",
        "ax[1].set_ylabel(\"\")\n",
        "ax[1].legend(loc=\"lower right\")\n",
        "\n",
        "plt.tight_layout()\n",
        "plt.savefig('comparative_cumulative_density_function.png', transparent=True,dpi=600,bbox_inches=\"tight\")\n",
        "plt.show()"
      ],
      "execution_count": null,
      "outputs": []
    },
    {
      "cell_type": "markdown",
      "metadata": {
        "id": "uvR6H7uqO-7G"
      },
      "source": [
        "## 5.3 Comparizon between centrality measurements"
      ]
    },
    {
      "cell_type": "code",
      "metadata": {
        "id": "ca-I5Ue3SDVi"
      },
      "source": [
        "plt.style.use(\"ggplot\")\n",
        "#plt.style.use(\"default\")\n",
        "\n",
        "fig, ax = plt.subplots(1,2,figsize=(8,6))\n",
        "\n",
        "# degree sequence\n",
        "degree_sequence2 = sorted([d for n, d in g2.degree()], reverse=True)  \n",
        "\n",
        "sns.scatterplot(x=degree_sequence2,y=[v for k,v in nx.betweenness_centrality(g2).items()],ax=ax[0])\n",
        "ax[0].set_xlabel(\"Degree\")\n",
        "ax[0].set_ylabel(\"Betweenness Centrality\")\n",
        "ax[0].set_title(\"SocioPatterns\")\n",
        "ax[0].set_xlim(0,55)\n",
        "ax[0].set_ylim(-0.01,0.55)\n",
        "ax[0].grid(False)\n",
        "\n",
        "sns.scatterplot(x=degree_sequence,y=[v for k,v in nx.betweenness_centrality(g).items()],ax=ax[1])\n",
        "ax[1].set_xlabel(\"Degree\")\n",
        "ax[1].set_title(\"Small Network\")\n",
        "ax[1].set_xlim(0,55)\n",
        "ax[1].set_ylim(-0.01,0.55)\n",
        "ax[1].grid(False)\n",
        "\n",
        "plt.tight_layout()\n",
        "plt.savefig('degree_vs_betweenness.png', transparent=True,dpi=600,bbox_inches=\"tight\")\n",
        "plt.show()"
      ],
      "execution_count": null,
      "outputs": []
    },
    {
      "cell_type": "code",
      "metadata": {
        "id": "Rw5rGxgISm3w"
      },
      "source": [
        "bc = pd.Series(nx.betweenness_centrality(g2))\n",
        "dc = pd.Series(nx.degree_centrality(g2))\n",
        "ec = pd.Series(nx.eigenvector_centrality(g2))\n",
        "cc = pd.Series(nx.closeness_centrality(g2))\n",
        "\n",
        "df = pd.DataFrame.from_dict({\"Betweenness\": bc,\n",
        "                            \"Degree\": dc,\n",
        "                            \"EigenVector\": ec,\n",
        "                            \"Closeness\": cc})\n",
        "df.reset_index(inplace=True,drop=True)\n",
        "df.head()"
      ],
      "execution_count": null,
      "outputs": []
    },
    {
      "cell_type": "code",
      "metadata": {
        "id": "KSEDvuCXWvEB"
      },
      "source": [
        "fig = sns.PairGrid(df)\n",
        "fig.map_upper(sns.scatterplot)\n",
        "fig.map_lower(sns.kdeplot, cmap=\"Reds_r\")\n",
        "fig.map_diag(sns.kdeplot, lw=2, legend=False)\n",
        "\n",
        "plt.savefig('all.png', transparent=True,dpi=800,bbox_inches=\"tight\")\n",
        "plt.show()"
      ],
      "execution_count": null,
      "outputs": []
    },
    {
      "cell_type": "markdown",
      "metadata": {
        "id": "xU9DRsKsXGZ0"
      },
      "source": [
        "# 6 Core Decomposition"
      ]
    },
    {
      "cell_type": "code",
      "metadata": {
        "id": "6ag4NUZfJ6sm"
      },
      "source": [
        "# k-core of the network\n",
        "# 1-core\n",
        "# 2-core\n",
        "# 3-core\n",
        "set([v for k,v in nx.core_number(g).items()])"
      ],
      "execution_count": null,
      "outputs": []
    },
    {
      "cell_type": "code",
      "metadata": {
        "id": "j5TaorDyJCK2"
      },
      "source": [
        "# \n",
        "# Change the variable core to visualize the nodes in k-core\n",
        "# Note that 0-core is the all network\n",
        "core = 3\n",
        "for i in nx.k_core(g,core):\n",
        "  print(i)"
      ],
      "execution_count": null,
      "outputs": []
    },
    {
      "cell_type": "code",
      "metadata": {
        "id": "PgYUzep5KqrU"
      },
      "source": [
        "# \n",
        "# Change the variable shell to visualize the nodes in k-shell\n",
        "# Note that vertices in k-shell are member of k-core, however they are not member of (k+1)-core\n",
        "shell = 3\n",
        "for i in nx.k_shell(g,shell):\n",
        "  print(i)"
      ],
      "execution_count": null,
      "outputs": []
    },
    {
      "cell_type": "code",
      "metadata": {
        "id": "itA5LE-UtM9U"
      },
      "source": [
        "# the degree of network(g2)\n",
        "fig, ax = plt.subplots(1,1,figsize=(10,8))\n",
        "\n",
        "# layout position\n",
        "pos = nx.spring_layout(g2,seed=123456789,k=0.3)\n",
        "# color of nodes\n",
        "color = list(dict(nx.degree(g2)).values())\n",
        "\n",
        "# draw edges\n",
        "nx.draw_networkx_edges(g2,\n",
        "                       pos=pos,\n",
        "                       alpha=0.4, ax=ax)\n",
        "\n",
        "# draw nodes\n",
        "nodes = nx.draw_networkx_nodes(g2,\n",
        "                 pos=pos,\n",
        "                 node_color=color,\n",
        "                 cmap=plt.cm.jet,ax=ax)\n",
        "\n",
        "# draw labels\n",
        "nx.draw_networkx_labels(g2, pos=pos,\n",
        "                        font_color='white', ax=ax)\n",
        "\n",
        "\n",
        "plt.axis(\"off\")\n",
        "plt.colorbar(nodes)\n",
        "plt.savefig('sociopatterns.png', transparent=True,dpi=600)\n",
        "plt.show()"
      ],
      "execution_count": null,
      "outputs": []
    },
    {
      "cell_type": "code",
      "metadata": {
        "id": "5BCFGklCt-8g"
      },
      "source": [
        "# How many k-cores does this network have?\n",
        "set([v for k,v in nx.core_number(g2).items()])"
      ],
      "execution_count": null,
      "outputs": []
    },
    {
      "cell_type": "code",
      "metadata": {
        "id": "6PfymPlfui7q"
      },
      "source": [
        "# 1-core is composed for all vertices in the network because this network is connected\n",
        "len([g2.degree(node) for node in list(nx.k_core(g2,1))])"
      ],
      "execution_count": null,
      "outputs": []
    },
    {
      "cell_type": "code",
      "metadata": {
        "id": "tPkv8OLUv57Q"
      },
      "source": [
        "# how to calculate shell by hands\n",
        "a = [node for node in list(nx.k_core(g2,1))]\n",
        "b = [node for node in list(nx.k_core(g2,2))]\n",
        "np.setxor1d(a,b)"
      ],
      "execution_count": null,
      "outputs": []
    },
    {
      "cell_type": "code",
      "metadata": {
        "id": "f2yt1mF50KfX"
      },
      "source": [
        "# who are in the innermost core\n",
        "print(list(nx.k_shell(g2,17)))"
      ],
      "execution_count": null,
      "outputs": []
    },
    {
      "cell_type": "code",
      "metadata": {
        "id": "eZlhmHoO0Y0_"
      },
      "source": [
        "# the degree of network(g2)\n",
        "fig, ax = plt.subplots(1,1,figsize=(10,8))\n",
        "\n",
        "# Find k-cores\n",
        "g2_core_13 = nx.k_shell(g2, 13)\n",
        "g2_core_17 = nx.k_core(g2, 17)\n",
        "\n",
        "# layout position\n",
        "pos = nx.spring_layout(g2,seed=123456789,k=0.3)\n",
        "\n",
        "# draw edges\n",
        "nx.draw_networkx_edges(g2,\n",
        "                       pos=pos,\n",
        "                       alpha=0.4, ax=ax)\n",
        "\n",
        "# draw nodes\n",
        "nodes = nx.draw_networkx_nodes(g2,\n",
        "                 pos=pos,\n",
        "                 node_color=\"#333333\")\n",
        "\n",
        "# draw nodes\n",
        "nodes = nx.draw_networkx_nodes(g2_core_13,\n",
        "                 pos=pos,\n",
        "                 node_color=\"blue\")\n",
        "\n",
        "nodes = nx.draw_networkx_nodes(g2_core_17,\n",
        "                 pos=pos,\n",
        "                 node_color=\"red\")\n",
        "\n",
        "# static legend\n",
        "red_patch = mpatches.Patch(color='red', label='17-core')\n",
        "blue_patch = mpatches.Patch(color='blue', label='13-shell')\n",
        "plt.legend(handles=[red_patch,blue_patch])\n",
        "\n",
        "plt.axis(\"off\")\n",
        "plt.savefig('k-core_sociopatterns.png', transparent=True,dpi=600)\n",
        "plt.show()"
      ],
      "execution_count": null,
      "outputs": []
    },
    {
      "cell_type": "code",
      "metadata": {
        "id": "e5nK9b-qPTAz"
      },
      "source": [
        ""
      ],
      "execution_count": null,
      "outputs": []
    }
  ]
}