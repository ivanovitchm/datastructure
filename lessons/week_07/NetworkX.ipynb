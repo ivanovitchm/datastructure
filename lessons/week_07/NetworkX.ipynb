{
  "nbformat": 4,
  "nbformat_minor": 0,
  "metadata": {
    "colab": {
      "provenance": []
    },
    "kernelspec": {
      "name": "python3",
      "display_name": "Python 3"
    }
  },
  "cells": [
    {
      "cell_type": "code",
      "source": [
        "!pip install nxviz"
      ],
      "metadata": {
        "id": "d2u0PIoxEkiB"
      },
      "execution_count": null,
      "outputs": []
    },
    {
      "cell_type": "markdown",
      "metadata": {
        "id": "ILLX24VP84mX"
      },
      "source": [
        "# 1 The art of Seeing Networks"
      ]
    },
    {
      "cell_type": "markdown",
      "metadata": {
        "id": "t2klvHEaEEWb"
      },
      "source": [
        "## 1.1 Introduction"
      ]
    },
    {
      "cell_type": "markdown",
      "metadata": {
        "id": "hZraXQ0S91l8"
      },
      "source": [
        "**Complex network analysis (CNA)** is a rapidly expanding discipline that studies\n",
        "how to **recognize**, **describe**, **analyze**, and **visualize** complex networks. The\n",
        "Python library [NetworkX](https://networkx.github.io/) provides a collection of functions for **constructing**,\n",
        "**measuring**, and **drawing** complex networks. We’ll see in next lessons how CNA\n",
        "and NetworkX work together to automate mundane and tedious CNA tasks and\n",
        "make it possible to study complex networks of varying sizes and at varying\n",
        "levels of detail.\n",
        "\n",
        "\n",
        "At this point, you may be wondering what a network is, why some networks\n",
        "are complex, why it is important to recognize, describe, analyze, and visualize\n",
        "them, and why the discipline is expanding right now instead of having\n",
        "expanded, say, a hundred years ago.\n",
        "\n",
        "\n",
        "Complex networks, like mathematics, physics, and biology, have been in existence\n",
        "for at least as long as we humans have. **Biological complex networks**, in\n",
        "fact, predate humankind. However, intensive studies of complex networks did\n",
        "not start until the late **1800s to early 1900s**, mostly because of the **lack of\n",
        "proper mathematical apparatus** (graph theory, in the first place) and **adequate\n",
        "computational tools**. The reason for the explosion of CNA research and applications\n",
        "in the late **1900s–early 2000s** is two-fold. On the **“supply” side**, it is the\n",
        "availability of **cheap and powerful computers** and the **abundance of researchers**\n",
        "with advanced training in mathematics, physics, and social sciences. On the\n",
        "**“demand” side**, it is the ever **increasing complexity of social, behavioral, biological,\n",
        "financial, and technological** (to name a few) aspects of humanity.\n",
        "In this first lesson, you will see different types and kinds of networks (including\n",
        "complex networks) and learn why networks are important and why it is worth seeing them around."
      ]
    },
    {
      "cell_type": "markdown",
      "metadata": {
        "id": "LgCnRk3DYa9H"
      },
      "source": [
        "## 1.2 Know your networks"
      ]
    },
    {
      "cell_type": "markdown",
      "metadata": {
        "id": "i4lBealYCuKz"
      },
      "source": [
        "In general, a **network** is yet another—relational—form of organization and\n",
        "**representation of discrete data**. (The other one being tabular, with the data\n",
        "organized in rows and columns.) Two important network concepts are **entities**\n",
        "and the **relationships** between them. Depending on a researcher’s background,\n",
        "**entities are known as nodes** (the term we’ll use in our lessons), actors, or vertices.\n",
        "**Relationships are known as edges** (preferred in our lessons), links, arcs,\n",
        "or connections. We will casually refer to **networks as “graphs”** (in the graph theoretical\n",
        "meaning of the word), even though graphs are not the only way\n",
        "to describe networks.\n",
        "\n",
        "> When it comes to mathematics, the word “graph” has at least two\n",
        "different meanings. In algebra and calculus, a graph of a function\n",
        "is a continuous line chart or surface plot. In graph theory, a graph\n",
        "is a set of discrete objects (vertices, depicted diagrammatically as\n",
        "dots), possibly joined by edges (depicted as lines or arcs). We will\n",
        "always use the latter definition unless explicitly stated.\n",
        "\n",
        "\n",
        "Network **nodes** and **edges** are high-level abstractions. For many types of network\n",
        "analysis, their true nature is not essential. What matters\n",
        "is the discreteness of the entities and the binarity of the relationships. A discrete\n",
        "entity must be separable from all other entities—otherwise, it is not\n",
        "clear how to represent it as a node. A relationship typically involves two discrete\n",
        "entities; in other words, any two entities either are in a relationship or\n",
        "not. (An entity can be in a relationship with itself. Such a relationship is called\n",
        "reflexive.) It is not directly possible to use networks to model relationships\n",
        "that involve more than two entities, but if such modeling is really necessary,\n",
        "then you can use **hypergraphs**, which are beyond the scope of our lessons.\n",
        "\n",
        "Once all of the above conditions are met, you can graphically represent and\n",
        "visualize a node as a point or circle and an edge as a line or arc segment. You\n",
        "can further **express node and edge attributes** by adding line thickness, color,\n",
        "different shapes and sizes, and the like.\n",
        "\n",
        "\n",
        "Let’s have a look at some really basic—so-called **“classic”—networks**.\n",
        "\n",
        "\n",
        "- In a **checkerboard**, each field is an entity (node) with **three attributes: “color”\n",
        "(“black” or white”), “column” (“A” through “H”), and “row” (1 through 8)**.\n",
        "“Being next to” is the relationship between two entities. There is an edge\n",
        "connecting two nodes if the nodes “are next to” each other. As a matter\n",
        "of fact, “being next to” is one of the foundational relationships that leads\n",
        "to **spatial networks**. You can see a “checkerboard” network, also known\n",
        "as a **mesh or grid**, in the following figure.\n",
        "\n",
        "<img width=\"500\" src=\"https://drive.google.com/uc?export=view&id=1XFqoNQh2VeOY8UlLT2eIJm9yIhPJs8Nu\">\n",
        "\n",
        "- **In a timeline of our life**, each life event (such as “birth,” “high school graduation,” “marriage,” and eventually “death”) is an entity with at least one attribute: “time.” “Happening immediately after” is the relationship: an edge connects\n",
        "two events if one event occurs immediately after the other, leading to a\n",
        "network of events. Unlike “being next to,” “happening immediately after”\n",
        "is not symmetric: if A happened immediately after B (there is an edge from\n",
        "A to B), then B did not happen after A (there is no reverse edge).\n",
        "\n",
        "- **In a family tree**, each person in the tree is an entity, and the relationship could\n",
        "be either being “a descendant of” or “an ancestor of” (asymmetric). A\n",
        "family tree network is neither spatial nor strictly temporal: the nodes are\n",
        "not intrinsically arranged in space or time.\n",
        "\n",
        "- **In a hierarchical system** that consists of parts, sub-parts, and sub-sub-parts , a part at any level of the hierarchy is an entity. The relationship between the entities is “a part of”: a paragraph is “a part of”\n",
        "a subsection, which is “a part of” a section, which is “a part of” a chapter,\n",
        "which is “a part of” a book.\n",
        "\n",
        "\n",
        "**All the networks listed previously are simple because they have a regular or almost regular structure**.\n",
        "- A checkerboard is a rectangular grid.\n",
        "- A timeline is a linear network.\n",
        "- A family tree is a tree, and such is a network of a hierarchical\n",
        "system (a special case of a tree with just one level of branches is called a star).\n",
        "\n",
        "The following figure shows more simple networks: a linear timeline of Abraham Lincoln (A.L.), his family tree, and a ring of months in a year. (A ring is another\n",
        "simple network, which is essentially a linear network, wrapped around.)\n",
        "\n",
        "<img width=\"500\" src=\"https://drive.google.com/uc?export=view&id=1fxSJ1DqeBTxmShuYDKNcUzH-ZDM6OiFh\">\n",
        "\n",
        "\n",
        "**Make no mistake:**\n",
        "\n",
        "> a simple network is simple not because it is small, but\n",
        "because it is regular.\n",
        "\n",
        "For example, any ring node always has two neighbors;\n",
        "any tree node (except for the root) has exactly one antecedent; any inner grid\n",
        "node has exactly four neighbors, two of which are in the same row and the\n",
        "other two in the same column. The complete world timeline has billions of\n",
        "events. The humankind “family tree” has billions of individuals. We still consider\n",
        "these networks simple.\n",
        "\n",
        "\n",
        "What is a complex network, then?\n",
        "\n",
        "**A complex network has a non-trivial structure.** It is not a grid, not a tree, not a\n",
        "ring—but it is not entirely random, either. Complex networks emerge in nature\n",
        "and the man-made world as a result of decentralized processes with no global\n",
        "control. One of the most common mechanisms is the preferential attachment by [A-L Barabási and R Albert, Emergence of Scaling in Random Networks](http://science.sciencemag.org/content/286/5439/509), whereby **nodes with more\n",
        "edges get even more edges**, forming gigantic hubs in the core, surrounded by\n",
        "the poorly connected periphery. Another evolutionary mechanism is transitive\n",
        "closure, which connects two nodes together if they are already connected to a\n",
        "common neighbor, leading to densely interconnected network neighborhoods.\n",
        "\n",
        "Let’s glance at some complex networks. The following table shows the major\n",
        "classes of complex networks and some representatives from each class.\n",
        "\n",
        "| Major classes of complex networks        | Representatives                  |\n",
        "|--------------------------------|-----------------------------------------------------------------------------------------------------|\n",
        "| Technological networks         | Communication systems; transportation; the Internet; electric grid; water mains                     |\n",
        "| Biological/ecological networks | Food webs; gene/protein interactions; neural system; disease epidemics                              |\n",
        "| Economic networks              | Financial transactions; corporate partnerships; international trade; market basket analysis         |\n",
        "| Social networks                | Families and friends; email/SMS exchanges; professional groups                                      |\n",
        "| Cultural networks              | Language families; semantic networks; literature, art, history, religion networks (emerging fields) |"
      ]
    },
    {
      "cell_type": "markdown",
      "metadata": {
        "id": "d65DmrBKbekl"
      },
      "source": [
        "## 1.3 Enter Complex Network Analysis"
      ]
    },
    {
      "cell_type": "markdown",
      "metadata": {
        "id": "d7869GDRupl7"
      },
      "source": [
        "**Complex network analysis (CNA)**, which is the study of complex networks—\n",
        "their structure, properties, and dynamics—is a relatively new discipline, but\n",
        "with a rich history. You can think of CNA as a generalization of social network analysis (SNA) to\n",
        "include non-social networks.\n",
        "\n",
        "**Social networks** — descriptors of social structures through interactions—have\n",
        "been known as “social groups” since the late 1890s. Their **systematic exploration\n",
        "began in the 1930s**. In 1934, [J.L. Moreno (Who Shall Survive?)](https://archive.org/details/whoshallsurviven00jlmo) developed **sociograms**—graph drawings of social networks. Eventually,\n",
        "sociograms became the de facto standard of complex network visualization.\n",
        "\n",
        "John Barnes coined the term “SNA” in 1954 [Class and Committees in a\n",
        "Norwegian Island Parish](https://journals.sagepub.com/doi/10.1177/001872675400700102). Around the same time, **rapid penetration of mathematical methods into social sciences** began, leading to the emergence\n",
        "of **SNA** as one of the **leading paradigms** in **contemporary sociology**.\n",
        "\n",
        "Social network analysis addresses social networks at three levels: **microscopic**,\n",
        "**mesoscopic**, and **macroscopic**.\n",
        "\n",
        "- **Microscopic level**:  we view a network as an assembly of individual nodes, dyads (pairs of connected nodes; essentially, edges), triads (triples of nodes, connected in a triangular way), and subsets\n",
        "(tightly knit groups of nodes).\n",
        "- **Mesoscopic level**:  focuses on exponential random graph models (ERGMs), scale-free and small-world networks, and network evolution.\n",
        "- **Macroscopic level**:  concentrating on the properties of very large real-world graphs, such as\n",
        "degree distribution, assortativity, and hierarchical structure.\n",
        "\n"
      ]
    },
    {
      "cell_type": "markdown",
      "metadata": {
        "id": "3_WvegjiwKoO"
      },
      "source": [
        "# 2 Introducing NetworkX"
      ]
    },
    {
      "cell_type": "markdown",
      "metadata": {
        "id": "L2POxtFu0msb"
      },
      "source": [
        "## 2.1 Introduction"
      ]
    },
    {
      "cell_type": "markdown",
      "metadata": {
        "id": "ip_LoXRqsNcj"
      },
      "source": [
        "Any network starts with one node, and we can add more nodes and edges to\n",
        "it, as needed. The attributes of those nodes and edges describe their properties.\n",
        "The **node**, **edge**, and **attribute** data come from other data structures or files.\n",
        "In this section, you will learn [NetworkX](https://networkx.github.io/) functions for\n",
        "- starting a new network\n",
        "- populating it with nodes and edges\n",
        "- and decorating them with attributes.\n",
        "\n",
        "You will also learn how to create a “quick and dirty” visualization of the constructed\n",
        "network. In many cases, **complex network analysis is an iterative process**, whereby the\n",
        "network grows, shrinks, or undergoes other transformations over time. You\n",
        "will learn how to preserve a complex network as a disk file in a variety of\n",
        "popular formats and how to read data from appropriate files into the\n",
        "NetworkX representation. We will use the following terminology throughout the book to refer to the **relationships between nodes and edges**:\n",
        "- A node is incident to an edge if it is the start or end of the edge. The edge,\n",
        "respectively, is incident to its end nodes.\n",
        "- Two nodes are adjacent if they are incident to the same edge.\n",
        "- Two edges are adjacent if they are incident to the same node."
      ]
    },
    {
      "cell_type": "markdown",
      "metadata": {
        "id": "Sjy50az6thMs"
      },
      "source": [
        "## 2.2 Construct a Simple Network with NetworkX"
      ]
    },
    {
      "cell_type": "markdown",
      "metadata": {
        "id": "5ggxWyJltm1V"
      },
      "source": [
        "A NetworkX project begins with importing module *networkx* (usually under the\n",
        "name nx)."
      ]
    },
    {
      "cell_type": "code",
      "metadata": {
        "id": "6-0kUl7Js-NC"
      },
      "source": [
        "import networkx as nx"
      ],
      "execution_count": null,
      "outputs": []
    },
    {
      "cell_type": "code",
      "metadata": {
        "id": "OHvn3VJJtPUL"
      },
      "source": [
        "nx.__version__"
      ],
      "execution_count": null,
      "outputs": []
    },
    {
      "cell_type": "markdown",
      "metadata": {
        "id": "L2DJNc_juEJ7"
      },
      "source": [
        "### 2.2.1 Create a graph"
      ]
    },
    {
      "cell_type": "markdown",
      "metadata": {
        "id": "2K7JVPcwtUq0"
      },
      "source": [
        "A NetworkX network is a collection of edges and labeled nodes. The library\n",
        "allows you to use any **hashable Python data as a node label** (different labels\n",
        "within the same graph may belong to different data types). To create a new\n",
        "network graph, you must choose an appropriate **graph type** and call the\n",
        "respective constructor; pass either no parameters (for an empty graph) or a\n",
        "list of edges as node pairs (lists or tuples). NetworkX supports four graph types: **undirected**, **directed**, **multigraphs** and **directed multigraphs**.\n",
        "\n",
        "- **Undirected graphs** consist only of undirected edges - edges that can be\n",
        "traversed in either direction so that an edge from A to B is the same as\n",
        "an edge from B to A. Mathematically, undirected graphs represent **symmetric\n",
        "relationships**: if A is in a relationship with B, then B is also in a\n",
        "relationship with A. For example, sistership and companionship are\n",
        "symmetric relationships, but “being in love with” is not (at least, not\n",
        "always). Create an empty undirected graph with the constructor:\n",
        "\n",
        "```python\n",
        "nx.Graph()\n",
        "```\n",
        "\n",
        "> **Undirected graphs** can have self-loops—edges that start and end at the same node. Mathematically, self-loops represent a reflexive relationship: A is in a relationship with itself. If an undirected graph does not have self-loops, it is called a **simple graph**. A graph that is not simple is called a **pseudograph**.\n",
        "\n",
        "- **Directed graphs**, also known as **digraphs**, have at least one directed edge. “Being the father of” is a **asymmetric relationship** and would be represented by a directed edge. You would use a directed graph for a family network that shows fathership and mothership. Create an empty directed graph with the constructor:\n",
        "\n",
        "```python\n",
        "G = nx.DiGraph()\n",
        "```\n",
        "\n",
        "> Many NetworkX algorithms refuse to calculate with digraphs. You can convert\n",
        "a digraph into an undirected graph. All directed edges become undirected,\n",
        "and all pairs of two reciprocal edges become single edges. However,\n",
        "remember that the original digraph and the derived undirected graph are\n",
        "different.\n",
        "\n",
        "```python\n",
        "F = nx.Graph(G) # F is undirected\n",
        "```\n",
        "\n",
        "- **Multigraphs** are like undirected graphs, but they can have parallel edges — multiple edges between the same nodes. Parallel edges may represent different types of relationships between the nodes. Create an empty multigraph with the constructor:\n",
        "\n",
        "```python\n",
        "nx.MultiGraph()\n",
        "```\n",
        "\n",
        "- Finally, **directed multigraphs** are what they say they are: directed graphs\n",
        "with parallel edges. Create an empty directed multigraph with the constructor:\n",
        "\n",
        "```python\n",
        "nx.MultiDiGraph()\n",
        "```"
      ]
    },
    {
      "cell_type": "markdown",
      "metadata": {
        "id": "kL4thbEI0F65"
      },
      "source": [
        "### 2.2.2 Add and Remove Nodes and Edges\n"
      ]
    },
    {
      "cell_type": "markdown",
      "metadata": {
        "id": "f9lGqqyjui9Z"
      },
      "source": [
        "\n",
        "NetworkX provides several mechanisms for adding nodes and edges to an\n",
        "existing graph: one by one, from a list or another graph. Likewise, you can\n",
        "remove nodes or edges one by one or by using a list. Node and edge manipulations\n",
        "are subject to the following rules:\n",
        "- Adding an edge to a graph also ensures that its ends are added if they\n",
        "did not exist before.\n",
        "- Adding a duplicate node or edge is silently ignored unless the graph is a\n",
        "multigraph; in the latter case, an additional parallel edge is created.\n",
        "- Removing an edge does not remove its end nodes.\n",
        "-  Removing a node removes all incident edges.\n",
        "- Removing a single non-existent node or edge raises a NetworkXError exception,\n",
        "but if the node or edge is a part of a list, then an error is silently ignored.\n",
        "\n",
        "For the sake of understanding, le'ts built a food & nutrient network.\n",
        "\n",
        "\n",
        "<img width=\"500\" src=\"https://drive.google.com/uc?export=view&id=1SEgKhSg_fT2RNFlQZHhvhawsOR4Eycmk\">"
      ]
    },
    {
      "cell_type": "code",
      "metadata": {
        "id": "LFoIvCkQxR5M"
      },
      "source": [
        "G = nx.Graph([(\"A\", \"eggs\")])\n",
        "\n",
        "G.add_node(\"spinach\") # Add a single node\n",
        "G.add_node(\"Hg\") # Add a single node by mistake\n",
        "G.add_nodes_from([\"folates\", \"asparagus\", \"liver\"]) # Add a list of nodes\n",
        "\n",
        "G.add_edge(\"spinach\", \"folates\") # Add one edge, both ends exist\n",
        "G.add_edge(\"spinach\", \"heating oil\") # Add one edge by mistake\n",
        "G.add_edge(\"liver\", \"Se\") # Add one edge, one end does not exist\n",
        "G.add_edges_from([(\"folates\", \"liver\"), (\"folates\", \"asparagus\")])"
      ],
      "execution_count": null,
      "outputs": []
    },
    {
      "cell_type": "markdown",
      "metadata": {
        "id": "dAGY137SydOz"
      },
      "source": [
        "We intentionally added several inedible nodes—just to illustrate how one can\n",
        "remove unwanted fragments:"
      ]
    },
    {
      "cell_type": "code",
      "metadata": {
        "id": "HH_f6ZZvzXhJ"
      },
      "source": [
        "G.remove_node(\"Hg\")\n",
        "G.remove_nodes_from([\"Hg\"]) # Safe to remove a missing node using a list\n",
        "G.remove_edge(\"spinach\", \"heating oil\")\n",
        "G.remove_edges_from([(\"spinach\", \"heating oil\")]) # See above\n",
        "G.remove_node(\"heating oil\") # Not removed yet"
      ],
      "execution_count": null,
      "outputs": []
    },
    {
      "cell_type": "markdown",
      "metadata": {
        "id": "rPyM51BKzo6q"
      },
      "source": [
        "You can use the method **G.clear()** to delete all graph nodes and edges at once\n",
        "but keep the graph shell."
      ]
    },
    {
      "cell_type": "markdown",
      "metadata": {
        "id": "JbxFSJTYUvrQ"
      },
      "source": [
        "**Exercise**\n",
        "\n",
        "1. Add to graph G the following nodes: \"tapioca\", \"açaí\", \"cashew\", \"sun-dried meat\", \"couscous\".\n",
        "2. Add to graph G the following edges: \"tapioca\" and \"starch\", \"açaí\" and \"A\", \"açaí\" and \"E\", \"açaí\" and \"D\", \"cashew\" and \"C\", \"sun-dried meat\" and \"Na\", \"couscous\" and \"Mg\"."
      ]
    },
    {
      "cell_type": "code",
      "metadata": {
        "id": "WK0tygvhWyTg"
      },
      "source": [
        "# put your code here"
      ],
      "execution_count": null,
      "outputs": []
    },
    {
      "cell_type": "markdown",
      "metadata": {
        "id": "ZSDS4QN70K-f"
      },
      "source": [
        "### 2.2.3 Look at Edge and Node Lists"
      ]
    },
    {
      "cell_type": "markdown",
      "metadata": {
        "id": "Ch-7SdRP0M_Q"
      },
      "source": [
        "NetworkX provides several options for exploring the node and edge lists. Graph\n",
        "object attributes **G.node** and **G.edge** store all nodes and edges, respectively, in the\n",
        "form of dictionaries. Node labels are the keys of G.node. Node attributes, in the\n",
        "form of nested dictionaries, are the values. Since we did not assign any\n",
        "attributes to the nodes yet, the dictionaries are empty."
      ]
    },
    {
      "cell_type": "code",
      "metadata": {
        "id": "IjtglD2o0kc8"
      },
      "source": [
        "G.nodes"
      ],
      "execution_count": null,
      "outputs": []
    },
    {
      "cell_type": "code",
      "metadata": {
        "id": "gPTeQ3st0lz0"
      },
      "source": [
        "print(G.nodes)"
      ],
      "execution_count": null,
      "outputs": []
    },
    {
      "cell_type": "code",
      "metadata": {
        "id": "DqfvRUKv0saW"
      },
      "source": [
        "G.nodes[\"A\"]"
      ],
      "execution_count": null,
      "outputs": []
    },
    {
      "cell_type": "code",
      "metadata": {
        "id": "zeryzXsg01iH"
      },
      "source": [
        "G.edges"
      ],
      "execution_count": null,
      "outputs": []
    },
    {
      "cell_type": "code",
      "metadata": {
        "id": "57h7svGN03Bh"
      },
      "source": [
        "print(G.edges)"
      ],
      "execution_count": null,
      "outputs": []
    },
    {
      "cell_type": "code",
      "metadata": {
        "id": "7xSB1jAG08lu"
      },
      "source": [
        "G.edges[\"A\",\"eggs\"]"
      ],
      "execution_count": null,
      "outputs": []
    },
    {
      "cell_type": "markdown",
      "metadata": {
        "id": "P71T9xlF1Usm"
      },
      "source": [
        "If called with the optional parameter **data=True**, the methods return the lists\n",
        "with the additional attribute dictionaries."
      ]
    },
    {
      "cell_type": "code",
      "metadata": {
        "id": "20NmnJQ_6vjX"
      },
      "source": [
        "G.nodes(data=True)"
      ],
      "execution_count": null,
      "outputs": []
    },
    {
      "cell_type": "code",
      "metadata": {
        "id": "f1cw4uqb6yjT"
      },
      "source": [
        "G.edges(data=True)"
      ],
      "execution_count": null,
      "outputs": []
    },
    {
      "cell_type": "code",
      "metadata": {
        "id": "rdvarTmAYh4u"
      },
      "source": [
        "# see the number of neighbors\n",
        "G[\"folates\"]"
      ],
      "execution_count": null,
      "outputs": []
    },
    {
      "cell_type": "markdown",
      "metadata": {
        "id": "cBB9lZhD68Ce"
      },
      "source": [
        "You can measure the length of the returned lists or dictionaries to find out\n",
        "the number of nodes and edges. Additionally, function len(G) returns the\n",
        "number of nodes in G."
      ]
    },
    {
      "cell_type": "code",
      "metadata": {
        "id": "Ew-BklXB682H"
      },
      "source": [
        "len(G)"
      ],
      "execution_count": null,
      "outputs": []
    },
    {
      "cell_type": "markdown",
      "metadata": {
        "id": "zB9GzrJOW8Yc"
      },
      "source": [
        "**Exercise**\n",
        "\n",
        "1. Iterate over the graph G and find the node with the largest number of neighbors\n",
        "  - Store the number of neighbor to a dictionary using the follow template **key**: **value**. In this case, **key** is equal to **node** and **value** equal to **number of neighbors**. tip: use a dictonary comprehension.\n",
        "  - To find the dictionary key that has the greatest dictionary value, you can use this [technique](https://stackoverflow.com/questions/268272/getting-key-with-maximum-value-in-dictionary#280156)"
      ]
    },
    {
      "cell_type": "code",
      "metadata": {
        "id": "WQYYn00eYK2y"
      },
      "source": [
        "# put your code here"
      ],
      "execution_count": null,
      "outputs": []
    },
    {
      "cell_type": "markdown",
      "metadata": {
        "id": "BzF4bfbN9l_s"
      },
      "source": [
        "### 2.2.4 Read a Network from a CSV File"
      ]
    },
    {
      "cell_type": "markdown",
      "metadata": {
        "id": "G6g2ysRB9pDa"
      },
      "source": [
        "Ideally, you would record a network in a file (using some popular data format,\n",
        "such as comma-separated values, or CSV). You would then write a program\n",
        "that reads the network data from the file and constructs a Graph object. NetworkX\n",
        "has an excellent collection of file readers and writers, but let’s pretend it does\n",
        "not and implement a CSV edge list reader. Our nutrients and foods are in the\n",
        "file **nutrients.csv**.\n",
        "\n",
        "Now, watch the magic of Python. It takes only three lines of code to open the\n",
        "edge list file, create a CSV reader for the file, and “suck” the list of pairs into\n",
        "the Graph constructor."
      ]
    },
    {
      "cell_type": "code",
      "metadata": {
        "id": "EcWfqp5tCbL2"
      },
      "source": [
        "# download the dataset\n",
        "!gdown https://drive.google.com/uc?id=17UpavC17C68CCCBC8bykPOGkgoyUyErY"
      ],
      "execution_count": null,
      "outputs": []
    },
    {
      "cell_type": "code",
      "metadata": {
        "id": "WFMC3GX792gO"
      },
      "source": [
        "import networkx as nx\n",
        "import matplotlib.pyplot as plt\n",
        "import csv\n",
        "\n",
        "csv_reader = csv.reader(open(\"nutrients.csv\"))\n",
        "G = nx.Graph(csv_reader)\n",
        "print(G.nodes())"
      ],
      "execution_count": null,
      "outputs": []
    },
    {
      "cell_type": "markdown",
      "metadata": {
        "id": "CVDJGdxO-MKP"
      },
      "source": [
        "The provided edge list in the file **nutrients.csv** has an intentional inconsistency:\n",
        "an edge that connects the node “tomatoes” with itself, a self-loop. You can\n",
        "remove the self-loops by first identifying them with [nx.selfloop_edges(G)](https://networkx.github.io/documentation/stable/reference/generated/networkx.classes.function.selfloop_edges.html) and then\n",
        "passing the loop edges to [G.remove_edges_from()](https://networkx.github.io/documentation/networkx-1.9/reference/generated/networkx.DiGraph.remove_edges_from.html?highlight=remove_edges_from#networkx.DiGraph.remove_edges_from):"
      ]
    },
    {
      "cell_type": "code",
      "metadata": {
        "id": "55HarMRJA4gu"
      },
      "source": [
        "loops = list(nx.selfloop_edges(G))\n",
        "loops"
      ],
      "execution_count": null,
      "outputs": []
    },
    {
      "cell_type": "code",
      "metadata": {
        "id": "mbCqgbU_BdWv"
      },
      "source": [
        "G.remove_edges_from(loops)\n",
        "list(nx.selfloop_edges(G)) # No more loops"
      ],
      "execution_count": null,
      "outputs": []
    },
    {
      "cell_type": "markdown",
      "metadata": {
        "id": "Il3lZsUkZAo7"
      },
      "source": [
        "**Exercise**\n",
        "\n",
        "1. Repeat the last exercice and find out the node in graph G with the largest number of neighbors.\n",
        "2. What is the average number of neigbors in graph G?"
      ]
    },
    {
      "cell_type": "code",
      "metadata": {
        "id": "dJniyvsqZmSG"
      },
      "source": [
        "# put your code here"
      ],
      "execution_count": null,
      "outputs": []
    },
    {
      "cell_type": "markdown",
      "metadata": {
        "id": "lUMFNidDFS1r"
      },
      "source": [
        "### 2.2.5 Relabel Nodes\n"
      ]
    },
    {
      "cell_type": "markdown",
      "metadata": {
        "id": "l1P47VdDFaiP"
      },
      "source": [
        "\n",
        "The network looks magnificent, but there is one more thing we can do to make\n",
        "it better: **capitalize all node names**. NetworkX provides method [nx.relabel_nodes()](https://networkx.github.io/documentation/networkx-1.10/reference/generated/networkx.relabel.relabel_nodes.html)\n",
        "that takes a graph and a dictionary of old and new labels and either creates\n",
        "a relabeled copy of the graph (copy=True, default) or modifies the graph in place\n",
        "(use the latter option if the graph is large and you don’t plan to keep the\n",
        "original graph). Each dictionary key must be an existing node label, but some\n",
        "labels may be missing. The respective nodes will not be relabeled.\n",
        "\n",
        "We will use dictionary comprehension to walk through all network nodes and\n",
        "convert those labeled with strings to the title case (capitalize the first letter\n",
        "of each word)."
      ]
    },
    {
      "cell_type": "code",
      "metadata": {
        "id": "oYuwv9iVG0qS"
      },
      "source": [
        "mapping = {node: node.title() for node in G if isinstance(node, str)}\n",
        "nx.relabel_nodes(G, mapping, copy=False)\n",
        "print(G.nodes())"
      ],
      "execution_count": null,
      "outputs": []
    },
    {
      "cell_type": "markdown",
      "metadata": {
        "id": "3BIsCi3BOW48"
      },
      "source": [
        "Note that G in the previous code fragment acts as a node iterator. In fact, G\n",
        "has some other dict() features. For example, you can use selection operator []\n",
        "to access the **edges incident to the node**, and their attributes:"
      ]
    },
    {
      "cell_type": "code",
      "metadata": {
        "id": "GND-eJy8HO0-"
      },
      "source": [
        "G[\"Zn\"]"
      ],
      "execution_count": null,
      "outputs": []
    },
    {
      "cell_type": "markdown",
      "metadata": {
        "id": "bNCCweIHNpiy"
      },
      "source": [
        "But wait, the network does not have any attributes yet. You may want to add them now."
      ]
    },
    {
      "cell_type": "markdown",
      "metadata": {
        "id": "8qgxxy7JOpab"
      },
      "source": [
        "## 2.3 Add Attributes\n"
      ]
    },
    {
      "cell_type": "markdown",
      "metadata": {
        "id": "x2St-ZuMPJS0"
      },
      "source": [
        "A **node** or **edge attribute** describes its **non-structural properties**. For example:\n",
        "\n",
        "- **Edge attributes** may represent weight, strength, or throughput.\n",
        "- **Node attributes** may represent edge, color, size, or gender.\n",
        "\n",
        "NetworkX provides mechanisms for setting, changing, and comparing attributes.\n",
        "An attribute is implemented as a dictionary associated with the node or edge.\n",
        "The dictionary keys are attribute names. As such, they must be immutable:\n",
        "int(), float(), bool(), str(), and so on. There are no limitations on the values. You\n",
        "can create a node whose attribute is the node itself, except that this exercise\n",
        "is utterly pointless. NetworkX offers three options for setting node and edge attributes.\n",
        "\n",
        "- Define attributes at the time of adding nodes or edges:"
      ]
    },
    {
      "cell_type": "code",
      "metadata": {
        "id": "KQ8dYCg2RaUI"
      },
      "source": [
        "G.add_node(\"Honey\", edible=True)\n",
        "G.add_nodes_from([(\"Steel\", {\"edible\" : False})])\n",
        "\n",
        "G.add_edge(\"Honey\", \"Steel\", weight=0.0)\n",
        "G.add_edges_from([(\"Honey\", \"Zn\")], related=False)"
      ],
      "execution_count": null,
      "outputs": []
    },
    {
      "cell_type": "code",
      "metadata": {
        "id": "ucxmzXunSLG5"
      },
      "source": [
        "G.nodes[\"Honey\"]"
      ],
      "execution_count": null,
      "outputs": []
    },
    {
      "cell_type": "code",
      "metadata": {
        "id": "4YZ_iHsfSO4x"
      },
      "source": [
        "G.nodes[\"Steel\"]"
      ],
      "execution_count": null,
      "outputs": []
    },
    {
      "cell_type": "code",
      "metadata": {
        "id": "AR-cZTwpSUCp"
      },
      "source": [
        "G.edges[\"Honey\",\"Steel\"]"
      ],
      "execution_count": null,
      "outputs": []
    },
    {
      "cell_type": "code",
      "metadata": {
        "id": "ChGfcCLQSezS"
      },
      "source": [
        "G.edges[\"Honey\",\"Zn\"]"
      ],
      "execution_count": null,
      "outputs": []
    },
    {
      "cell_type": "markdown",
      "metadata": {
        "id": "HnfyNd_GSjjZ"
      },
      "source": [
        "NetworkX and other CNA libraries consistently use edge attribute **\"weight\"** to\n",
        "denote edge strength. A graph whose edges have this attribute is called a **weighted graph**.\n",
        "There is a method [G.add_weighted_edges_from()](https://networkx.github.io/documentation/networkx-1.9/reference/generated/networkx.DiGraph.add_weighted_edges_from.html) for adding weighted edges."
      ]
    },
    {
      "cell_type": "code",
      "metadata": {
        "id": "4Z_EeCZVZgYc"
      },
      "source": [
        "G.add_weighted_edges_from([(\"Honey\", \"Zn\", 0.01),\n",
        "                           (\"Honey\", \"Sugar\", 0.99)])"
      ],
      "execution_count": null,
      "outputs": []
    },
    {
      "cell_type": "code",
      "metadata": {
        "id": "kQh9JSc-ZmDE"
      },
      "source": [
        "G.edges[\"Honey\",\"Zn\"]"
      ],
      "execution_count": null,
      "outputs": []
    },
    {
      "cell_type": "code",
      "metadata": {
        "id": "MFldw8AqZqUk"
      },
      "source": [
        "G.edges[\"Honey\",\"Sugar\"]"
      ],
      "execution_count": null,
      "outputs": []
    },
    {
      "cell_type": "markdown",
      "metadata": {
        "id": "a3dB2QL-Ztzs"
      },
      "source": [
        "- Define or change an attribute of individual existing nodes and edges\n",
        "directly through the dictionary interfaces G.node (indexed by node labels)\n",
        "and G.edge (double indexed by start and end node labels):"
      ]
    },
    {
      "cell_type": "code",
      "metadata": {
        "id": "2650YgwtaL0t"
      },
      "source": [
        "G.nodes[\"Zn\"][\"nutrient\"] = True # Zinc is a nutrient"
      ],
      "execution_count": null,
      "outputs": []
    },
    {
      "cell_type": "code",
      "metadata": {
        "id": "DugfzXSzaTee"
      },
      "source": [
        "G.nodes[\"Zn\"]"
      ],
      "execution_count": null,
      "outputs": []
    },
    {
      "cell_type": "code",
      "metadata": {
        "id": "DA9pPAy5ahjk"
      },
      "source": [
        "G.edges[\"Zn\",\"Beef\"][\"weight\"] = 0.95 # Zinc and beef are well connected"
      ],
      "execution_count": null,
      "outputs": []
    },
    {
      "cell_type": "code",
      "metadata": {
        "id": "8VutKdmvauOH"
      },
      "source": [
        "G.edges[\"Zn\",\"Beef\"]"
      ],
      "execution_count": null,
      "outputs": []
    },
    {
      "cell_type": "markdown",
      "metadata": {
        "id": "4jZ8fI16ayHP"
      },
      "source": [
        "The dictionary interface allows you to remove unwanted attributes:"
      ]
    },
    {
      "cell_type": "code",
      "metadata": {
        "id": "iGR-DnPna7Pf"
      },
      "source": [
        "del G.nodes[\"Zn\"][\"nutrient\"]\n",
        "\n",
        "G.nodes[\"Zn\"]"
      ],
      "execution_count": null,
      "outputs": []
    },
    {
      "cell_type": "code",
      "metadata": {
        "id": "Ko1MCJi1a_xP"
      },
      "source": [
        "del G.edges[\"Zn\",\"Beef\"][\"weight\"]\n",
        "G.edges[\"Zn\",\"Beef\"]"
      ],
      "execution_count": null,
      "outputs": []
    },
    {
      "cell_type": "markdown",
      "metadata": {
        "id": "MEgSrw3ebF3Y"
      },
      "source": [
        "- Define or change an attribute of existing nodes and edges by calling\n",
        "[nx.set_node_attributes()](https://networkx.github.io/documentation/stable/reference/generated/networkx.classes.function.set_node_attributes.html) or [nx.set_edge_attributes()](https://networkx.github.io/documentation/latest/reference/generated/networkx.classes.function.set_edge_attributes.html):\n",
        "\n",
        "\n",
        "```python\n",
        "nx.set_node_attributes(G, node_dict,att_name)\n",
        "nx.set_edge_attributes(G, edge_dict, att_name)\n",
        "```\n",
        "\n",
        "Here, **att_name** is the name of the affected attribute, **node_dict/edge_dict** is a dictionary\n",
        "whose keys are existing node labels or edge pairs, and values are\n",
        "attribute values for the respective nodes/edges. If the attribute doesn’t exist\n",
        "yet, it’s created; otherwise, the value of the existing attribute is changed. If\n",
        "a key isn’t a node label or edge pair, the methods raise a **KeyError exception**."
      ]
    },
    {
      "cell_type": "code",
      "metadata": {
        "id": "NonqSkg7dF-q"
      },
      "source": [
        "nutrients = set((\"B12\", \"Zn\", \"D\", \"B6\",\n",
        "                 \"A\", \"Se\", \"Cu\", \"Folates\",\n",
        "                 \"Ca\", \"Mn\", \"Thiamin\", \"Riboflavin\",\n",
        "                 \"C\", \"E\", \"Niacin\", \"Mg\", \"Starch\",\"Na\"))\n",
        "\n",
        "nutrient_dict = {node: (node in nutrients) for node in G}\n",
        "nx.set_node_attributes(G, nutrient_dict, \"nutrient\")"
      ],
      "execution_count": null,
      "outputs": []
    },
    {
      "cell_type": "code",
      "metadata": {
        "id": "fxhtRisperUt"
      },
      "source": [
        "G.nodes(data=True)"
      ],
      "execution_count": null,
      "outputs": []
    },
    {
      "cell_type": "markdown",
      "metadata": {
        "id": "A0FOunGaaxgY"
      },
      "source": [
        "**Exercise**\n",
        "\n",
        "1. Use the nx.set_node_attributes() to create two new attributes for all nodes:\n",
        "  - neigh_size: the number of neighbor\n",
        "  - id_node: identification number of node (starts with the value zero)"
      ]
    },
    {
      "cell_type": "code",
      "metadata": {
        "id": "lNVRF_w9bacZ"
      },
      "source": [
        "# put your code here"
      ],
      "execution_count": null,
      "outputs": []
    },
    {
      "cell_type": "markdown",
      "metadata": {
        "id": "V--u3kkriMnq"
      },
      "source": [
        "## 2.4 Visualize a Network with Matplotlib"
      ]
    },
    {
      "cell_type": "markdown",
      "metadata": {
        "id": "57DMraqgjA6f"
      },
      "source": [
        "NetworkX is not aesthetically the best library for network\n",
        "visualization. In fact, it does not even do visualization on its\n",
        "own but uses [services rendered by Matplotlib](https://networkx.github.io/documentation/latest/reference/drawing.html), a multipurpose\n",
        "graphics library. Luckily, the team of NetworkX and Matplotlib\n",
        "is fast and easy to understand, and the interaction with Matplotlib is well hidden\n",
        "from the network analyst; you do not need to learn yet another library—but\n",
        "still, you need to import it."
      ]
    },
    {
      "cell_type": "code",
      "metadata": {
        "id": "zeLSQW6vjCfU"
      },
      "source": [
        "import matplotlib.pyplot as plt"
      ],
      "execution_count": null,
      "outputs": []
    },
    {
      "cell_type": "markdown",
      "metadata": {
        "id": "DjKlr4qGjEH7"
      },
      "source": [
        "The process of network visualization consists of two phases: **layout** and **rendering**.\n",
        "\n",
        "At the layout phase, the software selects geometric positions of each node according to a layout algorithm.\n",
        "NetworkX supports a variety of layout algorithms. You can choose one of them, based on your aesthetic preferences and your network’s aesthetic propensity.\n",
        "\n",
        "For each algorithm, NetworkX has a proper layout function that takes the graph\n",
        "to plot and returns a dictionary of node positions (to be used at the rendering\n",
        "phase), and an all-in-one function that does both layout and rendering."
      ]
    },
    {
      "cell_type": "code",
      "metadata": {
        "id": "1tQ44uvIluCp"
      },
      "source": [
        "# Prepare for drawing\n",
        "colors = [\"blue\" if n[1][\"nutrient\"] else \"red\" for n in G.nodes(data=True)]"
      ],
      "execution_count": null,
      "outputs": []
    },
    {
      "cell_type": "code",
      "metadata": {
        "id": "eqAPbHcHqjr5"
      },
      "source": [
        "import matplotlib.pyplot as plt\n",
        "from matplotlib.lines import Line2D\n",
        "\n",
        "fig, plot = plt.subplots(2, 2,figsize=(15,10))\n",
        "subplots = plot.reshape(1, 4)[0]\n",
        "\n",
        "layouts = (nx.random_layout, nx.circular_layout, nx.spring_layout,nx.spectral_layout)\n",
        "titles = (\"Random\", \"Circular\", \"Spring\", \"Spectral\")\n",
        "\n",
        "for plot, layout, title in zip(subplots, layouts, titles):\n",
        "  pos = layout(G)\n",
        "  nx.draw_networkx(G, pos=pos, ax=plot, with_labels=False,node_color=colors)\n",
        "  plot.set_title(title)\n",
        "  plot.axis(\"off\")\n",
        "  # advanced manual configuration for legend\n",
        "  legend_elements = [\n",
        "      Line2D([0], [0], marker='o', color='w',\n",
        "             label='Nutrient',markerfacecolor='b', markersize=15),\n",
        "      Line2D([0], [0], marker='o', color='w',\n",
        "             label='Food',markerfacecolor='r', markersize=15)\n",
        "  ]\n",
        "  if title == \"Spectral\":\n",
        "    plot.legend(handles=legend_elements, loc='lower right')\n",
        "\n",
        "\n",
        "plt.show()"
      ],
      "execution_count": null,
      "outputs": []
    },
    {
      "cell_type": "markdown",
      "metadata": {
        "id": "WsW9DiJ-u2Xu"
      },
      "source": [
        "For most complex networks, the spring layout (the default layout for\n",
        "**nx.draw_networkx()**) produces the most pleasing output."
      ]
    },
    {
      "cell_type": "markdown",
      "metadata": {
        "id": "aemL2FOkD3Si"
      },
      "source": [
        "**Exercise**\n",
        "\n",
        "1. Create a visualization of graph G using matplotlib with the following features:\n",
        "  - spring layout\n",
        "  - the node size must be proportional to number of neighbors (tip: change the node_size parameter in the nx.draw_networkx() function)."
      ]
    },
    {
      "cell_type": "code",
      "metadata": {
        "id": "2YyH3EOHEvaH"
      },
      "source": [
        "# put your code here"
      ],
      "execution_count": null,
      "outputs": []
    },
    {
      "cell_type": "markdown",
      "metadata": {
        "id": "ldvOb67QIY0n"
      },
      "source": [
        "## 2.5 Visualize a Network with nxviz"
      ]
    },
    {
      "cell_type": "markdown",
      "metadata": {
        "id": "PJcyaATiIdrb"
      },
      "source": [
        "[nxviz](https://github.com/ericmjl/nxviz) is a graph visualization package in a rational fashion for NetworkX. With nxviz, you can create beautiful graph visualizations by a declarative API."
      ]
    },
    {
      "cell_type": "code",
      "metadata": {
        "id": "gVGX2rFqKEau"
      },
      "source": [
        "import nxviz as nv"
      ],
      "execution_count": null,
      "outputs": []
    },
    {
      "cell_type": "markdown",
      "metadata": {
        "id": "YZ74b-QML5pS"
      },
      "source": [
        "### 2.5.1 Visualizing using Matrix plots"
      ]
    },
    {
      "cell_type": "markdown",
      "source": [
        "This code is a Python script that visualizes a graph G using the **nxviz** library, which is built on top of matplotlib. The visualization method used is the matrix plot, and it sorts and groups the nodes by a ``nutrient`` attribute. Additionally, it highlights specific nodes, rows, and edges of the matrix."
      ],
      "metadata": {
        "id": "G7n-6pffbL7r"
      }
    },
    {
      "cell_type": "code",
      "metadata": {
        "id": "j81UUq69MNku"
      },
      "source": [
        "# Import the required libraries\n",
        "# Import matplotlib\n",
        "import matplotlib.pyplot as plt\n",
        "from nxviz import annotate, highlights\n",
        "from random import choice\n",
        "\n",
        "# Import nxviz\n",
        "import nxviz as nv\n",
        "\n",
        "# Create a matrix plot of the graph G, sorting\n",
        "# and coloring the nodes by the \"nutrient\" attribute\n",
        "ax = nv.matrix(G, sort_by=\"nutrient\", node_color_by=\"nutrient\")\n",
        "\n",
        "# Annotate the matrix by drawing lines separating the groups\n",
        "# and blocks defined by the \"nutrient\" attribute:\n",
        "annotate.matrix_group(G, group_by=\"nutrient\")\n",
        "annotate.matrix_block(G, group_by=\"nutrient\", color_by=\"nutrient\", alpha=0.1)\n",
        "\n",
        "# Randomly select an edge from the graph G\n",
        "u, v = choice(list(G.edges()))\n",
        "\n",
        "# Highlight the nodes u and v in the matrix plot, with v highlighted in blue\n",
        "highlights.matrix_node(G, u, group_by=\"nutrient\", sort_by=\"nutrient\")\n",
        "highlights.matrix_node(G, v, group_by=\"nutrient\", sort_by=\"nutrient\", color=\"blue\")\n",
        "\n",
        "# Highlight the rows corresponding to nodes u and v\n",
        "# in the matrix plot, with the row for v highlighted in blue:\n",
        "highlights.matrix_row(G, u, group_by=\"nutrient\", sort_by=\"nutrient\")\n",
        "highlights.matrix_row(G, v, group_by=\"nutrient\", sort_by=\"nutrient\", axis=\"y\", color=\"blue\")\n",
        "\n",
        "# Highlight the edge between nodes u and v in the matrix plot\n",
        "highlights.matrix_edge(G, u, v, group_by=\"nutrient\", sort_by=\"nutrient\")"
      ],
      "execution_count": null,
      "outputs": []
    },
    {
      "cell_type": "code",
      "source": [
        "from nxviz.utils import edge_table, node_table\n",
        "edge_table(G)"
      ],
      "metadata": {
        "id": "ybACIdZXLEtQ"
      },
      "execution_count": null,
      "outputs": []
    },
    {
      "cell_type": "code",
      "source": [
        "node_table(G)"
      ],
      "metadata": {
        "id": "fQGE-_-lLj_E"
      },
      "execution_count": null,
      "outputs": []
    },
    {
      "cell_type": "code",
      "metadata": {
        "id": "whonm5EsMrSa"
      },
      "source": [
        "import sys\n",
        "import numpy as np\n",
        "np.set_printoptions(threshold=sys.maxsize)\n",
        "\n",
        "# Convert G to a matrix format: A\n",
        "A = nx.to_numpy_array(G)\n",
        "\n",
        "# note some edges have weights different of 1\n",
        "print(A)"
      ],
      "execution_count": null,
      "outputs": []
    },
    {
      "cell_type": "markdown",
      "metadata": {
        "id": "0ctbM2e3OSZ6"
      },
      "source": [
        "### 2.5.2 Visualizing using Circos plots\n"
      ]
    },
    {
      "cell_type": "markdown",
      "metadata": {
        "id": "i7B5c6dkOVbH"
      },
      "source": [
        "\n",
        "**Circos plots** are a rational, non-cluttered way of visualizing graph data, in which nodes are ordered around the circumference in some fashion, and the edges are drawn within the circle that results, giving a beautiful as well as informative visualization about the structure of the network.\n",
        "\n",
        "This visualization helps us **highlight nodes that there are poorly connected**, and others that are **strongly connected**.\n"
      ]
    },
    {
      "cell_type": "code",
      "source": [
        "ax = nv.circos(G,\n",
        "               group_by=\"nutrient\",\n",
        "               node_color_by=\"nutrient\",\n",
        "               #edge_alpha_by=\"edge_value\"\n",
        ")\n",
        "annotate.circos_group(G, group_by=\"nutrient\")\n",
        "\n",
        "# # Randomly select an edge from the graph G\n",
        "u, v = choice(list(G.edges()))\n",
        "\n",
        "highlights.circos_edge(G, u, v, group_by=\"nutrient\")\n",
        "highlights.circos_node(G, u, group_by=\"nutrient\")\n",
        "highlights.circos_node(G, v, group_by=\"nutrient\", color=\"blue\")"
      ],
      "metadata": {
        "id": "I9FIoe_ub3T4"
      },
      "execution_count": null,
      "outputs": []
    },
    {
      "cell_type": "markdown",
      "metadata": {
        "id": "h_hXVutYSJBn"
      },
      "source": [
        "### 2.5.3 Visualizing using Arc plots\n"
      ]
    },
    {
      "cell_type": "markdown",
      "metadata": {
        "id": "20vxh5BVaO5S"
      },
      "source": [
        "\n",
        "Following on what you've learned about the nxviz API, now try making an ArcPlot of the network."
      ]
    },
    {
      "cell_type": "code",
      "source": [
        "ax = nv.arc(\n",
        "    G, group_by=\"nutrient\", node_color_by=\"nutrient\"#, edge_alpha_by=\"edge_value\"\n",
        ")\n",
        "\n",
        "annotate.arc_group(G, group_by=\"nutrient\", ha=\"center\", rotation=0)\n",
        "highlights.arc_node(G, u, group_by=\"nutrient\")\n",
        "highlights.arc_node(G, v, group_by=\"nutrient\")\n",
        "highlights.arc_edge(G, source=u, target=v, group_by=\"nutrient\")"
      ],
      "metadata": {
        "id": "3vJGXPPcfAa2"
      },
      "execution_count": null,
      "outputs": []
    },
    {
      "cell_type": "markdown",
      "source": [
        "### 2.5.4 Visualizing using Hive Plots"
      ],
      "metadata": {
        "id": "vRyl9cxanTz0"
      }
    },
    {
      "cell_type": "markdown",
      "source": [
        "Hive plots are designed to show two or three groups of nodes and their connections. They aren't designed to do more than three groups because of geometric constraints. That said, we can work around this constraint by extracting triplet subgroups of nodes, thus building a hive panel."
      ],
      "metadata": {
        "id": "mi_2Dv16ntzL"
      }
    },
    {
      "cell_type": "code",
      "source": [
        "ax = nv.hive(G, group_by=\"nutrient\", node_color_by=\"nutrient\")\n",
        "annotate.hive_group(G, group_by=\"nutrient\")\n",
        "highlights.hive_node(G, u, group_by=\"nutrient\")\n",
        "highlights.hive_node(G, v, group_by=\"nutrient\")\n",
        "highlights.hive_edge(G, u, v, group_by=\"nutrient\")"
      ],
      "metadata": {
        "id": "S_CO8_UlnbAE"
      },
      "execution_count": null,
      "outputs": []
    },
    {
      "cell_type": "markdown",
      "metadata": {
        "id": "Fw1lbl7Z_Sh9"
      },
      "source": [
        "## 2.6 Share and Preserve Networks"
      ]
    },
    {
      "cell_type": "markdown",
      "metadata": {
        "id": "pude4r-__eJC"
      },
      "source": [
        "### 2.6.1 Export and import networks"
      ]
    },
    {
      "cell_type": "markdown",
      "metadata": {
        "id": "a_mMRVtS_am5"
      },
      "source": [
        "At this point, you must be very proud of the job well done. The network of\n",
        "foods and nutrients has been extracted, constructed, and visualized. **It’s time\n",
        "to save it into a file**, and there are several compelling reasons for doing so:\n",
        "\n",
        "- You may want to get a better network visualization of the network with\n",
        "[Gephi](https://gephi.org/). The only way for NetworkX to pass the network to Gephi is via a file. <font color=\"red\">By the way, we will see Gephi later in this course. Dont worry for now.</font>\n",
        "- Sharing the network with the fellow researchers is priceless, but they\n",
        "want a file with the live network edges and nodes, not a still image.\n",
        "\n",
        "NetworkX supports many popular file formats suitable for interchanging network\n",
        "data with other software."
      ]
    },
    {
      "cell_type": "markdown",
      "metadata": {
        "id": "vl8UDr-BACKi"
      },
      "source": [
        "Any NetworkX network can be exported to or imported from files (serialized and\n",
        "de-serialized) in the formats shown in the following table. All nx.read___() functions\n",
        "take the name of an existing file or an open file handle and return a\n",
        "Graph object. All nx.write___() functions take a Graph object and the name of an\n",
        "existing file or an open file handle. Files with names ending in .gz or .bz2 are\n",
        "automatically compressed or uncompressed. Some functions require that the\n",
        "files be opened in the binary mode.\n",
        "\n",
        "\n",
        "| Format                    | Attributes | Reader             | Writer              | Supported by Gephi? |\n",
        "|---------------------------|------------|--------------------|---------------------|---------------------|\n",
        "| Adjacency list            | Not stored | nx.read_adjlist()  | nx.write_adjlist()  | Yes                 |\n",
        "| Edge list                 | Not stored | nx.read_edgelist() | nx_write_edgelist() | Yes                 |\n",
        "| Graph exchange XML format | Stored     | nx.read_gexf()     | nx.write_gexf()     | Yes                 |\n",
        "| Graph modeling language   | Stored     | nx.read_gml()      | nx.write_gml()      | w/o attributes      |\n",
        "| GraphML                   | Stored     | nx.read_graphml()  | nx.write_graphml()  | Yes                 |\n",
        "| Pajek NET                 | Not stored | nx.read_pajek()    | nx.write_pajek()    | Yes                 |\n",
        "| Pickle                    | Stored     | nx.read_gpickle()  | nx.write_gpickle()  | No                  |\n",
        "| YAML                      | Stored     | nx.read_yaml()     | nx.write_yaml()     | No                  |\n",
        "\n",
        "As an example, let’s export the G network as a GraphML file.\n",
        "GraphML is one of the best interchange format between NetworkX and Gephi."
      ]
    },
    {
      "cell_type": "code",
      "metadata": {
        "id": "1n-kzW0-AIX6"
      },
      "source": [
        "nx.write_graphml(G, \"nutrients.graphml\")"
      ],
      "execution_count": null,
      "outputs": []
    }
  ]
}