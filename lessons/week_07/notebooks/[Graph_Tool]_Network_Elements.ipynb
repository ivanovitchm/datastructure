{
  "nbformat": 4,
  "nbformat_minor": 0,
  "metadata": {
    "colab": {
      "provenance": [],
      "machine_shape": "hm"
    },
    "kernelspec": {
      "name": "python3",
      "display_name": "Python 3"
    },
    "language_info": {
      "name": "python"
    }
  },
  "cells": [
    {
      "cell_type": "markdown",
      "metadata": {
        "id": "1TARmSpAb3kf"
      },
      "source": [
        "# Introduction"
      ]
    },
    {
      "cell_type": "markdown",
      "metadata": {
        "id": "N_Ot13Qv9Bhd"
      },
      "source": [
        "\n",
        "You can use **Graph-Tool** to construct and draw graphs that are undirected or directed, with weighted or unweighted edges. An array of functions to analyze graphs is available. This tutorial takes you through a few basic examples and exercises.\n",
        "\n",
        "Note that many exercises are followed by a block with some `assert` statements. These assertions may be preceded by some setup code. They are provided to give you feedback that you are on the right path -- receiving an `AssertionError` probably means you've done something wrong.\n",
        "\n",
        "## Official documentation for version used in this tutorial\n",
        "\n",
        "https://graph-tool.skewed.de/\n",
        "\n",
        "## Official tutorial for version used in this tutorial\n",
        "\n",
        "https://graph-tool.skewed.de/static/doc/quickstart.html"
      ]
    },
    {
      "cell_type": "markdown",
      "metadata": {
        "id": "kI0H0lsu_hYS"
      },
      "source": [
        "# Installing graph-tool \n",
        "\n",
        "---\n",
        "\n",
        "\n",
        "To import a library that's not in Colaboratory by default, you can use `!apt-get install`.\n",
        "\n",
        "But since graph-tool is not in the official repository, we need to add it to the list."
      ]
    },
    {
      "cell_type": "code",
      "metadata": {
        "id": "T3Plck1avpEb"
      },
      "source": [
        "!apt-get install libcairo2-dev \n",
        "!pip install pycairo"
      ],
      "execution_count": null,
      "outputs": []
    },
    {
      "cell_type": "code",
      "metadata": {
        "id": "o-TxNyNd_r9N"
      },
      "source": [
        "!sudo echo \"deb http://downloads.skewed.de/apt bionic main\" >> /etc/apt/sources.list\n",
        "!sudo apt-key adv --keyserver keys.openpgp.org --recv-key 612DEFB798507F25\n",
        "!sudo apt-get update\n",
        "!sudo apt-get install python3-graph-tool python3-matplotlib\n",
        "#!sudo ln -s /usr/lib/python3/dist-packages/gi/_gi.cpython-{36m,37m}-x86_64-linux-gnu.so"
      ],
      "execution_count": null,
      "outputs": []
    },
    {
      "cell_type": "code",
      "metadata": {
        "id": "PehqrmrF_xja"
      },
      "source": [
        "# Only for validation purposes\n",
        "from graph_tool.all import *\n",
        "\n",
        "g = collection.data[\"celegansneural\"]\n",
        "state = minimize_nested_blockmodel_dl(g)"
      ],
      "execution_count": null,
      "outputs": []
    },
    {
      "cell_type": "code",
      "metadata": {
        "id": "n06YoYy7AEUe"
      },
      "source": [
        "state.draw()"
      ],
      "execution_count": null,
      "outputs": []
    },
    {
      "cell_type": "markdown",
      "metadata": {
        "id": "MyLeqcSLmgm8"
      },
      "source": [
        "# The `import` statement\n"
      ]
    },
    {
      "cell_type": "markdown",
      "metadata": {
        "id": "k4gPM3vy9UMs"
      },
      "source": [
        "\n",
        "Recall that `import` statements go at the top of your code, telling Python to load an external module. In this case we want to load Graph-Tool, but give it a short alias `gt` since we'll have to type it repeatedly, hence the `as` statement.\n",
        "\n",
        "Lines starting with the `%` character are not Python code, they are \"magic\" directives for Jupyter notebook. The `%matplotlib inline` magic tells Jupyter Notebook to draw graphics inline i.e. in the notebook. This magic should be used right after the import statement."
      ]
    },
    {
      "cell_type": "code",
      "metadata": {
        "id": "Qwj-Cuetmgm8"
      },
      "source": [
        "import matplotlib.pyplot as plt\n",
        "from IPython.display import Image, display\n",
        "import graph_tool as gt\n",
        "%matplotlib inline"
      ],
      "execution_count": null,
      "outputs": []
    },
    {
      "cell_type": "markdown",
      "metadata": {
        "id": "S5e8Cvwbmgm8"
      },
      "source": [
        "Let's check the installed version of Graph-Tool. "
      ]
    },
    {
      "cell_type": "code",
      "metadata": {
        "id": "NDm6CKkImgm9"
      },
      "source": [
        "gt.__version__"
      ],
      "execution_count": null,
      "outputs": []
    },
    {
      "cell_type": "markdown",
      "metadata": {
        "id": "qh0OemKjmgm9"
      },
      "source": [
        "# Creating and drawing undirected graphs"
      ]
    },
    {
      "cell_type": "code",
      "metadata": {
        "id": "1BdMp1Q5eEpb"
      },
      "source": [
        "# create an undirected graph\n",
        "g = gt.Graph(directed=False)"
      ],
      "execution_count": null,
      "outputs": []
    },
    {
      "cell_type": "markdown",
      "metadata": {
        "id": "njY9MDekev40"
      },
      "source": [
        "Once a graph is created, it can be populated with vertices and edges. A vertex can be added with the **add_vertex()** method, which returns an instance of a Vertex class, also called a vertex descriptor. Edges can be added in an analogous manner, by calling the **add_edge()** method, which returns an edge descriptor (an instance of the Edge class)."
      ]
    },
    {
      "cell_type": "code",
      "metadata": {
        "id": "qCkxRZOTfL4m"
      },
      "source": [
        "# add two vertex to the graph\n",
        "v1 = g.add_vertex(n=1)\n",
        "v2 = g.add_vertex(n=1)\n",
        "\n",
        "#add the property to vertex object\n",
        "vprop = g.new_vertex_property(\"string\")\n",
        "\n",
        "#set the value to the vertex property\n",
        "vprop[v1] = \"a\" #here you set text to v1 property\n",
        "vprop[v2] = \"b\" #here you set text to v2 property\n",
        "\n",
        "#assign properties as a dic value\n",
        "g.vertex_properties[\"name\"]=vprop \n",
        "\n",
        "#add edge\n",
        "g.add_edge(v1,v2) #add an edge \n",
        "\n",
        "#draw you graph\n",
        "gt.draw.graph_draw(g,\n",
        "                   vertex_text=g.vertex_properties[\"name\"],\n",
        "                   vertex_font_size=10, \n",
        "                   output_size=(100, 100),\n",
        "                   output=\"test.png\")"
      ],
      "execution_count": null,
      "outputs": []
    },
    {
      "cell_type": "code",
      "metadata": {
        "id": "DKJZpaSGfUhp"
      },
      "source": [
        "display(Image('test.png'))"
      ],
      "execution_count": null,
      "outputs": []
    },
    {
      "cell_type": "code",
      "metadata": {
        "id": "CgzmG84pN6kv"
      },
      "source": [
        "# add two vertexes\n",
        "g.add_vertex(n=2)\n",
        "\n",
        "# vp means vertexe property, name is the attribute created\n",
        "g.vp.name[2] = \"c\"\n",
        "g.vp.name[3] = \"d\"\n",
        "\n",
        "#add edge\n",
        "g.add_edge(g.vertex(0),g.vertex(2)) #add an edge A-C\n",
        "g.add_edge(g.vertex(2),g.vertex(3)) #add an edge C-D\n",
        "g.add_edge(gt.util.find_vertex(g,vprop,'b')[0],\n",
        "           gt.util.find_vertex(g,vprop,'c')[0]) #add an edge B-C\n",
        "\n",
        "#draw you graph\n",
        "gt.draw.graph_draw(g,\n",
        "                   vertex_text=g.vertex_properties[\"name\"],\n",
        "                   vertex_font_size=10, \n",
        "                   output_size=(100, 100),\n",
        "                   output=\"test.png\")"
      ],
      "execution_count": null,
      "outputs": []
    },
    {
      "cell_type": "code",
      "metadata": {
        "id": "kIksCUFsP7jE"
      },
      "source": [
        "display(Image('test.png'))"
      ],
      "execution_count": null,
      "outputs": []
    },
    {
      "cell_type": "code",
      "metadata": {
        "id": "ieEgKryyVJUa"
      },
      "source": [
        "# create list of edges, in this case (D,B) and (D,A)\n",
        "edge_list = [(gt.util.find_vertex(g,vprop,'d')[0],gt.util.find_vertex(g,vprop,'b')[0]),\n",
        "             (gt.util.find_vertex(g,vprop,'d')[0],gt.util.find_vertex(g,vprop,'a')[0])]\n",
        "\n",
        "# add them to the graph\n",
        "g.add_edge_list(edge_list)\n",
        "\n",
        "#draw you graph\n",
        "gt.draw.graph_draw(g,\n",
        "                   vertex_text=g.vertex_properties[\"name\"],\n",
        "                   vertex_font_size=10, \n",
        "                   output_size=(100, 100),\n",
        "                   output=\"test.png\")"
      ],
      "execution_count": null,
      "outputs": []
    },
    {
      "cell_type": "code",
      "metadata": {
        "id": "-de2jhXeV2UO"
      },
      "source": [
        "display(Image('test.png'))"
      ],
      "execution_count": null,
      "outputs": []
    },
    {
      "cell_type": "markdown",
      "metadata": {
        "id": "4bPMI-u5mgm-"
      },
      "source": [
        "# Graph methods\n",
        "\n",
        "The graph object has some properties and methods giving data about the whole graph."
      ]
    },
    {
      "cell_type": "code",
      "metadata": {
        "id": "ERBk73jVmgm-"
      },
      "source": [
        "# List all of the vertices\n",
        "list(g.vertices())"
      ],
      "execution_count": null,
      "outputs": []
    },
    {
      "cell_type": "code",
      "metadata": {
        "id": "IDcmP9uSXtDl"
      },
      "source": [
        "# show name.property of the vertices\n",
        "for v in g.vertices():\n",
        "  print(g.vp.name[v])"
      ],
      "execution_count": null,
      "outputs": []
    },
    {
      "cell_type": "code",
      "metadata": {
        "id": "-28h383Cmgm-"
      },
      "source": [
        "# List all of the edges\n",
        "list(g.edges())"
      ],
      "execution_count": null,
      "outputs": []
    },
    {
      "cell_type": "code",
      "metadata": {
        "id": "fliXUHIPYK9U"
      },
      "source": [
        "# show edges by index\n",
        "for e in g.edges():\n",
        "  print(\"Source: {}, Target: {}\".format(e.source(),e.target()))"
      ],
      "execution_count": null,
      "outputs": []
    },
    {
      "cell_type": "code",
      "metadata": {
        "id": "orovTXySZR8s"
      },
      "source": [
        "# show edges by name\n",
        "for e in g.edges():\n",
        "  print(\"Source: {}, Target: {}\".format(g.vp.name[e.source()],\n",
        "                                        g.vp.name[e.target()]))"
      ],
      "execution_count": null,
      "outputs": []
    },
    {
      "cell_type": "code",
      "metadata": {
        "id": "bQ9FluxwZtoA"
      },
      "source": [
        "# number of edges in Graph\n",
        "g.num_edges()"
      ],
      "execution_count": null,
      "outputs": []
    },
    {
      "cell_type": "code",
      "metadata": {
        "id": "rFuhtVmNZ5L9"
      },
      "source": [
        "# number of vertices in Graph\n",
        "g.num_vertices()"
      ],
      "execution_count": null,
      "outputs": []
    },
    {
      "cell_type": "code",
      "metadata": {
        "id": "m8UYpD1naM_M"
      },
      "source": [
        "# get all neibhbors from a vertice by index\n",
        "g.get_all_neighbors(0)"
      ],
      "execution_count": null,
      "outputs": []
    },
    {
      "cell_type": "code",
      "metadata": {
        "id": "4GJzewIUakgR"
      },
      "source": [
        "# get all neighbors from a vertice by name.property\n",
        "g.get_all_neighbors(gt.util.find_vertex(g,vprop,'a')[0])"
      ],
      "execution_count": null,
      "outputs": []
    },
    {
      "cell_type": "code",
      "metadata": {
        "id": "JkEU0Fn8cvNX"
      },
      "source": [
        "# Verify if a vertice is in the Graph by index\n",
        "2 in g.vertices()"
      ],
      "execution_count": null,
      "outputs": []
    },
    {
      "cell_type": "code",
      "metadata": {
        "id": "L1gSEoYqe35U"
      },
      "source": [
        "# Verify if a vertice is in the Graph by name.property\n",
        "'z' in [g.vp.name[v] for v in g.vertices()]"
      ],
      "execution_count": null,
      "outputs": []
    },
    {
      "cell_type": "code",
      "metadata": {
        "id": "olMIacz1f0So"
      },
      "source": [
        "# Verify if a edge (0,2) or (2,0) exist\n",
        "2 in (g.get_all_neighbors(0))"
      ],
      "execution_count": null,
      "outputs": []
    },
    {
      "cell_type": "code",
      "metadata": {
        "id": "ziaAYoxuiprR"
      },
      "source": [
        "# get total degree of a list of vertices\n",
        "g.get_total_degrees([0,1,2,3])"
      ],
      "execution_count": null,
      "outputs": []
    },
    {
      "cell_type": "markdown",
      "metadata": {
        "id": "OEbvlDyImgnB"
      },
      "source": [
        "# EXERCISE 1\n",
        "\n"
      ]
    },
    {
      "cell_type": "markdown",
      "metadata": {
        "id": "SuO9vOYd9gFV"
      },
      "source": [
        "\n",
        "Often in the context of trees, a node with degree 1 is called a *leaf*. Write a function named `get_leaves` that takes a graph as an argument, loops through the nodes, and returns a list of nodes with degree 1."
      ]
    },
    {
      "cell_type": "code",
      "metadata": {
        "scrolled": true,
        "id": "FlGKqf0MmgnB"
      },
      "source": [
        "import numpy as np\n",
        "\n",
        "def get_leaves(G):\n",
        "  # PUT YOUR CODE HERE"
      ],
      "execution_count": null,
      "outputs": []
    },
    {
      "cell_type": "code",
      "metadata": {
        "scrolled": true,
        "id": "mVBLr5_xmgnB"
      },
      "source": [
        "# create an undirected graph\n",
        "g = gt.Graph(directed=False)\n",
        "g.add_edge_list([(0, 1),\n",
        "                 (0, 3),\n",
        "                 (2, 3)])\n",
        "assert set(get_leaves(g)) == {2, 1}"
      ],
      "execution_count": null,
      "outputs": []
    },
    {
      "cell_type": "markdown",
      "metadata": {
        "id": "np4_nOMVmgnC"
      },
      "source": [
        "# Adjacency lists\n"
      ]
    },
    {
      "cell_type": "markdown",
      "metadata": {
        "id": "Fi2GXDKb9k8N"
      },
      "source": [
        "\n",
        "One compact way to represent a graph is an adjacency list. This is most useful for unweighted graphs, directed or undirected. In an adjacency list, each line contains some number of node names. The first node name is the \"source\" and each other node name on the line is a \"target\". For instance, given the following adjacency list:\n",
        "```\n",
        "a d e\n",
        "b c\n",
        "c\n",
        "d\n",
        "e\n",
        "```\n",
        "the edges are as follows:\n",
        "```\n",
        "(a, d)\n",
        "(a, e)\n",
        "(b, c)\n",
        "```\n",
        "The nodes on their own line exist so that we are sure to include any singleton nodes. Note that if our graph is undirected, we only need to specify one direction for each edge. Importantly, whether the graph is directed or undirected is often not contained in the file itself -- you have to infer it. This is one limitation of the format.\n",
        "\n",
        "In the `datasets` directory, there is a file called `friends.adjlist`. It's a plain text file, so you can open it on your computer or in GitHub, but here are its contents:"
      ]
    },
    {
      "cell_type": "code",
      "metadata": {
        "id": "Yet6Ll9wmgnD"
      },
      "source": [
        "print(open('friends.adjlist').read())"
      ],
      "execution_count": null,
      "outputs": []
    },
    {
      "cell_type": "markdown",
      "metadata": {
        "id": "TcYdyCnEmgnD"
      },
      "source": [
        "# EXERCISE 2\n"
      ]
    },
    {
      "cell_type": "markdown",
      "metadata": {
        "id": "MsE6DTbI9m4t"
      },
      "source": [
        "\n",
        "Write a function max_degree that takes an adjacency list as parameter and returns a 2-tuple with the name and degree of the node with highest degree."
      ]
    },
    {
      "cell_type": "code",
      "metadata": {
        "scrolled": false,
        "id": "DLufczZQmgnD"
      },
      "source": [
        "def max_degree(adjlist):\n",
        "    # PUT YOUR CODE HERE"
      ],
      "execution_count": null,
      "outputs": []
    },
    {
      "cell_type": "code",
      "metadata": {
        "scrolled": false,
        "id": "aEQapPYNmgnD"
      },
      "source": [
        "assert max_degree(\"friends.adjlist\") == ('Claire', 4)"
      ],
      "execution_count": null,
      "outputs": []
    },
    {
      "cell_type": "markdown",
      "metadata": {
        "id": "MCDbNldnmgnD"
      },
      "source": [
        "# EXERCISE 3\n"
      ]
    },
    {
      "cell_type": "markdown",
      "metadata": {
        "id": "RWup3uDm9n5I"
      },
      "source": [
        "\n",
        "Write a function `mutual_friends` that takes an adjacency list and two nodes as arguments, and returns a list (or set) of nodes that are linked to both given nodes. For example,\n",
        "\n",
        "    mutual_friends('friends.adjlist', 'Alice', 'Claire') == ['Frank']\n",
        "\n",
        "an empty list or set should be returned in the case where two nodes have no mutual friends."
      ]
    },
    {
      "cell_type": "code",
      "metadata": {
        "scrolled": false,
        "id": "hpnX9YeKmgnD"
      },
      "source": [
        "def mutual_friends(adjacency_list, node_1, node_2):\n",
        "  # PUT YOUR CODE HERE"
      ],
      "execution_count": null,
      "outputs": []
    },
    {
      "cell_type": "code",
      "metadata": {
        "scrolled": true,
        "id": "B2n0vCRYmgnE"
      },
      "source": [
        "assert mutual_friends('friends.adjlist', 'Alice', 'Claire') == ['Frank']\n",
        "assert mutual_friends('friends.adjlist', 'George', 'Bob') == []\n",
        "assert sorted(mutual_friends('friends.adjlist', 'Claire', 'George')) == ['Dennis', 'Frank']"
      ],
      "execution_count": null,
      "outputs": []
    }
  ]
}