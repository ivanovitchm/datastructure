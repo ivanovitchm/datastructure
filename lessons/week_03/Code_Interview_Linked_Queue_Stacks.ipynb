{
  "nbformat": 4,
  "nbformat_minor": 0,
  "metadata": {
    "colab": {
      "provenance": [],
      "toc_visible": true
    },
    "kernelspec": {
      "name": "python3",
      "display_name": "Python 3"
    },
    "language_info": {
      "name": "python"
    }
  },
  "cells": [
    {
      "cell_type": "markdown",
      "source": [
        "# 1.0 Introduction"
      ],
      "metadata": {
        "id": "TStrq7KQAEuF"
      }
    },
    {
      "cell_type": "markdown",
      "source": [
        "## Preface"
      ],
      "metadata": {
        "id": "7ByMLaMWDw5i"
      }
    },
    {
      "cell_type": "markdown",
      "source": [
        "As you dive into the world of coding interviews, you may find it to be a notoriously difficult journey, especially when it comes to Big Techs coding interviews. However, I encourage you to embrace the challenge and not be discouraged by the initial difficulty. Preparing for the coding interview is one of the most frustrating, discouraging, and annoying things, but it can also be one of the most rewarding experiences of your career.\n",
        "\n",
        "While it is true that there are scarce materials in the internet to prepare for coding interviews, do not let this discourage you. You have the opportunity to push yourself to new heights, and with the right mindset and attitude, you can achieve your goals. Understanding complex algorithms from a book can be very difficult, but with patience and persistence, you can make progress. It may be challenging to understand long coded solutions, but remember that practice makes perfect.\n",
        "\n",
        "Moreover, many of the books available are written in C++ and Java only, but don't let that hold you back. With the right guidance and resources, you can gain a deep understanding of these languages and master the material. As your teacher, I am committed to helping you better understand the solutions in these books. We will work together to identify areas where you may need additional support and explore different resources to aid your learning.\n",
        "\n",
        "When you come across academic PDFs, or when you desperately try to find videos on YouTube, know that you are not alone. Many students face similar challenges, and it is natural to feel frustrated at times. However, I encourage you to persist and push through these challenges. Remember that every step you take is a step closer to achieving your goal.\n",
        "\n",
        "In conclusion, I urge you to embrace the challenge of coding interviews. It may be difficult at times, but the rewards are worth it. With the right mindset, attitude, and support, you can master the material and achieve your career goals. Good luck!"
      ],
      "metadata": {
        "id": "mbV8N-WZChw9"
      }
    },
    {
      "cell_type": "markdown",
      "source": [
        "## About this notebook"
      ],
      "metadata": {
        "id": "H6LU4R9KCjPn"
      }
    },
    {
      "cell_type": "markdown",
      "source": [
        "I am excited to present to you a set of coding interview questions that are organized into three levels of difficulty: 🔥  Hard, ⚠️  Medium, and 😃 Easy. Each question comes with a description, the related data structure, tips, and an initial code with its respective unit test.\n",
        "\n",
        "While these questions may seem challenging, I encourage you to approach them with a positive attitude and an open mind. Remember that the process of solving these questions is just as important as finding the answer. Through this process, you will develop your problem-solving skills, strengthen your understanding of data structures, and improve your coding abilities.\n",
        "\n",
        "As you work on these questions, I encourage you to co-create the solutions with the help of ChatGPT. ChatGPT is a powerful tool that can provide guidance, feedback, and additional resources to support your learning journey. Don't hesitate to ask ChatGPT for help if you get stuck or need additional clarification.\n",
        "\n",
        "Additionally, I encourage you to collaborate with your classmates on these questions. Working in groups can provide a supportive learning environment where you can bounce ideas off each other, learn from different perspectives, and develop your communication skills."
      ],
      "metadata": {
        "id": "H_wrJZEXD2-v"
      }
    },
    {
      "cell_type": "code",
      "source": [
        "# install dependencies\n",
        "!pip install pytest pytest-sugar"
      ],
      "metadata": {
        "id": "Zc9nX3WvHzI5"
      },
      "execution_count": null,
      "outputs": []
    },
    {
      "cell_type": "markdown",
      "source": [
        "# 2.0 Warming up"
      ],
      "metadata": {
        "id": "aorWT2CGD6pp"
      }
    },
    {
      "cell_type": "markdown",
      "source": [
        "## Data Structure: Arrays"
      ],
      "metadata": {
        "id": "Re1GDifvELPd"
      }
    },
    {
      "cell_type": "markdown",
      "source": [
        "**Two Number Sum**"
      ],
      "metadata": {
        "id": "OczR4xMkEFlG"
      }
    },
    {
      "cell_type": "markdown",
      "source": [
        "Write a function that in a non-empty array of distinct integers and an integer representing a target sum. If any two numbers in the input array sum up to the target sum, the function should return then in an array, in any order. If no two numbers sum up to the target sum, the function should return an empty array.\n",
        "\n",
        "Note that the target sum has to be obtained by summing two different integers in the array; you can't add a single integer to itself in order to obtain the target sum. \n",
        "\n",
        "You can assume that there will be at most one pair of numbers summing up to the target sum."
      ],
      "metadata": {
        "id": "55c6cbvkF5GN"
      }
    },
    {
      "cell_type": "code",
      "source": [
        "# Sample Input\n",
        "array = [3,5,-4,8,11,1,-1,6]\n",
        "target = 10\n",
        "\n",
        "# Sample Output\n",
        "# [-1, 11]"
      ],
      "metadata": {
        "id": "-jQPxpWQGg0K"
      },
      "execution_count": 3,
      "outputs": []
    },
    {
      "cell_type": "markdown",
      "source": [
        "Hints\n",
        "- Try using two for loops to sum all possible pairs of numbers in the input array. What are the time and space implications of this approach?\n",
        "- Realize that for every number X in the input array, you are essentially trying to find a corresponding number Y such that X+Y=targetSum. With two variables in this question known to you, it shouldn't be hard to solve for Y.\n",
        "- Try storing every number in a hash table, solving the equation metioned in Hint 2 for every number, and checking if the Y that you find is stored in the hash table. What are the time and space limitations of this approach?"
      ],
      "metadata": {
        "id": "A8ROiaImGkUn"
      }
    },
    {
      "cell_type": "markdown",
      "source": [
        "Optimal Space & Time Complecity\n",
        "\n",
        "- O(n) time | O(n) space - where n is the lenght of the input array"
      ],
      "metadata": {
        "id": "1vlekxD3G2Js"
      }
    },
    {
      "cell_type": "code",
      "source": [
        "%%file test_twoNumberSum_solution.py\n",
        "import pytest\n",
        "\n",
        "def twoNumberSum(array, targetSum):\n",
        "  \"\"\"\n",
        "  Description:\n",
        "  A function that take in a non-empty array of distinct integers\n",
        "  and an integer representing a target sum. If any two numbers \n",
        "  in the input array sum up to the target sum, the function should\n",
        "  return then in an array, in any order. \n",
        "  If no two numbers sum up to the target sum, \n",
        "  the function should return an empty array.\n",
        "\n",
        "  Parameters:\n",
        "  array <list>: list of integers\n",
        "  targetSum <integer>: integer representing a target sum\n",
        "\n",
        "  Return:\n",
        "  Interger pair which sum is equal to targetSum\n",
        "  empty otherwise\n",
        "  \"\"\"\n",
        "  for i in range(len(array) - 1):\n",
        "    firstNum = array[i]\n",
        "    for j in range (i+1, len(array)):\n",
        "      secondNum = array[j]\n",
        "      if firstNum + secondNum == targetSum:\n",
        "        return [firstNum, secondNum]\n",
        "  return []\n",
        "\n",
        "@pytest.fixture(scope=\"session\")\n",
        "def data():\n",
        "    \n",
        "    array = []\n",
        "    \n",
        "    # test 1 data\n",
        "    array.append([3, 5, -4, 8, 11, 1, -1, 6])\n",
        "\n",
        "    # test 2 data\n",
        "    array.append([4, 6, 1, -3])\n",
        "\n",
        "    # test 3 data\n",
        "    array.append([1, 2, 3, 4, 5, 6, 7, 8, 9, 15])\n",
        "\n",
        "    # test 4 data\n",
        "    array.append([15])\n",
        "\n",
        "    # test 5 data\n",
        "    array.append([-21, 301, 12, 4, 65, 56, 210, 356, 9, -47])\n",
        "\n",
        "    # test 6 data\n",
        "    array.append([-21, 301, 12, 4, 65, 56, 210, 356, 9, -47])\n",
        "\n",
        "    # test 7 data\n",
        "    array.append([-7, -5, -3, -1, 0, 1, 3, 5, 7])\n",
        "    \n",
        "    return array\n",
        "\n",
        "def test_1(data):\n",
        "    \"\"\"\n",
        "    Test evaluation for [3, 5, -4, 8, 11, 1, -1, 6] and target 10\n",
        "    \"\"\"\n",
        "    assert twoNumberSum(data[0],10) == [11,-1]\n",
        "\n",
        "\n",
        "def test_2(data):\n",
        "    \"\"\"\n",
        "    Test evaluation for [4, 6, 1, -3] and target 3\n",
        "    \"\"\"\n",
        "    assert twoNumberSum(data[1],3) == [6,-3]\n",
        "\n",
        "def test_3(data):\n",
        "    \"\"\"\n",
        "    Test evaluation for [1, 2, 3, 4, 5, 6, 7, 8, 9, 15] and target 26\n",
        "    \"\"\"\n",
        "    assert twoNumberSum(data[2],26) == []\n",
        "\n",
        "def test_4(data):\n",
        "    \"\"\"\n",
        "    Test evaluation for [15] and target 15\n",
        "    \"\"\"\n",
        "    assert twoNumberSum(data[3],15) == []\n",
        "\n",
        "def test_5(data):\n",
        "    \"\"\"\n",
        "    Test evaluation for [-21, 301, 12, 4, 65, 56, 210, 356, 9, -47] and target 164\n",
        "    \"\"\"\n",
        "    assert twoNumberSum(data[4],164) == [] \n",
        "\n",
        "def test_6(data):\n",
        "    \"\"\"\n",
        "    Test evaluation for [-21, 301, 12, 4, 65, 56, 210, 356, 9, -47] and target 163\n",
        "    \"\"\"\n",
        "    assert twoNumberSum(data[5],163) == [210, -47] \n",
        "\n",
        "def test_7(data):\n",
        "    \"\"\"\n",
        "    Test evaluation for [-7, -5, -3, -1, 0, 1, 3, 5, 7] and target -5\n",
        "    \"\"\"\n",
        "    assert twoNumberSum(data[6],-5) == [-5, 0]"
      ],
      "metadata": {
        "colab": {
          "base_uri": "https://localhost:8080/"
        },
        "id": "eB8ALy3NHvi2",
        "outputId": "9854f043-4b39-4b89-8dbb-01cc8706d6d4"
      },
      "execution_count": 4,
      "outputs": [
        {
          "output_type": "stream",
          "name": "stdout",
          "text": [
            "Writing test_twoNumberSum_solution.py\n"
          ]
        }
      ]
    },
    {
      "cell_type": "code",
      "source": [
        "!pytest test_twoNumberSum_solution.py -vv"
      ],
      "metadata": {
        "colab": {
          "base_uri": "https://localhost:8080/"
        },
        "id": "Kc57ZKBtIPOS",
        "outputId": "ee3ae1b4-13d5-4951-ce08-a56fc5fbfac4"
      },
      "execution_count": 5,
      "outputs": [
        {
          "output_type": "stream",
          "name": "stdout",
          "text": [
            "\u001b[1mTest session starts (platform: linux, Python 3.9.16, pytest 7.2.2, pytest-sugar 0.9.6)\u001b[0m\n",
            "cachedir: .pytest_cache\n",
            "rootdir: /content\n",
            "plugins: sugar-0.9.6\n",
            "\u001b[1mcollecting ... \u001b[0m\r\n",
            "\r \u001b[36mtest_twoNumberSum_solution.py\u001b[0m::test_1\u001b[0m \u001b[32m✓\u001b[0m                          \u001b[32m14% \u001b[0m\u001b[40m\u001b[32m█\u001b[0m\u001b[40m\u001b[32m▌        \u001b[0m\r\n",
            "\r \u001b[36mtest_twoNumberSum_solution.py\u001b[0m::test_2\u001b[0m \u001b[32m✓\u001b[0m                          \u001b[32m29% \u001b[0m\u001b[40m\u001b[32m█\u001b[0m\u001b[40m\u001b[32m█\u001b[0m\u001b[40m\u001b[32m▉       \u001b[0m\r\n",
            "\r \u001b[36mtest_twoNumberSum_solution.py\u001b[0m::test_3\u001b[0m \u001b[32m✓\u001b[0m                          \u001b[32m43% \u001b[0m\u001b[40m\u001b[32m█\u001b[0m\u001b[40m\u001b[32m█\u001b[0m\u001b[40m\u001b[32m█\u001b[0m\u001b[40m\u001b[32m█▍     \u001b[0m\r\n",
            "\r \u001b[36mtest_twoNumberSum_solution.py\u001b[0m::test_4\u001b[0m \u001b[32m✓\u001b[0m                          \u001b[32m57% \u001b[0m\u001b[40m\u001b[32m█\u001b[0m\u001b[40m\u001b[32m█\u001b[0m\u001b[40m\u001b[32m█\u001b[0m\u001b[40m\u001b[32m█\u001b[0m\u001b[40m\u001b[32m█\u001b[0m\u001b[40m\u001b[32m▊    \u001b[0m\r\n",
            "\r \u001b[36mtest_twoNumberSum_solution.py\u001b[0m::test_5\u001b[0m \u001b[32m✓\u001b[0m                          \u001b[32m71% \u001b[0m\u001b[40m\u001b[32m█\u001b[0m\u001b[40m\u001b[32m█\u001b[0m\u001b[40m\u001b[32m█\u001b[0m\u001b[40m\u001b[32m█\u001b[0m\u001b[40m\u001b[32m█\u001b[0m\u001b[40m\u001b[32m█\u001b[0m\u001b[40m\u001b[32m█▎  \u001b[0m\r\n",
            "\r \u001b[36mtest_twoNumberSum_solution.py\u001b[0m::test_6\u001b[0m \u001b[32m✓\u001b[0m                          \u001b[32m86% \u001b[0m\u001b[40m\u001b[32m█\u001b[0m\u001b[40m\u001b[32m█\u001b[0m\u001b[40m\u001b[32m█\u001b[0m\u001b[40m\u001b[32m█\u001b[0m\u001b[40m\u001b[32m█\u001b[0m\u001b[40m\u001b[32m█\u001b[0m\u001b[40m\u001b[32m█\u001b[0m\u001b[40m\u001b[32m█\u001b[0m\u001b[40m\u001b[32m▋ \u001b[0m\r\n",
            "\r \u001b[36mtest_twoNumberSum_solution.py\u001b[0m::test_7\u001b[0m \u001b[32m✓\u001b[0m                         \u001b[32m100% \u001b[0m\u001b[40m\u001b[32m█\u001b[0m\u001b[40m\u001b[32m█\u001b[0m\u001b[40m\u001b[32m█\u001b[0m\u001b[40m\u001b[32m█\u001b[0m\u001b[40m\u001b[32m█\u001b[0m\u001b[40m\u001b[32m█\u001b[0m\u001b[40m\u001b[32m█\u001b[0m\u001b[40m\u001b[32m█\u001b[0m\u001b[40m\u001b[32m█\u001b[0m\u001b[40m\u001b[32m█\u001b[0m\n",
            "\n",
            "Results (0.07s):\n",
            "\u001b[32m       7 passed\u001b[0m\n"
          ]
        }
      ]
    },
    {
      "cell_type": "markdown",
      "source": [
        "# 3.0 Doubly Linked Lists"
      ],
      "metadata": {
        "id": "RQV9CmSvIYnj"
      }
    },
    {
      "cell_type": "markdown",
      "source": [
        "> For all LinkedList-related questions, unless specified otherwise, assume the ``LinkedList``and ``Node`` classes defined below."
      ],
      "metadata": {
        "id": "WPVwob3hSQe-"
      }
    },
    {
      "cell_type": "code",
      "source": [
        "# To produce the file linkedlist.py, please remove the comment symbol '#' from the beginning of the line below.\n",
        "# %%file linkedlist.py\n",
        "\n",
        "class Node:\n",
        "    \"\"\"A class representing a node in a doubly linked list.\"\"\"\n",
        "\n",
        "    def __init__(self, data):\n",
        "        \"\"\"Initialize a new node with the given data.\"\"\"\n",
        "        self.data = data\n",
        "        self.prev = None\n",
        "        self.next = None\n",
        "\n",
        "class LinkedList:\n",
        "    \"\"\"A class representing a doubly linked list.\"\"\"\n",
        "\n",
        "    def __init__(self):\n",
        "        \"\"\"Initialize an empty linked list.\"\"\"\n",
        "        self.head = None\n",
        "        self.tail = None\n",
        "        self.length = 0\n",
        "        \n",
        "    def append(self, data):\n",
        "        \"\"\"Add a new node with the given data to the end of the linked list.\"\"\"\n",
        "        new_node = Node(data)\n",
        "        if self.length == 0:\n",
        "            self.head = self.tail = new_node\n",
        "        else:\n",
        "            self.tail.next = new_node\n",
        "            new_node.prev = self.tail\n",
        "            self.tail = new_node\n",
        "        self.length += 1\n",
        "        \n",
        "    def __iter__(self):\n",
        "        \"\"\"Return an iterator for the linked list.\"\"\"\n",
        "        self._iter_node = self.head\n",
        "        return self \n",
        "    \n",
        "    def __next__(self):\n",
        "        \"\"\"Return the next value in the linked list.\"\"\"\n",
        "        if self._iter_node is None:\n",
        "            raise StopIteration\n",
        "        ret = self._iter_node.data\n",
        "        self._iter_node = self._iter_node.next\n",
        "        return ret\n",
        "    \n",
        "    def prepend(self, data):\n",
        "        \"\"\"Add a new node with the given data to the beginning of the linked list.\"\"\"\n",
        "        new_node = Node(data)\n",
        "        if self.length == 0:\n",
        "            self.head = self.tail = new_node\n",
        "        else:\n",
        "            self.head.prev = new_node\n",
        "            new_node.next = self.head\n",
        "            self.head = new_node\n",
        "        self.length += 1\n",
        "        \n",
        "    def __len__(self):\n",
        "        \"\"\"Return the length of the linked list.\"\"\"\n",
        "        return self.length\n",
        "    \n",
        "    def __str__(self):\n",
        "        \"\"\"Return a string representation of the linked list.\"\"\"\n",
        "        return str([value for value in self])\n",
        "\n",
        "    def __eq__(self, other):\n",
        "        \"\"\"Check if two linked lists are equal.\n",
        "\n",
        "        Traverse both linked lists and compare the data of each node. \n",
        "        If the data of all nodes in both linked lists match, return True. \n",
        "        Otherwise, return False.\n",
        "\n",
        "        Args:\n",
        "            other (LinkedList): The linked list to compare with self.\n",
        "\n",
        "        Returns:\n",
        "            bool: True if the linked lists are equal, False otherwise.\n",
        "        \"\"\"\n",
        "        # Check if the lengths of the linked lists are the same\n",
        "        if len(self) != len(other):\n",
        "            print(self,other)\n",
        "            return False\n",
        "        \n",
        "        # Iterate over both linked lists and compare the data of each node\n",
        "        for node1, node2 in zip(self, other):\n",
        "            if node1 != node2:\n",
        "                print(node1.data,node2.data)\n",
        "                return False\n",
        "        \n",
        "        # If we made it this far, the linked lists are equal\n",
        "        return True"
      ],
      "metadata": {
        "id": "SmAPEExnSROW"
      },
      "execution_count": 6,
      "outputs": []
    },
    {
      "cell_type": "markdown",
      "source": [
        "## 3.1 Remove Duplicates From Linked List"
      ],
      "metadata": {
        "id": "XBRWRbH6JJA2"
      }
    },
    {
      "cell_type": "markdown",
      "source": [
        "**Difficult**: 😃 easy"
      ],
      "metadata": {
        "id": "7upZw4bpJVZZ"
      }
    },
    {
      "cell_type": "markdown",
      "source": [
        "You're given the head of a doubly Linked List whose nodes are in sorted order with respect to their values. Write a function that returns a modified version of the Linked List that doesn't contain any node with duplicat values. The Linked List should be modified in place (i.e, you shouldn't create a brand new list), and the modified Linked List should still have its nodes sorted with respect to their values.\n",
        "\n",
        "Each ``LinkedList`` node is defined as described in Section 3.0."
      ],
      "metadata": {
        "id": "Qgj3cTOqJncB"
      }
    },
    {
      "cell_type": "code",
      "source": [
        "# Sample Input\n",
        "# linkedList = 1 <-> 1 <-> 3 <-> 4 <-> 4 <-> 4 <-> 5 <-> 6 <-> 6 // the head value with value 1\n",
        "\n",
        "# Sample Output\n",
        "# 1 <-> 3 <-> 4 <-> 5 <-> 6"
      ],
      "metadata": {
        "id": "zFQwYNghKUs3"
      },
      "execution_count": null,
      "outputs": []
    },
    {
      "cell_type": "markdown",
      "source": [
        "**Hint**\n",
        "- The brute-force approach to this problem is to use a hash table or a set to keep track of all node values that exist while traversing the linked list and to simply remove nodes that have a valeu that already exists. This approach works, but can you solve this problem without using an auxiliary data structure?\n",
        "- What does the fact that the nodes are sorted tell you about the location of all duplicate nodes? How can you use this fact to solve this problem with constant space?\n",
        "- Since the linked list's nodes are sorted, you can loop through then and, at each iteration, simply remove all successive nodes that have the same value as the current node. For each node, change its next pointer to the next node in the linked list that has a different value. This will remove all duplicate-value nodes."
      ],
      "metadata": {
        "id": "yVy8kp3uLAd1"
      }
    },
    {
      "cell_type": "markdown",
      "source": [
        "**Optimal Space & Time Complexity**\n",
        "\n",
        "- O(n) time | O(1) space - where n is the number of nodes in the Linked List"
      ],
      "metadata": {
        "id": "bkzPdzsgLxpy"
      }
    },
    {
      "cell_type": "code",
      "source": [
        "%%file test_remove_duplicaiton_from_linked_list_solution.py\n",
        "import pytest\n",
        "from linkedlist import *\n",
        "\n",
        "def removeDuplicatesFromLinkedList(linkedList):\n",
        "    \"\"\"\n",
        "    Modify the input doubly linked list in place to remove all nodes with duplicate values.\n",
        "    The modified linked list should still have its nodes sorted with respect to their values.\n",
        "  \n",
        "    Args:\n",
        "    linkedList (LinkedList): The sorted doubly linked list from which duplicate nodes will be removed.\n",
        "\n",
        "    Returns:\n",
        "        LinkedList: The modified linked list with duplicate nodes removed.\n",
        "    \"\"\"\n",
        "    # \n",
        "    # Write your code here.\n",
        "    #\n",
        "    return linkedList\n",
        "\n",
        "\n",
        "@pytest.fixture(scope=\"session\")\n",
        "def data():\n",
        "    \n",
        "    array = []\n",
        "    \n",
        "    # test 1 data\n",
        "    array.append([1,1,1,3,4,4,4,5,6,6])\n",
        "\n",
        "    # test 2 data\n",
        "    array.append([1,1,1,1,1,4,4,5,6,6])\n",
        "\n",
        "    # test 3 data\n",
        "    array.append([1,1,1,1,1,1,1])\n",
        "\n",
        "    # test 4 data\n",
        "    array.append([1,9,11,15,15,16,17])\n",
        "\n",
        "    # test 5 data\n",
        "    array.append([1])\n",
        "\n",
        "    # test 6 data\n",
        "    array.append([-5,-1,-1,-1,5,5,5,8,8,9,10,11,11])\n",
        "\n",
        "    # test 7 data\n",
        "    array.append([1,2,3,4,5,6,7,8,9,10,11,12,12])\n",
        "    \n",
        "    return array\n",
        "\n",
        "def test_1(data):\n",
        "    \"\"\"\n",
        "    Test evaluation for [1,1,1,3,4,4,4,5,6,6] \n",
        "    \"\"\"\n",
        "    linkedlist = LinkedList()\n",
        "    for item in data[0]:\n",
        "      linkedlist.append(item)\n",
        "\n",
        "    linkedlist_test = LinkedList()\n",
        "    for item in [1,3,4,5,6]:\n",
        "      linkedlist_test.append(item)\n",
        "\n",
        "    assert removeDuplicatesFromLinkedList(linkedlist) == linkedlist_test\n",
        "\n",
        "\n",
        "def test_2(data):\n",
        "    \"\"\"\n",
        "    Test evaluation for [1,1,1,1,1,4,4,5,6,6] \n",
        "    \"\"\"\n",
        "    linkedlist = LinkedList()\n",
        "    for item in data[1]:\n",
        "      linkedlist.append(item)\n",
        "\n",
        "    linkedlist_test = LinkedList()\n",
        "    for item in [1,4,5,6]:\n",
        "      linkedlist_test.append(item)\n",
        "\n",
        "    assert removeDuplicatesFromLinkedList(linkedlist) == linkedlist_test\n",
        "\n",
        "def test_3(data):\n",
        "    \"\"\"\n",
        "    Test evaluation for [1,1,1,1,1,1,1] \n",
        "    \"\"\"\n",
        "    linkedlist = LinkedList()\n",
        "    for item in data[2]:\n",
        "      linkedlist.append(item)\n",
        "\n",
        "    linkedlist_test = LinkedList()\n",
        "    for item in [1]:\n",
        "      linkedlist_test.append(item)\n",
        "\n",
        "    assert removeDuplicatesFromLinkedList(linkedlist) == linkedlist_test\n",
        "\n",
        "def test_4(data):\n",
        "    \"\"\"\n",
        "    Test evaluation for [1,9,11,15,15,16,17] \n",
        "    \"\"\"\n",
        "    linkedlist = LinkedList()\n",
        "    for item in data[3]:\n",
        "      linkedlist.append(item)\n",
        "\n",
        "    linkedlist_test = LinkedList()\n",
        "    for item in [1,9,11,15,16,17]:\n",
        "      linkedlist_test.append(item)\n",
        "\n",
        "    assert removeDuplicatesFromLinkedList(linkedlist) == linkedlist_test\n",
        "\n",
        "def test_5(data):\n",
        "    \"\"\"\n",
        "    Test evaluation for [1] \n",
        "    \"\"\"\n",
        "    linkedlist = LinkedList()\n",
        "    for item in data[4]:\n",
        "      linkedlist.append(item)\n",
        "\n",
        "    linkedlist_test = LinkedList()\n",
        "    for item in [1]:\n",
        "      linkedlist_test.append(item)\n",
        "\n",
        "    assert removeDuplicatesFromLinkedList(linkedlist) == linkedlist_test\n",
        "\n",
        "def test_6(data):\n",
        "    \"\"\"\n",
        "    Test evaluation for [-5,-1,-1,-1,5,5,5,8,8,9,10,11,11]\n",
        "    \"\"\"\n",
        "    linkedlist = LinkedList()\n",
        "    for item in data[5]:\n",
        "      linkedlist.append(item)\n",
        "\n",
        "    linkedlist_test = LinkedList()\n",
        "    for item in [-5,-1,5,8,9,10,11]:\n",
        "      linkedlist_test.append(item)\n",
        "\n",
        "    assert removeDuplicatesFromLinkedList(linkedlist) == linkedlist_test\n",
        "\n",
        "def test_7(data):\n",
        "    \"\"\"\n",
        "    Test evaluation for [1,2,3,4,5,6,7,8,9,10,11,12,12]\n",
        "    \"\"\"\n",
        "    linkedlist = LinkedList()\n",
        "    for item in data[6]:\n",
        "      linkedlist.append(item)\n",
        "\n",
        "    linkedlist_test = LinkedList()\n",
        "    for item in [1,2,3,4,5,6,7,8,9,10,11,12]:\n",
        "      linkedlist_test.append(item)\n",
        "\n",
        "    assert removeDuplicatesFromLinkedList(linkedlist) == linkedlist_test"
      ],
      "metadata": {
        "colab": {
          "base_uri": "https://localhost:8080/"
        },
        "id": "FEbhJkwwL9Jf",
        "outputId": "5edb0603-4f5d-4d9f-df33-5c843c007f73"
      },
      "execution_count": null,
      "outputs": [
        {
          "output_type": "stream",
          "name": "stdout",
          "text": [
            "Writing test_remove_duplicaiton_from_linked_list_solution.py\n"
          ]
        }
      ]
    },
    {
      "cell_type": "code",
      "source": [
        "!pytest test_remove_duplicaiton_from_linked_list_solution.py -vv"
      ],
      "metadata": {
        "id": "j1X4OjTArPgc"
      },
      "execution_count": null,
      "outputs": []
    },
    {
      "cell_type": "markdown",
      "source": [
        "## 3.2 Merge Doubly Linked List"
      ],
      "metadata": {
        "id": "Y4GCNRGNUZLS"
      }
    },
    {
      "cell_type": "markdown",
      "source": [
        "**Difficult**: ⚠️ Medium\n",
        "\n"
      ],
      "metadata": {
        "id": "MYmRwA2FUdua"
      }
    },
    {
      "cell_type": "markdown",
      "source": [
        "Write a function that takes two doubly linked lists that are in sorted order, respectively. The function should merge the lists in place (i.e., it shouldn't create a brand new list) and return the head of the merged list; the merged list should be in sorted order. \n",
        "\n",
        "\n",
        "Each ``LinkedList`` node is defined as described in Section 3.0.\n",
        "\n",
        "> You can assume that the input doubly linked lists will always have at least one node; in other words, the heads will never be ``None``/``Null``."
      ],
      "metadata": {
        "id": "TwIS9OSzUiXf"
      }
    },
    {
      "cell_type": "code",
      "source": [
        "# Sample Input\n",
        "# linkedListOne = 2 <-> 6 <-> 7 <-> 8 //the head node with value 2\n",
        "#linkedListTwo = 1 <-> 3 <-> 4 <-> 5 <-> 9 <-> 10 //the head node with value 1\n",
        "\n",
        "# Sample Output\n",
        "# 1 <-> 2 <-> 3 <-> 4 <-> 5 <-> 6 <-> 7 <-> 8 <-> 9 <-> 10"
      ],
      "metadata": {
        "id": "H5cZxL1IVXsX"
      },
      "execution_count": null,
      "outputs": []
    },
    {
      "cell_type": "markdown",
      "source": [
        "**Hint**\n",
        "- You can iterate through the Linked Lists from head to tail and merge them along the way by inserting nodes from the second Linked List into the first Linked List.\n",
        "- You'll need to manipulate three nodes at once at every step.\n",
        "- At every step, you'll need to have three variables (p1, p2, and p1Prev) pointing to the current node in the first Linked List (p1), the current node in the second Linked List (p2), and the previous node in the first Linked List (piPrev). If the value of p1 is smaller than the value of p2, then can just \"move forward\"in the first Linked List by moving p1 and p1Prev forwared by one position (p1Prev becomes p1 and p1 becomes p1.nex). If the value of p1 is greater than the value of p2, then you need to insert p2 before p1. You'll have to first make p1Prev point to p2, then make p2 point to p1, all the while not losing track of p2's \"next\"node, which you'll need to move to right after. You'll also have to handle edge cases when you're dealing with head and nodes or tail nodes. \n",
        "- You can implement this algorithm both iteratively and recursively following nearly identifical logic."
      ],
      "metadata": {
        "id": "arCHwivyKwPa"
      }
    },
    {
      "cell_type": "markdown",
      "source": [
        "**Optimal Space & Time Complexity**\n",
        "\n",
        "O(n+m) time | O(1) space - where n is the number of nodes in the first Linked List and m is the number of nodes in the second Linked List."
      ],
      "metadata": {
        "id": "4eR02Gf9L5JG"
      }
    },
    {
      "cell_type": "code",
      "source": [
        "%%file test_mergeLinkedLists.py\n",
        "import pytest\n",
        "from linkedlist import *\n",
        "\n",
        "def mergeLinkedLists(linkedList_one, linkedList_two):\n",
        "    \"\"\"Merge two doubly linked lists that are in sorted order.\n",
        "\n",
        "    Merge two doubly linked lists that are in sorted order. The merged list will also be in sorted order. The merge is done in place, so the returned linked list is `linkedList_one` with its head updated.\n",
        "\n",
        "    Args:\n",
        "        linkedList_one (LinkedList): The first linked list to merge.\n",
        "        linkedList_two (LinkedList): The second linked list to merge.\n",
        "\n",
        "    Returns:\n",
        "        LinkedList: The merged linked list, with its head updated to reflect the new head of the merged list.\n",
        "    \"\"\"\n",
        "    # \n",
        "    # Write your code here.\n",
        "    #\n",
        "    \n",
        "    # Return the merged linked list\n",
        "    return linkedList_one\n",
        "\n",
        "\n",
        "@pytest.fixture(scope=\"session\")\n",
        "def data():\n",
        "    \n",
        "    array = []\n",
        "    \n",
        "    # test 1 data\n",
        "    array.append([[2,6,7,8],[1,3,4,5,9,10]])\n",
        "\n",
        "    # test 2 data\n",
        "    array.append([[1,2,3,4,5],[6,7,8,9,10]])\n",
        "\n",
        "    # test 3 data\n",
        "    array.append([[6,7,8,9,10],[1,2,3,4,5]])\n",
        "\n",
        "    # test 4 data\n",
        "    array.append([[1,3,5,7,9],[2,4,6,8,10]])\n",
        "\n",
        "    # test 5 data\n",
        "    array.append([[0,1,2,3,4,5,7,8,9,10],[6]])\n",
        "\n",
        "    # test 6 data\n",
        "    array.append([[6],[0,1,2,3,4,5,7,8,9,10]])\n",
        "\n",
        "    # test 7 data\n",
        "    array.append([[1],[2]])\n",
        "\n",
        "    # test 8 data\n",
        "    array.append([[2],[1]])\n",
        "\n",
        "    # test 9 data\n",
        "    array.append([[1,1,1,3,4,5,5,5,10],[1,1,2,2,5,6,10,10]])\n",
        "    \n",
        "    return array\n",
        "\n",
        "def test_1(data):\n",
        "    \"\"\"\n",
        "    Test evaluation for [[2,6,7,8],[1,3,4,5,9,10]]\n",
        "    \"\"\"\n",
        "    linkedlist_one = LinkedList()\n",
        "    for item in data[0][0]:\n",
        "      linkedlist_one.append(item)\n",
        "\n",
        "    linkedlist_two = LinkedList()\n",
        "    for item in data[0][1]:\n",
        "      linkedlist_two.append(item)\n",
        "\n",
        "    linkedlist_test = LinkedList()\n",
        "    for item in [1,2,3,4,5,6,7,8,9,10]:\n",
        "      linkedlist_test.append(item)\n",
        "\n",
        "    assert mergeLinkedLists(linkedlist_one, linkedlist_two) == linkedlist_test\n",
        "\n",
        "\n",
        "def test_2(data):\n",
        "    \"\"\"\n",
        "    Test evaluation for [[1,2,3,4,5],[6,7,8,9,10]]\n",
        "    \"\"\"\n",
        "    linkedlist_one = LinkedList()\n",
        "    for item in data[1][0]:\n",
        "      linkedlist_one.append(item)\n",
        "\n",
        "    linkedlist_two = LinkedList()\n",
        "    for item in data[1][1]:\n",
        "      linkedlist_two.append(item)\n",
        "\n",
        "    linkedlist_test = LinkedList()\n",
        "    for item in [1,2,3,4,5,6,7,8,9,10]:\n",
        "      linkedlist_test.append(item)\n",
        "\n",
        "    assert mergeLinkedLists(linkedlist_one, linkedlist_two) == linkedlist_test\n",
        "\n",
        "def test_3(data):\n",
        "    \"\"\"\n",
        "    Test evaluation for [[6,7,8,9,10],[1,2,3,4,5]]\n",
        "    \"\"\"\n",
        "    linkedlist_one = LinkedList()\n",
        "    for item in data[2][0]:\n",
        "      linkedlist_one.append(item)\n",
        "\n",
        "    linkedlist_two = LinkedList()\n",
        "    for item in data[2][1]:\n",
        "      linkedlist_two.append(item)\n",
        "\n",
        "    linkedlist_test = LinkedList()\n",
        "    for item in [1,2,3,4,5,6,7,8,9,10]:\n",
        "      linkedlist_test.append(item)\n",
        "\n",
        "    assert mergeLinkedLists(linkedlist_one, linkedlist_two) == linkedlist_test\n",
        "\n",
        "def test_4(data):\n",
        "    \"\"\"\n",
        "    Test evaluation for [[1,3,5,7,9],[2,4,6,8,10]]\n",
        "    \"\"\"\n",
        "    linkedlist_one = LinkedList()\n",
        "    for item in data[3][0]:\n",
        "      linkedlist_one.append(item)\n",
        "\n",
        "    linkedlist_two = LinkedList()\n",
        "    for item in data[3][1]:\n",
        "      linkedlist_two.append(item)\n",
        "\n",
        "    linkedlist_test = LinkedList()\n",
        "    for item in [1,2,3,4,5,6,7,8,9,10]:\n",
        "      linkedlist_test.append(item)\n",
        "\n",
        "    assert mergeLinkedLists(linkedlist_one, linkedlist_two) == linkedlist_test\n",
        "\n",
        "def test_5(data):\n",
        "    \"\"\"\n",
        "    Test evaluation for [[0,1,2,3,4,5,7,8,9,10],[6]]\n",
        "    \"\"\"\n",
        "    linkedlist_one = LinkedList()\n",
        "    for item in data[4][0]:\n",
        "      linkedlist_one.append(item)\n",
        "\n",
        "    linkedlist_two = LinkedList()\n",
        "    for item in data[4][1]:\n",
        "      linkedlist_two.append(item)\n",
        "\n",
        "    linkedlist_test = LinkedList()\n",
        "    for item in [0,1,2,3,4,5,6,7,8,9,10]:\n",
        "      linkedlist_test.append(item)\n",
        "\n",
        "    assert mergeLinkedLists(linkedlist_one, linkedlist_two) == linkedlist_test\n",
        "\n",
        "def test_6(data):\n",
        "    \"\"\"\n",
        "    Test evaluation for [[6],[0,1,2,3,4,5,7,8,9,10]]\n",
        "    \"\"\"\n",
        "    linkedlist_one = LinkedList()\n",
        "    for item in data[5][0]:\n",
        "      linkedlist_one.append(item)\n",
        "\n",
        "    linkedlist_two = LinkedList()\n",
        "    for item in data[5][1]:\n",
        "      linkedlist_two.append(item)\n",
        "\n",
        "    linkedlist_test = LinkedList()\n",
        "    for item in [0,1,2,3,4,5,6,7,8,9,10]:\n",
        "      linkedlist_test.append(item)\n",
        "\n",
        "    assert mergeLinkedLists(linkedlist_one, linkedlist_two) == linkedlist_test\n",
        "\n",
        "def test_7(data):\n",
        "    \"\"\"\n",
        "    Test evaluation for [[1],[2]]\n",
        "    \"\"\"\n",
        "    linkedlist_one = LinkedList()\n",
        "    for item in data[6][0]:\n",
        "      linkedlist_one.append(item)\n",
        "\n",
        "    linkedlist_two = LinkedList()\n",
        "    for item in data[6][1]:\n",
        "      linkedlist_two.append(item)\n",
        "\n",
        "    linkedlist_test = LinkedList()\n",
        "    for item in [1,2]:\n",
        "      linkedlist_test.append(item)\n",
        "\n",
        "    assert mergeLinkedLists(linkedlist_one, linkedlist_two) == linkedlist_test\n",
        "\n",
        "def test_8(data):\n",
        "    \"\"\"\n",
        "    Test evaluation for [[2],[1]]\n",
        "    \"\"\"\n",
        "    linkedlist_one = LinkedList()\n",
        "    for item in data[7][0]:\n",
        "      linkedlist_one.append(item)\n",
        "\n",
        "    linkedlist_two = LinkedList()\n",
        "    for item in data[7][1]:\n",
        "      linkedlist_two.append(item)\n",
        "\n",
        "    linkedlist_test = LinkedList()\n",
        "    for item in [1,2]:\n",
        "      linkedlist_test.append(item)\n",
        "\n",
        "    assert mergeLinkedLists(linkedlist_one, linkedlist_two) == linkedlist_test\n",
        "\n",
        "def test_9(data):\n",
        "    \"\"\"\n",
        "    Test evaluation for [[1,1,1,3,4,5,5,5,10],[1,1,2,2,5,6,10,10]]\n",
        "    \"\"\"\n",
        "    linkedlist_one = LinkedList()\n",
        "    for item in data[8][0]:\n",
        "      linkedlist_one.append(item)\n",
        "\n",
        "    linkedlist_two = LinkedList()\n",
        "    for item in data[8][1]:\n",
        "      linkedlist_two.append(item)\n",
        "\n",
        "    linkedlist_test = LinkedList()\n",
        "    for item in [1,1,1,1,1,2,2,3,4,5,5,5,5,6,10,10,10]:\n",
        "      linkedlist_test.append(item)\n",
        "\n",
        "    assert mergeLinkedLists(linkedlist_one, linkedlist_two) == linkedlist_test\n"
      ],
      "metadata": {
        "colab": {
          "base_uri": "https://localhost:8080/"
        },
        "id": "cKe5E2OsMS0x",
        "outputId": "7ee90052-b93f-4eae-d03c-17b81416b8a1"
      },
      "execution_count": null,
      "outputs": [
        {
          "output_type": "stream",
          "name": "stdout",
          "text": [
            "Overwriting test_mergeLinkedLists.py\n"
          ]
        }
      ]
    },
    {
      "cell_type": "code",
      "source": [
        "!pytest test_mergeLinkedLists.py -vv"
      ],
      "metadata": {
        "id": "EjRhTOZvROA-"
      },
      "execution_count": null,
      "outputs": []
    },
    {
      "cell_type": "markdown",
      "source": [
        "# 4.0 Stack"
      ],
      "metadata": {
        "id": "l0UzYmSS29iq"
      }
    },
    {
      "cell_type": "code",
      "source": [
        "# To produce the file stack.py, please remove the comment symbol '#' from the beginning of the line below.\n",
        "# Note you need to generate the file linkedlist.py in the Section 3.\n",
        "\n",
        "#%%file stack.py\n",
        "from linkedlist import *\n",
        "\n",
        "class Stack(LinkedList):\n",
        "    \"\"\"\n",
        "    This class represents a stack data structure that inherits from a linked list.\n",
        "    \n",
        "    Methods:\n",
        "    push(data) -- adds a new node to the top of the stack with the given data.\n",
        "    peek() -- returns the data at the top of the stack without removing it.\n",
        "    pop() -- removes and returns the node at the top of the stack.\n",
        "    \"\"\"\n",
        "    \n",
        "    def push(self, data):\n",
        "        \"\"\"\n",
        "        Adds a new node to the top of the stack with the given data.\n",
        "        \n",
        "        Arguments:\n",
        "        data -- the data to be stored in the new node.\n",
        "        \"\"\"\n",
        "        self.append(data)\n",
        "\n",
        "    def peek(self):\n",
        "        \"\"\"\n",
        "        Returns the data at the top of the stack without removing it.\n",
        "        \"\"\"\n",
        "        return self.tail.data\n",
        "\n",
        "    def pop(self):\n",
        "        \"\"\"\n",
        "        Removes and returns the node at the top of the stack.\n",
        "        \n",
        "        Returns:\n",
        "        The data stored in the node at the top of the stack.\n",
        "        \"\"\"\n",
        "        ret = self.tail.data\n",
        "        if self.length == 1:\n",
        "            self.tail = self.head = None\n",
        "        else:\n",
        "            self.tail = self.tail.prev\n",
        "            self.tail.next = None\n",
        "        self.length -= 1\n",
        "        return ret"
      ],
      "metadata": {
        "id": "NlrbfDJe2_v_"
      },
      "execution_count": null,
      "outputs": []
    },
    {
      "cell_type": "markdown",
      "source": [
        "## 4.1 Sunset Views"
      ],
      "metadata": {
        "id": "0V8S6C1kQ9jV"
      }
    },
    {
      "cell_type": "markdown",
      "source": [
        "**Difficult**: ⚠️ Medium\n"
      ],
      "metadata": {
        "id": "Q3fjNaM7Rxtn"
      }
    },
    {
      "cell_type": "markdown",
      "source": [
        "Given an array of buildings and a direction that all of the buildings face, return an array of the indices of the buildings that can see the sunset. \n",
        "\n",
        "A building can see the sunset if its strictly taller than all of the buildings that come after it in the direction that it faces. \n",
        "\n",
        "The input array named ``buildings`` contains positive, non-zero integers representing the heights of the buildings. A building at index ``i`` thus has a height denoted by ``buildings[1]``. All of the buildings face the same direction, and this direction is either east or west, denoted by the input string named ``direction``, which will always be equal to either ``EAST`` or ``WEST``. In relation to the input array, you can interpret these directions as right for east and left for west. \n",
        "\n",
        "Important note: the indices in the ouput array should be sorted in ascending order. "
      ],
      "metadata": {
        "id": "I7Zg5ZyOR1MX"
      }
    },
    {
      "cell_type": "code",
      "source": [
        "# Sample Input\n",
        "buildings = [3,5,4,4,3,1,3,2]\n",
        "direction = \"EAST\""
      ],
      "metadata": {
        "id": "O9SzbfW5SrNL"
      },
      "execution_count": null,
      "outputs": []
    },
    {
      "cell_type": "code",
      "source": [
        "# Sample Output\n",
        "# Below is the visual representation of the sample input\n",
        "\"\"\"_\n",
        "  | |_ _\n",
        " _| | | |_   _\n",
        "| | | | | | | |_\n",
        "| | | | | |_| | |\n",
        "|_|_|_|_|_|_|_|_|\n",
        "\"\"\"\n",
        "output = [1,3,6,7]"
      ],
      "metadata": {
        "id": "goqcLAbGe2gl"
      },
      "execution_count": null,
      "outputs": []
    },
    {
      "cell_type": "code",
      "source": [
        "# Sample Input\n",
        "buildings = [3,5,4,4,3,1,3,2]\n",
        "direction = \"WEST\"\n",
        "\n",
        "# Sample Output\n",
        "ouput = [0,1]"
      ],
      "metadata": {
        "id": "KWmArOTve4Ss"
      },
      "execution_count": null,
      "outputs": []
    },
    {
      "cell_type": "markdown",
      "source": [
        "**Hint**\n",
        "- Is there a way to silve this problem in one loop?\n",
        "- How does your solution change based on the direction that the buildings are facing? You can use the same approach for each direction by simply changing the direction in wihich you traverse the array of building.\n",
        "- There are multiple ways to solve this problem, but one is to maintain a running maximum of building heights. Loop in the opposite direction that the buildings are facing, and keep track of the maximum building height that you've seen. At each iteration, compare the height of the current building to the running maximum; if the current building is taller, then it can see the sunset; otherwise, it can't. Finally, at each iteration, update the running maximum.\n",
        "> Another way to solve this problem is to use a **stack**. Loop in the direction that the buildings are facing, and add the index of the current building to the stack at the end of each iteration. Before adding elements to the slack, compare the current building height to buildings at the top of the stack. Pop off the top of the stack until the current building height is shorter than the height of the building at the top of the stack. This will remove all buildings the are blocked from seeing the sunset by the current building. At the end of the algorithm, the stack will only contain elements that can see the sunset.\n"
      ],
      "metadata": {
        "id": "C0ohBZhhguWe"
      }
    },
    {
      "cell_type": "markdown",
      "source": [
        "**Optimal Space & Time Complexity**\n",
        "\n",
        "O(n) time | O(n) space - where n is the lenght of the input array."
      ],
      "metadata": {
        "id": "qTQ2F_6-hdxE"
      }
    },
    {
      "cell_type": "code",
      "source": [
        "%%file test_stack.py\n",
        "import pytest\n",
        "from stack import *\n",
        "\n",
        "def sunsetViews(buildings, direction):\n",
        "    \"\"\"\n",
        "    Given an array of buildings and a direction that all of the buildings face,\n",
        "    return an array of the indices of the buildings that can see the sunset.\n",
        "    \n",
        "    A building can see the sunset if it's strictly taller than all of the buildings\n",
        "    that come after it in the direction that it faces.\n",
        "\n",
        "    Args:\n",
        "    buildings (list): A list of positive, non-zero integers representing the heights of the buildings.\n",
        "    direction (str): A string denoting the direction the buildings face, either 'EAST' or 'WEST'.\n",
        "    \n",
        "    Returns:\n",
        "    list: A sorted list of indices of the buildings that can see the sunset.\n",
        "    \"\"\"\n",
        "    # \n",
        "    # Write your code here.\n",
        "    #\n",
        "    result = Stack()\n",
        "    \n",
        "    return sorted(list(result))\n",
        "\n",
        "@pytest.fixture(scope=\"session\")\n",
        "def data():\n",
        "    \n",
        "    array = []\n",
        "    \n",
        "    # test 1 data\n",
        "    array.append([3, 5, 4, 4, 3, 1, 3, 2])\n",
        "\n",
        "    # test 2 data\n",
        "    array.append([3, 5, 4, 4, 3, 1, 3, 2])\n",
        "\n",
        "    # test 3 data\n",
        "    array.append([10, 11])\n",
        "\n",
        "    # test 4 data\n",
        "    array.append([2,4])\n",
        "\n",
        "    # test 5 data\n",
        "    array.append([1])\n",
        "\n",
        "    # test 6 data\n",
        "    array.append([1])\n",
        "\n",
        "    # test 7 data\n",
        "    array.append([])\n",
        "\n",
        "    # test 8 data\n",
        "    array.append([])\n",
        "\n",
        "    # test 9 data\n",
        "    array.append([7, 1, 7, 8, 9, 8, 7, 6, 5, 4, 2, 5])\n",
        "\n",
        "    # test 10 data\n",
        "    array.append([1, 2, 3, 4, 5, 6])\n",
        "\n",
        "    # test 11 data\n",
        "    array.append([1, 2, 3, 4, 5, 6])\n",
        "\n",
        "    # test 12 data\n",
        "    array.append([1, 2, 3, 1, 5, 6, 9, 1, 9, 9, 11, 10, 9, 12, 8])\n",
        "\n",
        "    # test 13 data\n",
        "    array.append([20, 2, 3, 1, 5, 6, 9, 1, 9, 9, 11, 10, 9, 12, 8])\n",
        "    \n",
        "    return array\n",
        "\n",
        "def test_1(data):\n",
        "    \"\"\"\n",
        "    Test evaluation for [3, 5, 4, 4, 3, 1, 3, 2],EAST\n",
        "    \"\"\"\n",
        "    buildings = data[0]\n",
        "    direction = \"EAST\"\n",
        "    assert sunsetViews(buildings, direction) == [1, 3, 6, 7]\n",
        "\n",
        "\n",
        "def test_2(data):\n",
        "    \"\"\"\n",
        "    Test evaluation for [3, 5, 4, 4, 3, 1, 3, 2],WEST\n",
        "    \"\"\"\n",
        "    buildings = data[1]\n",
        "    direction = \"WEST\"\n",
        "    assert sunsetViews(buildings, direction) == [0,1]\n",
        "\n",
        "def test_3(data):\n",
        "    \"\"\"\n",
        "    Test evaluation for [10, 11],EAST\n",
        "    \"\"\"\n",
        "    buildings = data[2]\n",
        "    direction = \"EAST\"\n",
        "    assert sunsetViews(buildings, direction) == [1]\n",
        "\n",
        "def test_4(data):\n",
        "    \"\"\"\n",
        "    Test evaluation for [2,4],WEST\n",
        "    \"\"\"\n",
        "    buildings = data[3]\n",
        "    direction = \"WEST\"\n",
        "    assert sunsetViews(buildings, direction) == [0,1]\n",
        "\n",
        "def test_5(data):\n",
        "    \"\"\"\n",
        "    Test evaluation for [1],EAST\n",
        "    \"\"\"\n",
        "    buildings = data[4]\n",
        "    direction = \"EAST\"\n",
        "    assert sunsetViews(buildings, direction) == [0]\n",
        "\n",
        "def test_6(data):\n",
        "    \"\"\"\n",
        "    Test evaluation for [1],WEST\n",
        "    \"\"\"\n",
        "    buildings = data[5]\n",
        "    direction = \"WEST\"\n",
        "    assert sunsetViews(buildings, direction) == [0]\n",
        "\n",
        "def test_7(data):\n",
        "    \"\"\"\n",
        "    Test evaluation for [],EAST\n",
        "    \"\"\"\n",
        "    buildings = data[6]\n",
        "    direction = \"EAST\"\n",
        "    assert sunsetViews(buildings, direction) == []\n",
        "\n",
        "def test_8(data):\n",
        "    \"\"\"\n",
        "    Test evaluation for [],WEST\n",
        "    \"\"\"\n",
        "    buildings = data[7]\n",
        "    direction = \"WEST\"\n",
        "    assert sunsetViews(buildings, direction) == []\n",
        "\n",
        "def test_9(data):\n",
        "    \"\"\"\n",
        "    Test evaluation for [7, 1, 7, 8, 9, 8, 7, 6, 5, 4, 2, 5],EAST\n",
        "    \"\"\"\n",
        "    buildings = data[8]\n",
        "    direction = \"EAST\"\n",
        "    assert sunsetViews(buildings, direction) == [4, 5, 6, 7, 11]\n",
        "\n",
        "def test_10(data):\n",
        "    \"\"\"\n",
        "    Test evaluation for [1, 2, 3, 4, 5, 6],EAST\n",
        "    \"\"\"\n",
        "    buildings = data[9]\n",
        "    direction = \"EAST\"\n",
        "    assert sunsetViews(buildings, direction) == [5]\n",
        "\n",
        "def test_11(data):\n",
        "    \"\"\"\n",
        "    Test evaluation for [1, 2, 3, 4, 5, 6],WEST\n",
        "    \"\"\"\n",
        "    buildings = data[10]\n",
        "    direction = \"WEST\"\n",
        "    assert sunsetViews(buildings, direction) == [0, 1, 2, 3, 4, 5]\n",
        "\n",
        "def test_12(data):\n",
        "    \"\"\"\n",
        "    Test evaluation for [1, 2, 3, 1, 5, 6, 9, 1, 9, 9, 11, 10, 9, 12, 8],WEST\n",
        "    \"\"\"\n",
        "    buildings = data[11]\n",
        "    direction = \"WEST\"\n",
        "    assert sunsetViews(buildings, direction) == [0, 1, 2, 4, 5, 6, 10, 13]\n",
        "\n",
        "def test_13(data):\n",
        "    \"\"\"\n",
        "    Test evaluation for [20, 2, 3, 1, 5, 6, 9, 1, 9, 9, 11, 10, 9, 12, 8],EAST\n",
        "    \"\"\"\n",
        "    buildings = data[12]\n",
        "    direction = \"EAST\"\n",
        "    assert sunsetViews(buildings, direction) == [0, 13, 14]\n"
      ],
      "metadata": {
        "id": "LhfwHOvuiuwR",
        "colab": {
          "base_uri": "https://localhost:8080/"
        },
        "outputId": "90803ee5-a4e1-47ea-e6a1-8aba7186a13a"
      },
      "execution_count": null,
      "outputs": [
        {
          "output_type": "stream",
          "name": "stdout",
          "text": [
            "Overwriting test_stack.py\n"
          ]
        }
      ]
    },
    {
      "cell_type": "code",
      "source": [
        "!pytest test_stack.py -vv"
      ],
      "metadata": {
        "id": "TtucqsBLm85z"
      },
      "execution_count": null,
      "outputs": []
    }
  ]
}