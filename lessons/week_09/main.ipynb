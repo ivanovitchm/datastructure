{
  "nbformat": 4,
  "nbformat_minor": 0,
  "metadata": {
    "colab": {
      "provenance": []
    },
    "kernelspec": {
      "name": "python3",
      "display_name": "Python 3"
    },
    "language_info": {
      "name": "python"
    }
  },
  "cells": [
    {
      "cell_type": "markdown",
      "source": [
        "# Informação Adicional"
      ],
      "metadata": {
        "id": "w9aZGP1fSIcf"
      }
    },
    {
      "cell_type": "markdown",
      "source": [
        "Para calcular o intervalo de confiança de 95%, utilizamos a distribuição \\( t \\)-Student, apropriada para amostras com tamanho pequeno ou quando a variância populacional é desconhecida. A fórmula da margem de erro é:\n",
        "\n",
        "$\n",
        "\\text{Margem de erro} = t_{0.975} \\cdot \\frac{\\text{Desvio Padrão}}{\\sqrt{n}}\n",
        "$\n",
        "\n",
        "Onde:\n",
        "- $t_{0.975}$ é o valor crítico da distribuição \\( t \\)-Student para 95% de confiança, considerando \\( n - 1 \\) graus de liberdade.\n",
        "- Desvio Padrão ($\\sigma$) mede a variabilidade dos tempos de execução.\n",
        "- \\( n \\) é o número de execuções realizadas para o tamanho do vetor.\n",
        "\n",
        "O intervalo de confiança final é definido como:\n",
        "\n",
        "$\n",
        "\\text{Intervalo de confiança} = \\text{Média} \\pm \\text{Margem de erro}\n",
        "$\n",
        "\n",
        "Isso significa que, com 95% de confiança, o valor verdadeiro da média está dentro desse intervalo.\n"
      ],
      "metadata": {
        "id": "ISzzn655Rmnx"
      }
    },
    {
      "cell_type": "code",
      "execution_count": null,
      "metadata": {
        "id": "6bVMtBwODPfm"
      },
      "outputs": [],
      "source": [
        "import numpy as np\n",
        "import matplotlib.pyplot as plt\n",
        "from time import time\n",
        "from scipy.stats import t\n",
        "\n",
        "# Funções fake para simular os algoritmos\n",
        "def solver_closest(arr):\n",
        "    # Simula a execução de um algoritmo (substituir pelo algoritmo real)\n",
        "    return sorted(arr)[0]\n",
        "\n",
        "def solver_kth_largest(arr, k):\n",
        "    # Simula a execução de um algoritmo (substituir pelo algoritmo real)\n",
        "    return sorted(arr, reverse=True)[k-1]\n",
        "\n",
        "# Configurações\n",
        "np.random.seed(42)\n",
        "N = 100000  # Tamanho máximo do vetor\n",
        "steps = 10  # Número de tamanhos de vetor a testar\n",
        "executions_per_size = 5  # Número de execuções por tamanho de vetor\n",
        "\n",
        "# Tamanhos dos vetores a testar\n",
        "vector_sizes = np.linspace(100, N, steps, dtype=int)\n",
        "\n",
        "# Preparação para coleta de dados\n",
        "results_closest = []\n",
        "results_kth_largest = []\n",
        "confidence_intervals_closest = []\n",
        "confidence_intervals_kth_largest = []\n",
        "\n",
        "# Testar os algoritmos\n",
        "for size in vector_sizes:\n",
        "    times_closest = []\n",
        "    times_kth_largest = []\n",
        "\n",
        "    for _ in range(executions_per_size):\n",
        "        data = np.random.randint(0, 1000, size)\n",
        "\n",
        "        # Medir tempo para solver_closest\n",
        "        start = time()\n",
        "        solver_closest(data)\n",
        "        times_closest.append(time() - start)\n",
        "\n",
        "        # Medir tempo para solver_kth_largest\n",
        "        start = time()\n",
        "        solver_kth_largest(data, k=5)\n",
        "        times_kth_largest.append(time() - start)\n",
        "\n",
        "    # Calcular médias e intervalos de confiança (95%)\n",
        "    mean_closest = np.mean(times_closest)\n",
        "    mean_kth_largest = np.mean(times_kth_largest)\n",
        "    std_closest = np.std(times_closest, ddof=1)\n",
        "    std_kth_largest = np.std(times_kth_largest, ddof=1)\n",
        "    ci_closest = t.ppf(0.975, executions_per_size-1) * (std_closest / np.sqrt(executions_per_size))\n",
        "    ci_kth_largest = t.ppf(0.975, executions_per_size-1) * (std_kth_largest / np.sqrt(executions_per_size))\n",
        "\n",
        "    results_closest.append(mean_closest)\n",
        "    results_kth_largest.append(mean_kth_largest)\n",
        "    confidence_intervals_closest.append(ci_closest)\n",
        "    confidence_intervals_kth_largest.append(ci_kth_largest)\n",
        "\n",
        "# Gerar gráfico\n",
        "plt.figure(figsize=(12, 6))\n",
        "plt.errorbar(vector_sizes, results_closest, yerr=confidence_intervals_closest, label='Solver Closest', fmt='-o')\n",
        "plt.errorbar(vector_sizes, results_kth_largest, yerr=confidence_intervals_kth_largest, label='Solver Kth Largest', fmt='-o')\n",
        "plt.xlabel('Tamanho do vetor')\n",
        "plt.ylabel('Tempo médio (s)')\n",
        "plt.title('Desempenho dos algoritmos')\n",
        "plt.legend()\n",
        "plt.grid(True)\n",
        "plt.show()"
      ]
    }
  ]
}