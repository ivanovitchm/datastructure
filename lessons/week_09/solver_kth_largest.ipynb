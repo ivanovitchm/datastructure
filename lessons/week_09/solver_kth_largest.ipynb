{
  "nbformat": 4,
  "nbformat_minor": 0,
  "metadata": {
    "colab": {
      "provenance": []
    },
    "kernelspec": {
      "name": "python3",
      "display_name": "Python 3"
    },
    "language_info": {
      "name": "python"
    }
  },
  "cells": [
    {
      "cell_type": "markdown",
      "source": [
        "# Find Kth Largest Value in BST"
      ],
      "metadata": {
        "id": "tSxAN8oFsbeH"
      }
    },
    {
      "cell_type": "markdown",
      "source": [
        "Write a function that takes in a **Binary Search Tree (BST)** and a positive integer **k** and return the kth largest integer contained in the **BST**.\n",
        "\n",
        "You can assume that there will only be integer values in the BST and that **k** is less than or equal to the number of nodes in the tree.\n",
        "\n",
        "Also, for the purpose of this question, duplicate integers will be treated as distinct values. In other words, the second largest value in a BST containing values `{5,7,7}`will be `7`- not `5`.\n",
        "\n",
        "Each **BST** node has an integer **value**, a **left** child node, and a **right** child node. A node is said to be a valid **BST** node if and only if it satisfies the **BST** property:\n",
        "\n",
        "- its **value** is strictly greater than the values of every onde to its left;\n",
        "- its **value** is less than or equal to the values of every node to is rights;\n",
        "- its children nodes are either valid **BST** nodes themselves or **None**/**null**."
      ],
      "metadata": {
        "id": "SmWY5ATosljj"
      }
    },
    {
      "cell_type": "markdown",
      "source": [
        "Sample Input\n",
        "\n",
        "```python\n",
        " tree =   10\n",
        "       /     \\\n",
        "      5       20\n",
        "    /   \\   /   \\\n",
        "   2    5  17    22\n",
        "  / \\          \n",
        " 1   3        \n",
        "\n",
        "k = 3\n",
        "```\n",
        "\n",
        "Sample output\n",
        "\n",
        "```python\n",
        "17\n",
        "```"
      ],
      "metadata": {
        "id": "LGHsyUECs0WU"
      }
    },
    {
      "cell_type": "markdown",
      "source": [
        "**Hint 1**\n",
        "\n",
        "Make sure to consider the fact that the given tree is a Binary Search Tree - not just a regular Binary Tree. How does this fact help you the problem in a more optimal time complexity?"
      ],
      "metadata": {
        "id": "WWJpRzTWuOg8"
      }
    },
    {
      "cell_type": "markdown",
      "source": [
        "**Hint 2**\n",
        "\n",
        "The brute-force approach to this problem is to simply perform an in-order traversal of this **BST** and to store all of its node's values in the order in which they're visited. Since an in-order traversal of a **BST** visits the nodes in ascending order, the ``k``th value from the end of the traversal order will be the `k`th largest value."
      ],
      "metadata": {
        "id": "BhY862MpuhNE"
      }
    },
    {
      "cell_type": "markdown",
      "source": [
        "**Hint 3**\n",
        "\n",
        "You can actually solve this problem in `O(h + k)` time, where `h` is the height of the tree. Rather than looking at the nodes in ascending order, you shold look at them in descending order."
      ],
      "metadata": {
        "id": "tixRmplAuse9"
      }
    },
    {
      "cell_type": "markdown",
      "source": [
        "**Hint 4**\n",
        "\n",
        "To solve this problem in `O(h + k)`time as mentioned in Hint 3, you need to perform a **reverse** in-order traversal. Since you'll be looking at nodes in descending order, you can simply return the `k`th visited in the reverse in-order traversal."
      ],
      "metadata": {
        "id": "iwzP_tr8BOsz"
      }
    },
    {
      "cell_type": "markdown",
      "source": [
        "**Optimal Space & Time Complexity**\n",
        "\n",
        "- O(h+k) time | O(h) space - where `h`is the height of the tree and `k`is the input parameter."
      ],
      "metadata": {
        "id": "Wxm-qDhFu-kR"
      }
    },
    {
      "cell_type": "markdown",
      "source": [
        "# Classes definitions"
      ],
      "metadata": {
        "id": "Jur089c2eInl"
      }
    },
    {
      "cell_type": "code",
      "source": [
        "!pip install pytest pytest-sugar"
      ],
      "metadata": {
        "id": "VNqrfc83AJPT"
      },
      "execution_count": null,
      "outputs": []
    },
    {
      "cell_type": "code",
      "source": [
        "%%file binarysearchtree.py\n",
        "import plotly.graph_objs as go\n",
        "\n",
        "class Node:\n",
        "    \"\"\"\n",
        "    A class representing a node in a binary search tree.\n",
        "\n",
        "    Attributes:\n",
        "    - value: the value of the node\n",
        "    - left_child: the left child of the node\n",
        "    - right_child: the right child of the node\n",
        "    \"\"\"\n",
        "\n",
        "    def __init__(self, value):\n",
        "        \"\"\"\n",
        "        Initializes a new instance of the Node class.\n",
        "\n",
        "        Args:\n",
        "        - value: the value of the node\n",
        "        \"\"\"\n",
        "        self.value = value\n",
        "        self.left_child = None\n",
        "        self.right_child = None\n",
        "\n",
        "\n",
        "class BST:\n",
        "    \"\"\"\n",
        "    A class representing a binary search tree.\n",
        "\n",
        "    Attributes:\n",
        "    - root: the root node of the tree\n",
        "    \"\"\"\n",
        "\n",
        "    def __init__(self):\n",
        "        \"\"\"\n",
        "        Initializes a new instance of the BST class.\n",
        "        \"\"\"\n",
        "        self.root = None\n",
        "\n",
        "    def add(self, value):\n",
        "        \"\"\"\n",
        "        Adds a new node with the given value to the tree.\n",
        "\n",
        "        Args:\n",
        "        - value: the value of the node to add\n",
        "        \"\"\"\n",
        "        if self.root is None:\n",
        "            # The root does exist yet, create it\n",
        "            self.root = Node(value)\n",
        "        else:\n",
        "            # Find the right place and insert new value\n",
        "            self._add_recursive(self.root, value)\n",
        "\n",
        "    def _add_recursive(self, current_node, value):\n",
        "        \"\"\"\n",
        "        A helper method to recursively traverse the tree and find the correct position to add the new node.\n",
        "\n",
        "        Args:\n",
        "        - current_node: the current node to traverse\n",
        "        - value: the value of the node to add\n",
        "        \"\"\"\n",
        "        if value <= current_node.value:\n",
        "            # Go to the left\n",
        "            if current_node.left_child is None:\n",
        "                current_node.left_child = Node(value)\n",
        "            else:\n",
        "                self._add_recursive(current_node.left_child, value)\n",
        "        else:\n",
        "            # Go to the right\n",
        "            if current_node.right_child is None:\n",
        "                current_node.right_child = Node(value)\n",
        "            else:\n",
        "                self._add_recursive(current_node.right_child, value)\n",
        "\n",
        "    def _contains(self, current_node, value):\n",
        "        \"\"\"\n",
        "        A helper method to recursively traverse the tree and find the node with the given value.\n",
        "\n",
        "        Args:\n",
        "        - current_node: the current node to traverse\n",
        "        - value: the value to search for\n",
        "\n",
        "        Returns:\n",
        "        - True if a node with the given value is found, False otherwise\n",
        "        \"\"\"\n",
        "        if current_node is None:\n",
        "            return False\n",
        "        if current_node.value == value:\n",
        "            return True\n",
        "        if value < current_node.value:\n",
        "            return self._contains(current_node.left_child, value)\n",
        "        return self._contains(current_node.right_child, value)\n",
        "\n",
        "    def contains(self, value):\n",
        "        \"\"\"\n",
        "        Checks whether a node with the given value is present in the tree.\n",
        "\n",
        "        Args:\n",
        "        - value: the value to search for\n",
        "\n",
        "        Returns:\n",
        "        - True if a node with the given value is found, False otherwise\n",
        "        \"\"\"\n",
        "        return self._contains(self.root, value)\n",
        "\n",
        "    def plot(self):\n",
        "        \"\"\"\n",
        "        Plots the binary search tree using Plotly.\n",
        "        \"\"\"\n",
        "        if self.root is None:\n",
        "            print(\"The tree is empty!\")\n",
        "            return\n",
        "\n",
        "        # Initialize lists for coordinates and connections\n",
        "        node_coords = []\n",
        "        lines = []\n",
        "\n",
        "        # Helper function to traverse the tree and fill the coordinate and connection lists\n",
        "        def _plot_recursive(node, x, y, offset):\n",
        "            if node is not None:\n",
        "                node_coords.append((x, y, node.value))\n",
        "                if node.left_child is not None:\n",
        "                    new_x = x - offset\n",
        "                    new_y = y - 1\n",
        "                    lines.append((x, y, new_x, new_y))\n",
        "                    _plot_recursive(node.left_child, new_x, new_y, offset / 2)\n",
        "                if node.right_child is not None:\n",
        "                    new_x = x + offset\n",
        "                    new_y = y - 1\n",
        "                    lines.append((x, y, new_x, new_y))\n",
        "                    _plot_recursive(node.right_child, new_x, new_y, offset / 2)\n",
        "\n",
        "        # Traverse the tree starting from the root node\n",
        "        _plot_recursive(self.root, x=0, y=0, offset=0.5)\n",
        "\n",
        "        # Create a scatter plot for the nodes\n",
        "        node_trace = go.Scatter(x=[x for x, y, _ in node_coords],\n",
        "                                y=[y for _, y, _ in node_coords],\n",
        "                                text=[str(val) for _, _, val in node_coords],\n",
        "                                mode='markers+text',\n",
        "                                textposition='top center',\n",
        "                                marker=dict(symbol='circle',\n",
        "                                            size=20,\n",
        "                                            color='darkblue'))\n",
        "\n",
        "        # Create a scatter plot for the connections between nodes\n",
        "        line_trace = go.Scatter(x=sum([[x1, x2, None] for x1, y1, x2, y2 in lines], []),\n",
        "                                y=sum([[y1, y2, None] for x1, y1, x2, y2 in lines], []),\n",
        "                                mode='lines',\n",
        "                                line=dict(color='black'))\n",
        "\n",
        "        # Combine the two scatter plots\n",
        "        layout = go.Layout(title='',\n",
        "                           xaxis=dict(title='', showgrid=False, zeroline=False, showticklabels=False),\n",
        "                           yaxis=dict(title='', showgrid=False, zeroline=False, showticklabels=False),\n",
        "                           showlegend=False)\n",
        "\n",
        "        fig = go.Figure(data=[node_trace, line_trace], layout=layout)\n",
        "        fig.show()"
      ],
      "metadata": {
        "id": "3-Uk4i-Mfmxn"
      },
      "execution_count": null,
      "outputs": []
    },
    {
      "cell_type": "code",
      "source": [
        "%run -i binarysearchtree.py"
      ],
      "metadata": {
        "id": "PIu4Cq4YZzwo"
      },
      "execution_count": null,
      "outputs": []
    },
    {
      "cell_type": "code",
      "source": [
        "from binarysearchtree import *\n",
        "# Example usage:\n",
        "bst = BST()\n",
        "for value in [5, 3, 1, 0, 2, 4, 7, 6, 8]:\n",
        "    bst.add(value)\n",
        "bst.plot()"
      ],
      "metadata": {
        "id": "Hh933QK5fsCQ"
      },
      "execution_count": null,
      "outputs": []
    },
    {
      "cell_type": "code",
      "source": [
        "%%file closestvalue.py\n",
        "import pytest\n",
        "from binarysearchtree import *\n",
        "\n",
        "def findKthLargestValue(tree, k):\n",
        "    \"\"\"\n",
        "    Finds the kth largest integer in a Binary Search Tree (BST).\n",
        "\n",
        "    The function traverses the BST in an in-order manner to collect the node values in a sorted list.\n",
        "    It then returns the kth largest value from this list. The BST is assumed to contain only integer values.\n",
        "    In case of duplicate integers, they are treated as distinct values.\n",
        "    The kth largest integer is determined in the context of these distinct values.\n",
        "\n",
        "    Parameters:\n",
        "    tree (BST): the Binary Search Tree (BST).\n",
        "    k (int): A positive integer representing the kth position.\n",
        "\n",
        "    Returns:\n",
        "    int: The kth largest integer present in the BST.\n",
        "    \"\"\"\n",
        "\n",
        "    sortedNodeValues = []\n",
        "    inOrderTraverse(tree.root,sortedNodeValues)\n",
        "    return sortedNodeValues[len(sortedNodeValues) - k]\n",
        "\n",
        "def inOrderTraverse(node, sortedNodeValues):\n",
        "    if node is None:\n",
        "        return\n",
        "\n",
        "    inOrderTraverse(node.left_child, sortedNodeValues)\n",
        "    sortedNodeValues.append(node.value)\n",
        "    inOrderTraverse(node.right_child, sortedNodeValues)\n",
        "\n",
        "\n",
        "@pytest.fixture(scope=\"session\")\n",
        "def data():\n",
        "\n",
        "    array = [[15,5,20,17,22,2,5,1,3],\n",
        "             [5,4,6,3,7],\n",
        "             [5],\n",
        "             [20,15,25,10,19,21,30,22],\n",
        "             [1,2,3,4,5],\n",
        "             [10,8,6,4,2],\n",
        "             [10,8,6,9,4,7,2,5,3],\n",
        "             [99727,99,727],\n",
        "             [15,5,20,17,22,24,23,25,2,5,1,3],\n",
        "             [15,5,20,17,22,2,5,1,3],\n",
        "             [15,5,20,17,22,2,5,1,3]\n",
        "             ]\n",
        "    return array\n",
        "\n",
        "def test_1(data):\n",
        "    bst = BST()\n",
        "    for value in data[0]:\n",
        "      bst.add(value)\n",
        "    assert findKthLargestValue(bst, 3) == 17\n",
        "\n",
        "def test_2(data):\n",
        "    bst = BST()\n",
        "    for value in data[1]:\n",
        "      bst.add(value)\n",
        "    assert findKthLargestValue(bst, 1) == 7\n",
        "\n",
        "def test_3(data):\n",
        "    bst = BST()\n",
        "    for value in data[2]:\n",
        "      bst.add(value)\n",
        "    assert findKthLargestValue(bst, 1) == 5\n",
        "\n",
        "def test_4(data):\n",
        "    bst = BST()\n",
        "    for value in data[3]:\n",
        "      bst.add(value)\n",
        "    assert findKthLargestValue(bst, 3) == 22\n",
        "\n",
        "def test_5(data):\n",
        "    bst = BST()\n",
        "    for value in data[4]:\n",
        "      bst.add(value)\n",
        "    assert findKthLargestValue(bst, 5) == 1\n",
        "\n",
        "def test_6(data):\n",
        "    bst = BST()\n",
        "    for value in data[5]:\n",
        "      bst.add(value)\n",
        "    assert findKthLargestValue(bst, 2) == 8\n",
        "\n",
        "def test_7(data):\n",
        "    bst = BST()\n",
        "    for value in data[6]:\n",
        "      bst.add(value)\n",
        "    assert findKthLargestValue(bst, 5) == 6\n",
        "\n",
        "def test_8(data):\n",
        "    bst = BST()\n",
        "    for value in data[7]:\n",
        "      bst.add(value)\n",
        "    assert findKthLargestValue(bst, 1) == 99727\n",
        "\n",
        "def test_9(data):\n",
        "    bst = BST()\n",
        "    for value in data[8]:\n",
        "      bst.add(value)\n",
        "    assert findKthLargestValue(bst, 7) == 15\n",
        "\n",
        "def test_10(data):\n",
        "    bst = BST()\n",
        "    for value in data[9]:\n",
        "      bst.add(value)\n",
        "    assert findKthLargestValue(bst, 5) == 5\n",
        "\n",
        "def test_11(data):\n",
        "    bst = BST()\n",
        "    for value in data[10]:\n",
        "      bst.add(value)\n",
        "    assert findKthLargestValue(bst, 6) == 5"
      ],
      "metadata": {
        "id": "r27fL9BcKYqG"
      },
      "execution_count": null,
      "outputs": []
    },
    {
      "cell_type": "code",
      "source": [
        "!pytest closestvalue.py -vv"
      ],
      "metadata": {
        "id": "iw65pBGTMYmg"
      },
      "execution_count": null,
      "outputs": []
    }
  ]
}