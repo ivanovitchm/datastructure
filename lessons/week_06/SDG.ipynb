{
  "nbformat": 4,
  "nbformat_minor": 0,
  "metadata": {
    "colab": {
      "provenance": []
    },
    "kernelspec": {
      "name": "python3",
      "display_name": "Python 3"
    },
    "language_info": {
      "name": "python"
    }
  },
  "cells": [
    {
      "cell_type": "markdown",
      "source": [
        "Query SDG: https://elsevier.digitalcommonsdata.com/datasets/y2zyy9vwzy/1"
      ],
      "metadata": {
        "id": "LKj96tBZbVtG"
      }
    },
    {
      "cell_type": "code",
      "execution_count": null,
      "metadata": {
        "id": "7XdYvq0kAk1n"
      },
      "outputs": [],
      "source": [
        "import pandas as pd\n",
        "\n",
        "# Caminho do arquivo CSV\n",
        "csv_file_path = '/content/SDG_9_ufrn.csv'\n",
        "\n",
        "# Leitura do arquivo CSV para um DataFrame\n",
        "df = pd.read_csv(csv_file_path, sep=',', engine='python')\n",
        "\n",
        "# Exibir as primeiras linhas do DataFrame para verificar o resultado\n",
        "print(df.head())\n",
        "\n",
        "# Salvar os dados tratados em um novo arquivo CSV (opcional)\n",
        "df.to_csv('/content/SDG_9_ufrn.csv', index=False)\n",
        "print(\"Dados salvos no arquivo 'SDG_9_ufrn_clean.csv'.\")"
      ]
    },
    {
      "cell_type": "code",
      "source": [
        "df.info()"
      ],
      "metadata": {
        "colab": {
          "base_uri": "https://localhost:8080/"
        },
        "id": "zRCqEwPDAxB0",
        "outputId": "d4e545db-9d0c-4db1-85c8-3ce11411b460"
      },
      "execution_count": null,
      "outputs": [
        {
          "output_type": "stream",
          "name": "stdout",
          "text": [
            "<class 'pandas.core.frame.DataFrame'>\n",
            "RangeIndex: 429 entries, 0 to 428\n",
            "Data columns (total 46 columns):\n",
            " #   Column                         Non-Null Count  Dtype  \n",
            "---  ------                         --------------  -----  \n",
            " 0   Authors                        429 non-null    object \n",
            " 1   Author full names              429 non-null    object \n",
            " 2   Author(s) ID                   429 non-null    object \n",
            " 3   Title                          429 non-null    object \n",
            " 4   Year                           429 non-null    int64  \n",
            " 5   Source title                   429 non-null    object \n",
            " 6   Volume                         332 non-null    object \n",
            " 7   Issue                          217 non-null    object \n",
            " 8   Art. No.                       148 non-null    object \n",
            " 9   Page start                     281 non-null    object \n",
            " 10  Page end                       277 non-null    object \n",
            " 11  Page count                     281 non-null    float64\n",
            " 12  Cited by                       429 non-null    int64  \n",
            " 13  DOI                            385 non-null    object \n",
            " 14  Link                           429 non-null    object \n",
            " 15  Affiliations                   429 non-null    object \n",
            " 16  Authors with affiliations      429 non-null    object \n",
            " 17  Abstract                       429 non-null    object \n",
            " 18  Author Keywords                368 non-null    object \n",
            " 19  Index Keywords                 306 non-null    object \n",
            " 20  Molecular Sequence Numbers     0 non-null      float64\n",
            " 21  Chemicals/CAS                  41 non-null     object \n",
            " 22  Tradenames                     2 non-null      object \n",
            " 23  Manufacturers                  1 non-null      object \n",
            " 24  Funding Details                206 non-null    object \n",
            " 25  Funding Texts                  205 non-null    object \n",
            " 26  References                     421 non-null    object \n",
            " 27  Correspondence Address         313 non-null    object \n",
            " 28  Editors                        31 non-null     object \n",
            " 29  Publisher                      382 non-null    object \n",
            " 30  Sponsors                       42 non-null     object \n",
            " 31  Conference name                92 non-null     object \n",
            " 32  Conference date                92 non-null     object \n",
            " 33  Conference location            92 non-null     object \n",
            " 34  Conference code                92 non-null     float64\n",
            " 35  ISSN                           345 non-null    object \n",
            " 36  ISBN                           102 non-null    object \n",
            " 37  CODEN                          136 non-null    object \n",
            " 38  PubMed ID                      58 non-null     float64\n",
            " 39  Language of Original Document  429 non-null    object \n",
            " 40  Abbreviated Source Title       429 non-null    object \n",
            " 41  Document Type                  429 non-null    object \n",
            " 42  Publication Stage              429 non-null    object \n",
            " 43  Open Access                    155 non-null    object \n",
            " 44  Source                         429 non-null    object \n",
            " 45  EID                            429 non-null    object \n",
            "dtypes: float64(4), int64(2), object(40)\n",
            "memory usage: 154.3+ KB\n"
          ]
        }
      ]
    },
    {
      "cell_type": "code",
      "source": [
        "# Import necessary libraries\n",
        "import pandas as pd\n",
        "import networkx as nx\n",
        "\n",
        "# Create an empty graph\n",
        "G = nx.Graph()\n",
        "\n",
        "# Iterate over the rows in the DataFrame\n",
        "for index, row in df.iterrows():\n",
        "    # Split the Author(s) ID string into a list\n",
        "    author_ids = row['Author(s) ID'].split('; ')\n",
        "\n",
        "    # Split the Author full names string into a list\n",
        "    author_names = row['Author full names'].split('; ')\n",
        "\n",
        "    # Add each author to the graph as a node\n",
        "    for author_id, author_name in zip(author_ids, author_names):\n",
        "        G.add_node(author_id, name=author_name)\n",
        "\n",
        "    # Add an edge between each pair of authors who are co-authors\n",
        "    for i in range(len(author_ids)):\n",
        "        for j in range(i + 1, len(author_ids)):\n",
        "            G.add_edge(author_ids[i], author_ids[j])\n",
        "\n",
        "# Print the number of nodes and edges in the graph\n",
        "print(f\"Number of nodes: {G.number_of_nodes()}\")\n",
        "print(f\"Number of edges: {G.number_of_edges()}\")"
      ],
      "metadata": {
        "colab": {
          "base_uri": "https://localhost:8080/"
        },
        "id": "xAMxVKLy9KlJ",
        "outputId": "0b64e98d-f6fc-48a8-a892-cf0095cdafca"
      },
      "execution_count": null,
      "outputs": [
        {
          "output_type": "stream",
          "name": "stdout",
          "text": [
            "Number of nodes: 1624\n",
            "Number of edges: 5774\n"
          ]
        }
      ]
    },
    {
      "cell_type": "code",
      "source": [
        "G.nodes(data=True)"
      ],
      "metadata": {
        "id": "TtX8ROMa93I9"
      },
      "execution_count": null,
      "outputs": []
    },
    {
      "cell_type": "code",
      "source": [
        "# Calculate the density of the graph\n",
        "density = nx.density(G)\n",
        "print(f\"Density: {density}\")\n",
        "\n",
        "# Calculate the average number of neighbors per node\n",
        "average_neighbors = sum(len(list(nx.neighbors(G, node))) for node in G) / len(G) # iterate over nodes and get neighbors for each\n",
        "print(f\"Average number of neighbors: {average_neighbors}\")\n",
        "\n",
        "# Calculate the degree distribution of the graph\n",
        "degree_distribution = dict(nx.degree(G))\n",
        "\n",
        "# Create a histogram of the degree distribution\n",
        "import plotly.express as px\n",
        "fig = px.histogram(list(degree_distribution.values()), nbins=100)\n",
        "fig.update_layout(\n",
        "    title=\"Degree Distribution of the Co-authorship Graph\",\n",
        "    xaxis_title=\"Degree\",\n",
        "    yaxis_title=\"Frequency\",\n",
        ")\n",
        "fig.show()\n"
      ],
      "metadata": {
        "colab": {
          "base_uri": "https://localhost:8080/",
          "height": 577
        },
        "id": "J006CrPP_ICD",
        "outputId": "60154bdc-d453-4527-c1c7-4d984ae9a825"
      },
      "execution_count": null,
      "outputs": [
        {
          "output_type": "stream",
          "name": "stdout",
          "text": [
            "Density: 0.0043812923218876434\n",
            "Average number of neighbors: 7.110837438423645\n"
          ]
        },
        {
          "output_type": "display_data",
          "data": {
            "text/html": [
              "<html>\n",
              "<head><meta charset=\"utf-8\" /></head>\n",
              "<body>\n",
              "    <div>            <script src=\"https://cdnjs.cloudflare.com/ajax/libs/mathjax/2.7.5/MathJax.js?config=TeX-AMS-MML_SVG\"></script><script type=\"text/javascript\">if (window.MathJax && window.MathJax.Hub && window.MathJax.Hub.Config) {window.MathJax.Hub.Config({SVG: {font: \"STIX-Web\"}});}</script>                <script type=\"text/javascript\">window.PlotlyConfig = {MathJaxConfig: 'local'};</script>\n",
              "        <script charset=\"utf-8\" src=\"https://cdn.plot.ly/plotly-2.24.1.min.js\"></script>                <div id=\"d1a9052b-24d0-4330-8ae4-f0f0e0658083\" class=\"plotly-graph-div\" style=\"height:525px; width:100%;\"></div>            <script type=\"text/javascript\">                                    window.PLOTLYENV=window.PLOTLYENV || {};                                    if (document.getElementById(\"d1a9052b-24d0-4330-8ae4-f0f0e0658083\")) {                    Plotly.newPlot(                        \"d1a9052b-24d0-4330-8ae4-f0f0e0658083\",                        [{\"alignmentgroup\":\"True\",\"bingroup\":\"x\",\"hovertemplate\":\"variable=0\\u003cbr\\u003evalue=%{x}\\u003cbr\\u003ecount=%{y}\\u003cextra\\u003e\\u003c\\u002fextra\\u003e\",\"legendgroup\":\"0\",\"marker\":{\"color\":\"#636efa\",\"pattern\":{\"shape\":\"\"}},\"name\":\"0\",\"nbinsx\":100,\"offsetgroup\":\"0\",\"orientation\":\"v\",\"showlegend\":true,\"x\":[12,12,5,10,5,16,14,14,11,11,8,8,13,13,27,16,16,16,16,16,16,16,16,16,16,22,16,24,16,24,16,24,9,35,17,9,14,41,9,9,11,16,7,3,3,3,6,9,6,6,6,6,19,93,13,6,6,6,6,15,6,6,31,7,7,7,29,10,9,1,5,5,5,5,5,5,4,4,4,4,4,5,5,11,5,7,13,7,7,7,7,7,4,4,4,4,8,8,8,8,8,8,8,10,8,4,4,4,4,4,9,11,6,8,24,40,21,4,4,11,16,4,4,4,4,4,37,4,10,16,10,17,2,2,2,7,5,3,3,27,13,6,6,9,25,5,5,38,12,31,5,5,7,14,9,12,22,22,9,13,5,9,5,5,5,13,5,9,9,9,9,9,9,9,9,9,15,24,5,5,5,3,9,3,3,4,4,4,13,20,3,11,3,3,12,7,7,12,12,12,6,6,8,14,8,8,8,8,8,12,14,7,7,7,7,7,7,8,8,8,8,8,8,8,11,11,11,11,11,11,11,11,11,11,11,11,4,4,4,24,6,6,6,6,6,6,4,4,4,4,12,11,6,25,6,6,6,1,7,1,1,7,7,7,7,7,7,14,6,6,6,6,6,6,6,5,8,5,5,5,5,9,9,9,9,9,9,5,6,6,6,6,6,6,6,8,13,8,20,14,2,2,4,9,9,9,9,25,9,6,6,6,6,13,13,13,13,13,13,13,13,13,13,13,13,3,3,3,3,4,4,4,4,4,3,15,7,3,3,3,3,3,3,3,3,3,3,3,3,3,5,5,10,19,5,9,9,9,9,9,9,11,9,9,9,6,6,17,2,2,6,8,6,9,18,17,6,6,6,6,6,7,4,4,4,6,10,10,10,10,10,10,10,10,10,10,10,10,10,15,8,8,6,6,6,6,6,6,6,3,3,3,3,3,3,12,5,18,5,18,5,7,4,4,4,4,4,4,4,4,17,9,11,10,9,9,9,5,5,5,5,5,5,6,6,6,6,6,6,5,5,4,4,5,5,5,14,17,9,9,9,9,9,9,9,9,9,9,5,5,5,5,5,7,2,10,10,10,10,10,10,10,10,10,10,6,6,6,6,6,11,11,11,16,11,11,11,11,11,11,11,11,3,3,3,3,7,7,7,7,7,14,8,8,8,8,8,8,8,8,7,7,7,7,7,7,7,7,2,38,12,9,12,9,21,12,1,15,5,5,6,6,5,3,3,3,7,3,22,3,3,3,2,2,4,10,4,4,4,4,4,4,5,5,5,5,5,5,3,3,3,3,7,7,7,7,7,7,7,17,6,6,10,6,11,14,7,6,5,5,5,3,2,2,6,6,6,6,6,14,1,3,3,3,3,5,7,5,4,4,4,4,4,6,6,6,6,6,6,6,6,6,6,6,6,11,6,6,6,5,5,5,5,5,6,6,6,10,5,6,12,26,4,4,4,4,6,3,5,5,5,5,5,5,4,9,8,4,2,12,3,6,6,7,6,6,6,7,2,5,26,17,5,2,2,2,2,2,4,6,0,3,3,4,8,4,4,4,4,4,9,9,9,9,11,11,11,11,11,9,9,11,11,11,3,1,1,3,17,8,11,11,9,9,8,7,9,9,7,7,17,2,2,3,3,3,3,8,8,8,8,8,8,22,8,6,6,6,6,6,6,4,4,4,4,4,13,13,13,13,13,13,13,13,13,13,13,13,13,13,4,4,4,10,4,6,11,6,6,9,9,2,2,11,11,11,11,11,11,11,11,11,11,4,11,24,4,5,3,3,3,5,7,7,7,7,7,7,7,7,7,7,7,7,13,7,7,3,3,3,3,8,7,7,7,7,14,8,4,14,14,14,14,14,14,14,14,14,14,14,14,14,14,4,4,4,4,9,9,9,16,9,9,9,9,24,4,5,5,5,5,5,7,7,7,7,7,7,7,7,2,2,7,7,7,7,7,7,7,7,7,6,6,6,6,6,6,6,6,6,30,8,11,8,8,11,11,11,6,6,9,6,7,7,7,7,7,7,7,7,3,5,5,3,15,5,5,5,2,2,2,2,5,5,5,5,5,7,7,7,5,5,5,5,5,5,4,4,6,4,2,8,8,8,8,8,8,8,8,8,3,3,3,3,3,3,2,4,4,5,2,5,5,2,6,6,6,6,6,6,2,2,2,6,6,6,11,5,3,3,3,3,1,1,7,7,7,7,4,4,4,4,4,4,4,10,10,10,10,10,10,10,10,10,10,10,10,10,10,10,10,10,10,10,10,1,1,3,1,1,2,2,6,6,6,6,6,6,15,6,6,6,6,14,6,6,4,4,4,9,9,9,9,9,9,9,9,9,9,4,4,4,4,5,5,4,4,4,3,3,4,2,2,8,4,4,3,3,3,11,6,1,1,1,1,1,2,2,2,5,5,4,4,4,4,2,4,6,6,6,6,5,5,5,5,14,9,3,3,3,3,3,3,1,1,2,2,2,7,7,7,6,6,6,6,6,6,5,5,5,10,5,8,4,4,4,4,4,4,4,8,8,8,8,8,8,8,8,8,2,2,2,1,1,3,5,3,3,7,7,10,3,3,8,4,4,4,4,2,2,2,3,3,5,3,7,7,7,7,7,7,10,2,2,6,4,6,10,4,4,3,3,2,2,2,3,3,3,3,4,4,13,5,5,5,3,3,1,2,2,2,4,10,14,4,4,5,3,5,5,5,5,5,3,3,3,3,2,2,2,5,5,5,1,8,4,1,3,5,5,5,5,5,5,4,4,8,4,5,2,2,6,6,6,6,6,4,4,4,2,2,2,1,1,3,3,3,3,3,3,3,12,12,12,12,12,12,12,12,12,12,12,12,12,11,2,4,4,4,4,4,1,1,4,4,3,3,3,4,2,2,6,6,6,6,6,5,5,5,5,5,5,4,4,4,4,6,6,6,10,10,5,3,3,3,3,4,4,4,4,8,1,1,2,13,1,4,4,5,5,3,3,3,3,3,3,5,5,5,3,1,1,1,16,16,10,10,10,10,10,10,10,10,10,2,2,7,2,2,2,5,5,5,5,5,5,5,5,1,6,2,2,2,2,2,4,4,3,5,22,22,22,22,22,22,22,22,22,22,22,22,22,22,22,22,22,22,22,22,22,22,22,4,4,3,3,10,4,10,7,4,6,6,6,6,4,4,4,2,2,11,11,11,11,11,11,11,11,11,13,2,2,4,4,4,4,4,4,4,4,7,4,3,3,12,8,5,5,5,4,9,4,4,4,5,5,5,5,5,10,3,7,7,7,7,14,4,4,4,5,5,5,5,3,3,3,5,5,5,2,2,4,4,4,4,4,4,1,1,2,2,2,5,5,5,5,5,5,5,6,7,8,5,4,4,4,4,4,4,4,4,4,2,2,2,7,7,7,7,3,0,2,2,4,4,4,4,4,4,4,1,1,1,2,2,2,4,3,14,14,14,14,14,14,14,14,14,14,14,14,3,3,3,4,6,6,6,6,6,3,3,3,6,6,6,6,5,5,5,3,2,4,2,1,3,3,3,3,3,3,3,3,3,8,8,8,8,8,8,4,3,10,3,1,6,7,6,6,2,2,2,1,1,10,4,8,8,12,8,8,2,2,2,2,2,2,2,5,5,5,5,5,5,2,2,4,4,2,2,4,4,4,2,4],\"xaxis\":\"x\",\"yaxis\":\"y\",\"type\":\"histogram\"}],                        {\"template\":{\"data\":{\"histogram2dcontour\":[{\"type\":\"histogram2dcontour\",\"colorbar\":{\"outlinewidth\":0,\"ticks\":\"\"},\"colorscale\":[[0.0,\"#0d0887\"],[0.1111111111111111,\"#46039f\"],[0.2222222222222222,\"#7201a8\"],[0.3333333333333333,\"#9c179e\"],[0.4444444444444444,\"#bd3786\"],[0.5555555555555556,\"#d8576b\"],[0.6666666666666666,\"#ed7953\"],[0.7777777777777778,\"#fb9f3a\"],[0.8888888888888888,\"#fdca26\"],[1.0,\"#f0f921\"]]}],\"choropleth\":[{\"type\":\"choropleth\",\"colorbar\":{\"outlinewidth\":0,\"ticks\":\"\"}}],\"histogram2d\":[{\"type\":\"histogram2d\",\"colorbar\":{\"outlinewidth\":0,\"ticks\":\"\"},\"colorscale\":[[0.0,\"#0d0887\"],[0.1111111111111111,\"#46039f\"],[0.2222222222222222,\"#7201a8\"],[0.3333333333333333,\"#9c179e\"],[0.4444444444444444,\"#bd3786\"],[0.5555555555555556,\"#d8576b\"],[0.6666666666666666,\"#ed7953\"],[0.7777777777777778,\"#fb9f3a\"],[0.8888888888888888,\"#fdca26\"],[1.0,\"#f0f921\"]]}],\"heatmap\":[{\"type\":\"heatmap\",\"colorbar\":{\"outlinewidth\":0,\"ticks\":\"\"},\"colorscale\":[[0.0,\"#0d0887\"],[0.1111111111111111,\"#46039f\"],[0.2222222222222222,\"#7201a8\"],[0.3333333333333333,\"#9c179e\"],[0.4444444444444444,\"#bd3786\"],[0.5555555555555556,\"#d8576b\"],[0.6666666666666666,\"#ed7953\"],[0.7777777777777778,\"#fb9f3a\"],[0.8888888888888888,\"#fdca26\"],[1.0,\"#f0f921\"]]}],\"heatmapgl\":[{\"type\":\"heatmapgl\",\"colorbar\":{\"outlinewidth\":0,\"ticks\":\"\"},\"colorscale\":[[0.0,\"#0d0887\"],[0.1111111111111111,\"#46039f\"],[0.2222222222222222,\"#7201a8\"],[0.3333333333333333,\"#9c179e\"],[0.4444444444444444,\"#bd3786\"],[0.5555555555555556,\"#d8576b\"],[0.6666666666666666,\"#ed7953\"],[0.7777777777777778,\"#fb9f3a\"],[0.8888888888888888,\"#fdca26\"],[1.0,\"#f0f921\"]]}],\"contourcarpet\":[{\"type\":\"contourcarpet\",\"colorbar\":{\"outlinewidth\":0,\"ticks\":\"\"}}],\"contour\":[{\"type\":\"contour\",\"colorbar\":{\"outlinewidth\":0,\"ticks\":\"\"},\"colorscale\":[[0.0,\"#0d0887\"],[0.1111111111111111,\"#46039f\"],[0.2222222222222222,\"#7201a8\"],[0.3333333333333333,\"#9c179e\"],[0.4444444444444444,\"#bd3786\"],[0.5555555555555556,\"#d8576b\"],[0.6666666666666666,\"#ed7953\"],[0.7777777777777778,\"#fb9f3a\"],[0.8888888888888888,\"#fdca26\"],[1.0,\"#f0f921\"]]}],\"surface\":[{\"type\":\"surface\",\"colorbar\":{\"outlinewidth\":0,\"ticks\":\"\"},\"colorscale\":[[0.0,\"#0d0887\"],[0.1111111111111111,\"#46039f\"],[0.2222222222222222,\"#7201a8\"],[0.3333333333333333,\"#9c179e\"],[0.4444444444444444,\"#bd3786\"],[0.5555555555555556,\"#d8576b\"],[0.6666666666666666,\"#ed7953\"],[0.7777777777777778,\"#fb9f3a\"],[0.8888888888888888,\"#fdca26\"],[1.0,\"#f0f921\"]]}],\"mesh3d\":[{\"type\":\"mesh3d\",\"colorbar\":{\"outlinewidth\":0,\"ticks\":\"\"}}],\"scatter\":[{\"fillpattern\":{\"fillmode\":\"overlay\",\"size\":10,\"solidity\":0.2},\"type\":\"scatter\"}],\"parcoords\":[{\"type\":\"parcoords\",\"line\":{\"colorbar\":{\"outlinewidth\":0,\"ticks\":\"\"}}}],\"scatterpolargl\":[{\"type\":\"scatterpolargl\",\"marker\":{\"colorbar\":{\"outlinewidth\":0,\"ticks\":\"\"}}}],\"bar\":[{\"error_x\":{\"color\":\"#2a3f5f\"},\"error_y\":{\"color\":\"#2a3f5f\"},\"marker\":{\"line\":{\"color\":\"#E5ECF6\",\"width\":0.5},\"pattern\":{\"fillmode\":\"overlay\",\"size\":10,\"solidity\":0.2}},\"type\":\"bar\"}],\"scattergeo\":[{\"type\":\"scattergeo\",\"marker\":{\"colorbar\":{\"outlinewidth\":0,\"ticks\":\"\"}}}],\"scatterpolar\":[{\"type\":\"scatterpolar\",\"marker\":{\"colorbar\":{\"outlinewidth\":0,\"ticks\":\"\"}}}],\"histogram\":[{\"marker\":{\"pattern\":{\"fillmode\":\"overlay\",\"size\":10,\"solidity\":0.2}},\"type\":\"histogram\"}],\"scattergl\":[{\"type\":\"scattergl\",\"marker\":{\"colorbar\":{\"outlinewidth\":0,\"ticks\":\"\"}}}],\"scatter3d\":[{\"type\":\"scatter3d\",\"line\":{\"colorbar\":{\"outlinewidth\":0,\"ticks\":\"\"}},\"marker\":{\"colorbar\":{\"outlinewidth\":0,\"ticks\":\"\"}}}],\"scattermapbox\":[{\"type\":\"scattermapbox\",\"marker\":{\"colorbar\":{\"outlinewidth\":0,\"ticks\":\"\"}}}],\"scatterternary\":[{\"type\":\"scatterternary\",\"marker\":{\"colorbar\":{\"outlinewidth\":0,\"ticks\":\"\"}}}],\"scattercarpet\":[{\"type\":\"scattercarpet\",\"marker\":{\"colorbar\":{\"outlinewidth\":0,\"ticks\":\"\"}}}],\"carpet\":[{\"aaxis\":{\"endlinecolor\":\"#2a3f5f\",\"gridcolor\":\"white\",\"linecolor\":\"white\",\"minorgridcolor\":\"white\",\"startlinecolor\":\"#2a3f5f\"},\"baxis\":{\"endlinecolor\":\"#2a3f5f\",\"gridcolor\":\"white\",\"linecolor\":\"white\",\"minorgridcolor\":\"white\",\"startlinecolor\":\"#2a3f5f\"},\"type\":\"carpet\"}],\"table\":[{\"cells\":{\"fill\":{\"color\":\"#EBF0F8\"},\"line\":{\"color\":\"white\"}},\"header\":{\"fill\":{\"color\":\"#C8D4E3\"},\"line\":{\"color\":\"white\"}},\"type\":\"table\"}],\"barpolar\":[{\"marker\":{\"line\":{\"color\":\"#E5ECF6\",\"width\":0.5},\"pattern\":{\"fillmode\":\"overlay\",\"size\":10,\"solidity\":0.2}},\"type\":\"barpolar\"}],\"pie\":[{\"automargin\":true,\"type\":\"pie\"}]},\"layout\":{\"autotypenumbers\":\"strict\",\"colorway\":[\"#636efa\",\"#EF553B\",\"#00cc96\",\"#ab63fa\",\"#FFA15A\",\"#19d3f3\",\"#FF6692\",\"#B6E880\",\"#FF97FF\",\"#FECB52\"],\"font\":{\"color\":\"#2a3f5f\"},\"hovermode\":\"closest\",\"hoverlabel\":{\"align\":\"left\"},\"paper_bgcolor\":\"white\",\"plot_bgcolor\":\"#E5ECF6\",\"polar\":{\"bgcolor\":\"#E5ECF6\",\"angularaxis\":{\"gridcolor\":\"white\",\"linecolor\":\"white\",\"ticks\":\"\"},\"radialaxis\":{\"gridcolor\":\"white\",\"linecolor\":\"white\",\"ticks\":\"\"}},\"ternary\":{\"bgcolor\":\"#E5ECF6\",\"aaxis\":{\"gridcolor\":\"white\",\"linecolor\":\"white\",\"ticks\":\"\"},\"baxis\":{\"gridcolor\":\"white\",\"linecolor\":\"white\",\"ticks\":\"\"},\"caxis\":{\"gridcolor\":\"white\",\"linecolor\":\"white\",\"ticks\":\"\"}},\"coloraxis\":{\"colorbar\":{\"outlinewidth\":0,\"ticks\":\"\"}},\"colorscale\":{\"sequential\":[[0.0,\"#0d0887\"],[0.1111111111111111,\"#46039f\"],[0.2222222222222222,\"#7201a8\"],[0.3333333333333333,\"#9c179e\"],[0.4444444444444444,\"#bd3786\"],[0.5555555555555556,\"#d8576b\"],[0.6666666666666666,\"#ed7953\"],[0.7777777777777778,\"#fb9f3a\"],[0.8888888888888888,\"#fdca26\"],[1.0,\"#f0f921\"]],\"sequentialminus\":[[0.0,\"#0d0887\"],[0.1111111111111111,\"#46039f\"],[0.2222222222222222,\"#7201a8\"],[0.3333333333333333,\"#9c179e\"],[0.4444444444444444,\"#bd3786\"],[0.5555555555555556,\"#d8576b\"],[0.6666666666666666,\"#ed7953\"],[0.7777777777777778,\"#fb9f3a\"],[0.8888888888888888,\"#fdca26\"],[1.0,\"#f0f921\"]],\"diverging\":[[0,\"#8e0152\"],[0.1,\"#c51b7d\"],[0.2,\"#de77ae\"],[0.3,\"#f1b6da\"],[0.4,\"#fde0ef\"],[0.5,\"#f7f7f7\"],[0.6,\"#e6f5d0\"],[0.7,\"#b8e186\"],[0.8,\"#7fbc41\"],[0.9,\"#4d9221\"],[1,\"#276419\"]]},\"xaxis\":{\"gridcolor\":\"white\",\"linecolor\":\"white\",\"ticks\":\"\",\"title\":{\"standoff\":15},\"zerolinecolor\":\"white\",\"automargin\":true,\"zerolinewidth\":2},\"yaxis\":{\"gridcolor\":\"white\",\"linecolor\":\"white\",\"ticks\":\"\",\"title\":{\"standoff\":15},\"zerolinecolor\":\"white\",\"automargin\":true,\"zerolinewidth\":2},\"scene\":{\"xaxis\":{\"backgroundcolor\":\"#E5ECF6\",\"gridcolor\":\"white\",\"linecolor\":\"white\",\"showbackground\":true,\"ticks\":\"\",\"zerolinecolor\":\"white\",\"gridwidth\":2},\"yaxis\":{\"backgroundcolor\":\"#E5ECF6\",\"gridcolor\":\"white\",\"linecolor\":\"white\",\"showbackground\":true,\"ticks\":\"\",\"zerolinecolor\":\"white\",\"gridwidth\":2},\"zaxis\":{\"backgroundcolor\":\"#E5ECF6\",\"gridcolor\":\"white\",\"linecolor\":\"white\",\"showbackground\":true,\"ticks\":\"\",\"zerolinecolor\":\"white\",\"gridwidth\":2}},\"shapedefaults\":{\"line\":{\"color\":\"#2a3f5f\"}},\"annotationdefaults\":{\"arrowcolor\":\"#2a3f5f\",\"arrowhead\":0,\"arrowwidth\":1},\"geo\":{\"bgcolor\":\"white\",\"landcolor\":\"#E5ECF6\",\"subunitcolor\":\"white\",\"showland\":true,\"showlakes\":true,\"lakecolor\":\"white\"},\"title\":{\"x\":0.05},\"mapbox\":{\"style\":\"light\"}}},\"xaxis\":{\"anchor\":\"y\",\"domain\":[0.0,1.0],\"title\":{\"text\":\"Degree\"}},\"yaxis\":{\"anchor\":\"x\",\"domain\":[0.0,1.0],\"title\":{\"text\":\"Frequency\"}},\"legend\":{\"title\":{\"text\":\"variable\"},\"tracegroupgap\":0},\"margin\":{\"t\":60},\"barmode\":\"relative\",\"title\":{\"text\":\"Degree Distribution of the Co-authorship Graph\"}},                        {\"responsive\": true}                    ).then(function(){\n",
              "                            \n",
              "var gd = document.getElementById('d1a9052b-24d0-4330-8ae4-f0f0e0658083');\n",
              "var x = new MutationObserver(function (mutations, observer) {{\n",
              "        var display = window.getComputedStyle(gd).display;\n",
              "        if (!display || display === 'none') {{\n",
              "            console.log([gd, 'removed!']);\n",
              "            Plotly.purge(gd);\n",
              "            observer.disconnect();\n",
              "        }}\n",
              "}});\n",
              "\n",
              "// Listen for the removal of the full notebook cells\n",
              "var notebookContainer = gd.closest('#notebook-container');\n",
              "if (notebookContainer) {{\n",
              "    x.observe(notebookContainer, {childList: true});\n",
              "}}\n",
              "\n",
              "// Listen for the clearing of the current output cell\n",
              "var outputEl = gd.closest('.output');\n",
              "if (outputEl) {{\n",
              "    x.observe(outputEl, {childList: true});\n",
              "}}\n",
              "\n",
              "                        })                };                            </script>        </div>\n",
              "</body>\n",
              "</html>"
            ]
          },
          "metadata": {}
        }
      ]
    },
    {
      "cell_type": "code",
      "source": [
        "# Find the node with the highest degree\n",
        "highest_degree_node = max(G.nodes(), key=lambda node: G.degree(node))\n",
        "\n",
        "# Print the node with the highest degree\n",
        "print(f\"Node with the highest degree: {highest_degree_node}\")\n",
        "\n",
        "# Print the number of neighbors of the node with the highest degree\n",
        "print(f\"Number of neighbors: {G.degree(highest_degree_node)}\")\n"
      ],
      "metadata": {
        "colab": {
          "base_uri": "https://localhost:8080/"
        },
        "id": "jukLnTI3EqOq",
        "outputId": "c30bedf0-a7df-4262-f603-4b59042a3a8f"
      },
      "execution_count": null,
      "outputs": [
        {
          "output_type": "stream",
          "name": "stdout",
          "text": [
            "Node with the highest degree: 6507655813\n",
            "Number of neighbors: 93\n"
          ]
        }
      ]
    },
    {
      "cell_type": "code",
      "source": [
        "G.nodes['6507655813']"
      ],
      "metadata": {
        "colab": {
          "base_uri": "https://localhost:8080/"
        },
        "id": "JYgsCO_fEuSU",
        "outputId": "4fcd0e41-ece8-4b2e-849e-8423d0bcb254"
      },
      "execution_count": null,
      "outputs": [
        {
          "output_type": "execute_result",
          "data": {
            "text/plain": [
              "{'name': 'Martínez-Huitle, Carlos A. (6507655813)'}"
            ]
          },
          "metadata": {},
          "execution_count": 23
        }
      ]
    }
  ]
}