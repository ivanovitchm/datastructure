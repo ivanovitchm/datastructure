{
  "nbformat": 4,
  "nbformat_minor": 0,
  "metadata": {
    "colab": {
      "provenance": []
    },
    "kernelspec": {
      "name": "python3",
      "display_name": "Python 3"
    },
    "language_info": {
      "name": "python"
    }
  },
  "cells": [
    {
      "cell_type": "markdown",
      "source": [
        "# 1.0 Introduction"
      ],
      "metadata": {
        "id": "TStrq7KQAEuF"
      }
    },
    {
      "cell_type": "markdown",
      "source": [
        "## About this notebook"
      ],
      "metadata": {
        "id": "H6LU4R9KCjPn"
      }
    },
    {
      "cell_type": "markdown",
      "source": [
        "Now, we will focus on **Binary Search Tree (BST) problems**.\n",
        "\n",
        "I am excited to present to you a set of coding interview questions that are organized into three levels of difficulty: 🔥 Hard, ⚠️ Medium, and 😃 Easy. Each question comes with a description, the related data structure, tips, and an initial code with its respective unit test.\n",
        "\n",
        "While these questions may seem challenging, I encourage you to approach them with a positive attitude and an open mind. Remember that the process of solving these questions is just as important as finding the answer. Through this process, you will develop your problem-solving skills, strengthen your understanding of data structures, and improve your coding abilities.\n",
        "\n",
        "As you work on these questions, I encourage you to co-create the solutions with the help of ChatGPT. ChatGPT is a powerful tool that can provide guidance, feedback, and additional resources to support your learning journey. Don't hesitate to ask ChatGPT for help if you get stuck or need additional clarification.\n",
        "\n",
        "Additionally, I encourage you to collaborate with your classmates on these questions. Working in groups can provide a supportive learning environment where you can bounce ideas off each other, learn from different perspectives, and develop your communication skills."
      ],
      "metadata": {
        "id": "H_wrJZEXD2-v"
      }
    },
    {
      "cell_type": "code",
      "source": [
        "# install dependencies\n",
        "!pip install pytest pytest-sugar"
      ],
      "metadata": {
        "id": "Zc9nX3WvHzI5"
      },
      "execution_count": null,
      "outputs": []
    },
    {
      "cell_type": "markdown",
      "source": [
        "# 2.0 Binary Search Tree"
      ],
      "metadata": {
        "id": "b4duiyrwV7Qe"
      }
    },
    {
      "cell_type": "markdown",
      "source": [
        "## Validate Three Nodes"
      ],
      "metadata": {
        "id": "-C6drHekWSuH"
      }
    },
    {
      "cell_type": "markdown",
      "source": [
        "**Difficult**: ⚠️ Medium to Hard\n",
        "\n",
        "\n",
        "You're given **three nodes** that are contained in the same **Binary Search Tree**: ``nodeOne``, ``nodeTwo`` and ``nodeThree``. \n",
        "\n",
        "> Write a function that **returns** a ``boolean`` representing whether one of ``nodeOne`` or ``nodeThree`` is an **ancestor** of ``nodeTwo`` and the other node is a **descendant** of ``nodeTwo``. \n",
        "\n",
        "- For example, if your function determines that ``nodeOne`` is an **ancestor** of ``nodeTwo``, then it needs to see if ``nodeThree`` is a **descendant** of ``nodeTwo``.\n",
        "- If your function determines that ``nodeThree`` is an **ancestor**, then it needs to see if ``nodeOne`` is a **descendant**.\n",
        "\n",
        "A **descendant** of a node ``N`` is defined as a node contained in the tree **rooted** at ``N``. A node ``N`` is an **ancestor** of another node ``M`` if ``M`` is a **descendant** of ``N``.\n",
        "\n",
        "It isn't guaranteed that ``nodeOne`` or ``nodeThree`` will be **ancestors** or **descendants** of ``nodeTwo``, but it is guaranteed that all three nodes will be unique and will never be **None**/**null**. In other words, you'll be given valid input nodes.\n",
        "Each **Binary Search Tree (BST)** node has an integer **value**, a **left child node**, and a **right child node**. A node is said to be a valid BST node if and only if it satisfies the BST property: \n",
        "- its value is strictly greater than the values of every node to its left;\n",
        "- its value is less than or equal to the values of every node to its right; and its children nodes are either valid BST nodes themselves or **None**/**null**."
      ],
      "metadata": {
        "id": "lfqOHa75WCdY"
      }
    },
    {
      "cell_type": "markdown",
      "source": [
        "**Sample Input**\n",
        "```python\n",
        " tree =   5\n",
        "       /     \\\n",
        "      2       7\n",
        "    /   \\   /   \\\n",
        "   1     4 6     8\n",
        "  /     /\n",
        " 0     3  \n",
        "\n",
        "// This tree won't actually be passed as an input; it's here to help you visualize the problem. \n",
        "nodeOne = 5 // The actual node with value 5\n",
        "nodeTwo = 2 // The actual node with value 2\n",
        "nodeThree = 3 // The actual node with value 3.\n",
        "```\n",
        "\n",
        "**Sample Output**\n",
        "\n",
        "```python\n",
        "true // nodeOne is an ancestor of nodeTwo, and nodeThree is a descendant of nodeTwo.\n",
        "```"
      ],
      "metadata": {
        "id": "QpNrgRzxWMxQ"
      }
    },
    {
      "cell_type": "markdown",
      "source": [
        "**Hint 1**\n",
        "\n",
        "Keep in mind that the nodes passed to you are contained in a **Binary Search Tree** - not just a normal Binary Tree. How might this help you traverse the tree faster?"
      ],
      "metadata": {
        "id": "drZ7ay5ZYzGe"
      }
    },
    {
      "cell_type": "markdown",
      "source": [
        "**Hint 2**\n",
        "\n",
        "There are multiple ways to solve this problem, but the simplest is to just check the possible relationships between the nodes. Since you're looking for a **descendant** and an **ancestor**, simply check if ``nodeOne`` is a **descendant** of ``nodeTwo``, and if it is, then check if ``nodeThree`` is an **ancestor** of ``nodeTwo``. If the previous checks come out negative, check if ``nodeThree`` is a **descendant** of ``nodeTwo``, and if it is, then check if ``nodeOne`` is an **ancestor** of ``nodeTwo``."
      ],
      "metadata": {
        "id": "zNSbVtclceIt"
      }
    },
    {
      "cell_type": "markdown",
      "source": [
        "**Hint 3**\n",
        "\n",
        "Although the approach mentioned in ``Hint #2`` is fairly efficient (it runs in ``O(h)`` time, where ``h`` is the height of the tree), there's a way to solve this problem faster. It involves realizing that, when searching for ``nodeTwo`` from either ``nodeOne`` or ``nodeThree``, if you ever reach ``nodeThree`` from ``nodeOne`` or ``nodeOne`` from ``nodeThree`` before reaching ``nodeTwo``, then you can immediately stop the algorithm, because ``nodeTwo`` cannot be between these nodes."
      ],
      "metadata": {
        "id": "nbAgTPVPdDNn"
      }
    },
    {
      "cell_type": "markdown",
      "source": [
        "**Optimal Space & Time Complexity**\n",
        "\n",
        "O(d) time | O(1) space - where ``d`` is the distance between ``nodeOne`` and ``nodeThree``."
      ],
      "metadata": {
        "id": "X2HuuKh7d4wX"
      }
    },
    {
      "cell_type": "markdown",
      "source": [
        "## Classes definitions"
      ],
      "metadata": {
        "id": "Jur089c2eInl"
      }
    },
    {
      "cell_type": "code",
      "source": [
        "#%%file binarysearchtree.py\n",
        "import plotly.graph_objs as go\n",
        "\n",
        "class Node:\n",
        "    \"\"\"\n",
        "    A class representing a node in a binary search tree.\n",
        "\n",
        "    Attributes:\n",
        "    - value: the value of the node\n",
        "    - left_child: the left child of the node\n",
        "    - right_child: the right child of the node\n",
        "    \"\"\"\n",
        "\n",
        "    def __init__(self, value):\n",
        "        \"\"\"\n",
        "        Initializes a new instance of the Node class.\n",
        "\n",
        "        Args:\n",
        "        - value: the value of the node\n",
        "        \"\"\"\n",
        "        self.value = value\n",
        "        self.left_child = None\n",
        "        self.right_child = None\n",
        "\n",
        "\n",
        "class BST:\n",
        "    \"\"\"\n",
        "    A class representing a binary search tree.\n",
        "\n",
        "    Attributes:\n",
        "    - root: the root node of the tree\n",
        "    \"\"\"\n",
        "\n",
        "    def __init__(self):\n",
        "        \"\"\"\n",
        "        Initializes a new instance of the BST class.\n",
        "        \"\"\"\n",
        "        self.root = None\n",
        "\n",
        "    def add(self, value):\n",
        "        \"\"\"\n",
        "        Adds a new node with the given value to the tree.\n",
        "\n",
        "        Args:\n",
        "        - value: the value of the node to add\n",
        "        \"\"\"\n",
        "        if self.root is None:\n",
        "            # The root does exist yet, create it\n",
        "            self.root = Node(value)\n",
        "        else:\n",
        "            # Find the right place and insert new value\n",
        "            self._add_recursive(self.root, value)\n",
        "\n",
        "    def _add_recursive(self, current_node, value):\n",
        "        \"\"\"\n",
        "        A helper method to recursively traverse the tree and find the correct position to add the new node.\n",
        "\n",
        "        Args:\n",
        "        - current_node: the current node to traverse\n",
        "        - value: the value of the node to add\n",
        "        \"\"\"\n",
        "        if value <= current_node.value:\n",
        "            # Go to the left\n",
        "            if current_node.left_child is None:\n",
        "                current_node.left_child = Node(value)\n",
        "            else:\n",
        "                self._add_recursive(current_node.left_child, value)\n",
        "        else:\n",
        "            # Go to the right\n",
        "            if current_node.right_child is None:\n",
        "                current_node.right_child = Node(value)\n",
        "            else:\n",
        "                self._add_recursive(current_node.right_child, value)\n",
        "\n",
        "    def _contains(self, current_node, value):\n",
        "        \"\"\"\n",
        "        A helper method to recursively traverse the tree and find the node with the given value.\n",
        "\n",
        "        Args:\n",
        "        - current_node: the current node to traverse\n",
        "        - value: the value to search for\n",
        "\n",
        "        Returns:\n",
        "        - True if a node with the given value is found, False otherwise\n",
        "        \"\"\"\n",
        "        if current_node is None:\n",
        "            return False\n",
        "        if current_node.value == value:\n",
        "            return True\n",
        "        if value < current_node.value:\n",
        "            return self._contains(current_node.left_child, value)\n",
        "        return self._contains(current_node.right_child, value)\n",
        "\n",
        "    def contains(self, value):\n",
        "        \"\"\"\n",
        "        Checks whether a node with the given value is present in the tree.\n",
        "\n",
        "        Args:\n",
        "        - value: the value to search for\n",
        "\n",
        "        Returns:\n",
        "        - True if a node with the given value is found, False otherwise\n",
        "        \"\"\"\n",
        "        return self._contains(self.root, value)\n",
        "\n",
        "    def plot(self):\n",
        "        \"\"\"\n",
        "        Plots the binary search tree using Plotly.\n",
        "        \"\"\"\n",
        "        if self.root is None:\n",
        "            print(\"The tree is empty!\")\n",
        "            return\n",
        "\n",
        "        # Initialize lists for coordinates and connections\n",
        "        node_coords = []\n",
        "        lines = []\n",
        "\n",
        "        # Helper function to traverse the tree and fill the coordinate and connection lists\n",
        "        def _plot_recursive(node, x, y, offset):\n",
        "            if node is not None:\n",
        "                node_coords.append((x, y, node.value))\n",
        "                if node.left_child is not None:\n",
        "                    new_x = x - offset\n",
        "                    new_y = y - 1\n",
        "                    lines.append((x, y, new_x, new_y))\n",
        "                    _plot_recursive(node.left_child, new_x, new_y, offset / 2)\n",
        "                if node.right_child is not None:\n",
        "                    new_x = x + offset\n",
        "                    new_y = y - 1\n",
        "                    lines.append((x, y, new_x, new_y))\n",
        "                    _plot_recursive(node.right_child, new_x, new_y, offset / 2)\n",
        "\n",
        "        # Traverse the tree starting from the root node\n",
        "        _plot_recursive(self.root, x=0, y=0, offset=0.5)\n",
        "\n",
        "        # Create a scatter plot for the nodes\n",
        "        node_trace = go.Scatter(x=[x for x, y, _ in node_coords],\n",
        "                                y=[y for _, y, _ in node_coords],\n",
        "                                text=[str(val) for _, _, val in node_coords],\n",
        "                                mode='markers+text',\n",
        "                                textposition='top center',\n",
        "                                marker=dict(symbol='circle',\n",
        "                                            size=20,\n",
        "                                            color='darkblue'))\n",
        "\n",
        "        # Create a scatter plot for the connections between nodes\n",
        "        line_trace = go.Scatter(x=sum([[x1, x2, None] for x1, y1, x2, y2 in lines], []),\n",
        "                                y=sum([[y1, y2, None] for x1, y1, x2, y2 in lines], []),\n",
        "                                mode='lines',\n",
        "                                line=dict(color='black'))\n",
        "\n",
        "        # Combine the two scatter plots\n",
        "        layout = go.Layout(title='',\n",
        "                           xaxis=dict(title='', showgrid=False, zeroline=False, showticklabels=False),\n",
        "                           yaxis=dict(title='', showgrid=False, zeroline=False, showticklabels=False),\n",
        "                           showlegend=False)\n",
        "\n",
        "        fig = go.Figure(data=[node_trace, line_trace], layout=layout)\n",
        "        fig.show()"
      ],
      "metadata": {
        "id": "3-Uk4i-Mfmxn"
      },
      "execution_count": null,
      "outputs": []
    },
    {
      "cell_type": "code",
      "source": [
        "# Example usage:\n",
        "bst = BST()\n",
        "for value in [5, 3, 1, 0, 2, 4, 7, 6, 8]:\n",
        "    bst.add(value)\n",
        "bst.plot()"
      ],
      "metadata": {
        "colab": {
          "base_uri": "https://localhost:8080/",
          "height": 542
        },
        "id": "Hh933QK5fsCQ",
        "outputId": "b5b24c37-4b44-4f5a-e520-7f17b8672e83"
      },
      "execution_count": null,
      "outputs": [
        {
          "output_type": "display_data",
          "data": {
            "text/html": [
              "<html>\n",
              "<head><meta charset=\"utf-8\" /></head>\n",
              "<body>\n",
              "    <div>            <script src=\"https://cdnjs.cloudflare.com/ajax/libs/mathjax/2.7.5/MathJax.js?config=TeX-AMS-MML_SVG\"></script><script type=\"text/javascript\">if (window.MathJax && window.MathJax.Hub && window.MathJax.Hub.Config) {window.MathJax.Hub.Config({SVG: {font: \"STIX-Web\"}});}</script>                <script type=\"text/javascript\">window.PlotlyConfig = {MathJaxConfig: 'local'};</script>\n",
              "        <script src=\"https://cdn.plot.ly/plotly-2.18.2.min.js\"></script>                <div id=\"02a1cef2-c3b2-4e5c-ada1-cdcd79c14d68\" class=\"plotly-graph-div\" style=\"height:525px; width:100%;\"></div>            <script type=\"text/javascript\">                                    window.PLOTLYENV=window.PLOTLYENV || {};                                    if (document.getElementById(\"02a1cef2-c3b2-4e5c-ada1-cdcd79c14d68\")) {                    Plotly.newPlot(                        \"02a1cef2-c3b2-4e5c-ada1-cdcd79c14d68\",                        [{\"marker\":{\"color\":\"darkblue\",\"size\":20,\"symbol\":\"circle\"},\"mode\":\"markers+text\",\"text\":[\"5\",\"3\",\"1\",\"0\",\"2\",\"4\",\"7\",\"6\",\"8\"],\"textposition\":\"top center\",\"x\":[0,-0.5,-0.75,-0.875,-0.625,-0.25,0.5,0.25,0.75],\"y\":[0,-1,-2,-3,-3,-2,-1,-2,-2],\"type\":\"scatter\"},{\"line\":{\"color\":\"black\"},\"mode\":\"lines\",\"x\":[0,-0.5,null,-0.5,-0.75,null,-0.75,-0.875,null,-0.75,-0.625,null,-0.5,-0.25,null,0,0.5,null,0.5,0.25,null,0.5,0.75,null],\"y\":[0,-1,null,-1,-2,null,-2,-3,null,-2,-3,null,-1,-2,null,0,-1,null,-1,-2,null,-1,-2,null],\"type\":\"scatter\"}],                        {\"showlegend\":false,\"title\":{\"text\":\"\"},\"xaxis\":{\"showgrid\":false,\"showticklabels\":false,\"title\":{\"text\":\"\"},\"zeroline\":false},\"yaxis\":{\"showgrid\":false,\"showticklabels\":false,\"title\":{\"text\":\"\"},\"zeroline\":false},\"template\":{\"data\":{\"histogram2dcontour\":[{\"type\":\"histogram2dcontour\",\"colorbar\":{\"outlinewidth\":0,\"ticks\":\"\"},\"colorscale\":[[0.0,\"#0d0887\"],[0.1111111111111111,\"#46039f\"],[0.2222222222222222,\"#7201a8\"],[0.3333333333333333,\"#9c179e\"],[0.4444444444444444,\"#bd3786\"],[0.5555555555555556,\"#d8576b\"],[0.6666666666666666,\"#ed7953\"],[0.7777777777777778,\"#fb9f3a\"],[0.8888888888888888,\"#fdca26\"],[1.0,\"#f0f921\"]]}],\"choropleth\":[{\"type\":\"choropleth\",\"colorbar\":{\"outlinewidth\":0,\"ticks\":\"\"}}],\"histogram2d\":[{\"type\":\"histogram2d\",\"colorbar\":{\"outlinewidth\":0,\"ticks\":\"\"},\"colorscale\":[[0.0,\"#0d0887\"],[0.1111111111111111,\"#46039f\"],[0.2222222222222222,\"#7201a8\"],[0.3333333333333333,\"#9c179e\"],[0.4444444444444444,\"#bd3786\"],[0.5555555555555556,\"#d8576b\"],[0.6666666666666666,\"#ed7953\"],[0.7777777777777778,\"#fb9f3a\"],[0.8888888888888888,\"#fdca26\"],[1.0,\"#f0f921\"]]}],\"heatmap\":[{\"type\":\"heatmap\",\"colorbar\":{\"outlinewidth\":0,\"ticks\":\"\"},\"colorscale\":[[0.0,\"#0d0887\"],[0.1111111111111111,\"#46039f\"],[0.2222222222222222,\"#7201a8\"],[0.3333333333333333,\"#9c179e\"],[0.4444444444444444,\"#bd3786\"],[0.5555555555555556,\"#d8576b\"],[0.6666666666666666,\"#ed7953\"],[0.7777777777777778,\"#fb9f3a\"],[0.8888888888888888,\"#fdca26\"],[1.0,\"#f0f921\"]]}],\"heatmapgl\":[{\"type\":\"heatmapgl\",\"colorbar\":{\"outlinewidth\":0,\"ticks\":\"\"},\"colorscale\":[[0.0,\"#0d0887\"],[0.1111111111111111,\"#46039f\"],[0.2222222222222222,\"#7201a8\"],[0.3333333333333333,\"#9c179e\"],[0.4444444444444444,\"#bd3786\"],[0.5555555555555556,\"#d8576b\"],[0.6666666666666666,\"#ed7953\"],[0.7777777777777778,\"#fb9f3a\"],[0.8888888888888888,\"#fdca26\"],[1.0,\"#f0f921\"]]}],\"contourcarpet\":[{\"type\":\"contourcarpet\",\"colorbar\":{\"outlinewidth\":0,\"ticks\":\"\"}}],\"contour\":[{\"type\":\"contour\",\"colorbar\":{\"outlinewidth\":0,\"ticks\":\"\"},\"colorscale\":[[0.0,\"#0d0887\"],[0.1111111111111111,\"#46039f\"],[0.2222222222222222,\"#7201a8\"],[0.3333333333333333,\"#9c179e\"],[0.4444444444444444,\"#bd3786\"],[0.5555555555555556,\"#d8576b\"],[0.6666666666666666,\"#ed7953\"],[0.7777777777777778,\"#fb9f3a\"],[0.8888888888888888,\"#fdca26\"],[1.0,\"#f0f921\"]]}],\"surface\":[{\"type\":\"surface\",\"colorbar\":{\"outlinewidth\":0,\"ticks\":\"\"},\"colorscale\":[[0.0,\"#0d0887\"],[0.1111111111111111,\"#46039f\"],[0.2222222222222222,\"#7201a8\"],[0.3333333333333333,\"#9c179e\"],[0.4444444444444444,\"#bd3786\"],[0.5555555555555556,\"#d8576b\"],[0.6666666666666666,\"#ed7953\"],[0.7777777777777778,\"#fb9f3a\"],[0.8888888888888888,\"#fdca26\"],[1.0,\"#f0f921\"]]}],\"mesh3d\":[{\"type\":\"mesh3d\",\"colorbar\":{\"outlinewidth\":0,\"ticks\":\"\"}}],\"scatter\":[{\"fillpattern\":{\"fillmode\":\"overlay\",\"size\":10,\"solidity\":0.2},\"type\":\"scatter\"}],\"parcoords\":[{\"type\":\"parcoords\",\"line\":{\"colorbar\":{\"outlinewidth\":0,\"ticks\":\"\"}}}],\"scatterpolargl\":[{\"type\":\"scatterpolargl\",\"marker\":{\"colorbar\":{\"outlinewidth\":0,\"ticks\":\"\"}}}],\"bar\":[{\"error_x\":{\"color\":\"#2a3f5f\"},\"error_y\":{\"color\":\"#2a3f5f\"},\"marker\":{\"line\":{\"color\":\"#E5ECF6\",\"width\":0.5},\"pattern\":{\"fillmode\":\"overlay\",\"size\":10,\"solidity\":0.2}},\"type\":\"bar\"}],\"scattergeo\":[{\"type\":\"scattergeo\",\"marker\":{\"colorbar\":{\"outlinewidth\":0,\"ticks\":\"\"}}}],\"scatterpolar\":[{\"type\":\"scatterpolar\",\"marker\":{\"colorbar\":{\"outlinewidth\":0,\"ticks\":\"\"}}}],\"histogram\":[{\"marker\":{\"pattern\":{\"fillmode\":\"overlay\",\"size\":10,\"solidity\":0.2}},\"type\":\"histogram\"}],\"scattergl\":[{\"type\":\"scattergl\",\"marker\":{\"colorbar\":{\"outlinewidth\":0,\"ticks\":\"\"}}}],\"scatter3d\":[{\"type\":\"scatter3d\",\"line\":{\"colorbar\":{\"outlinewidth\":0,\"ticks\":\"\"}},\"marker\":{\"colorbar\":{\"outlinewidth\":0,\"ticks\":\"\"}}}],\"scattermapbox\":[{\"type\":\"scattermapbox\",\"marker\":{\"colorbar\":{\"outlinewidth\":0,\"ticks\":\"\"}}}],\"scatterternary\":[{\"type\":\"scatterternary\",\"marker\":{\"colorbar\":{\"outlinewidth\":0,\"ticks\":\"\"}}}],\"scattercarpet\":[{\"type\":\"scattercarpet\",\"marker\":{\"colorbar\":{\"outlinewidth\":0,\"ticks\":\"\"}}}],\"carpet\":[{\"aaxis\":{\"endlinecolor\":\"#2a3f5f\",\"gridcolor\":\"white\",\"linecolor\":\"white\",\"minorgridcolor\":\"white\",\"startlinecolor\":\"#2a3f5f\"},\"baxis\":{\"endlinecolor\":\"#2a3f5f\",\"gridcolor\":\"white\",\"linecolor\":\"white\",\"minorgridcolor\":\"white\",\"startlinecolor\":\"#2a3f5f\"},\"type\":\"carpet\"}],\"table\":[{\"cells\":{\"fill\":{\"color\":\"#EBF0F8\"},\"line\":{\"color\":\"white\"}},\"header\":{\"fill\":{\"color\":\"#C8D4E3\"},\"line\":{\"color\":\"white\"}},\"type\":\"table\"}],\"barpolar\":[{\"marker\":{\"line\":{\"color\":\"#E5ECF6\",\"width\":0.5},\"pattern\":{\"fillmode\":\"overlay\",\"size\":10,\"solidity\":0.2}},\"type\":\"barpolar\"}],\"pie\":[{\"automargin\":true,\"type\":\"pie\"}]},\"layout\":{\"autotypenumbers\":\"strict\",\"colorway\":[\"#636efa\",\"#EF553B\",\"#00cc96\",\"#ab63fa\",\"#FFA15A\",\"#19d3f3\",\"#FF6692\",\"#B6E880\",\"#FF97FF\",\"#FECB52\"],\"font\":{\"color\":\"#2a3f5f\"},\"hovermode\":\"closest\",\"hoverlabel\":{\"align\":\"left\"},\"paper_bgcolor\":\"white\",\"plot_bgcolor\":\"#E5ECF6\",\"polar\":{\"bgcolor\":\"#E5ECF6\",\"angularaxis\":{\"gridcolor\":\"white\",\"linecolor\":\"white\",\"ticks\":\"\"},\"radialaxis\":{\"gridcolor\":\"white\",\"linecolor\":\"white\",\"ticks\":\"\"}},\"ternary\":{\"bgcolor\":\"#E5ECF6\",\"aaxis\":{\"gridcolor\":\"white\",\"linecolor\":\"white\",\"ticks\":\"\"},\"baxis\":{\"gridcolor\":\"white\",\"linecolor\":\"white\",\"ticks\":\"\"},\"caxis\":{\"gridcolor\":\"white\",\"linecolor\":\"white\",\"ticks\":\"\"}},\"coloraxis\":{\"colorbar\":{\"outlinewidth\":0,\"ticks\":\"\"}},\"colorscale\":{\"sequential\":[[0.0,\"#0d0887\"],[0.1111111111111111,\"#46039f\"],[0.2222222222222222,\"#7201a8\"],[0.3333333333333333,\"#9c179e\"],[0.4444444444444444,\"#bd3786\"],[0.5555555555555556,\"#d8576b\"],[0.6666666666666666,\"#ed7953\"],[0.7777777777777778,\"#fb9f3a\"],[0.8888888888888888,\"#fdca26\"],[1.0,\"#f0f921\"]],\"sequentialminus\":[[0.0,\"#0d0887\"],[0.1111111111111111,\"#46039f\"],[0.2222222222222222,\"#7201a8\"],[0.3333333333333333,\"#9c179e\"],[0.4444444444444444,\"#bd3786\"],[0.5555555555555556,\"#d8576b\"],[0.6666666666666666,\"#ed7953\"],[0.7777777777777778,\"#fb9f3a\"],[0.8888888888888888,\"#fdca26\"],[1.0,\"#f0f921\"]],\"diverging\":[[0,\"#8e0152\"],[0.1,\"#c51b7d\"],[0.2,\"#de77ae\"],[0.3,\"#f1b6da\"],[0.4,\"#fde0ef\"],[0.5,\"#f7f7f7\"],[0.6,\"#e6f5d0\"],[0.7,\"#b8e186\"],[0.8,\"#7fbc41\"],[0.9,\"#4d9221\"],[1,\"#276419\"]]},\"xaxis\":{\"gridcolor\":\"white\",\"linecolor\":\"white\",\"ticks\":\"\",\"title\":{\"standoff\":15},\"zerolinecolor\":\"white\",\"automargin\":true,\"zerolinewidth\":2},\"yaxis\":{\"gridcolor\":\"white\",\"linecolor\":\"white\",\"ticks\":\"\",\"title\":{\"standoff\":15},\"zerolinecolor\":\"white\",\"automargin\":true,\"zerolinewidth\":2},\"scene\":{\"xaxis\":{\"backgroundcolor\":\"#E5ECF6\",\"gridcolor\":\"white\",\"linecolor\":\"white\",\"showbackground\":true,\"ticks\":\"\",\"zerolinecolor\":\"white\",\"gridwidth\":2},\"yaxis\":{\"backgroundcolor\":\"#E5ECF6\",\"gridcolor\":\"white\",\"linecolor\":\"white\",\"showbackground\":true,\"ticks\":\"\",\"zerolinecolor\":\"white\",\"gridwidth\":2},\"zaxis\":{\"backgroundcolor\":\"#E5ECF6\",\"gridcolor\":\"white\",\"linecolor\":\"white\",\"showbackground\":true,\"ticks\":\"\",\"zerolinecolor\":\"white\",\"gridwidth\":2}},\"shapedefaults\":{\"line\":{\"color\":\"#2a3f5f\"}},\"annotationdefaults\":{\"arrowcolor\":\"#2a3f5f\",\"arrowhead\":0,\"arrowwidth\":1},\"geo\":{\"bgcolor\":\"white\",\"landcolor\":\"#E5ECF6\",\"subunitcolor\":\"white\",\"showland\":true,\"showlakes\":true,\"lakecolor\":\"white\"},\"title\":{\"x\":0.05},\"mapbox\":{\"style\":\"light\"}}}},                        {\"responsive\": true}                    ).then(function(){\n",
              "                            \n",
              "var gd = document.getElementById('02a1cef2-c3b2-4e5c-ada1-cdcd79c14d68');\n",
              "var x = new MutationObserver(function (mutations, observer) {{\n",
              "        var display = window.getComputedStyle(gd).display;\n",
              "        if (!display || display === 'none') {{\n",
              "            console.log([gd, 'removed!']);\n",
              "            Plotly.purge(gd);\n",
              "            observer.disconnect();\n",
              "        }}\n",
              "}});\n",
              "\n",
              "// Listen for the removal of the full notebook cells\n",
              "var notebookContainer = gd.closest('#notebook-container');\n",
              "if (notebookContainer) {{\n",
              "    x.observe(notebookContainer, {childList: true});\n",
              "}}\n",
              "\n",
              "// Listen for the clearing of the current output cell\n",
              "var outputEl = gd.closest('.output');\n",
              "if (outputEl) {{\n",
              "    x.observe(outputEl, {childList: true});\n",
              "}}\n",
              "\n",
              "                        })                };                            </script>        </div>\n",
              "</body>\n",
              "</html>"
            ]
          },
          "metadata": {}
        }
      ]
    },
    {
      "cell_type": "code",
      "source": [
        "%%file validatethreenodes.py\n",
        "import pytest\n",
        "from binarysearchtree import *\n",
        "\n",
        "def validateThreeNodes(bst, valueOne, valueTwo, valueThree):\n",
        "    \"\"\"\n",
        "    Checks if the given three nodes have the required relationship in the Binary Search Tree.\n",
        "    \n",
        "    This function validates if either nodeTwo is a descendant of nodeOne and nodeThree is a descendant\n",
        "    of nodeTwo, or if nodeOne is a descendant of nodeTwo and nodeThree is an ascendant of nodeTwo.\n",
        "\n",
        "    Parameters:\n",
        "    bst (BST): The Binary Search Tree containing the nodes.\n",
        "    valueOne (int): The value of the first node.\n",
        "    valueTwo (int): The value of the second node.\n",
        "    valueThree (int): The value of the third node.\n",
        "\n",
        "    Returns:\n",
        "    bool: True if the given nodes have the required relationship, False otherwise.\n",
        "    \"\"\"\n",
        "    # Write your code here.\n",
        "    return False\n",
        "\n",
        "\n",
        "@pytest.fixture(scope=\"session\")\n",
        "def data():\n",
        "    \n",
        "    array = [[5, 2, 1, 0, 4, 3, 7, 6, 8],\n",
        "             [5, 3, 2, 1, 0, 4, 7, 6, 8],\n",
        "             [5, 3, 2, 1, 0, 4, 7, 6, 8],\n",
        "             [2, 1, 3, 4, 5, 6, 7, 8, 9],\n",
        "             [6, 4, 3, 1, 2, 8, 7, 9],\n",
        "             [2, 1, 3, 4],\n",
        "             [8, 4, 3, 2, 1, 10, 9, 14, 12, 11, 6, 7, 13],\n",
        "             [8, 7, 6, 5, 4, 3, 2, 1, 9],\n",
        "             [3, 2, 1],\n",
        "             [3, 2, 1],\n",
        "             [6, 4, 2, 1, 3, 5, 8, 7, 9],\n",
        "             [10, 6, 5, 3, 1, 2, 4, 8, 7, 9, 15, 14, 13, 11, 12, 18, 17, 16],\n",
        "             [10, 6, 5, 3, 1, 2, 4, 8, 7, 9, 15, 14, 13, 11, 12, 18, 17, 16],\n",
        "             [5, 3, 1, 0, 2, 4, 7, 6, 8],\n",
        "             [5, 3, 1, 0, 2, 4, 7, 6, 8]]\n",
        "    return array\n",
        "\n",
        "def test_1(data):\n",
        "    \"\"\"\n",
        "    Test evaluation for \"nodeOne\": \"5\",\"nodeThree\": \"3\",\"nodeTwo\": \"2\"\n",
        "    \"\"\"\n",
        "    bst = BST()\n",
        "    for value in data[0]:\n",
        "      bst.add(value)\n",
        "    assert validateThreeNodes(bst,5,2,3) == True\n",
        "\n",
        "def test_2(data):\n",
        "    \"\"\"\n",
        "    Test evaluation for \"nodeOne\": \"5\", \"nodeThree\": \"1\", \"nodeTwo\": \"8\",\n",
        "    \"\"\"\n",
        "    bst = BST()\n",
        "    for value in data[1]:\n",
        "      bst.add(value)\n",
        "    assert validateThreeNodes(bst,5,8,1) == False\n",
        "\n",
        "def test_3(data):\n",
        "    \"\"\"\n",
        "    Test evaluation for   \"nodeOne\": \"8\",\"nodeThree\": \"2\",\"nodeTwo\": \"5\",\n",
        "    \"\"\"\n",
        "    bst = BST()\n",
        "    for value in data[2]:\n",
        "      bst.add(value)\n",
        "    assert validateThreeNodes(bst,8,5,2) == False\n",
        "\n",
        "def test_4(data):\n",
        "    \"\"\"\n",
        "    Test evaluation for  \"nodeOne\": \"2\",\"nodeThree\": \"8\",\"nodeTwo\": \"5\"\n",
        "    \"\"\"\n",
        "    bst = BST()\n",
        "    for value in data[3]:\n",
        "      bst.add(value)\n",
        "    assert validateThreeNodes(bst,2,5,8) == True\n",
        "\n",
        "def test_5(data):\n",
        "    \"\"\"\n",
        "    Test evaluation for \"nodeOne\": \"4\", \"nodeThree\": \"2\", \"nodeTwo\": \"1\",\n",
        "    \"\"\"\n",
        "    bst = BST()\n",
        "    for value in data[4]:\n",
        "      bst.add(value)\n",
        "    assert validateThreeNodes(bst,4,1,2) == True\n",
        "\n",
        "def test_6(data):\n",
        "    \"\"\"\n",
        "    Test evaluation for \"nodeOne\": \"1\",\"nodeThree\": \"3\",\"nodeTwo\": \"2\",\n",
        "    \"\"\"\n",
        "    bst = BST()\n",
        "    for value in data[5]:\n",
        "      bst.add(value)\n",
        "    assert validateThreeNodes(bst,1,2,3) == False\n",
        "\n",
        "def test_7(data):\n",
        "    \"\"\"\n",
        "    Test evaluation for \"nodeOne\": \"2\",\"nodeThree\": \"13\",\"nodeTwo\": \"4\"\n",
        "    \"\"\"\n",
        "    bst = BST()\n",
        "    for value in data[6]:\n",
        "      bst.add(value)\n",
        "    assert validateThreeNodes(bst,2,4,13) == False\n",
        "\n",
        "def test_8(data):\n",
        "    \"\"\"\n",
        "    Test evaluation for \"nodeOne\": \"8\",\"nodeThree\": \"1\",\"nodeTwo\": \"7\"\n",
        "    \"\"\"\n",
        "    bst = BST()\n",
        "    for value in data[7]:\n",
        "      bst.add(value)\n",
        "    assert validateThreeNodes(bst,8,7,1) == True\n",
        "\n",
        "def test_9(data):\n",
        "    \"\"\"\n",
        "    Test evaluation for \"nodeOne\": \"2\",\"nodeThree\": \"3\",\"nodeTwo\": \"1\"\n",
        "    \"\"\"\n",
        "    bst = BST()\n",
        "    for value in data[8]:\n",
        "      bst.add(value)\n",
        "    assert validateThreeNodes(bst,2,1,3) == False\n",
        "\n",
        "def test_10(data):\n",
        "    \"\"\"\n",
        "    Test evaluation for \"nodeOne\": \"1\", \"nodeThree\": \"3\", \"nodeTwo\": \"2\"\n",
        "    \"\"\"\n",
        "    bst = BST()\n",
        "    for value in data[9]:\n",
        "      bst.add(value)\n",
        "    assert validateThreeNodes(bst,1,2,3) == True\n",
        "\n",
        "def test_11(data):\n",
        "    \"\"\"\n",
        "    Test evaluation for \"nodeOne\": \"9\",\"nodeThree\": \"6\",\"nodeTwo\": \"8\"\n",
        "    \"\"\"\n",
        "    bst = BST()\n",
        "    for value in data[10]:\n",
        "      bst.add(value)\n",
        "    assert validateThreeNodes(bst,9,8,6) == True\n",
        "\n",
        "def test_12(data):\n",
        "    \"\"\"\n",
        "    Test evaluation for \"nodeOne\": \"12\",\"nodeThree\": \"15\",\"nodeTwo\": \"13\"\n",
        "    \"\"\"\n",
        "    bst = BST()\n",
        "    for value in data[11]:\n",
        "      bst.add(value)\n",
        "    assert validateThreeNodes(bst,12,13,15) == True\n",
        "\n",
        "def test_13(data):\n",
        "    \"\"\"\n",
        "    Test evaluation for \"nodeOne\": \"5\",\"nodeThree\": \"15\",\"nodeTwo\": \"10\"\n",
        "    \"\"\"\n",
        "    bst = BST()\n",
        "    for value in data[12]:\n",
        "      bst.add(value)\n",
        "    assert validateThreeNodes(bst,5,10,15) == False\n",
        "\n",
        "def test_14(data):\n",
        "    \"\"\"\n",
        "    Test evaluation for \"nodeOne\": \"5\",\"nodeThree\": \"4\",\"nodeTwo\": \"3\"\n",
        "    \"\"\"\n",
        "    bst = BST()\n",
        "    for value in data[13]:\n",
        "      bst.add(value)\n",
        "    assert validateThreeNodes(bst,5,3,4) == True\n",
        "\n",
        "def test_15(data):\n",
        "    \"\"\"\n",
        "    Test evaluation for \"nodeOne\": \"5\",\"nodeThree\": \"1\",\"nodeTwo\": \"3\"\n",
        "    \"\"\"\n",
        "    bst = BST()\n",
        "    for value in data[14]:\n",
        "      bst.add(value)\n",
        "    assert validateThreeNodes(bst,5,3,1) == True"
      ],
      "metadata": {
        "id": "1JmvUVdPg1h3",
        "colab": {
          "base_uri": "https://localhost:8080/"
        },
        "outputId": "d715078d-3c5f-425e-bc16-39bd412874ca"
      },
      "execution_count": null,
      "outputs": [
        {
          "output_type": "stream",
          "name": "stdout",
          "text": [
            "Overwriting validatethreenodes.py\n"
          ]
        }
      ]
    },
    {
      "cell_type": "code",
      "source": [
        "!pytest validatethreenodes.py -vv"
      ],
      "metadata": {
        "id": "dhvDBndf-pVR"
      },
      "execution_count": null,
      "outputs": []
    }
  ]
}