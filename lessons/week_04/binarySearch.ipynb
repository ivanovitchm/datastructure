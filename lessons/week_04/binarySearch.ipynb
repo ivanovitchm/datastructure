{
  "nbformat": 4,
  "nbformat_minor": 0,
  "metadata": {
    "colab": {
      "provenance": [],
      "collapsed_sections": []
    },
    "kernelspec": {
      "name": "python3",
      "display_name": "Python 3"
    },
    "language_info": {
      "name": "python"
    }
  },
  "cells": [
    {
      "cell_type": "code",
      "source": [
        "!pip install pytest pytest-sugar"
      ],
      "metadata": {
        "id": "T7w9gyDhs27m"
      },
      "execution_count": null,
      "outputs": []
    },
    {
      "cell_type": "code",
      "source": [
        "%%file test_data.py\n",
        "import pytest\n",
        "\n",
        "def binarySearch(array, target, left, right):\n",
        "  \"\"\"\n",
        "  Description:\n",
        "  A function that takes in a sorted array of integers as well as a target \n",
        "  integer. The function determines if the target integer is contained in the\n",
        "  array and return its index if it is, otherwise -1. \n",
        "  \"\"\"\n",
        "  if (left > right) or (right < left):\n",
        "    return -1\n",
        "  middle = (left + right)//2\n",
        "  potentialMatch = array[middle]\n",
        "  if target == potentialMatch:\n",
        "    return middle\n",
        "  elif target < potentialMatch:\n",
        "    return binarySearch(array, target, left, middle-1)\n",
        "  else:\n",
        "    return binarySearch(array, target, middle+1, right)\n",
        "\n",
        "@pytest.fixture(scope=\"session\")\n",
        "def data():\n",
        "    \n",
        "    array = []\n",
        "    \n",
        "    # test 1 data\n",
        "    array.append([0, 1, 21, 33, 45, 45, 61, 71, 72, 73])\n",
        "\n",
        "    # test 2 data\n",
        "    array.append([1, 5, 23, 111])\n",
        "\n",
        "    # test 3 data\n",
        "    array.append([1, 5, 23, 111])\n",
        "\n",
        "    # test 4 data\n",
        "    array.append([1, 5, 23, 111])\n",
        "\n",
        "    # test 5 data\n",
        "    array.append([0, 1, 21, 33, 45, 45, 61, 71, 72, 73])\n",
        "\n",
        "    # test 6 data\n",
        "    array.append([0, 1, 21, 33, 45, 45, 61, 71, 72, 73, 355])\n",
        "\n",
        "    # test 7 data\n",
        "    array.append([0, 1, 21, 33, 45, 45, 61, 71, 72, 73])\n",
        "    \n",
        "    return array\n",
        "\n",
        "def test_1(data):\n",
        "    \"\"\"\n",
        "    Test evaluation for [0, 1, 21, 33, 45, 45, 61, 71, 72, 73] and target 33\n",
        "    \"\"\"\n",
        "    assert binarySearch(data[0], 33, 0, len(data[0])-1) == 3\n",
        "\n",
        "def test_2(data):\n",
        "    \"\"\"\n",
        "    Test evaluation for [1, 5, 23, 111] and target 111\n",
        "    \"\"\"\n",
        "    assert binarySearch(data[1], 111, 0, len(data[1])-1) == 3\n",
        "\n",
        "def test_3(data):\n",
        "    \"\"\"\n",
        "    Test evaluation for [1, 5, 23, 111] and target 5\n",
        "    \"\"\"\n",
        "    assert binarySearch(data[2], 5, 0, len(data[2])-1) == 1\n",
        "\n",
        "def test_4(data):\n",
        "    \"\"\"\n",
        "    Test evaluation for [1, 5, 23, 111] and target 35\n",
        "    \"\"\"\n",
        "    assert binarySearch(data[3], 35, 0, len(data[3])-1) == -1\n",
        "\n",
        "def test_5(data):\n",
        "    \"\"\"\n",
        "    Test evaluation for [0, 1, 21, 33, 45, 45, 61, 71, 72, 73] and target 0\n",
        "    \"\"\"\n",
        "    assert binarySearch(data[4], 0, 0, len(data[4])-1) == 0 \n",
        "\n",
        "def test_6(data):\n",
        "    \"\"\"\n",
        "    Test evaluation for [0, 1, 21, 33, 45, 45, 61, 71, 72, 73, 355] and target 355\n",
        "    \"\"\"\n",
        "    assert binarySearch(data[5], 355, 0, len(data[5])-1) == 10 \n",
        "\n",
        "def test_7(data):\n",
        "    \"\"\"\n",
        "    Test evaluation for [0, 1, 21, 33, 45, 45, 61, 71, 72, 73] and target 70\n",
        "    \"\"\"\n",
        "    assert binarySearch(data[6], 70, 0, len(data[6])-1) == -1"
      ],
      "metadata": {
        "id": "c217oD8WtBA9"
      },
      "execution_count": null,
      "outputs": []
    },
    {
      "cell_type": "code",
      "execution_count": null,
      "metadata": {
        "id": "bFuLjMLQshTR"
      },
      "outputs": [],
      "source": [
        "!pytest . -vv"
      ]
    }
  ]
}