{
  "nbformat": 4,
  "nbformat_minor": 0,
  "metadata": {
    "colab": {
      "provenance": [],
      "toc_visible": true
    },
    "kernelspec": {
      "name": "python3",
      "display_name": "Python 3"
    },
    "language_info": {
      "name": "python"
    }
  },
  "cells": [
    {
      "cell_type": "markdown",
      "source": [
        "# Min Heap Construction\n",
        "\n",
        "Implement a `MinHeap` class that supports:\n",
        "\n",
        "- Building a Min Heap from an input array of integers.\n",
        "- Inserting integers in the heap.\n",
        "- Removing the heap's minimum / root value.\n",
        "- Peeking at the heap's minimum / root value.\n",
        "- Sifting integers up and down the heap, which is to be used when inserting and removing values.\n",
        "\n",
        "> Note that the heap should be represented in the form of an array.\n"
      ],
      "metadata": {
        "id": "NUUZ1Yr2HuV9"
      }
    },
    {
      "cell_type": "markdown",
      "source": [
        "## Sample Usage\n",
        "\n",
        "```python\n",
        "array = [48, 12, 24, 7, 8, -5, 24, 391, 24, 56, 2, 6, 8, 41]\n",
        "\n",
        "// All operations below are performed sequentially.\n",
        "\n",
        "MinHeap(array)\n",
        "# Instantiates a MinHeap (calls the buildHeap method and populates the heap)\n",
        "\n",
        "buildHeap(array)\n",
        "# ➞ [-5, 2, 6, 7, 8, 8, 24, 391, 24, 56, 12, 24, 48, 41]\n",
        "\n",
        "insert(76)\n",
        "# ➞ [-5, 2, 6, 7, 8, 8, 24, 391, 24, 56, 12, 24, 48, 41, 76]\n",
        "\n",
        "peek()\n",
        "# ➞ -5\n",
        "\n",
        "remove()\n",
        "# ➞ -5\n",
        "# Heap after removal: [2, 7, 6, 24, 8, 24, 391, 76, 56, 12, 24, 48, 41]\n",
        "\n",
        "peek()\n",
        "# ➞ 2\n",
        "\n",
        "remove()\n",
        "# ➞ 2\n",
        "# Heap after removal: [6, 7, 8, 24, 8, 24, 24, 391, 76, 56, 12, 41, 48]\n",
        "\n",
        "peek()\n",
        "# ➞ 6\n",
        "\n",
        "insert(87)\n",
        "# ➞ [6, 7, 8, 24, 8, 24, 24, 391, 76, 56, 12, 41, 48, 87]\n"
      ],
      "metadata": {
        "id": "GRVrNpsrH5le"
      }
    },
    {
      "cell_type": "markdown",
      "source": [
        "## Hints\n"
      ],
      "metadata": {
        "id": "Va6w6J7XIWP3"
      }
    },
    {
      "cell_type": "markdown",
      "source": [
        "\n",
        "### Hint 1\n"
      ],
      "metadata": {
        "id": "fy7dVyYMIZUn"
      }
    },
    {
      "cell_type": "markdown",
      "source": [
        "\n",
        "For the `buildHeap()`, `remove()`, and `insert()` methods of the Heap, you will need to use the `siftDown()` and `siftUp()` methods. These two methods should essentially allow you to take any node in the heap and move it either down or up in the heap until it's in its final, appropriate position. This can be done by comparing the node in question to its child nodes in the case of `siftDown()` or to its parent node in the case of `siftUp()`.\n"
      ],
      "metadata": {
        "id": "ZFW1ZYupIhaN"
      }
    },
    {
      "cell_type": "markdown",
      "source": [
        "\n",
        "### Hint 2\n"
      ],
      "metadata": {
        "id": "oQLYJkoJIafe"
      }
    },
    {
      "cell_type": "markdown",
      "source": [
        "\n",
        "In an array-based Heap, you can easily access a node's children and parent nodes by using the nodes' indices. If a node is located at index `i`, then its children nodes are located at indices `2 * i + 1` and `2 * i + 2`, and its parent node is located at index `floor((i - 1) / 2)`.\n"
      ],
      "metadata": {
        "id": "Y0aLk3FhIgMB"
      }
    },
    {
      "cell_type": "markdown",
      "source": [
        "\n",
        "### Hint 3\n"
      ],
      "metadata": {
        "id": "c8a45fCaIch9"
      }
    },
    {
      "cell_type": "markdown",
      "source": [
        "\n",
        "To implement the `buildHeap()` method, you can either sift every node in the input array down to its final, correct position, or you can sift every node in the input array up to its final, correct position.  \n",
        "What are the runtime implications of both approaches?  \n",
        "Which methods (`siftDown()` or `siftUp()`) will `insert()` and `remove()` utilize?  \n",
        "What about `peek()`?"
      ],
      "metadata": {
        "id": "xjnT85NTIfSj"
      }
    },
    {
      "cell_type": "markdown",
      "source": [
        "# Implementation"
      ],
      "metadata": {
        "id": "hTBSXemlMtFm"
      }
    },
    {
      "cell_type": "code",
      "source": [
        "import unittest"
      ],
      "metadata": {
        "id": "bm6n_rGgMpxX"
      },
      "execution_count": 1,
      "outputs": []
    },
    {
      "cell_type": "code",
      "execution_count": 2,
      "metadata": {
        "id": "nlla89yyHYDT"
      },
      "outputs": [],
      "source": [
        "class MinHeap:\n",
        "    \"\"\"\n",
        "    A class that implements a Min-Heap data structure.\n",
        "    The smallest element is always at the root.\n",
        "    \"\"\"\n",
        "\n",
        "    def __init__(self, array):\n",
        "        \"\"\"\n",
        "        Initializes the MinHeap object and builds the heap in-place.\n",
        "\n",
        "        :param array: The initial array of elements.\n",
        "        \"\"\"\n",
        "        self.heap = self.build_heap(array)\n",
        "\n",
        "    def build_heap(self, array):\n",
        "        \"\"\"\n",
        "        Transforms an array into a valid Min-Heap in O(n) time.\n",
        "\n",
        "        :param array: The array to be heapified.\n",
        "        :return: The heapified array.\n",
        "        \"\"\"\n",
        "        first_parent_idx = (len(array) - 2) // 2\n",
        "        for current_idx in reversed(range(first_parent_idx + 1)):\n",
        "            self.sift_down(current_idx, len(array) - 1, array)\n",
        "        return array\n",
        "\n",
        "    def sift_down(self, current_idx, end_idx, heap):\n",
        "        \"\"\"\n",
        "        Moves the element at current_idx down the heap until the heap property is restored.\n",
        "\n",
        "        :param current_idx: The index of the element to sift down.\n",
        "        :param end_idx: The last index in the heap.\n",
        "        :param heap: The heap array.\n",
        "        \"\"\"\n",
        "        child_one_idx = current_idx * 2 + 1\n",
        "        while child_one_idx <= end_idx:\n",
        "            child_two_idx = current_idx * 2 + 2 if current_idx * 2 + 2 <= end_idx else -1\n",
        "            if child_two_idx != -1 and heap[child_two_idx] < heap[child_one_idx]:\n",
        "                idx_to_swap = child_two_idx\n",
        "            else:\n",
        "                idx_to_swap = child_one_idx\n",
        "\n",
        "            if heap[idx_to_swap] < heap[current_idx]:\n",
        "                self.swap(current_idx, idx_to_swap, heap)\n",
        "                current_idx = idx_to_swap\n",
        "                child_one_idx = current_idx * 2 + 1\n",
        "            else:\n",
        "                return\n",
        "\n",
        "    def sift_up(self, current_idx, heap):\n",
        "        \"\"\"\n",
        "        Moves the element at current_idx up the heap until the heap property is restored.\n",
        "\n",
        "        :param current_idx: The index of the element to sift up.\n",
        "        :param heap: The heap array.\n",
        "        \"\"\"\n",
        "        parent_idx = (current_idx - 1) // 2\n",
        "        while current_idx > 0 and heap[current_idx] < heap[parent_idx]:\n",
        "            self.swap(current_idx, parent_idx, heap)\n",
        "            current_idx = parent_idx\n",
        "            parent_idx = (current_idx - 1) // 2\n",
        "\n",
        "    def peek(self):\n",
        "        \"\"\"\n",
        "        Returns the smallest element in the heap without removing it.\n",
        "\n",
        "        :return: The root element of the heap.\n",
        "        \"\"\"\n",
        "        return self.heap[0]\n",
        "\n",
        "    def remove(self):\n",
        "        \"\"\"\n",
        "        Removes and returns the smallest element from the heap.\n",
        "\n",
        "        :return: The removed element.\n",
        "        \"\"\"\n",
        "        self.swap(0, len(self.heap) - 1, self.heap)\n",
        "        value_to_remove = self.heap.pop()\n",
        "        self.sift_down(0, len(self.heap) - 1, self.heap)\n",
        "        return value_to_remove\n",
        "\n",
        "    def insert(self, value):\n",
        "        \"\"\"\n",
        "        Inserts a new element into the heap and restores the heap property.\n",
        "\n",
        "        :param value: The value to be inserted.\n",
        "        \"\"\"\n",
        "        self.heap.append(value)\n",
        "        self.sift_up(len(self.heap) - 1, self.heap)\n",
        "\n",
        "    @staticmethod\n",
        "    def swap(i, j, heap):\n",
        "        \"\"\"\n",
        "        Swaps two elements in the heap.\n",
        "\n",
        "        :param i: Index of the first element.\n",
        "        :param j: Index of the second element.\n",
        "        :param heap: The heap array.\n",
        "        \"\"\"\n",
        "        heap[i], heap[j] = heap[j], heap[i]"
      ]
    },
    {
      "cell_type": "code",
      "source": [
        "# Helper function to verify the min-heap property\n",
        "def is_min_heap_property_satisfied(heap):\n",
        "    for i in range(len(heap)):\n",
        "        left = 2 * i + 1\n",
        "        right = 2 * i + 2\n",
        "        if left < len(heap) and heap[i] > heap[left]:\n",
        "            return False\n",
        "        if right < len(heap) and heap[i] > heap[right]:\n",
        "            return False\n",
        "    return True"
      ],
      "metadata": {
        "id": "gTeAomm-J5nQ"
      },
      "execution_count": 3,
      "outputs": []
    },
    {
      "cell_type": "code",
      "source": [
        "# Test Cases\n",
        "class TestMinHeap(unittest.TestCase):\n",
        "\n",
        "    def test_case_1(self):\n",
        "        array = [48, 12, 24, 7, 8, -5, 24, 391, 24, 56, 2, 6, 8, 41]\n",
        "        heap = MinHeap(array)\n",
        "\n",
        "        heap.insert(76)\n",
        "        self.assertTrue(is_min_heap_property_satisfied(heap.heap))\n",
        "\n",
        "        self.assertEqual(heap.peek(), -5)\n",
        "        self.assertTrue(is_min_heap_property_satisfied(heap.heap))\n",
        "\n",
        "        self.assertEqual(heap.remove(), -5)\n",
        "        self.assertTrue(is_min_heap_property_satisfied(heap.heap))\n",
        "\n",
        "        self.assertEqual(heap.peek(), 2)\n",
        "        self.assertTrue(is_min_heap_property_satisfied(heap.heap))\n",
        "\n",
        "        self.assertEqual(heap.remove(), 2)\n",
        "        self.assertTrue(is_min_heap_property_satisfied(heap.heap))\n",
        "\n",
        "        self.assertEqual(heap.peek(), 6)\n",
        "        self.assertTrue(is_min_heap_property_satisfied(heap.heap))\n",
        "\n",
        "        heap.insert(87)\n",
        "        self.assertTrue(is_min_heap_property_satisfied(heap.heap))\n",
        "\n",
        "    def test_case_2(self):\n",
        "        array = [2, 3, 1]\n",
        "        heap = MinHeap(array)\n",
        "        self.assertEqual(heap.peek(), 1)\n",
        "        self.assertTrue(is_min_heap_property_satisfied(heap.heap))\n",
        "\n",
        "    def test_case_3(self):\n",
        "        array = [1, 2, 3, 4, 5, 6, 7, 8, 9]\n",
        "        heap = MinHeap(array)\n",
        "        self.assertEqual(heap.peek(), 1)\n",
        "        self.assertTrue(is_min_heap_property_satisfied(heap.heap))\n",
        "\n",
        "    def test_case_4(self):\n",
        "        array = [-4, 5, 10, 8, -10, -6, -4, -2, -5, 3, 5, -4, -5, -1, 1, 6, -7, -6, -7, 8]\n",
        "        heap = MinHeap(array)\n",
        "        self.assertEqual(heap.peek(), -10)\n",
        "        self.assertTrue(is_min_heap_property_satisfied(heap.heap))\n",
        "\n",
        "    def test_case_5(self):\n",
        "        array = [-7, 2, 3, 8, -10, 4, -6, -10, -2, -7, 10, 5, 2, 9, -9, -5, 3, 8]\n",
        "        heap = MinHeap(array)\n",
        "\n",
        "        self.assertEqual(heap.remove(), -10)\n",
        "        self.assertTrue(is_min_heap_property_satisfied(heap.heap))\n",
        "\n",
        "        self.assertEqual(heap.peek(), -10)\n",
        "        self.assertTrue(is_min_heap_property_satisfied(heap.heap))\n",
        "\n",
        "        heap.insert(-8)\n",
        "        self.assertTrue(is_min_heap_property_satisfied(heap.heap))\n",
        "\n",
        "        self.assertEqual(heap.peek(), -10)\n",
        "        self.assertTrue(is_min_heap_property_satisfied(heap.heap))\n",
        "\n",
        "        self.assertEqual(heap.remove(), -10)\n",
        "        self.assertTrue(is_min_heap_property_satisfied(heap.heap))\n",
        "\n",
        "        self.assertEqual(heap.peek(), -9)\n",
        "        self.assertTrue(is_min_heap_property_satisfied(heap.heap))\n",
        "\n",
        "        heap.insert(8)\n",
        "        self.assertTrue(is_min_heap_property_satisfied(heap.heap))\n",
        "\n",
        "        self.assertEqual(heap.peek(), -9)\n",
        "        self.assertTrue(is_min_heap_property_satisfied(heap.heap))\n",
        "\n",
        "    def test_case_6(self):\n",
        "        array = [427, 787, 222, 996, -359, -614, 246, 230, 107, -706, 568, 9, -246, 12, -764,\n",
        "                 -212, -484, 603, 934, -848, -646, -991, 661, -32, -348, -474, -439, -56, 507,\n",
        "                 736, 635, -171, -215, 564, -710, 710, 565, 892, 970, -755, 55, 821, -3, -153,\n",
        "                 240, -160, -610, -583, -27, 131]\n",
        "        heap = MinHeap(array)\n",
        "        self.assertEqual(heap.peek(), -991)\n",
        "        self.assertTrue(is_min_heap_property_satisfied(heap.heap))\n",
        "\n",
        "    def test_case_7(self):\n",
        "        array = [991, -731, -882, 100, 280, -43, 432, 771, -581, 180, -382, -998, 847, 80,\n",
        "                 -220, 680, 769, -75, -817, 366, 956, 749, 471, 228, -435, -269, 652, -331,\n",
        "                 -387, -657, -255, 382, -216, -6, -163, -681, 980, 913, -169, 972, -523,\n",
        "                 354, 747, 805, 382, -827, -796, 372, 753, 519, 906]\n",
        "        heap = MinHeap(array)\n",
        "        self.assertEqual(heap.remove(), -998)\n",
        "        self.assertTrue(is_min_heap_property_satisfied(heap.heap))\n",
        "        self.assertEqual(heap.remove(), -882)\n",
        "        self.assertTrue(is_min_heap_property_satisfied(heap.heap))\n",
        "        self.assertEqual(heap.remove(), -827)\n",
        "        self.assertTrue(is_min_heap_property_satisfied(heap.heap))\n",
        "        heap.insert(992)\n",
        "        self.assertTrue(is_min_heap_property_satisfied(heap.heap))\n",
        "\n",
        "    def test_case_8(self):\n",
        "        array = [544, -578, 556, 713, -655, -359, -810, -731, 194, -531, -685, 689, -279,\n",
        "                 -738, 886, -54, -320, -500, 738, 445, -401, 993, -753, 329, -396, -924,\n",
        "                 -975, 376, 748, -356, 972, 459, 399, 669, -488, 568, -702, 551, 763, -90,\n",
        "                 -249, -45, 452, -917, 394, 195, -877, 153, 153, 788, 844, 867, 266, -739,\n",
        "                 904, -154, -947, 464, 343, -312, 150, -656, 528, 61, 94, -581]\n",
        "        heap = MinHeap(array)\n",
        "        self.assertEqual(heap.peek(), -975)\n",
        "        self.assertTrue(is_min_heap_property_satisfied(heap.heap))\n",
        "\n",
        "    def test_case_9(self):\n",
        "        array = [-823, 164, 48, -987, 323, 399, -293, 183, -908, -376, 14, 980, 965, 842,\n",
        "                 422, 829, 59, 724, -415, -733, 356, -855, -155, 52, 328, -544, -371, -160,\n",
        "                 -942, -51, 700, -363, -353, -359, 238, 892, -730, -575, 892, 490, 490,\n",
        "                 995, 572, 888, -935, 919, -191, 646, -120, 125, -817, 341, -575, 372,\n",
        "                 -874, 243, 610, -36, -685, -337, -13, 295, 800, -950, -949, -257, 631,\n",
        "                 -542, 201, -796, 157, 950, 540, -846, -265, 746, 355, -578, -441, -254,\n",
        "                 -941, -738, -469, -167, -420, -126, -410, 59]\n",
        "        heap = MinHeap(array)\n",
        "        heap.insert(2)\n",
        "        self.assertTrue(is_min_heap_property_satisfied(heap.heap))\n",
        "        heap.insert(22)\n",
        "        self.assertTrue(is_min_heap_property_satisfied(heap.heap))\n",
        "        heap.insert(222)\n",
        "        self.assertTrue(is_min_heap_property_satisfied(heap.heap))\n",
        "        heap.insert(2222)\n",
        "        self.assertTrue(is_min_heap_property_satisfied(heap.heap))\n",
        "        self.assertEqual(heap.remove(), -987)\n",
        "        self.assertTrue(is_min_heap_property_satisfied(heap.heap))\n",
        "        self.assertEqual(heap.remove(), -950)\n",
        "        self.assertTrue(is_min_heap_property_satisfied(heap.heap))\n",
        "        self.assertEqual(heap.remove(), -949)\n",
        "        self.assertTrue(is_min_heap_property_satisfied(heap.heap))\n",
        "        self.assertEqual(heap.remove(), -942)\n",
        "        self.assertTrue(is_min_heap_property_satisfied(heap.heap))"
      ],
      "metadata": {
        "id": "rTbi5F9aKHSb"
      },
      "execution_count": 4,
      "outputs": []
    },
    {
      "cell_type": "code",
      "source": [
        "# Run the tests in Google Colab\n",
        "suite = unittest.TestLoader().loadTestsFromTestCase(TestMinHeap)\n",
        "unittest.TextTestRunner(verbosity=2).run(suite)"
      ],
      "metadata": {
        "colab": {
          "base_uri": "https://localhost:8080/"
        },
        "id": "XS7oC41FLhC8",
        "outputId": "1144e744-6239-4bd3-cd57-b4e25bdf39bc"
      },
      "execution_count": 5,
      "outputs": [
        {
          "output_type": "stream",
          "name": "stderr",
          "text": [
            "test_case_1 (__main__.TestMinHeap.test_case_1) ... ok\n",
            "test_case_2 (__main__.TestMinHeap.test_case_2) ... ok\n",
            "test_case_3 (__main__.TestMinHeap.test_case_3) ... ok\n",
            "test_case_4 (__main__.TestMinHeap.test_case_4) ... ok\n",
            "test_case_5 (__main__.TestMinHeap.test_case_5) ... ok\n",
            "test_case_6 (__main__.TestMinHeap.test_case_6) ... ok\n",
            "test_case_7 (__main__.TestMinHeap.test_case_7) ... ok\n",
            "test_case_8 (__main__.TestMinHeap.test_case_8) ... ok\n",
            "test_case_9 (__main__.TestMinHeap.test_case_9) ... ok\n",
            "\n",
            "----------------------------------------------------------------------\n",
            "Ran 9 tests in 0.020s\n",
            "\n",
            "OK\n"
          ]
        },
        {
          "output_type": "execute_result",
          "data": {
            "text/plain": [
              "<unittest.runner.TextTestResult run=9 errors=0 failures=0>"
            ]
          },
          "metadata": {},
          "execution_count": 5
        }
      ]
    },
    {
      "cell_type": "markdown",
      "source": [
        "# Time and Space Complexity Analysis of MinHeap Operations\n"
      ],
      "metadata": {
        "id": "-xkYOUc7Tp7V"
      }
    },
    {
      "cell_type": "markdown",
      "source": [
        "\n",
        "A MinHeap is a complete binary tree where each parent node is less than or equal to its child nodes. This data structure can be efficiently implemented using an array, and it supports a range of operations such as insertion, deletion, and retrieval of the minimum element. This section presents a detailed complexity analysis of each core method in the `MinHeap` class.\n"
      ],
      "metadata": {
        "id": "6nMPR6RfUALC"
      }
    },
    {
      "cell_type": "markdown",
      "source": [
        "\n",
        "## `__init__(self, array)`\n"
      ],
      "metadata": {
        "id": "u5-XWsL3UHjG"
      }
    },
    {
      "cell_type": "markdown",
      "source": [
        "\n",
        "**Time Complexity:** O(n)  \n",
        "**Space Complexity:** O(1)  \n",
        "The constructor initializes the heap by calling the `buildHeap` method, which transforms an unordered array into a valid MinHeap. Since this is done in-place, the space complexity remains constant. Despite involving several operations, the build process has linear time complexity due to the nature of the heap construction algorithm (see `buildHeap` below).\n"
      ],
      "metadata": {
        "id": "EOpLe4QrUKxy"
      }
    },
    {
      "cell_type": "markdown",
      "source": [
        "\n",
        "## `buildHeap(self, array)`\n"
      ],
      "metadata": {
        "id": "hb3S-Xn_UNG5"
      }
    },
    {
      "cell_type": "markdown",
      "source": [
        "\n",
        "**Time Complexity:** O(n)  \n",
        "**Space Complexity:** O(1)  \n",
        "Building a heap from an unsorted array involves sifting down all non-leaf nodes. Although each sift-down can take up to O(log n) time, most nodes are located at lower levels and require fewer operations. This results in an amortized total cost of O(n), a non-obvious but well-established result in algorithm analysis.\n"
      ],
      "metadata": {
        "id": "jftyJz5IUO-q"
      }
    },
    {
      "cell_type": "markdown",
      "source": [
        "\n",
        "\n",
        "## `siftDown(self, index, endIdx, heap)`\n"
      ],
      "metadata": {
        "id": "U3N_qt0wURoS"
      }
    },
    {
      "cell_type": "markdown",
      "source": [
        "\n",
        "**Time Complexity:** O(log n)  \n",
        "**Space Complexity:** O(1)  \n",
        "This method restores the heap property by comparing a node with its children and moving it downward if necessary. The maximum number of comparisons is bounded by the height of the heap, which is logarithmic with respect to the number of elements.\n"
      ],
      "metadata": {
        "id": "JE_-Ml5sUVpE"
      }
    },
    {
      "cell_type": "markdown",
      "source": [
        "\n",
        "## `siftUp(self, index, heap)`\n"
      ],
      "metadata": {
        "id": "8gFURuwAUXKc"
      }
    },
    {
      "cell_type": "markdown",
      "source": [
        "\n",
        "**Time Complexity:** O(log n)  \n",
        "**Space Complexity:** O(1)  \n",
        "Used after an insertion, this method restores the heap property by moving a node upward until it reaches its correct position. In the worst case, the node travels from a leaf to the root, making the time complexity O(log n).\n"
      ],
      "metadata": {
        "id": "bXRXo1gFUZfK"
      }
    },
    {
      "cell_type": "markdown",
      "source": [
        "\n",
        "## `insert(self, value)`\n"
      ],
      "metadata": {
        "id": "-eYrS7xwUa5I"
      }
    },
    {
      "cell_type": "markdown",
      "source": [
        "\n",
        "**Time Complexity:** O(log n)  \n",
        "**Space Complexity:** O(1)  \n",
        "The value is appended to the end of the array, which takes constant time. The `siftUp` method is then used to ensure that the heap property is maintained. Therefore, the dominant cost arises from the logarithmic time of `siftUp`.\n"
      ],
      "metadata": {
        "id": "Qv0yR12kUcOy"
      }
    },
    {
      "cell_type": "markdown",
      "source": [
        "\n",
        "## `remove(self)`\n"
      ],
      "metadata": {
        "id": "ln4GLCJ4UdnM"
      }
    },
    {
      "cell_type": "markdown",
      "source": [
        "\n",
        "**Time Complexity:** O(log n)  \n",
        "**Space Complexity:** O(1)  \n",
        "To remove the minimum element (the root), the last element in the heap is swapped with the root and removed. The `siftDown` method is then called to restore the heap property, resulting in a logarithmic time cost.\n"
      ],
      "metadata": {
        "id": "skkkHaZFUe7o"
      }
    },
    {
      "cell_type": "markdown",
      "source": [
        "\n",
        "## `peek(self)`\n"
      ],
      "metadata": {
        "id": "TbBYLzRTUgn9"
      }
    },
    {
      "cell_type": "markdown",
      "source": [
        "\n",
        "**Time Complexity:** O(1)  \n",
        "**Space Complexity:** O(1)  \n",
        "This method returns the minimum element, which is located at the root (index 0). Since no modifications are made to the heap and only a single element is accessed, both time and space complexities are constant.\n"
      ],
      "metadata": {
        "id": "eWWy29FBUh_r"
      }
    },
    {
      "cell_type": "markdown",
      "source": [
        "\n",
        "## Summary Table\n"
      ],
      "metadata": {
        "id": "SWlOKXaZUkA3"
      }
    },
    {
      "cell_type": "markdown",
      "source": [
        "\n",
        "\n",
        "| Method       | Time Complexity | Space Complexity | Notes                                       |\n",
        "|--------------|-----------------|------------------|---------------------------------------------|\n",
        "| `__init__`   | O(n)            | O(1)             | Delegates to `buildHeap`                    |\n",
        "| `buildHeap`  | O(n)            | O(1)             | Uses bottom-up heapify                      |\n",
        "| `siftDown`   | O(log n)        | O(1)             | Moves node downward                         |\n",
        "| `siftUp`     | O(log n)        | O(1)             | Moves node upward                           |\n",
        "| `insert`     | O(log n)        | O(1)             | Append and sift up                          |\n",
        "| `remove`     | O(log n)        | O(1)             | Swap root with last, pop, and sift down     |\n",
        "| `peek`       | O(1)            | O(1)             | Direct access to index 0                    |\n"
      ],
      "metadata": {
        "id": "aknis2EWUmmq"
      }
    },
    {
      "cell_type": "code",
      "source": [],
      "metadata": {
        "id": "GwKxShQFbyBz"
      },
      "execution_count": null,
      "outputs": []
    }
  ]
}