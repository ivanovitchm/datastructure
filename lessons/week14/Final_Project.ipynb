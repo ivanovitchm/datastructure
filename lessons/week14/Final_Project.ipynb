{
  "nbformat": 4,
  "nbformat_minor": 0,
  "metadata": {
    "colab": {
      "provenance": [],
      "toc_visible": true
    },
    "kernelspec": {
      "name": "python3",
      "display_name": "Python 3"
    },
    "language_info": {
      "name": "python"
    }
  },
  "cells": [
    {
      "cell_type": "markdown",
      "source": [
        "## Import"
      ],
      "metadata": {
        "id": "CPs7WPSFRJG0"
      }
    },
    {
      "cell_type": "code",
      "execution_count": null,
      "metadata": {
        "id": "u-NErIhGPyOV"
      },
      "outputs": [],
      "source": [
        "# Main imports\n",
        "import pandas as pd           # For data manipulation and reading tabular files\n",
        "import networkx as nx         # For building and analyzing graphs\n",
        "import matplotlib.pyplot as plt  # For plotting graphs\n",
        "import numpy as np            # For numerical operations\n",
        "\n",
        "# Optional configurations\n",
        "%matplotlib inline\n",
        "plt.style.use(\"ggplot\")       # Sets the plot style to 'ggplot' for better aesthetics"
      ]
    },
    {
      "cell_type": "markdown",
      "source": [
        "## Data Ingestion"
      ],
      "metadata": {
        "id": "GPIR5s8DRMyt"
      }
    },
    {
      "cell_type": "code",
      "source": [
        "# Paths to the input files\n",
        "nodes_file = \"GraphTest_nodes.txt\"\n",
        "edges_file = \"GraphTest_edges.txt\"\n",
        "\n",
        "# Load data into DataFrames\n",
        "df_nodes = pd.read_csv(nodes_file, sep=\"\\t\")  # Reads the node table using tab as separator\n",
        "df_edges = pd.read_csv(edges_file, sep=\"\\t\")  # Reads the edge table using tab as separator\n",
        "\n",
        "# Preview the node data\n",
        "print(\"Nodes:\")\n",
        "display(df_nodes.head())  # Shows the first few rows of the node DataFrame\n",
        "\n",
        "# Preview the edge data\n",
        "print(\"Edges:\")\n",
        "display(df_edges.head())  # Shows the first few rows of the edge DataFrame"
      ],
      "metadata": {
        "id": "LUtsXk5OP3sA"
      },
      "execution_count": null,
      "outputs": []
    },
    {
      "cell_type": "markdown",
      "source": [
        "## Network Generation"
      ],
      "metadata": {
        "id": "RynO1pcwRrUF"
      }
    },
    {
      "cell_type": "code",
      "source": [
        "# Initialize as a MultiDiGraph to support multiple directed edges between the same pair of nodes\n",
        "# G = nx.MultiDiGraph()\n",
        "\n",
        "# Use MultiGraph() instead of MultiDiGraph() if directionality is not important.\n",
        "# This allows multiple undirected edges between the same node pairs, useful for modeling\n",
        "# symmetric or bidirectional interactions like Van der Waals forces.\n",
        "G = nx.MultiGraph()\n",
        "\n",
        "# Add all nodes with their attributes\n",
        "for _, row in df_nodes.iterrows():\n",
        "    node_id = row[\"NodeId\"]                      # Extract the node identifier\n",
        "    attributes = row.drop(\"NodeId\").to_dict()    # Convert the remaining columns to a dictionary of attributes\n",
        "    G.add_node(node_id, **attributes)            # Add the node and its attributes to the graph\n",
        "\n",
        "print(f\"Graph created with {G.number_of_nodes()} nodes.\")"
      ],
      "metadata": {
        "id": "5txpdrTdQFll"
      },
      "execution_count": null,
      "outputs": []
    },
    {
      "cell_type": "code",
      "source": [
        "# Accessing the attributes of a specific node in the graph\n",
        "# Each node represents an abstract element with several associated properties.\n",
        "# These attributes may include:\n",
        "# - Position: the element's index or sequence number\n",
        "# - Type: classification or category of the element\n",
        "# - Degree: number of connections this node has in the graph\n",
        "# - Numerical values (e.g., factor_CA): possibly representing some measurement or score\n",
        "# - Coordinates (x, y, z): spatial or geometric positioning\n",
        "# - Metadata: such as source file name or model identifier\n",
        "\n",
        "G.nodes[\"A:1:_:V\"]"
      ],
      "metadata": {
        "id": "qVvGaAJLQLx-"
      },
      "execution_count": null,
      "outputs": []
    },
    {
      "cell_type": "code",
      "source": [
        "# Adds all columns as edge attributes, allowing multiple edges between the same pair of nodes\n",
        "for _, row in df_edges.iterrows():\n",
        "    source = row[\"NodeId1\"]                  # Source node identifier\n",
        "    target = row[\"NodeId2\"]                  # Target node identifier\n",
        "    attributes = row.drop([\"NodeId1\", \"NodeId2\"]).to_dict()  # All remaining columns become edge attributes\n",
        "\n",
        "    # Safe conversion of numeric values (e.g., distance, angle, etc.)\n",
        "    for key in attributes:\n",
        "        val = attributes[key]\n",
        "        if pd.isna(val) or val == \"nan\":     # Handle missing or non-numeric values\n",
        "            attributes[key] = None\n",
        "        else:\n",
        "            try:\n",
        "                attributes[key] = float(val)  # Convert strings to float when possible\n",
        "            except (ValueError, TypeError):\n",
        "                pass  # Leave as string if conversion fails\n",
        "\n",
        "    # Add the edge with its full set of attributes\n",
        "    # Since we are using MultiDiGraph, multiple edges between the same nodes are allowed and preserved\n",
        "    G.add_edge(source, target, **attributes)\n",
        "\n",
        "print(f\"Graph created with {G.number_of_edges()} edges (multiple interactions per node pair allowed).\")"
      ],
      "metadata": {
        "id": "xefy6rHvQQx8"
      },
      "execution_count": null,
      "outputs": []
    },
    {
      "cell_type": "code",
      "source": [
        "# Accessing the attributes of a specific edge in a MultiDiGraph\n",
        "# Since multiple edges are allowed between the same pair of nodes, we use a 3-element key:\n",
        "# (source_node, target_node, edge_index)\n",
        "# This retrieves the edge with index 0 between nodes \"A:1:_:V\" and \"A:81:_:L\"\n",
        "\n",
        "G.edges[('A:1:_:V', 'A:81:_:L', 0)]\n",
        "\n",
        "# The returned dictionary contains all the metadata associated with this specific interaction:\n",
        "# - Interaction: a label describing the type of interaction or connection\n",
        "# - Distance: a numeric value that may represent spatial proximity or intensity\n",
        "# - Angle: geometric property, if applicable\n",
        "# - Node1 / Node2: identifiers for specific components involved in the interaction\n",
        "# - Donor, Positive, Ct, Orientation: optional descriptors that may or may not be filled\n",
        "# - Model: model or version identifier, useful in some datasets"
      ],
      "metadata": {
        "id": "8aLq5IlpQUBU"
      },
      "execution_count": null,
      "outputs": []
    },
    {
      "cell_type": "markdown",
      "source": [
        "### Summarization"
      ],
      "metadata": {
        "id": "--cSqIRfS8LA"
      }
    },
    {
      "cell_type": "markdown",
      "source": [
        "\n",
        "- How multiple connections between two nodes are represented;\n",
        "- How to navigate and inspect the metadata of each individual interaction;\n",
        "- The difference between a standard graph and a directed multiedge graph (MultiDiGraph).\n"
      ],
      "metadata": {
        "id": "nfjaUyObS5g9"
      }
    },
    {
      "cell_type": "code",
      "source": [
        "# Example: list all edges from node A:4:_:T to node A:7:_:E\n",
        "source = \"A:4:_:T\"\n",
        "target = \"A:7:_:E\"\n",
        "\n",
        "# Retrieves a dictionary containing all edges between the two nodes,\n",
        "# where each entry is indexed by a unique edge key (usually an integer starting from 0)\n",
        "multi_edges = G.get_edge_data(source, target)\n",
        "\n",
        "# Print all individual interactions (edges) between these two nodes\n",
        "for key, attrs in multi_edges.items():\n",
        "    print(f\"Edge {key}:\")  # Each key represents a unique edge ID between the same source and target\n",
        "    for attr, value in attrs.items():\n",
        "        print(f\"  {attr}: {value}\")  # Print each attribute of the edge\n",
        "    print()"
      ],
      "metadata": {
        "id": "VEdrZmMAQWb-"
      },
      "execution_count": null,
      "outputs": []
    },
    {
      "cell_type": "markdown",
      "source": [
        "## Export the Network"
      ],
      "metadata": {
        "id": "vNrdtSqPTGl7"
      }
    },
    {
      "cell_type": "code",
      "source": [
        "def sanitize_attributes(G):\n",
        "    # Fix node attributes: replace None or NaN values with empty strings\n",
        "    for node, attrs in G.nodes(data=True):\n",
        "        for k, v in attrs.items():\n",
        "            if v is None or (isinstance(v, float) and pd.isna(v)):\n",
        "                G.nodes[node][k] = \"\"\n",
        "\n",
        "    # Fix edge attributes: replace None or NaN values with empty strings\n",
        "    for u, v, key, attrs in G.edges(keys=True, data=True):\n",
        "        for k, v_attr in attrs.items():\n",
        "            if v_attr is None or (isinstance(v_attr, float) and pd.isna(v_attr)):\n",
        "                G.edges[u, v, key][k] = \"\"\n",
        "\n",
        "# Apply attribute sanitization to make the graph exportable to GEXF format\n",
        "sanitize_attributes(G)\n",
        "\n",
        "# Export the graph to a GEXF file, which can be opened in Gephi or reloaded in Python\n",
        "nx.write_gexf(G, \"final_netwokr.gexf\")\n",
        "print(\"Export completed successfully.\")"
      ],
      "metadata": {
        "id": "BPO0iiinQbho"
      },
      "execution_count": null,
      "outputs": []
    },
    {
      "cell_type": "markdown",
      "source": [
        "## Data Visualization"
      ],
      "metadata": {
        "id": "HDf-bbGbVIDr"
      }
    },
    {
      "cell_type": "code",
      "source": [
        "# Generate a layout for positioning the nodes using a force-directed algorithm\n",
        "# 'seed' ensures the layout is reproducible\n",
        "pos = nx.spring_layout(G, seed=42)\n",
        "\n",
        "# Set up the figure size\n",
        "plt.figure(figsize=(12, 10))\n",
        "\n",
        "# Draw the graph nodes with small size and light color\n",
        "nx.draw_networkx_nodes(G, pos, node_size=10, node_color='skyblue', alpha=0.7)\n",
        "\n",
        "# Draw the edges with some transparency\n",
        "nx.draw_networkx_edges(G, pos, alpha=0.3)\n",
        "\n",
        "# Set the plot title and remove axes\n",
        "plt.title(\"Graph\")\n",
        "plt.axis('off')\n",
        "\n",
        "# Display the final visualization\n",
        "plt.show()"
      ],
      "metadata": {
        "id": "yQ9DzIaWQebb"
      },
      "execution_count": null,
      "outputs": []
    }
  ]
}