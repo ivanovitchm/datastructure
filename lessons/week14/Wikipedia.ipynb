{
  "nbformat": 4,
  "nbformat_minor": 0,
  "metadata": {
    "colab": {
      "provenance": []
    },
    "kernelspec": {
      "name": "python3",
      "display_name": "Python 3"
    },
    "language_info": {
      "name": "python"
    }
  },
  "cells": [
    {
      "cell_type": "markdown",
      "metadata": {
        "id": "Tirw9HnrTuau"
      },
      "source": [
        "# 1.0 Case Study: constructing a network of wikipedia pages"
      ]
    },
    {
      "cell_type": "markdown",
      "metadata": {
        "id": "ryNuGuF5aK6t"
      },
      "source": [
        "## 1.1 Introduction"
      ]
    },
    {
      "cell_type": "markdown",
      "metadata": {
        "id": "K4U4cYABYxsK"
      },
      "source": [
        "So far we have learned two ways of constructing a complex network:\n",
        "- from a CSV file\n",
        "- manually\n",
        "\n",
        "What is hard for small networks may be impossible for medium-to-large scale networks; it may be impossible even for small networks if you must repeat the analysis many\n",
        "times. The case study in this lesson shows you **how to construct a large\n",
        "network in an easy way**:\n",
        "- automatically collecting node and edge data from the Internet.\n",
        "\n",
        "The other goal of this study (aside from mastering new network construction\n",
        "techniques) is quite pragmatic.\n",
        "- Wouldn’t you want to know where the **complex\n",
        "network analysis** fits in the context of other subjects and disciplines?\n",
        "\n",
        "An answer to this question is near at hand: [on Wikipedia](https://en.wikipedia.org/wiki/Complex_network).\n",
        "\n",
        "\n",
        "Let’s start with the Wikipedia page about complex networks—the seed page.\n",
        "(Unfortunately, there is no page on complex network analysis itself.) The page\n",
        "body has external links and links to other Wikipedia pages. Those other pages\n",
        "presumably are somewhat related to complex networks, or else why would\n",
        "the Wikipedia editors provide them?\n",
        "To build a network out of the seed page and other relevant pages, **let’s treat\n",
        "the pages (and the respective Wikipedia subjects) as the network nodes and\n",
        "the links between the pages as the network edges**. You will use snowball\n",
        "sampling (a breadth-first search or [BFS algorithm](https://en.wikipedia.org/wiki/Breadth-first_search)) to discover all the nodes and edges of interest.\n",
        "\n",
        "<img width=\"200\" src=\"https://drive.google.com/uc?export=view&id=1iC-cieOaZKy80adviVISLmM-2Zm7NL-i\">\n",
        "\n",
        "As a result, you will have a network of all pages related to complex networks\n",
        "and hopefully, you will make some conclusions about it."
      ]
    },
    {
      "cell_type": "markdown",
      "metadata": {
        "id": "JnNVv00Aalcx"
      },
      "source": [
        "## 1.2 Get the Data, Build the Network"
      ]
    },
    {
      "cell_type": "markdown",
      "metadata": {
        "id": "5DofZOgJa9Nf"
      },
      "source": [
        "The first half of the project script consists of:\n",
        "\n",
        "1. the initialization prologue\n",
        "2. a heavy-duty loop that retrieves the Wikipedia pages and simultaneously builds the network of nodes and edges.\n",
        "\n",
        "Let’s first import all necessary modules. We will need:\n",
        "\n",
        "- the module **wikipedia** for fetching and exploring Wikipedia pages\n",
        "- the operator **itemgetter** for sorting a list of tuples\n",
        "- and, naturally, **networkx** itself.\n",
        "\n",
        "To target the **snowballing process**, define the constant **SEED, the name of the\n",
        "starting page**.\n",
        "\n",
        "> As a side note, by changing the name of the seed page, you can\n",
        "apply this analysis to any other subject on Wikipedia.\n",
        "\n",
        "\n",
        "Last but not least, when you start the snowballing, you will eventually (and\n",
        "quite soon) bump into the pages describing ISBN and ISSN numbers, the\n",
        "arXiv, PubMed, and the like. Almost all other Wikipedia pages refer to one or\n",
        "more of those pages. This hyper-connectedness transforms any network into\n",
        "a collection of almost perfect gigantic stars, making all Wikipedia-based networks\n",
        "look similar. **To avoid the stardom syndrome**, treat the known “star”\n",
        "pages as stop words in information retrieval—in other words, ignore any links\n",
        "to them.\n",
        "\n",
        "Constructing the **black list of stop words**, STOPS, is a matter of trial\n",
        "and error. We put thirteen subjects on it; you may want to add more when you\n",
        "come across other “stars.” We also excluded pages whose names begin with\n",
        "**\"List of\"**, because they are simply lists of other subjects."
      ]
    },
    {
      "cell_type": "code",
      "metadata": {
        "id": "sQcOSXayXX1W",
        "colab": {
          "base_uri": "https://localhost:8080/"
        },
        "outputId": "603840a9-2139-477f-c4b0-bfbd0a596b0f"
      },
      "source": [
        "!pip install wikipedia"
      ],
      "execution_count": 1,
      "outputs": [
        {
          "output_type": "stream",
          "name": "stdout",
          "text": [
            "Collecting wikipedia\n",
            "  Downloading wikipedia-1.4.0.tar.gz (27 kB)\n",
            "  Preparing metadata (setup.py) ... \u001b[?25l\u001b[?25hdone\n",
            "Requirement already satisfied: beautifulsoup4 in /usr/local/lib/python3.11/dist-packages (from wikipedia) (4.13.4)\n",
            "Requirement already satisfied: requests<3.0.0,>=2.0.0 in /usr/local/lib/python3.11/dist-packages (from wikipedia) (2.32.3)\n",
            "Requirement already satisfied: charset-normalizer<4,>=2 in /usr/local/lib/python3.11/dist-packages (from requests<3.0.0,>=2.0.0->wikipedia) (3.4.2)\n",
            "Requirement already satisfied: idna<4,>=2.5 in /usr/local/lib/python3.11/dist-packages (from requests<3.0.0,>=2.0.0->wikipedia) (3.10)\n",
            "Requirement already satisfied: urllib3<3,>=1.21.1 in /usr/local/lib/python3.11/dist-packages (from requests<3.0.0,>=2.0.0->wikipedia) (2.4.0)\n",
            "Requirement already satisfied: certifi>=2017.4.17 in /usr/local/lib/python3.11/dist-packages (from requests<3.0.0,>=2.0.0->wikipedia) (2025.6.15)\n",
            "Requirement already satisfied: soupsieve>1.2 in /usr/local/lib/python3.11/dist-packages (from beautifulsoup4->wikipedia) (2.7)\n",
            "Requirement already satisfied: typing-extensions>=4.0.0 in /usr/local/lib/python3.11/dist-packages (from beautifulsoup4->wikipedia) (4.14.0)\n",
            "Building wheels for collected packages: wikipedia\n",
            "  Building wheel for wikipedia (setup.py) ... \u001b[?25l\u001b[?25hdone\n",
            "  Created wheel for wikipedia: filename=wikipedia-1.4.0-py3-none-any.whl size=11678 sha256=e436536e5b07e85d9723a5342a27bd9eb86b930b370cb5d4776cec4be6430894\n",
            "  Stored in directory: /root/.cache/pip/wheels/8f/ab/cb/45ccc40522d3a1c41e1d2ad53b8f33a62f394011ec38cd71c6\n",
            "Successfully built wikipedia\n",
            "Installing collected packages: wikipedia\n",
            "Successfully installed wikipedia-1.4.0\n"
          ]
        }
      ]
    },
    {
      "cell_type": "code",
      "metadata": {
        "id": "MINWDN4gTzAC"
      },
      "source": [
        "from operator import itemgetter\n",
        "import networkx as nx\n",
        "import wikipedia\n",
        "import matplotlib.pyplot as plt"
      ],
      "execution_count": 2,
      "outputs": []
    },
    {
      "cell_type": "code",
      "metadata": {
        "id": "lVqdt1994G2J",
        "colab": {
          "base_uri": "https://localhost:8080/",
          "height": 35
        },
        "outputId": "2ae9eb16-427b-41d2-c05b-61adbfff9818"
      },
      "source": [
        "nx.__version__"
      ],
      "execution_count": 3,
      "outputs": [
        {
          "output_type": "execute_result",
          "data": {
            "text/plain": [
              "'3.5'"
            ],
            "application/vnd.google.colaboratory.intrinsic+json": {
              "type": "string"
            }
          },
          "metadata": {},
          "execution_count": 3
        }
      ]
    },
    {
      "cell_type": "code",
      "metadata": {
        "id": "YPTw8l5iT7z9"
      },
      "source": [
        "#https://en.wikipedia.org/wiki/Complex_network\n",
        "\n",
        "SEED = \"Complex network\".title()\n",
        "STOPS = (\"International Standard Serial Number\",\n",
        "         \"International Standard Book Number\",\n",
        "         \"National Diet Library\",\n",
        "         \"International Standard Name Identifier\",\n",
        "         \"International Standard Book Number (Identifier)\",\n",
        "         \"Pubmed Identifier\",\n",
        "         \"Pubmed Central\",\n",
        "         \"Digital Object Identifier\",\n",
        "         \"Arxiv\",\n",
        "         \"Proc Natl Acad Sci Usa\",\n",
        "         \"Bibcode\",\n",
        "         \"Library Of Congress Control Number\",\n",
        "         \"Jstor\",\n",
        "         \"Doi (Identifier)\",\n",
        "         \"Isbn (Identifier)\",\n",
        "         \"Pmid (Identifier)\",\n",
        "         \"Arxiv (Identifier)\",\n",
        "         \"Bibcode (Identifier)\")"
      ],
      "execution_count": 4,
      "outputs": []
    },
    {
      "cell_type": "markdown",
      "metadata": {
        "id": "ChlfDfm7YQNY"
      },
      "source": [
        "The next code fragment deals with setting up the **snowballing process**. A\n",
        "breadth-first search, or BFS (sometimes known to computer programmers\n",
        "as a snowballing algorithm), must remember which **pages have been already\n",
        "processed** and which have been **discovered but not yet processed**.\n",
        "- the former are stored in the set **done_set**;\n",
        "- the latter, in the list **todo_lst** and **todo_set**.\n",
        "\n",
        "You need two data structures for the unprocessed pages because you want to\n",
        "know whether a page has been already recorded (an unordered lookup, *todo_set*) and\n",
        "which page is the next to be processed (an ordered lookup, *todo_lst*).\n",
        "\n",
        "\n",
        "Snowballing an extensive network—and Wikipedia with 6,578,766 articles in\n",
        "the English segment alone can produce a huge network!—takes considerable\n",
        "time.\n",
        "\n",
        "<img width=\"300\" src=\"https://drive.google.com/uc?export=view&id=1QV3aa3l6TfaCkXWs1MLfGZBc8foUhSZS\">\n",
        "\n",
        "\n",
        "\n",
        "Suppose you start with one seed node, and let’s say it has $N\\approx 100$ neighbors.\n",
        "Each of them has $N$ neighbors, too, to the total of $\\approx N+N×N$ nodes. The\n",
        "third round of discovery adds $\\approx N×N×N$ more nodes. The time to shave each\n",
        "next layer of nodes grows exponentially. For this exercise, let’s process only\n",
        "the seed node itself and its immediate neighbors (layers 0 and 1). Processing\n",
        "layer 2 is still feasible, but layer 3 requires $N×N×N×N\\approx 10^8$ page downloads. To keep track of the distance from the currently processed node to the seed, store both the layer to which a node belongs and the node name together as a tuple on the **todo_lst** list."
      ]
    },
    {
      "cell_type": "code",
      "metadata": {
        "id": "sy1gJQxwYdNi"
      },
      "source": [
        "todo_lst = [(0, SEED)] # The SEED is in the layer 0\n",
        "todo_set = set(SEED) # The SEED itself\n",
        "done_set = set() # Nothing is done yet"
      ],
      "execution_count": 5,
      "outputs": []
    },
    {
      "cell_type": "markdown",
      "metadata": {
        "id": "FlcRZ49jYjSr"
      },
      "source": [
        "**The output of the exercise is a NetworkX graph**. The next fragment will create\n",
        "an empty directed graph that will later absorb discovered nodes and edges.\n",
        "\n",
        "> We choose a **directed graph** because the edges that represent HTML links\n",
        "are naturally directed: a link from page A to page B does not imply a reciprocal\n",
        "link.\n",
        "\n",
        "The same fragment primes the algorithm by extracting the first “to-do” item\n",
        "(both its layer and page name) from the namesake list.\n",
        "\n"
      ]
    },
    {
      "cell_type": "code",
      "metadata": {
        "id": "z04Y-it9g5OR"
      },
      "source": [
        "g = nx.DiGraph()\n",
        "layer, page = todo_lst[0]"
      ],
      "execution_count": 6,
      "outputs": []
    },
    {
      "cell_type": "code",
      "source": [
        "page"
      ],
      "metadata": {
        "colab": {
          "base_uri": "https://localhost:8080/",
          "height": 35
        },
        "id": "m2o8w8MVfCRV",
        "outputId": "ff95b476-d896-4284-8231-bdebf0237a49"
      },
      "execution_count": 7,
      "outputs": [
        {
          "output_type": "execute_result",
          "data": {
            "text/plain": [
              "'Complex Network'"
            ],
            "application/vnd.google.colaboratory.intrinsic+json": {
              "type": "string"
            }
          },
          "metadata": {},
          "execution_count": 7
        }
      ]
    },
    {
      "cell_type": "markdown",
      "metadata": {
        "id": "cCe-Cq_4hGPH"
      },
      "source": [
        "It may take a fraction of a second to execute the first five lines of the script.\n",
        "It may take the whole next year or longer to finish the next twenty lines\n",
        "because they contain the main collection/construction loop of the project."
      ]
    },
    {
      "cell_type": "code",
      "metadata": {
        "id": "ucGHcQ4-hP4V",
        "colab": {
          "base_uri": "https://localhost:8080/"
        },
        "outputId": "1c34202e-fc64-44b3-9cea-6b1ce9248131"
      },
      "source": [
        "%%time\n",
        "while layer < 2:\n",
        "  # Remove the name page of the current page from the todo_lst,\n",
        "  # and add it to the set of processed pages.\n",
        "  # If the script encounters this page again, it will skip over it.\n",
        "  del todo_lst[0]\n",
        "  done_set.add(page)\n",
        "\n",
        "  # Show progress\n",
        "  print(layer, page)\n",
        "\n",
        "  # Attempt to download the selected page.\n",
        "  try:\n",
        "    wiki = wikipedia.page(page)\n",
        "  except:\n",
        "    print(\"Could not load\", page)\n",
        "    layer, page = todo_lst[0]\n",
        "    continue\n",
        "\n",
        "  for link in wiki.links:\n",
        "    link = link.title()\n",
        "    if link not in STOPS and not link.startswith(\"List Of\"):\n",
        "      if link not in todo_set and link not in done_set:\n",
        "        todo_lst.append((layer + 1, link))\n",
        "        todo_set.add(link)\n",
        "      g.add_edge(page, link)\n",
        "  layer, page = todo_lst[0]"
      ],
      "execution_count": 8,
      "outputs": [
        {
          "output_type": "stream",
          "name": "stdout",
          "text": [
            "0 Complex Network\n",
            "1 Adjacency List\n",
            "1 Adjacency Matrix\n",
            "Could not load Adjacency Matrix\n",
            "1 Agent-Based Model\n",
            "1 Albert-László Barabási\n",
            "1 Artificial Neural Network\n",
            "1 Assortativity\n",
            "1 Autonomous System (Internet)\n",
            "1 Balance Theory\n",
            "1 Barabási–Albert Model\n",
            "1 Bianconi–Barabási Model\n",
            "1 Biological Network\n",
            "1 Biology\n",
            "1 Bipartite Graph\n",
            "Could not load Bipartite Graph\n",
            "1 Blockmodeling\n",
            "Could not load Blockmodeling\n",
            "1 Boolean Network\n",
            "1 Branching Process\n",
            "1 Centrality\n",
            "1 Climate\n",
            "1 Climate Networks\n",
            "1 Clique (Graph Theory)\n",
            "1 Clustering Coefficient\n",
            "1 Combinatorial Optimization\n",
            "1 Community Structure\n",
            "1 Complete Graph\n",
            "1 Complex Networks\n",
            "1 Complex Adaptive System\n",
            "1 Complex Contagion\n",
            "1 Complex Systems\n",
            "1 Computer Network\n",
            "1 Computer Science\n",
            "1 Connected Component (Graph Theory)\n",
            "1 Connectome\n",
            "Could not load Connectome\n",
            "1 Cut (Graph Theory)\n",
            "1 Cycle (Graph Theory)\n",
            "1 Degree (Graph Theory)\n",
            "1 Degree Distribution\n",
            "1 Dependency Network\n",
            "1 Directed Graph\n",
            "Could not load Directed Graph\n",
            "1 Distance (Graph Theory)\n",
            "1 Dual-Phase Evolution\n",
            "1 Duncan J. Watts\n",
            "1 Dynamic Network Analysis\n",
            "1 Edge (Graph Theory)\n",
            "1 Efficiency (Network Science)\n",
            "1 Entropy (Information Theory)\n",
            "1 Epidemic Model\n",
            "1 Epidemiology\n",
            "1 Erdős–Rényi Model\n",
            "1 Evolving Networks\n",
            "1 Exponential Random Graph Models\n",
            "1 Fitness Model (Network Theory)\n",
            "1 Flow Network\n",
            "Could not load Flow Network\n",
            "1 Frigyes Karinthy\n",
            "1 Graph (Abstract Data Type)\n",
            "1 Graph (Discrete Mathematics)\n",
            "1 Graph Drawing\n",
            "1 Herbert A. Simon\n",
            "1 Hierarchical Network Model\n",
            "1 Hierarchy\n",
            "1 Homophily\n",
            "Could not load Homophily\n",
            "1 Hyperbolic Geometric Graph\n",
            "1 Hypercube\n",
            "Could not load Hypercube\n",
            "1 Hypergraph\n",
            "Could not load Hypergraph\n",
            "1 Issn (Identifier)\n",
            "Could not load Issn (Identifier)\n",
            "1 Incidence List\n",
            "1 Incidence Matrix\n",
            "Could not load Incidence Matrix\n",
            "1 Interdependent Networks\n",
            "1 Labeled Graph\n",
            "1 Lancichinetti–Fortunato–Radicchi Benchmark\n",
            "1 Lattice Graph\n",
            "1 Link Analysis\n",
            "1 Loop (Graph Theory)\n",
            "1 Mathematics\n",
            "1 Matthew Effect (Sociology)\n",
            "1 Maximum-Entropy Random Graph Model\n",
            "1 Metrics (Networking)\n",
            "1 Modularity (Networks)\n",
            "1 Multidimensional Network\n",
            "1 Multigraph\n",
            "Could not load Multigraph\n",
            "1 Neighbourhood (Graph Theory)\n",
            "1 Network Controllability\n",
            "1 Network Effect\n",
            "1 Network Motif\n",
            "1 Network On A Chip\n",
            "1 Network Science\n",
            "1 Network Theory\n",
            "1 Pmc (Identifier)\n",
            "Could not load Pmc (Identifier)\n",
            "1 Path (Graph Theory)\n",
            "1 Percolation\n",
            "1 Percolation Theory\n",
            "1 Physics\n"
          ]
        },
        {
          "output_type": "stream",
          "name": "stderr",
          "text": [
            "/usr/local/lib/python3.11/dist-packages/wikipedia/wikipedia.py:389: GuessedAtParserWarning: No parser was explicitly specified, so I'm using the best available HTML parser for this system (\"lxml\"). This usually isn't a problem, but if you run this code on another system, or in a different virtual environment, it may use a different parser and behave differently.\n",
            "\n",
            "The code that caused this warning is on line 389 of the file /usr/local/lib/python3.11/dist-packages/wikipedia/wikipedia.py. To get rid of this warning, pass the additional argument 'features=\"lxml\"' to the BeautifulSoup constructor.\n",
            "\n",
            "  lis = BeautifulSoup(html).find_all('li')\n"
          ]
        },
        {
          "output_type": "stream",
          "name": "stdout",
          "text": [
            "Could not load Physics\n",
            "1 Poisson Distribution\n",
            "Could not load Poisson Distribution\n",
            "1 Power-Law\n",
            "1 Power Law\n",
            "1 Preferential Attachment\n",
            "1 Random Geometric Graph\n",
            "1 Random Graph\n",
            "1 Random Graph Theory Of Gelation\n",
            "1 Random Regular Graphs\n",
            "1 Reciprocity (Network Science)\n",
            "1 Reciprocity In Network\n",
            "1 Regular Lattices\n",
            "Could not load Regular Lattices\n",
            "1 S2Cid (Identifier)\n",
            "1 Sir Model\n",
            "Could not load Sir Model\n",
            "1 Scale-Free Network\n",
            "1 Scale-Free Networks\n",
            "1 Scientific Collaboration Network\n",
            "1 Semantic Network\n",
            "1 Six Degrees Of Separation\n",
            "1 Small-World Network\n",
            "1 Small-World Networks\n",
            "1 Small-World Phenomenon\n",
            "1 Small World Networks\n",
            "1 Social Capital\n",
            "1 Social Influence\n",
            "1 Social Network\n",
            "1 Social Network Analysis Software\n",
            "1 Sociology\n",
            "1 Soft Configuration Model\n",
            "1 Spatial Network\n",
            "1 Stanley Milgram\n",
            "1 Steven Strogatz\n",
            "1 Stochastic Block Model\n",
            "1 Telecommunications Network\n",
            "1 Topological\n",
            "1 Transitive Relation\n",
            "Could not load Transitive Relation\n",
            "1 Transport Network\n",
            "1 Triadic Closure\n",
            "1 Trophic Coherence\n",
            "1 Vertex (Graph Theory)\n",
            "1 Watts–Strogatz Model\n",
            "1 Weighted Graph\n",
            "Could not load Weighted Graph\n",
            "1 World Wide Web\n",
            "Could not load World Wide Web\n",
            "1 Yule-Simon Distribution\n",
            "CPU times: user 4.65 s, sys: 515 ms, total: 5.17 s\n",
            "Wall time: 1min 33s\n"
          ]
        }
      ]
    },
    {
      "cell_type": "code",
      "metadata": {
        "id": "JrtewM_hPqJa",
        "colab": {
          "base_uri": "https://localhost:8080/"
        },
        "outputId": "2b6b1e2c-f46f-435d-dd6c-28e8361cba27"
      },
      "source": [
        "print(\"{} nodes, {} edges\".format(len(g), nx.number_of_edges(g)))"
      ],
      "execution_count": null,
      "outputs": [
        {
          "output_type": "stream",
          "name": "stdout",
          "text": [
            "13981 nodes, 26321 edges\n"
          ]
        }
      ]
    },
    {
      "cell_type": "markdown",
      "metadata": {
        "id": "LMX9A1-Nh-8B"
      },
      "source": [
        "The network of interest is now in the variable g. But it is “dirty”: inaccurate, incomplete, and erroneous."
      ]
    },
    {
      "cell_type": "markdown",
      "metadata": {
        "id": "qS911QoZMzb7"
      },
      "source": [
        "## 1.3 Eliminate Duplicates"
      ]
    },
    {
      "cell_type": "markdown",
      "metadata": {
        "id": "UJ_c2SOHNa7O"
      },
      "source": [
        "Many Wikipedia pages exist under two or more names. For example, there\n",
        "are pages about **Complex Network** and **Complex Networks**. The latter redirects\n",
        "to the former, but NetworkX does not know about the redirection.\n",
        "\n",
        "Accurately merging all duplicate nodes involves **natural language processing\n",
        "(NLP) tools that are outside of the scope of this course**. It may suffice to join\n",
        "only those nodes that differ by the presence/absence of the letter s at the end\n",
        "or a hyphen in the middle.\n",
        "\n",
        "Start removing self-loops (pages referring to themselves). The loops don’t change\n",
        "the network properties but affect the correctness of duplicate node elimination.\n",
        "Now, you need a list of at least some duplicate nodes. You can build it by\n",
        "looking at each node in g and checking if a node with the same name, but\n",
        "with an s at the end, is also in g.\n",
        "\n",
        "Pass each pair of duplicated node names to the function **nx.contracted_nodes(g,u,v)** that merges node v into node u in the graph g. The function reassigns all edges previously incident to v, to u. If you don’t pass the option **self_loops=False**, the function converts an edge from v to u (if any) to a self-loop."
      ]
    },
    {
      "cell_type": "code",
      "metadata": {
        "id": "8VkbRjFcBQaX"
      },
      "source": [
        "# make a copy of raw graph\n",
        "original = g.copy()"
      ],
      "execution_count": 9,
      "outputs": []
    },
    {
      "cell_type": "code",
      "metadata": {
        "id": "UFrNIuluN1__",
        "colab": {
          "base_uri": "https://localhost:8080/"
        },
        "outputId": "20163a28-ddc8-4d94-9174-98ebf4c4af6f"
      },
      "source": [
        "# remove self loops\n",
        "g.remove_edges_from(nx.selfloop_edges(g))\n",
        "\n",
        "# identify duplicates like that: 'network' and 'networks'\n",
        "duplicates = [(node, node + \"s\")\n",
        "              for node in g if node + \"s\" in g\n",
        "             ]\n",
        "\n",
        "for dup in duplicates:\n",
        "  # *dup is a technique named 'unpacking'\n",
        "  g = nx.contracted_nodes(g, *dup, self_loops=False)\n",
        "\n",
        "print(duplicates)\n",
        "\n",
        "duplicates = [(x, y) for x, y in\n",
        "              [(node, node.replace(\"-\", \" \")) for node in g]\n",
        "                if x != y and y in g]\n",
        "print(duplicates)\n",
        "\n",
        "for dup in duplicates:\n",
        "  g = nx.contracted_nodes(g, *dup, self_loops=False)\n",
        "\n",
        "# nx.contracted creates a new node/edge attribute called contraction\n",
        "# the value of the attribute is a dictionary, but GraphML\n",
        "# does not support dictionary attributes\n",
        "nx.set_node_attributes(g, 0,\"contraction\")\n",
        "nx.set_edge_attributes(g, 0,\"contraction\")"
      ],
      "execution_count": 10,
      "outputs": [
        {
          "output_type": "stream",
          "name": "stdout",
          "text": [
            "[('Complex Network', 'Complex Networks'), ('Computer Science', 'Computer Sciences'), ('Random Graph', 'Random Graphs'), ('Scale-Free Network', 'Scale-Free Networks'), ('Semantic Network', 'Semantic Networks'), ('Small-World Network', 'Small-World Networks'), ('Social Network', 'Social Networks'), ('Spatial Network', 'Spatial Networks'), ('Graph Database', 'Graph Databases'), ('Ant Colony Optimization Algorithm', 'Ant Colony Optimization Algorithms'), ('Complex System', 'Complex Systems'), ('Geographic Information System', 'Geographic Information Systems'), ('Multi-Agent System', 'Multi-Agent Systems'), ('Social Science', 'Social Sciences'), ('Artificial Neuron', 'Artificial Neurons'), ('Automated Lane Keeping System', 'Automated Lane Keeping Systems'), ('Embedded System', 'Embedded Systems'), ('Genetic Algorithm', 'Genetic Algorithms'), ('Multilayer Perceptron', 'Multilayer Perceptrons'), ('Partial Differential Equation', 'Partial Differential Equations'), ('Probability Distribution', 'Probability Distributions'), ('Statistic', 'Statistics'), ('Food Web', 'Food Webs'), ('Gene Regulatory Network', 'Gene Regulatory Networks'), ('Metabolic Network', 'Metabolic Networks'), ('Weighted Network', 'Weighted Networks'), ('Ancient Greek', 'Ancient Greeks'), ('Asteroid', 'Asteroids'), ('Continent', 'Continents'), ('Earth Science', 'Earth Sciences'), ('Ecosystem', 'Ecosystems'), ('Geologist', 'Geologists'), ('Igneous Rock', 'Igneous Rocks'), ('Organism', 'Organisms'), ('Tectonic Plate', 'Tectonic Plates'), ('Terrestrial Planet', 'Terrestrial Planets'), ('Ordinary Differential Equation', 'Ordinary Differential Equations'), ('Eigenvector', 'Eigenvectors'), ('Satellite Temperature Measurement', 'Satellite Temperature Measurements'), ('Clique', 'Cliques'), ('Planar Graph', 'Planar Graphs'), ('Graph Algorithm', 'Graph Algorithms'), ('Demographic', 'Demographics'), ('Biological System', 'Biological Systems'), ('Differential Equation', 'Differential Equations'), ('Small World Network', 'Small World Networks'), ('Social Movement', 'Social Movements'), ('Coupled Map Lattice', 'Coupled Map Lattices'), ('Fractal', 'Fractals'), ('Organisation', 'Organisations'), ('Thermodynamic', 'Thermodynamics'), ('Computer', 'Computers'), ('Http', 'Https'), ('Network Protocol', 'Network Protocols'), ('Optical Fiber', 'Optical Fibers'), ('Randomized Algorithm', 'Randomized Algorithms'), ('Signal', 'Signals'), ('Wireless Sensor Network', 'Wireless Sensor Networks'), ('Data Structure', 'Data Structures'), ('Disjoint Set', 'Disjoint Sets'), ('Random Variable', 'Random Variables'), ('Vector Space', 'Vector Spaces'), ('Prime Number', 'Prime Numbers'), ('Continuous Function', 'Continuous Functions'), ('Antiseptic', 'Antiseptics'), ('Epidemic', 'Epidemics'), ('Infection', 'Infections'), ('Mathematical Modelling Of Infectious Disease', 'Mathematical Modelling Of Infectious Diseases'), ('Waterborne Disease', 'Waterborne Diseases'), ('Amino Acid', 'Amino Acids'), ('Clinical Trial', 'Clinical Trials'), ('Enzyme', 'Enzymes'), ('Epidemiological Method', 'Epidemiological Methods'), ('Molecule', 'Molecules'), ('Line Segment', 'Line Segments'), ('Phylogenetic Tree', 'Phylogenetic Trees'), ('Expert', 'Experts'), ('Interpersonal Relationship', 'Interpersonal Relationships'), ('Organization', 'Organizations'), ('Power-Law Distribution', 'Power-Law Distributions'), ('Integer', 'Integers'), ('Aesthetic', 'Aesthetics'), ('Conic Section', 'Conic Sections'), ('Mathematician', 'Mathematicians'), ('Exponential Random Graph Model', 'Exponential Random Graph Models'), ('Open Standard', 'Open Standards'), ('Web Site', 'Web Sites'), ('Binomial Coefficient', 'Binomial Coefficients'), ('Critical Exponent', 'Critical Exponents'), ('Solar Flare', 'Solar Flares'), ('Random Regular Graph', 'Random Regular Graphs'), ('Random Network', 'Random Networks'), ('Co-Occurrence Network', 'Co-Occurrence Networks'), ('Digital Communication', 'Digital Communications'), ('Marxist', 'Marxists'), ('Social Group', 'Social Groups'), ('Social Norm', 'Social Norms'), ('Economic', 'Economics'), ('Formal Organization', 'Formal Organizations'), ('Social Interaction', 'Social Interactions'), ('Sociology Of Sport', 'Sociology Of Sports'), ('Hermeneutic', 'Hermeneutics'), ('Nation State', 'Nation States'), ('Semiotic', 'Semiotics'), ('Social Action', 'Social Actions'), ('Radio Wave', 'Radio Waves'), ('Trophic Level', 'Trophic Levels'), ('Tweedie Distribution', 'Tweedie Distributions')]\n",
            "[('Power-Law', 'Power Law'), ('Scale-Free Network', 'Scale Free Network'), ('Small-World Network', 'Small World Network'), ('Small-World Phenomenon', 'Small World Phenomenon'), ('Mean-Squared Error', 'Mean Squared Error'), ('Prentice-Hall', 'Prentice Hall'), ('Time-Series', 'Time Series'), ('World-Systems Theory', 'World Systems Theory'), ('Small-World Experiment', 'Small World Experiment'), ('Probability-Generating Function', 'Probability Generating Function'), ('Cross-Entropy', 'Cross Entropy'), ('Carnegie-Mellon University', 'Carnegie Mellon University'), ('Problem-Solving', 'Problem Solving'), ('Power-Law Distribution', 'Power Law Distribution'), ('Data-Analysis', 'Data Analysis'), ('Emmanuel-Joseph Sieyès', 'Emmanuel Joseph Sieyès')]\n"
          ]
        }
      ]
    },
    {
      "cell_type": "code",
      "metadata": {
        "id": "Bqe2ruDmPcNH",
        "colab": {
          "base_uri": "https://localhost:8080/"
        },
        "outputId": "aa9b895a-3391-4efe-905f-4bd988db6a0d"
      },
      "source": [
        "print(\"{} nodes, {} edges\".format(len(g), nx.number_of_edges(g)))"
      ],
      "execution_count": 11,
      "outputs": [
        {
          "output_type": "stream",
          "name": "stdout",
          "text": [
            "13350 nodes, 24022 edges\n"
          ]
        }
      ]
    },
    {
      "cell_type": "markdown",
      "metadata": {
        "id": "TulPj3ZQQAS8"
      },
      "source": [
        "## 1.4 Truncate the network"
      ]
    },
    {
      "cell_type": "markdown",
      "metadata": {
        "id": "cGjVZK35URcH"
      },
      "source": [
        "Why did you go through all those Wikipedia troubles? First, to construct a\n",
        "network of subjects related to complex networks—and here it is. Second, to\n",
        "find other significant topics related to complex networks. **But what is the\n",
        "measure of significance?**\n",
        "\n",
        "\n",
        "You will discover a variety of network measures latter in this course. For now, let’s concentrate on a **node indegree**—the number of edges directed into the node. (In the same spirit, the number of edges directed out of the node is called **outdegree**.) The indegree of a node equals the number of HTML links pointing to the respective page. **If a page has a lot of links to it, the topic of the page must be significant.**\n",
        "\n",
        "\n",
        "The extracted graph\n",
        "has 13,526 nodes and 24,724 edges—an average of 1.82 edges per node. **Most\n",
        "of the nodes have only one connection**. (Interestingly, there are no isolated\n",
        "nodes with no connection in the graph. Even if they exist, you will not find\n",
        "them because of the way snowballing works.) **You can remove all nodes with\n",
        "only one incident edge to make the network more compact and less hairy\n",
        "without hurting the final results**."
      ]
    },
    {
      "cell_type": "code",
      "metadata": {
        "id": "AaHxaOwMLW9B",
        "colab": {
          "base_uri": "https://localhost:8080/",
          "height": 407
        },
        "outputId": "ebef7fb4-aeaa-4c83-e1ee-5723e391875d"
      },
      "source": [
        "plt.style.use(\"default\")\n",
        "# degree sequence\n",
        "degree_sequence = sorted([d for n, d in g.degree()], reverse=True)\n",
        "\n",
        "fig, ax = plt.subplots(1,2,figsize=(8,4))\n",
        "\n",
        "# all_data has information about degree_sequence and the width of each bin\n",
        "ax[0].hist(degree_sequence)\n",
        "ax[1].hist(degree_sequence,bins=[1,2,3,4,5,6,7,8,9,10])\n",
        "\n",
        "ax[0].set_title(\"Degree Histogram\")\n",
        "ax[0].set_ylabel(\"Count\")\n",
        "ax[0].set_xlabel(\"Degree\")\n",
        "ax[0].set_ylim(0,15000)\n",
        "\n",
        "ax[1].set_title(\"Degree Histogram - Zoom\")\n",
        "ax[1].set_ylabel(\"Count\")\n",
        "ax[1].set_xlabel(\"Degree\")\n",
        "ax[1].set_xlim(0,10)\n",
        "ax[1].set_ylim(0,15000)\n",
        "\n",
        "plt.tight_layout()\n",
        "plt.show()"
      ],
      "execution_count": 12,
      "outputs": [
        {
          "output_type": "display_data",
          "data": {
            "text/plain": [
              "<Figure size 800x400 with 2 Axes>"
            ],
            "image/png": "[encoded data removed]"
          },
          "metadata": {}
        }
      ]
    },
    {
      "cell_type": "code",
      "metadata": {
        "id": "Br8-5IGIUbVT",
        "colab": {
          "base_uri": "https://localhost:8080/"
        },
        "outputId": "6ac9b587-b489-46e7-ad2f-cbb7c5f485ad"
      },
      "source": [
        "# filter nodes with degree greater than or equal to 2\n",
        "core = [node for node, deg in dict(g.degree()).items() if deg >= 2]\n",
        "\n",
        "# select a subgraph with 'core' nodes\n",
        "gsub = nx.subgraph(g, core)\n",
        "\n",
        "print(\"{} nodes, {} edges\".format(len(gsub), nx.number_of_edges(gsub)))\n",
        "\n",
        "nx.write_graphml(gsub, \"cna.graphml\")"
      ],
      "execution_count": 13,
      "outputs": [
        {
          "output_type": "stream",
          "name": "stdout",
          "text": [
            "3001 nodes, 13673 edges\n"
          ]
        }
      ]
    },
    {
      "cell_type": "code",
      "metadata": {
        "id": "GD2AghG1eXMB",
        "colab": {
          "base_uri": "https://localhost:8080/"
        },
        "outputId": "fa9f50f2-b982-4dcf-9880-875aa4682ca4"
      },
      "source": [
        "print(\"Nodes removed: {:.2f}%\".format(100*(1 - 3373/14326)))\n",
        "print(\"Edges removed: {:.2f}%\".format(100*(1 - 14762/25589)))\n",
        "print(\"Edges per nodes: {:.2f}\".format(14762/3373))"
      ],
      "execution_count": 14,
      "outputs": [
        {
          "output_type": "stream",
          "name": "stdout",
          "text": [
            "Nodes removed: 76.46%\n",
            "Edges removed: 42.31%\n",
            "Edges per nodes: 4.38\n"
          ]
        }
      ]
    },
    {
      "cell_type": "markdown",
      "metadata": {
        "id": "YSELbSFCX__7"
      },
      "source": [
        "As you can see, the following code fragment safely removes 76 percent of the\n",
        "nodes and 42 percent of the edges, raising the average number of edges per\n",
        "node to 4.38."
      ]
    },
    {
      "cell_type": "markdown",
      "metadata": {
        "id": "5zRjfGLtZ2qB"
      },
      "source": [
        "## 1.5 Explore the network"
      ]
    },
    {
      "cell_type": "markdown",
      "metadata": {
        "id": "RUMyWlK7jqkX"
      },
      "source": [
        "The following figure is a [Gephi](https://gephi.org/) rendering of **gsub**. Node\n",
        "and label font sizes represent the indegrees (a filter was added in gephi just to show only node with indegree greater than 50). The most in-connected, most significant\n",
        "nodes are in the upper-left corner of the network. What are they?\n",
        "\n",
        "<img width=\"600\" src=\"https://drive.google.com/uc?export=view&id=1voCZAh8-8YPKuekNHbc_h45MLgM6Rfg6\">\n",
        "\n",
        "\n",
        "The last code fragment of the exercise efficiently calculates the answer by\n",
        "calling the method **gsub.in_degree()**. The method (and its sister method **gsub.out_degree()**)\n",
        "are very similar to **gsub.degree()** except that they report different edge counts in the form of objects InDegreeView and OutDegreeView, respectively."
      ]
    },
    {
      "cell_type": "code",
      "metadata": {
        "id": "gwlRxZ2kmDL-",
        "colab": {
          "base_uri": "https://localhost:8080/"
        },
        "outputId": "f8b01852-5924-401c-9f99-c0e20a6685b9"
      },
      "source": [
        "top_indegree = sorted(dict(gsub.in_degree()).items(),\n",
        "                      reverse=True, key=itemgetter(1))[:100]\n",
        "print(\"\\n\".join(map(lambda t: \"{} {}\".format(*reversed(t)), top_indegree)))"
      ],
      "execution_count": 15,
      "outputs": [
        {
          "output_type": "stream",
          "name": "stdout",
          "text": [
            "88 S2Cid (Identifier)\n",
            "68 Graph (Discrete Mathematics)\n",
            "64 Vertex (Graph Theory)\n",
            "61 Issn (Identifier)\n",
            "58 Directed Graph\n",
            "56 Social Network\n",
            "55 Pmc (Identifier)\n",
            "55 Degree (Graph Theory)\n",
            "55 Adjacency Matrix\n",
            "54 Small-World Network\n",
            "53 Network Science\n",
            "52 Path (Graph Theory)\n",
            "52 Scale-Free Network\n",
            "52 Network Theory\n",
            "52 Edge (Graph Theory)\n",
            "51 Complex Network\n",
            "51 Bipartite Graph\n",
            "51 Complete Graph\n",
            "51 Percolation Theory\n",
            "50 Graph Drawing\n",
            "50 Cycle (Graph Theory)\n",
            "49 Blockmodeling\n",
            "49 Social Network Analysis Software\n",
            "49 Social Capital\n",
            "49 Centrality\n",
            "48 Adjacency List\n",
            "48 Multigraph\n",
            "48 Incidence Matrix\n",
            "48 Complex Contagion\n",
            "48 Degree Distribution\n",
            "48 Graph (Abstract Data Type)\n",
            "47 Distance (Graph Theory)\n",
            "47 Hypergraph\n",
            "47 Preferential Attachment\n",
            "47 Erdős–Rényi Model\n",
            "47 Random Graph\n",
            "47 Clique (Graph Theory)\n",
            "47 Artificial Neural Network\n",
            "47 Loop (Graph Theory)\n",
            "46 Agent-Based Model\n",
            "46 Connected Component (Graph Theory)\n",
            "46 Network Motif\n",
            "46 Weighted Graph\n",
            "46 Clustering Coefficient\n",
            "45 Combinatorial Optimization\n",
            "45 Neighbourhood (Graph Theory)\n",
            "45 Flow Network\n",
            "45 Transitive Relation\n",
            "45 Computer Network\n",
            "45 Barabási–Albert Model\n",
            "44 Cut (Graph Theory)\n",
            "44 Network Controllability\n",
            "44 Link Analysis\n",
            "44 Wayback Machine\n",
            "44 Semantic Network\n",
            "43 Dependency Network\n",
            "43 Watts–Strogatz Model\n",
            "43 Social Influence\n",
            "43 Incidence List\n",
            "43 Modularity (Networks)\n",
            "43 Epidemic Model\n",
            "43 Boolean Network\n",
            "43 Homophily\n",
            "43 Community Structure\n",
            "43 Telecommunications Network\n",
            "43 Network Effect\n",
            "43 Fitness Model (Network Theory)\n",
            "43 Graph Theory\n",
            "43 Metrics (Networking)\n",
            "43 Interdependent Networks\n",
            "43 Biological Network\n",
            "43 Balance Theory\n",
            "43 Sir Model\n",
            "43 Labeled Graph\n",
            "42 Assortativity\n",
            "42 Spatial Network\n",
            "42 Transport Network\n",
            "42 Maximum-Entropy Random Graph Model\n",
            "42 Hierarchical Network Model\n",
            "42 Triadic Closure\n",
            "42 Lancichinetti–Fortunato–Radicchi Benchmark\n",
            "42 Hyperbolic Geometric Graph\n",
            "42 Random Geometric Graph\n",
            "42 Network On A Chip\n",
            "42 Exponential Random Graph Model\n",
            "42 Scientific Collaboration Network\n",
            "42 Soft Configuration Model\n",
            "42 Evolving Networks\n",
            "42 Stochastic Block Model\n",
            "42 Bianconi–Barabási Model\n",
            "42 Efficiency (Network Science)\n",
            "41 Reciprocity (Network Science)\n",
            "34 Citeseerx (Identifier)\n",
            "33 Hdl (Identifier)\n",
            "30 Jstor (Identifier)\n",
            "27 Social Network Analysis\n",
            "23 Oclc (Identifier)\n",
            "21 Computer Science\n",
            "18 Statistic\n",
            "17 Machine Learning\n"
          ]
        }
      ]
    },
    {
      "cell_type": "markdown",
      "metadata": {
        "id": "6PQT-sl0mulb"
      },
      "source": [
        "**Further Studies**\n",
        "\n",
        "\n",
        "- This section presented a complete complex network construction case study,\n",
        "starting from the raw data in the form of HTML pages, all the way to an analyzable\n",
        "annotated network graph and a simple exploratory exercise. This is\n",
        "a good foundation for more systematic complex network studies. Now is your turn, choice a topic of your interest and reproduce yourself a complet complex network case study.\n",
        "\n",
        "- Some examples (not limited to):\n",
        "\n",
        "  - https://en.wikipedia.org/wiki/Black_Lives_Matter\n",
        "  - https://en.wikipedia.org/wiki/COVID-19\n",
        "  - https://en.wikipedia.org/wiki/Harry_Potter\n",
        "  - https://en.wikipedia.org/wiki/Sherlock_Holmes\n",
        "  - https://en.wikipedia.org/wiki/Augusto_Severo_de_Albuquerque_Maranh%C3%A3o\n",
        "  - https://en.wikipedia.org/wiki/Brazil\n",
        "  - https://en.wikipedia.org/wiki/Bitcoin\n",
        "  - https://en.wikipedia.org/wiki/Federal_University_of_Rio_Grande_do_Norte\n",
        "  - https://en.wikipedia.org/wiki/Petrobras\n",
        "  - https://en.wikipedia.org/wiki/List_of_presidents_of_Brazil\n"
      ]
    },
    {
      "cell_type": "code",
      "source": [],
      "metadata": {
        "id": "KPWHcoE4rxQ0"
      },
      "execution_count": null,
      "outputs": []
    }
  ]
}