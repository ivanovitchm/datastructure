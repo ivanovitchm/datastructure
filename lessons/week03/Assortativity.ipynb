{
  "nbformat": 4,
  "nbformat_minor": 0,
  "metadata": {
    "colab": {
      "provenance": []
    },
    "kernelspec": {
      "name": "python3",
      "display_name": "Python 3"
    },
    "language_info": {
      "name": "python"
    }
  },
  "cells": [
    {
      "cell_type": "markdown",
      "metadata": {
        "id": "RWd3NxfSpV90"
      },
      "source": [
        "# 1.0 Assortativity"
      ]
    },
    {
      "cell_type": "markdown",
      "metadata": {
        "id": "6wHxql2ex9Ul"
      },
      "source": [
        "## 1.1 Introduction"
      ]
    },
    {
      "cell_type": "markdown",
      "metadata": {
        "id": "SUDofJq8j-gx"
      },
      "source": [
        "For references please see:\n",
        "\n",
        "1. https://napsterinblue.github.io/notes/algorithms/graphs/assortativity/\n",
        "2. https://github.com/ericmjl/nxviz/tree/master/examples"
      ]
    },
    {
      "cell_type": "code",
      "source": [
        "!pip install nxviz"
      ],
      "metadata": {
        "id": "KAqDbL4Ko6j7"
      },
      "execution_count": null,
      "outputs": []
    },
    {
      "cell_type": "code",
      "metadata": {
        "id": "yAmFhZHLmhYb"
      },
      "source": [
        "# import usefull packages\n",
        "import networkx as nx\n",
        "import matplotlib.pyplot as plt\n",
        "import numpy as np\n",
        "import nxviz as nv\n",
        "import seaborn as sns"
      ],
      "execution_count": null,
      "outputs": []
    },
    {
      "cell_type": "code",
      "metadata": {
        "id": "J5NMbJcxY9o1"
      },
      "source": [
        "# download the dataset\n",
        "!gdown https://drive.google.com/uc?id=1z0tAw95UiYJ1pbkv-Wvwyi53DetE_wwm"
      ],
      "execution_count": null,
      "outputs": []
    },
    {
      "cell_type": "code",
      "metadata": {
        "id": "hDqx0czLn1Tg"
      },
      "source": [
        "# source: http://hal.elte.hu/~nepusz/research/datasets/\n",
        "G = nx.read_graphml('univ_dataset_TSPE.graphml')"
      ],
      "execution_count": null,
      "outputs": []
    },
    {
      "cell_type": "code",
      "metadata": {
        "id": "Sqt0H6E7nRkY"
      },
      "source": [
        "print(\"The network has {} nodes and {} edges\".format(G.number_of_nodes(),\n",
        "                                                     G.number_of_edges()))"
      ],
      "execution_count": null,
      "outputs": []
    },
    {
      "cell_type": "code",
      "metadata": {
        "id": "OQsDrcMpkTud"
      },
      "source": [
        "# Just look how the nodes are represented in the Network\n",
        "G.nodes(data=True)"
      ],
      "execution_count": null,
      "outputs": []
    },
    {
      "cell_type": "code",
      "source": [
        "import matplotlib.pyplot as plt\n",
        "from nxviz import annotate, highlights\n",
        "\n",
        "ax = nv.circos(G,\n",
        "               group_by=\"group\",\n",
        "               node_color_by=\"group\",\n",
        "               #edge_alpha_by=\"edge_value\"\n",
        ")\n",
        "annotate.circos_group(G, group_by=\"group\")\n",
        "\n",
        "# Save figure\n",
        "plt.savefig(\"assortativity.png\",\n",
        "            format=\"png\",\n",
        "            dpi=400,\n",
        "            bbox_inches=\"tight\",\n",
        "            transparent=True)\n",
        "\n",
        "# Display graph\n",
        "plt.show()"
      ],
      "metadata": {
        "id": "u_t3ZThuq5AS"
      },
      "execution_count": null,
      "outputs": []
    },
    {
      "cell_type": "markdown",
      "metadata": {
        "id": "mAImvDGiyFXz"
      },
      "source": [
        "## 1.2 Measuring discrete assortative mixing"
      ]
    },
    {
      "cell_type": "code",
      "metadata": {
        "id": "050DNq3knCLx"
      },
      "source": [
        "# assortativity of the network based on attribute group\n",
        "# value was close to 1, in other words, it is a assortative network\n",
        "# similar groups tend to connect with yourselves members.\n",
        "nx.attribute_assortativity_coefficient(G,\"group\")"
      ],
      "execution_count": null,
      "outputs": []
    },
    {
      "cell_type": "markdown",
      "metadata": {
        "id": "OTncInbKk3Gm"
      },
      "source": [
        "Measuring discrete assortative mixing (by hands) acoording *M. E. J Newman, Mixing patterns in networks, 2003* [Link](https://arxiv.org/pdf/cond-mat/0209450.pdf)"
      ]
    },
    {
      "cell_type": "markdown",
      "metadata": {
        "id": "YDYdKE0HO_9y"
      },
      "source": [
        "Property of the mixing matrix:\n",
        "\n",
        "$\n",
        "\\displaystyle \\sum_{ij} e_{ij}=1, \\ \\ \\ \\sum_j e_{ij} = a_i, \\ \\ \\ \\sum_i e_{ij} = b_j$\n",
        "\n",
        "To quantify the level of assortative mixing in a network\n",
        "we define an assortativity coefficient thus:\n",
        "\n",
        "$\\displaystyle r = \\frac{\\displaystyle \\sum_i e_{ii} - \\sum_i a_i b_i}{1 - \\displaystyle \\sum_i a_ib_i} = \\displaystyle \\frac{Tr(e) - \\left \\|  e^2\\right \\|}{1 - \\left \\|  e^2 \\right \\|}$\n",
        "\n",
        "If the network is perfectly disassortative, i.e., every edge connects two vertices of different types, then r is negative and has the value:\n",
        "\n",
        "$\\displaystyle r_{min} = -\\frac{ \\displaystyle\\sum_i a_i b_i}{1 - \\displaystyle \\sum_i a_ib_i}\n",
        "$"
      ]
    },
    {
      "cell_type": "code",
      "metadata": {
        "id": "QLpM0KMuOqVr"
      },
      "source": [
        "# mixing matrix\n",
        "# dimension of this matrix is proportional to number of groups\n",
        "# in this case, 4 row and 4 coluns\n",
        "e = nx.attribute_mixing_matrix(G,'group')\n",
        "e"
      ],
      "execution_count": null,
      "outputs": []
    },
    {
      "cell_type": "code",
      "metadata": {
        "id": "KlkYgu61m0VN"
      },
      "source": [
        "# sum of all values of matrix must be 1.0\n",
        "np.sum(e)"
      ],
      "execution_count": null,
      "outputs": []
    },
    {
      "cell_type": "code",
      "metadata": {
        "id": "obrr9I9NO4_D"
      },
      "source": [
        "# \"a\" and \"b\" are the fraction of each type of end of an\n",
        "# edge that is attached to vertices of specific group\n",
        "a = np.sum(e, axis=1)\n",
        "b = np.sum(e, axis=0)\n",
        "\n",
        "display(a)\n",
        "display(b)"
      ],
      "execution_count": null,
      "outputs": []
    },
    {
      "cell_type": "code",
      "metadata": {
        "id": "4rZ6CVz-3L-E"
      },
      "source": [
        "# trace of mixing matrix\n",
        "tr_e = np.trace(e)\n",
        "tr_e"
      ],
      "execution_count": null,
      "outputs": []
    },
    {
      "cell_type": "code",
      "metadata": {
        "id": "IQIKpk-I3rTL"
      },
      "source": [
        "# sum of squared matrix\n",
        "multi_e = np.sum(np.matmul(e,e))"
      ],
      "execution_count": null,
      "outputs": []
    },
    {
      "cell_type": "code",
      "metadata": {
        "id": "GR0lVc5_P_iv"
      },
      "source": [
        "# assortativity metric\n",
        "r = (tr_e - multi_e)/(1 - multi_e)\n",
        "r"
      ],
      "execution_count": null,
      "outputs": []
    },
    {
      "cell_type": "code",
      "metadata": {
        "id": "BCQu0Gr4K9iB"
      },
      "source": [
        "# check if values are the same\n",
        "assert (r == nx.attribute_assortativity_coefficient(G,\"group\"))"
      ],
      "execution_count": null,
      "outputs": []
    },
    {
      "cell_type": "markdown",
      "metadata": {
        "id": "sBMLmOfbyNQZ"
      },
      "source": [
        "## 1.3 Degree Assortativity"
      ]
    },
    {
      "cell_type": "code",
      "metadata": {
        "id": "lWTJMpc0yYNE"
      },
      "source": [
        "# average degree of neighbors\n",
        "degree, avg_neigh_degree = zip(*nx.average_degree_connectivity(G).items())\n",
        "\n",
        "# convert to list\n",
        "degree = list(degree)\n",
        "avg_neigh_degree = list(avg_neigh_degree)"
      ],
      "execution_count": null,
      "outputs": []
    },
    {
      "cell_type": "code",
      "metadata": {
        "id": "7NDKMcje0zfU"
      },
      "source": [
        "plt.style.use(\"fivethirtyeight\")\n",
        "fig, ax = plt.subplots(1,1,figsize=(12,8))\n",
        "\n",
        "sns.regplot(x=degree,y=avg_neigh_degree,ax=ax)\n",
        "\n",
        "ax.set_xlabel(\"Node Degree\")\n",
        "ax.set_ylabel(\"Average neigbhor degree\")\n",
        "ax.set_xlim(0,65)\n",
        "\n",
        "# Save figure\n",
        "plt.savefig(\"degree_assortativity.png\",\n",
        "            format=\"png\",\n",
        "            dpi=400,\n",
        "            bbox_inches=\"tight\",\n",
        "            transparent=True)\n",
        "\n",
        "plt.show()"
      ],
      "execution_count": null,
      "outputs": []
    },
    {
      "cell_type": "code",
      "metadata": {
        "id": "ShlBKCDi1X81"
      },
      "source": [
        "nx.degree_assortativity_coefficient(G)"
      ],
      "execution_count": null,
      "outputs": []
    },
    {
      "cell_type": "code",
      "source": [],
      "metadata": {
        "id": "VVhnzOLVM4Hx"
      },
      "execution_count": null,
      "outputs": []
    }
  ]
}