{
  "nbformat": 4,
  "nbformat_minor": 0,
  "metadata": {
    "colab": {
      "provenance": []
    },
    "kernelspec": {
      "name": "python3",
      "display_name": "Python 3"
    },
    "language_info": {
      "name": "python"
    }
  },
  "cells": [
    {
      "cell_type": "markdown",
      "source": [
        "# Dijkstra's Algorithm - without paths\n",
        "\n",
        "You're given an integer `start` and a list `edges` of pairs of integers.\n",
        "\n",
        "The list is what's called an adjacency list, and it represents a graph. The number of vertices in the graph is equal to the length of `edges`, where each index `i` in `edges` contains vertex `i`'s outbound edges, in no particular order. Each individual edge is represented by a pair of two numbers, `[destination, distance]`, where the destination is a positive integer denoting the destination vertex and the distance is a positive integer representing the length of the edge (the distance from vertex `i` to vertex `destination`). Note that these edges are directed, meaning that you can only travel from a particular vertex to its destination—not the other way around (unless the destination vertex itself has an outbound edge to the original vertex).\n",
        "\n",
        "Write a function that computes the lengths of the shortest paths between `start` and all of the other vertices in the graph using Dijkstra's algorithm and returns them in an array. Each index `i` in the output array should represent the length of the shortest path between `start` and vertex `i`. If no path is found from `start` to vertex `i`, then `output[i]` should be `-1`.\n",
        "\n",
        "Note that the graph represented by `edges` won't contain any self-loops (vertices that have an outbound edge to themselves) and will only have positively weighted edges (i.e., no negative distances).\n",
        "\n"
      ],
      "metadata": {
        "id": "mY4jasRMsau5"
      }
    },
    {
      "cell_type": "markdown",
      "source": [
        "**Sample Input**"
      ],
      "metadata": {
        "id": "npq7VCLuslOh"
      }
    },
    {
      "cell_type": "code",
      "source": [
        "start = 0\n",
        "edges = [\n",
        "    [[1, 7]],\n",
        "    [[2, 6], [3, 20], [4, 3]],\n",
        "    [[3, 14]],\n",
        "    [[4, 2]],\n",
        "    [],\n",
        "    [],\n",
        "]"
      ],
      "metadata": {
        "id": "kWHKqd4Jsd4E"
      },
      "execution_count": null,
      "outputs": []
    },
    {
      "cell_type": "markdown",
      "source": [
        "**Sample Output**"
      ],
      "metadata": {
        "id": "VXm2gf_Nso6t"
      }
    },
    {
      "cell_type": "code",
      "source": [
        "[0, 7, 13, 27, 10, -1]"
      ],
      "metadata": {
        "id": "MCawXcPustON"
      },
      "execution_count": null,
      "outputs": []
    },
    {
      "cell_type": "markdown",
      "source": [
        "## Hints\n",
        "\n",
        "Hint 1\n",
        "\n",
        "Dijkstra's algorithm works by visiting vertices in the graph, one by one, all the while keeping track of the current shortest distances from the start vertex to all other vertices and continuously updating these shortest distances. More specifically, the algorithm keeps track of unvisited vertices and visits the unvisited vertex with the shortest distance at any point in time, naturally starting with the start vertex. Whenever the algorithm visits an unvisited vertex, it looks at all of its outbound edges and tries to update the shortest distances from the start to the destinations in the edges, using the current shortest distance to the current vertex as a base. Once the algorithm has visited all of the vertices and considered all of their edges, it is guaranteed to have found the shortest path to each vertex. How can you implement this algorithm?\n",
        "\n",
        "Hint 2\n",
        "\n",
        "The most challenging part of Dijkstra's algorithm is determining how to efficiently find the vertex with the current shortest distance. Can you think of a data structure that could be used to keep track of the distances and to efficiently retrieve the vertex with the current shortest distance at each step?\n",
        "\n",
        "Hint 3\n",
        "\n",
        "Create an array that can store the final shortest distances between the start vertex and all other vertices, as well as a min-heap that will hold all of the unvisited vertices and their current shortest distances. For both the final distances array and the min-heap, initialize all vertices except for the start node as having a distance of infinity; the start node will have a distance 0. Next, write a while loop that will run until the min-heap is empty. At every iteration in the loop, remove the vertex from the top of the heap (the vertex with the shortest distance), loop through all of its edges, and for each edge, update the shortest distance of the destination vertex to be the minimum of the destination's current shortest distance and the currently visited vertex's distance plus the current edge's weight. Once the heap is empty, all of the vertices will have been visited, and you'll have the shortest distances to all vertices stored in your distances array."
      ],
      "metadata": {
        "id": "LoYAnGevsz2r"
      }
    },
    {
      "cell_type": "code",
      "source": [
        "# O(V^2 + E) time | O(V) space - where V is the number of vertices and E is the number of edges in the input graph\n",
        "def dijkstrasAlgorithm(start, edges):\n",
        "    \"\"\"\n",
        "    Implements Dijkstra's algorithm to find the shortest path from a starting node to all other nodes in a graph.\n",
        "\n",
        "    Args:\n",
        "        start (int): The starting node index.\n",
        "        edges (list of list): Adjacency list representing the graph. Each index corresponds to a vertex,\n",
        "                              and each entry is a list of pairs [destination, weight].\n",
        "\n",
        "    Returns:\n",
        "        list: A list of the shortest distances from the starting node to each node. If a node is not reachable,\n",
        "              the distance is -1.\n",
        "    \"\"\"\n",
        "    numberOfVertices = len(edges)\n",
        "\n",
        "    # Initialize the minimum distances for all vertices as infinity\n",
        "    # except the starting vertex which is set to 0.\n",
        "    minDistances = [float(\"inf\") for _ in range(numberOfVertices)]\n",
        "    minDistances[start] = 0\n",
        "\n",
        "    # Keep track of visited nodes to avoid reprocessing them.\n",
        "    visited = set()\n",
        "\n",
        "    # Continue processing nodes until all have been visited.\n",
        "    while len(visited) != numberOfVertices:\n",
        "        # Find the vertex with the smallest known distance that has not been visited.\n",
        "        vertex, currentMinDistance = getVertexWithMinDistance(minDistances, visited)\n",
        "\n",
        "        # If the smallest distance is infinity, all remaining vertices are unreachable.\n",
        "        if currentMinDistance == float(\"inf\"):\n",
        "            break\n",
        "\n",
        "        # Mark the current vertex as visited.\n",
        "        visited.add(vertex)\n",
        "\n",
        "        # Iterate through all the neighbors of the current vertex.\n",
        "        for edge in edges[vertex]:\n",
        "            destination, distanceToDestination = edge\n",
        "\n",
        "            # Skip the neighbor if it has already been visited.\n",
        "            if destination in visited:\n",
        "                continue\n",
        "\n",
        "            # Calculate the new potential path distance to the neighbor.\n",
        "            newPathDistance = currentMinDistance + distanceToDestination\n",
        "            currentDestinationDistance = minDistances[destination]\n",
        "\n",
        "            # Update the shortest distance to the neighbor if the new path is shorter.\n",
        "            if newPathDistance < currentDestinationDistance:\n",
        "                minDistances[destination] = newPathDistance\n",
        "\n",
        "    # Replace any remaining infinity distances with -1 to indicate unreachable nodes.\n",
        "    return list(map(lambda x: -1 if x == float(\"inf\") else x, minDistances))\n",
        "\n",
        "\n",
        "def getVertexWithMinDistance(distances, visited):\n",
        "    \"\"\"\n",
        "    Helper function to find the vertex with the smallest known distance that has not been visited.\n",
        "\n",
        "    Args:\n",
        "        distances (list): A list of the shortest known distances to each vertex.\n",
        "        visited (set): A set of vertices that have already been visited.\n",
        "\n",
        "    Returns:\n",
        "        tuple: The index of the vertex with the smallest distance and its distance value.\n",
        "    \"\"\"\n",
        "    currentMinDistance = float(\"inf\")\n",
        "    vertex = -1\n",
        "\n",
        "    # Iterate over all vertices to find the one with the smallest distance.\n",
        "    for vertexIdx, distance in enumerate(distances):\n",
        "        # Skip the vertex if it has already been visited.\n",
        "        if vertexIdx in visited:\n",
        "            continue\n",
        "\n",
        "        # Update the current minimum distance and vertex if a smaller distance is found.\n",
        "        if distance <= currentMinDistance:\n",
        "            vertex = vertexIdx\n",
        "            currentMinDistance = distance\n",
        "\n",
        "    return vertex, currentMinDistance"
      ],
      "metadata": {
        "id": "g-jMjCkDs0Kx"
      },
      "execution_count": null,
      "outputs": []
    },
    {
      "cell_type": "code",
      "source": [
        "def test_dijkstras_algorithm():\n",
        "    # Input graph\n",
        "    edges = [\n",
        "        [[1, 7]],           # Node 0 -> Node 1 (weight 7)\n",
        "        [[2, 6], [3, 20], [4, 3]],  # Node 1 -> Nodes 2 (weight 6), 3 (weight 20), 4 (weight 3)\n",
        "        [[3, 14]],          # Node 2 -> Node 3 (weight 14)\n",
        "        [[4, 2]],           # Node 3 -> Node 4 (weight 2)\n",
        "        [],                 # Node 4 has no outgoing edges\n",
        "        []                  # Node 5 has no outgoing edges\n",
        "    ]\n",
        "    start = 0\n",
        "\n",
        "    # Expected output\n",
        "    expected_output = [0, 7, 13, 27, 10, -1]\n",
        "\n",
        "    # Run Dijkstra's algorithm\n",
        "    result = dijkstrasAlgorithm(start, edges)\n",
        "\n",
        "    # Test the result\n",
        "    assert result == expected_output, f\"Test failed: expected {expected_output}, but got {result}\"\n",
        "\n",
        "    print(\"Test passed: Output matches expected result.\")\n",
        "\n",
        "# Run the test\n",
        "test_dijkstras_algorithm()"
      ],
      "metadata": {
        "id": "MQUBh2xfxcQt"
      },
      "execution_count": null,
      "outputs": []
    },
    {
      "cell_type": "markdown",
      "source": [
        "# Dijstrak's Algorithm with Path"
      ],
      "metadata": {
        "id": "Bt4vSnf8yKpA"
      }
    },
    {
      "cell_type": "code",
      "source": [
        "def dijkstrasAlgorithmWithPaths(start, edges):\n",
        "    \"\"\"\n",
        "    Implements Dijkstra's algorithm to find the shortest paths from a starting node to all other nodes in a graph.\n",
        "    Additionally, it tracks the path to each node using a predecessor list.\n",
        "\n",
        "    Args:\n",
        "        start (int): The starting node index.\n",
        "        edges (list of list): Adjacency list representing the graph. Each index corresponds to a vertex,\n",
        "                              and each entry is a list of pairs [destination, weight].\n",
        "\n",
        "    Returns:\n",
        "        tuple: A tuple containing:\n",
        "            - minDistances (list): A list of the shortest distances from the starting node to each node.\n",
        "                                   If a node is unreachable, its distance is `inf`.\n",
        "            - previousNodes (list): A list where each index points to the predecessor of the node\n",
        "                                    in the shortest path. `None` if no path exists.\n",
        "    \"\"\"\n",
        "    numberOfVertices = len(edges)\n",
        "\n",
        "    # Initialize the minimum distances with infinity, except for the starting node (distance 0).\n",
        "    minDistances = [float(\"inf\") for _ in range(numberOfVertices)]\n",
        "    minDistances[start] = 0\n",
        "\n",
        "    # Set of visited nodes to avoid re-processing.\n",
        "    visited = set()\n",
        "\n",
        "    # Predecessor list to track the path to each node.\n",
        "    previousNodes = [None] * numberOfVertices\n",
        "\n",
        "    # Iterate until all nodes are processed or no more reachable nodes exist.\n",
        "    while len(visited) != numberOfVertices:\n",
        "        # Find the unvisited node with the smallest known distance.\n",
        "        vertex, currentMinDistance = getVertexWithMinDistance(minDistances, visited)\n",
        "\n",
        "        # If the smallest distance is infinity, remaining nodes are unreachable.\n",
        "        if currentMinDistance == float(\"inf\"):\n",
        "            break\n",
        "\n",
        "        # Mark the current node as visited.\n",
        "        visited.add(vertex)\n",
        "\n",
        "        # Update distances for all neighbors of the current node.\n",
        "        for edge in edges[vertex]:\n",
        "            destination, distanceToDestination = edge\n",
        "\n",
        "            # Skip if the neighbor is already visited.\n",
        "            if destination in visited:\n",
        "                continue\n",
        "\n",
        "            # Calculate the new potential path distance.\n",
        "            newPathDistance = currentMinDistance + distanceToDestination\n",
        "            currentDestinationDistance = minDistances[destination]\n",
        "\n",
        "            # Update the shortest distance and the predecessor if the new path is shorter.\n",
        "            if newPathDistance <= currentDestinationDistance:\n",
        "                minDistances[destination] = newPathDistance\n",
        "                previousNodes[destination] = vertex  # Update predecessor\n",
        "\n",
        "    return minDistances, previousNodes\n",
        "\n",
        "\n",
        "def getVertexWithMinDistance(distances, visited):\n",
        "    \"\"\"\n",
        "    Helper function to find the unvisited node with the smallest known distance.\n",
        "\n",
        "    Args:\n",
        "        distances (list): A list of the shortest known distances to each node.\n",
        "        visited (set): A set of already visited nodes.\n",
        "\n",
        "    Returns:\n",
        "        tuple: The index of the node with the smallest distance and its distance value.\n",
        "    \"\"\"\n",
        "    currentMinDistance = float(\"inf\")\n",
        "    vertex = -1\n",
        "\n",
        "    # Iterate over all nodes to find the one with the smallest distance.\n",
        "    for vertexIdx, distance in enumerate(distances):\n",
        "        if vertexIdx in visited:\n",
        "            continue\n",
        "        if distance <= currentMinDistance:\n",
        "            vertex = vertexIdx\n",
        "            currentMinDistance = distance\n",
        "\n",
        "    return vertex, currentMinDistance"
      ],
      "metadata": {
        "id": "Adzk8NFmVUXu"
      },
      "execution_count": null,
      "outputs": []
    },
    {
      "cell_type": "code",
      "source": [
        "def reconstructPath(previousNodes, start, end):\n",
        "    path = []\n",
        "    currentNode = end\n",
        "\n",
        "    while currentNode is not None:  # Trace back to the start node\n",
        "        path.append(currentNode)\n",
        "        currentNode = previousNodes[currentNode]\n",
        "\n",
        "    path.reverse()  # Reverse the path to get it in the correct order\n",
        "\n",
        "    # If the start node is not in the path, the destination is unreachable\n",
        "    if path[0] != start:\n",
        "        return []\n",
        "\n",
        "    return path\n"
      ],
      "metadata": {
        "id": "f7zCuZd5QC9H"
      },
      "execution_count": null,
      "outputs": []
    },
    {
      "cell_type": "code",
      "source": [
        "def test_dijkstrasAlgorithmWithPaths():\n",
        "    # Input graph (adjacency list)\n",
        "    edges = [\n",
        "        [[1, 7]],               # Node 0 -> Node 1 (weight 7)\n",
        "        [[2, 6], [3, 20], [4, 3]],  # Node 1 -> Nodes 2 (6), 3 (20), 4 (3)\n",
        "        [[3, 14]],              # Node 2 -> Node 3 (weight 14)\n",
        "        [[4, 2]],               # Node 3 -> Node 4 (weight 2)\n",
        "        [],                     # Node 4 has no outgoing edges\n",
        "        []                      # Node 5 has no outgoing edges\n",
        "    ]\n",
        "    start = 0  # Starting node\n",
        "\n",
        "    # Run Dijkstra's algorithm\n",
        "    minDistances, previousNodes = dijkstrasAlgorithmWithPaths(start, edges)\n",
        "\n",
        "    # Expected distances\n",
        "    expectedDistances = [0, 7, 13, 27, 10, float(\"inf\")]\n",
        "    assert minDistances == expectedDistances, f\"Distances test failed: {minDistances}\"\n",
        "\n",
        "    # Reconstruct paths\n",
        "    path_to_3 = reconstructPath(previousNodes, start, 3)\n",
        "    expectedPathTo3 = [0, 1, 2, 3]\n",
        "    assert path_to_3 == expectedPathTo3, f\"Path to 3 test failed: {path_to_3}\"\n",
        "\n",
        "    path_to_4 = reconstructPath(previousNodes, start, 4)\n",
        "    expectedPathTo4 = [0, 1, 4]\n",
        "    assert path_to_4 == expectedPathTo4, f\"Path to 4 test failed: {path_to_4}\"\n",
        "\n",
        "    path_to_5 = reconstructPath(previousNodes, start, 5)\n",
        "    expectedPathTo5 = []\n",
        "    assert path_to_5 == expectedPathTo5, f\"Path to 5 test failed: {path_to_5}\"\n",
        "\n",
        "    print(\"All tests passed!\")\n",
        "\n",
        "# Run the test\n",
        "test_dijkstrasAlgorithmWithPaths()"
      ],
      "metadata": {
        "id": "5mMLPzmnVWHM"
      },
      "execution_count": null,
      "outputs": []
    }
  ]
}