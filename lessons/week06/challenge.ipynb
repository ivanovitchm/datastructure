{
  "nbformat": 4,
  "nbformat_minor": 0,
  "metadata": {
    "colab": {
      "provenance": []
    },
    "kernelspec": {
      "name": "python3",
      "display_name": "Python 3"
    },
    "language_info": {
      "name": "python"
    }
  },
  "cells": [
    {
      "cell_type": "markdown",
      "source": [
        "\n",
        "# Comparação de Performance: Dijkstra Clássico vs Dijkstra com Min-Heap\n"
      ],
      "metadata": {
        "id": "nERcUM6ZcFV6"
      }
    },
    {
      "cell_type": "markdown",
      "source": [
        "\n",
        "## Objetivo\n"
      ],
      "metadata": {
        "id": "8_itT_CccXMB"
      }
    },
    {
      "cell_type": "markdown",
      "source": [
        "\n",
        "Avaliar **tempo de execução** e **pegada de carbono (CO₂)** das seguintes abordagens de caminho mínimo:\n",
        "- **Dijkstra Clássico** (`O(V² + E)`), conforme implementado em sala;\n",
        "- **Dijkstra com Min-Heap** (`O((V + E) * log V)`), conforme implementado em sala;\n",
        "\n",
        "> **Obrigatório**: reutilizar as **versões das aulas** (`dijsktra.ipynb` e `dijsktra_min_heap.ipynb`). Ajustes menores são permitidos (p.ex., medições, modularização, execução), sem mudar a lógica.\n",
        "\n"
      ],
      "metadata": {
        "id": "TQlSjTtpgDw9"
      }
    },
    {
      "cell_type": "markdown",
      "source": [
        "\n",
        "## Descrição do Problema\n"
      ],
      "metadata": {
        "id": "DHz4WLGsgBqm"
      }
    },
    {
      "cell_type": "markdown",
      "source": [
        "\n",
        "Você deverá:\n",
        "1. Gerar **grafos ponderados e conectados** com o `networkx` em diferentes tamanhos, **indo até 100.000 nós** (ou o máximo suportado pela sua máquina).\n",
        "2. Para cada grafo, escolher **5 nós aleatórios** e calcular o **caminho mínimo** desses nós para **todos os demais nós** usando:\n",
        "   - A versão **clássica** de Dijkstra;\n",
        "   - A versão **com Min-Heap**;\n",
        "   - A função de **referência** do `networkx`.\n",
        "3. Repetir o experimento **15 a 20 vezes por tamanho** (trocando os 5 nós a cada repetição) para robustez estatística.\n",
        "4. Medir e registrar para cada execução:\n",
        "   - **Tempo** (s);\n",
        "   - **CO₂** com [CodeCarbon](https://github.com/mlco2/codecarbon).\n",
        "5. Calcular Intervalos de Confiança para as médias de tempo e CO₂.\n",
        "6. Gerar **gráficos** e **tabelas** comparativas e **salvá-los no repositório**.\n",
        "\n"
      ],
      "metadata": {
        "id": "EiNlpy18gFpJ"
      }
    },
    {
      "cell_type": "markdown",
      "source": [
        "\n",
        "\n",
        "### Configuração Experimental"
      ],
      "metadata": {
        "id": "vlK-ZdXshTfr"
      }
    },
    {
      "cell_type": "markdown",
      "source": [
        "\n",
        "- Tamanhos sugeridos: `[100, 500, 1_000, 5_000, 10_000, 50_000, 100_000]`.\n",
        "- **Reprodutibilidade**: fixe sementes (`numpy` e `random`).\n",
        "- Geração de grafos: `nx.gnp_random_graph(n, p)` com pesos inteiros positivos (ex.: `1..10`).  \n",
        "  Garanta conectividade (ex.: use o **componente gigante** quando necessário).\n",
        "- **15–20 repetições** por tamanho; **5 fontes** por repetição.\n",
        "- Evite travamentos validando primeiro em tamanhos menores.\n"
      ],
      "metadata": {
        "id": "gFkbdq25hY57"
      }
    },
    {
      "cell_type": "markdown",
      "source": [
        "### Métricas e Estatística\n"
      ],
      "metadata": {
        "id": "G3OFOesNh1EJ"
      }
    },
    {
      "cell_type": "markdown",
      "source": [
        "\n",
        "Nesta etapa, você vai transformar os dados brutos coletados (tempos e emissões de CO₂ de cada execução) em informações **estatisticamente interpretáveis**.  \n",
        "O objetivo é comparar o desempenho dos algoritmos a partir das **médias** e **desvios-padrão** das execuções.\n",
        "\n",
        "\n",
        "Para cada par **(tamanho do grafo, algoritmo)**, calcule:\n",
        "\n",
        "| Métrica | Símbolo | Descrição |\n",
        "|----------|----------|-----------|\n",
        "| Média | \\\\(\\bar{x}\\\\) | Tempo médio (ou CO₂ médio) das execuções |\n",
        "| Desvio-padrão | \\\\(s\\\\) | Mede a variação dos resultados em torno da média |\n",
        "\n",
        "\n",
        "Para cada algoritmo e tamanho de grafo, plote:\n",
        "\n",
        "- **Eixo X:** número de nós do grafo  \n",
        "- **Eixo Y:** tempo médio (ou CO₂ médio)  \n",
        "- **Uma linha para cada algoritmo**  \n",
        "- **Barras verticais** indicando a variação (\\\\(\\bar{x} \\pm s\\\\))\n",
        "\n",
        "\n",
        "\n"
      ],
      "metadata": {
        "id": "-xxlzLHGjhCl"
      }
    },
    {
      "cell_type": "markdown",
      "source": [
        "\n",
        "\n",
        "##Entregáveis\n",
        "\n"
      ],
      "metadata": {
        "id": "cR0-85nBh5dH"
      }
    },
    {
      "cell_type": "markdown",
      "source": [
        "\n",
        "- **Repositório GitHub** contendo:\n",
        "  - Notebook `.ipynb` com código, análises, **gráficos salvos** (`.png`/`.svg`) e tabelas (`.csv`);\n",
        "  - `README.md` explicando metodologia, resultados e **link do vídeo**;\n",
        "  - Vídeo (até 10min) Explique rapidamente os algoritmos, mostre a execução, apresente gráficos e discuta resultados. Sugestão de ferramentas (Loom e Youtube).\n",
        "  - Organização clara e reprodutível (seções, funções, seeds).\n",
        "\n"
      ],
      "metadata": {
        "id": "SydSZYSPpSab"
      }
    },
    {
      "cell_type": "markdown",
      "source": [
        "\n",
        "## Avaliação (3 pts – Unidade 2)\n",
        "\n"
      ],
      "metadata": {
        "id": "-syoNR7cpoxa"
      }
    },
    {
      "cell_type": "markdown",
      "source": [
        "\n",
        "| Critério | Descrição | Peso |\n",
        "|---|---|---|\n",
        "| Organização e reprodutibilidade | Estrutura limpa, README completo, seeds e scripts | 1.0 |\n",
        "| Correção e **reutilização** das versões de sala | Aderência às implementações solicitadas | 1.0 |\n",
        "| Análise e apresentação | Interpretação dos resultados, gráficos e vídeo | 1.0 |\n",
        "\n",
        "**Individual ou em dupla.**\n"
      ],
      "metadata": {
        "id": "9RgBWRu_pqmf"
      }
    },
    {
      "cell_type": "markdown",
      "source": [
        "## Exemplos de código"
      ],
      "metadata": {
        "id": "FK47YCmBr6K8"
      }
    },
    {
      "cell_type": "code",
      "source": [
        "!pip install codecarbon"
      ],
      "metadata": {
        "id": "WYzkWTk0rbz9"
      },
      "execution_count": null,
      "outputs": []
    },
    {
      "cell_type": "code",
      "source": [
        "import networkx as nx\n",
        "import random\n",
        "import matplotlib.pyplot as plt\n",
        "import time\n",
        "from codecarbon import EmissionsTracker\n",
        "\n",
        "# Inicia o rastreador de emissões\n",
        "tracker = EmissionsTracker(output_dir=\".\", save_to_file=False, log_level=\"error\")\n",
        "tracker.start()\n",
        "\n",
        "# Mede o tempo total de geração e plotagem\n",
        "start = time.time()\n",
        "\n",
        "# Cria um grafo aleatório com 10 nós e probabilidade 0.3\n",
        "G = nx.gnp_random_graph(n=10, p=0.3, seed=42)\n",
        "\n",
        "# Adiciona pesos (inteiros entre 1 e 10)\n",
        "for u, v in G.edges():\n",
        "    G[u][v]['weight'] = random.randint(1, 10)\n",
        "\n",
        "# Mostra algumas arestas com peso\n",
        "for u, v, data in list(G.edges(data=True))[:5]:\n",
        "    print(f\"Aresta {u}-{v}, peso = {data['weight']}\")\n",
        "\n",
        "# Visualização com pesos nas arestas\n",
        "pos = nx.spring_layout(G, seed=42)\n",
        "nx.draw(G, pos, with_labels=True, node_color='lightblue', node_size=800)\n",
        "nx.draw_networkx_edge_labels(G, pos, edge_labels=nx.get_edge_attributes(G, 'weight'))\n",
        "plt.show()\n",
        "\n",
        "# Finaliza o cálculo de tempo e emissões\n",
        "end = time.time()\n",
        "elapsed = end - start\n",
        "emissions = tracker.stop()\n",
        "\n",
        "print(f\"Tempo total de execução: {elapsed:.3f} segundos\")\n",
        "print(f\"Pegada de carbono estimada: {emissions:.8f} kg de CO₂e\")"
      ],
      "metadata": {
        "id": "wSL2dErnquRx"
      },
      "execution_count": null,
      "outputs": []
    }
  ]
}