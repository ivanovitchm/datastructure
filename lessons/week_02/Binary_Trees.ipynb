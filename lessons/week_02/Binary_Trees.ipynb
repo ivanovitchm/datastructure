{
  "nbformat": 4,
  "nbformat_minor": 0,
  "metadata": {
    "colab": {
      "provenance": [],
      "toc_visible": true
    },
    "kernelspec": {
      "name": "python3",
      "display_name": "Python 3"
    },
    "language_info": {
      "name": "python"
    }
  },
  "cells": [
    {
      "cell_type": "markdown",
      "source": [
        "# Introduction to Binary Trees"
      ],
      "metadata": {
        "id": "9XM6Y44pFISh"
      }
    },
    {
      "cell_type": "markdown",
      "source": [
        "## [1/10] Introduction"
      ],
      "metadata": {
        "id": "wUqa1TURIoZX"
      }
    },
    {
      "cell_type": "markdown",
      "source": [
        "In the \"Overview of Recursion\" notebook, we learned about recursion. In this lesson, we'll start learning how you can use recursion to define data structures. In particular, we're going to learn about **binary trees**.\n",
        "\n",
        "So far, we've learned about **linear** data structures such as lists, stacks, and queues. We call these data structures linear because they store the data sequentially. Each element points to a single next element.\n",
        "\n",
        "<center>\n",
        "<img src=\"https://drive.google.com/uc?id=1279pAsKBwk9P3yZj5sqA7AqRxvH1sS5J\" width=\"20%\">\n",
        "</center>\n",
        "\n",
        "In the worst case, to **lookup** a value in a linear data structure, we need to inspect all of the values that it stores.\n",
        "\n",
        "By contrast, trees generally allow elements to have more than one successor. We use the term binary when the number of successors is at most equal to two. Here's an example of a binary tree:\n",
        "\n",
        "<center>\n",
        "<img src=\"https://drive.google.com/uc?id=19Vy11WEMJxcdecCGib4v4VOK7UZ0yywF\" width=\"20%\">\n",
        "</center>\n",
        "\n",
        "We can see in the figure that in a tree, an element can have more than one successor. We call the elements in a tree **``nodes``**. In this example ``node 5``, has two successors, ``2 and 7, while 7`` has a single successor. In a tree, successors are called **``children``**.\n",
        "\n",
        "We call the top node the **``root``** of the tree. Nodes that don't have children (no successors) are called **``leaves``**. The reason why we call this data structure a tree is that it somewhat resembles an upside-down tree:\n",
        "\n",
        "<center>\n",
        "<img src=\"https://drive.google.com/uc?id=15ALypLHKjkeC3eWsFghuu9TTSQxI47Qu\" width=\"60%\">\n",
        "</center>\n",
        "\n",
        "We call nodes that have both a parent and children **``internal``**. Nodes ``4 and 9`` are internal nodes.\n",
        "\n",
        "We'll learn throughout this course why storing data in a tree data structure can yield much faster operations than using a list.\n",
        "\n",
        "Let's practice our understanding of these concepts by identifying the root node, the internal nodes, and the leaves of a given tree."
      ],
      "metadata": {
        "id": "gQlgi3zIItoi"
      }
    },
    {
      "cell_type": "markdown",
      "source": [
        "### Instructions"
      ],
      "metadata": {
        "id": "8OrlctbeJIRD"
      }
    },
    {
      "cell_type": "markdown",
      "source": [
        "Consider the following binary tree.\n",
        "\n",
        "<center>\n",
        "<img src=\"https://drive.google.com/uc?id=1XRtjKQsRs_cZCRokQhVee8rA74NnVVVV\" width=\"40%\">\n",
        "</center>\n",
        "\n",
        "1. Assign to a variable named **``root``** an integer with the value in the root node.\n",
        "2. Assign to a variable named **``leaves``** a list with all values stored in the leaf nodes.\n",
        "3. Assign to a variable named **``internal``** a list with all values stored in the internal nodes.\n"
      ],
      "metadata": {
        "id": "z3krqzfBddSr"
      }
    },
    {
      "cell_type": "code",
      "source": [
        "# put your answer here"
      ],
      "metadata": {
        "id": "0gDli0okdx8e"
      },
      "execution_count": null,
      "outputs": []
    },
    {
      "cell_type": "markdown",
      "source": [
        "## [2/10] Binary Tree Node Structure"
      ],
      "metadata": {
        "id": "F0eRJri1eEWn"
      }
    },
    {
      "cell_type": "markdown",
      "source": [
        "On the previous section, we learned some of the terminology of tree data structures. On this section, **we'll start implementing a binary tree data structure**.\n",
        "\n",
        "The first thing that we need to implement is a **class** to represent nodes. A node needs to store a value and its children.\n",
        "\n",
        "In a general tree, we can store the children using a list of nodes. In the case of binary trees, since there are at most two children, we instead keep one reference to each of them. The convention is to call one of them the **``left child``** and the other the **``right child``**.\n",
        "\n",
        "Here's a diagram illustrating node structure:\n",
        "\n",
        "<center>\n",
        "<img src=\"https://drive.google.com/uc?id=1AHXtbyuTwat_3JVJk5u2cC4F93gf95Ga\" width=\"40%\">\n",
        "</center>\n",
        "\n",
        "Let's quickly review how to create a class in Python. Remember that to define a class named, for example, User, we use the following syntax:\n",
        "\n",
        "```python\n",
        "class User:\n",
        "    # Class definition goes here\n",
        "```\n",
        "\n",
        "We can then create an instance by writing **``user = User()``**. When we do so, Python automatically calls the **``__init__()``** method. This method sets the initial state of the class. If the class requires some parameters, this is where they should be set.\n",
        "\n",
        "Here's an example of a class that could represent the name and age of users:\n",
        "\n",
        "```python\n",
        "class User:\n",
        "\n",
        "    def __init__(self, name, age):\n",
        "        self.name = name\n",
        "        self.age = age\n",
        "```\n",
        "\n",
        "In this case we would create an instance by providing the ``name`` and ``age``, like so:\n",
        "\n",
        "```python\n",
        "user = User(\"John Smith\", 42)\n",
        "```\n",
        "\n",
        "Recall that the **self** parameter is a special parameter that is automatically passed to any method. It contains a reference for the object itself — that is, what we use to alter the object state."
      ],
      "metadata": {
        "id": "gEpK0OXVej11"
      }
    },
    {
      "cell_type": "markdown",
      "source": [
        "### Instructions"
      ],
      "metadata": {
        "id": "_iy-lpSFe6Rv"
      }
    },
    {
      "cell_type": "markdown",
      "source": [
        "1. Define a class named **``Node``**.\n",
        "2. Inside the **``Node class``**, define the ``__init__()`` method with two arguments:\n",
        "  - **self**: the self-reference that is automatically passed.\n",
        "  - **value**: the value that the node will store.\n",
        "3. Implement the ``__init__()`` method so that it stores value into ``self.value`` and ``None`` into both ``self.left_child`` and ``self.right_child``."
      ],
      "metadata": {
        "id": "NJshK5Xmgybb"
      }
    },
    {
      "cell_type": "code",
      "source": [
        "# put your code here"
      ],
      "metadata": {
        "id": "u_ORR0XEhIpE"
      },
      "execution_count": null,
      "outputs": []
    },
    {
      "cell_type": "markdown",
      "source": [
        "## [3/10] Building Your First Tree"
      ],
      "metadata": {
        "id": "eelangmohiTB"
      }
    },
    {
      "cell_type": "markdown",
      "source": [
        "On this section, we'll use the **``Node``** implementation from the previous section to create a **binary tree**.\n",
        "\n",
        "To help with this, we'll show you how we would build the following tree:\n",
        "\n",
        "<center>\n",
        "<img src=\"https://drive.google.com/uc?id=1RwzvbxMMylTv0GAO44MapclT7kEzFws_\" width=\"40%\">\n",
        "</center>\n",
        "\n",
        "To build the tree above, we need to create one node instance for each of the values. In total there are four nodes. Then we need to set the **``left_child``** and **``right_child``** references to correct the nodes.\n",
        "\n",
        "Let's start by creating the four nodes:\n",
        "\n",
        "```python\n",
        "node_5 = Node(5)\n",
        "node_2 = Node(2)\n",
        "node_7 = Node(7)\n",
        "node_9 = Node(9)\n",
        "```\n",
        "\n",
        "Then we need to set the children references:\n",
        "\n",
        "```python\n",
        "node_5.left_child = node_2\n",
        "node_5.right_child = node_7\n",
        "node_7.right_child = node_9\n",
        "```\n",
        "\n",
        "Now it's your turn to build a larger tree.\n",
        "\n"
      ],
      "metadata": {
        "id": "JmnCgHyvhlIG"
      }
    },
    {
      "cell_type": "markdown",
      "source": [
        "### Instructions"
      ],
      "metadata": {
        "id": "IAajwON5ZC7_"
      }
    },
    {
      "cell_type": "markdown",
      "source": [
        "The **``Node``** class from the previous section is still available. The goal of this exercise is to use it to create the binary tree shown in the following diagram:\n",
        "\n",
        "\n",
        "<center>\n",
        "<img src=\"https://drive.google.com/uc?id=1FhxwTNc7oznD5HjlHvFURi_uLYPdYOPX\" width=\"40%\">\n",
        "</center>\n",
        "\n",
        "1. For each of the values, use the **``Node()``** constructor to create a node with the same value. Assign each node to a variable named **``node_value``**, where value should be value in the node (e.g. **``node_5``** for a value of **``5``**).\n",
        "2. For each non-leaf node, set its children references by setting the **``Node.left_child``** and **``Node.right_child``** attributes. For example:\n",
        "  - For **``node_3``** we will do **``node_3.left_child = node_1``**.\n",
        "  - For **``node_9``** we will do **``node_9.left_child = node_8``** and **``node_9.right_child = node_10``**.\n",
        "\n"
      ],
      "metadata": {
        "id": "wUtB1ddFb0qW"
      }
    },
    {
      "cell_type": "code",
      "source": [
        "# put your code here"
      ],
      "metadata": {
        "id": "JOLkpQ8ddwUO"
      },
      "execution_count": null,
      "outputs": []
    },
    {
      "cell_type": "markdown",
      "source": [
        "## [4/10] Binary Search Trees"
      ],
      "metadata": {
        "id": "Wc9CaxzSesHP"
      }
    },
    {
      "cell_type": "markdown",
      "source": [
        "On the previous section, we used the node class to manually build a specific tree. This was, to say the least, a bit cumbersome. Our goal now is to start implementing a class that uses the **``Node``** to automatically build the binary tree structure for us.\n",
        "\n",
        "By the end of this lesson, we will be able to **``add``** and **``lookup``** values to the tree. When we add a new value the tree, it will automatically create a new node and place for it.\n",
        "\n",
        "But what is the right place for a value? Consider adding value 7 to the following binary tree:\n",
        "\n",
        "<center>\n",
        "<img src=\"https://drive.google.com/uc?id=186rlDYgmwy7ijx6i6S87Yp_Mlp-0F-Gy\" width=\"40%\">\n",
        "</center>\n",
        "\n",
        "Any of the four positions shown in the figure with a question mark would be appropriate for adding a new node with value ``7``.\n",
        "\n",
        "The rule that we'll follow is to have all values on the left be smaller than or equal to the value in the parent, and all values on the right bigger than the value parent value. The following figure illustrates this rule\n",
        "\n",
        "<center>\n",
        "<img src=\"https://drive.google.com/uc?id=1-wTJgGy-wkgc9nsES1VOeNyXH3DbMTLM\" width=\"40%\">\n",
        "</center>\n",
        "\n",
        "We call a binary tree that satisfies this property a **``binary search tree (BST)``**. Note that this rule is recursive. This means that it applies to any node in the tree. For each node, all of the values on the left should be smaller than or equal to the value stored in that node. All values on the right should be bigger.\n",
        "\n",
        "If we go back to the insertion of value ``7``, following this rule, we have single possible place where we can add it. Since it is bigger than ``5``, it must be on the right side of the root. Applying the rule again to node ``9``, it must be on the left of this node. The following diagram shows proper placement:\n",
        "\n",
        "\n",
        "<center>\n",
        "<img src=\"https://drive.google.com/uc?id=15taqdCF-4qwC6TQux7variQOcDA4gRSl\" width=\"40%\">\n",
        "</center>\n",
        "\n",
        "We'll come back to this on the following section and implement the insertion method that follows this rule. Before we do that, though, we need to define a class to represent the binary search tree."
      ],
      "metadata": {
        "id": "v5YFalDie218"
      }
    },
    {
      "cell_type": "markdown",
      "source": [
        "### Instructions"
      ],
      "metadata": {
        "id": "iDhIvtGMfcc6"
      }
    },
    {
      "cell_type": "markdown",
      "source": [
        "1. Define a class named **``BST (binary search tree)``**.\n",
        "2. Inside the **``BST``** class, define the **``__init__()``** method with only **``self``** as argument.\n",
        "3. Implement the **``__init__()``** method so that it initializes **``self.root``** to **``None``**. This attribute will represent the root node."
      ],
      "metadata": {
        "id": "H7Keb3b-gafd"
      }
    },
    {
      "cell_type": "code",
      "source": [
        "# put your code here"
      ],
      "metadata": {
        "id": "RpkUB9wjguHk"
      },
      "execution_count": null,
      "outputs": []
    },
    {
      "cell_type": "markdown",
      "source": [
        "## [5/10] BST Inserting Values"
      ],
      "metadata": {
        "id": "RWI9aXIzgvwJ"
      }
    },
    {
      "cell_type": "markdown",
      "source": [
        "We are now ready to implement an insertion method for our BST. Initially, the root is set to **None**, so the first time we add value, the only thing we need to do is to create a new node with the provided value and set the root to that node.\n",
        "\n",
        "If the root is already defined, then we need to locate the right place to create the new node. To find this location, go down the tree and, at each node, compare the value that we want to insert with the value stored in the current node.\n",
        "\n",
        "- If the insert value is smaller than or equal to the node value, we go left because this is where smaller values are stored.\n",
        "\n",
        "- Otherwise, if the insert value is bigger than the node value, we go right because this is where bigger values are stored.\n",
        "\n",
        "This process stops either when we want to go left but the current node doesn't have a left child or we want to go right and the current node doesn't have a right child.\n",
        "\n",
        "The following animation illustrates this process:\n",
        "\n",
        "<center>\n",
        "<img src=\"https://drive.google.com/uc?id=1yeS9P5xorLt78td4eGlbSB_7Y90zdbc0\" width=\"60%\">\n",
        "</center>\n",
        "\n",
        "To implement this, we will use recursion. We will need to keep track of the current node as we go down the tree. For each node, we check whether we need to go left or right by comparing the value in the current node to the value that we want to insert.\n",
        "\n",
        "If the insert value is smaller than or equal to the node value, we call the same method again but give the left child as the current node. Otherwise, we call the same method again but give the right child as the current node.\n",
        "\n",
        "The base case occurs in one of the following situations:\n",
        "\n",
        "1. We want to go left, but the left child is **``None``**. In this case, we create a new node with the provided value and set the left child of the current node to the newly created node.\n",
        "\n",
        "2. We want to go right, but the right child is **``None``**. In this case, we create a new node with the provided value and set the right child of the current node to the newly created node.\n",
        "\n",
        "Let's implement this.\n"
      ],
      "metadata": {
        "id": "zrggtCxkh6nG"
      }
    },
    {
      "cell_type": "markdown",
      "source": [
        "### Instructions"
      ],
      "metadata": {
        "id": "hV9qdwjlimTW"
      }
    },
    {
      "cell_type": "markdown",
      "source": [
        "We've provided the **``BST``** class from the previous section, and we've added an **``add()``** method. This method checks whether the root is defined. If it isn't, it creates a new node with the given value.\n",
        "\n",
        "Otherwise, it will call the **``add_recursive()``** method to go down the tree and insert the value. Your goal is to implement the **``add_recursive()``** method.\n",
        "\n",
        "1. Define a **``add_recursive()``** method with three arguments:\n",
        "  - **``self``**: the self-reference.\n",
        "  - **``current_node``**: The current node.\n",
        "  - **``value``**: the value that we want to add.\n",
        "2. Implement the **``add_recursive()``** method by following these steps:\n",
        "  - If **``value``** is smaller than or equal to the value of **``current_node``**, then check whether the left child of **``current_node``** is **``None``**.\n",
        "    - If it is, create a new node with value, and assign it to the left child of **``current_node``**.\n",
        "    - Otherwise, call the **``add_recursive()``** method with the left child of **``current_node``** and value as arguments.\n",
        "2. If **``value``** is larger than the value of **``current_node``**, then check whether the right child of **``current_node``** is **``None``**.\n",
        "  - If it is, create a new node with **``value``**, and assign it to the right child of **``current_node``**.\n",
        "  - Otherwise, call the **``add_recursive()``** method with the right child of **``current_node``** and **``value``** as arguments."
      ],
      "metadata": {
        "id": "449ilkzXi6KG"
      }
    },
    {
      "cell_type": "code",
      "source": [
        "# solved exercise\n",
        "\n",
        "class Node:\n",
        "    \"\"\"\n",
        "    A class representing a node in a Binary Search Tree (BST).\n",
        "\n",
        "    Each node contains a value and references to its left and right children.\n",
        "    \"\"\"\n",
        "\n",
        "    def __init__(self, value):\n",
        "        \"\"\"\n",
        "        Initializes a Node with a given value.\n",
        "\n",
        "        Parameters:\n",
        "        - value: The value to be stored in the node.\n",
        "\n",
        "        Both left and right child references are initialized as None.\n",
        "        \"\"\"\n",
        "        self.value = value\n",
        "        self.left_child = None\n",
        "        self.right_child = None\n",
        "\n",
        "\n",
        "class BST:\n",
        "    \"\"\"\n",
        "    A class representing a Binary Search Tree (BST).\n",
        "    \"\"\"\n",
        "\n",
        "    def __init__(self):\n",
        "        \"\"\"\n",
        "        Initializes an empty BST.\n",
        "        \"\"\"\n",
        "        self.root = None\n",
        "\n",
        "    def add(self, value):\n",
        "        \"\"\"\n",
        "        Add a new value to the BST.\n",
        "\n",
        "        Parameters:\n",
        "        - value: The value to be added to the BST.\n",
        "\n",
        "        If the BST is empty, the new value becomes the root.\n",
        "        Otherwise, it will be placed in the appropriate position\n",
        "        based on BST properties.\n",
        "        \"\"\"\n",
        "        if self.root is None:\n",
        "            self.root = Node(value)\n",
        "        else:\n",
        "            self._add_recursive(self.root, value)\n",
        "\n",
        "    def _add_recursive(self, current_node, value):\n",
        "        \"\"\"\n",
        "        Recursively add a new value to the BST starting from a specified node.\n",
        "\n",
        "        Parameters:\n",
        "        - current_node: The starting node to determine where to insert the new value.\n",
        "        - value: The value to be added to the BST.\n",
        "\n",
        "        The function determines whether the new value should be placed to the left or\n",
        "        right of the current_node based on the value. If the appropriate child node is empty,\n",
        "        the value is inserted. Otherwise, the function is called recursively with the child node.\n",
        "        \"\"\"\n",
        "        if value <= current_node.value:\n",
        "            if current_node.left_child is None:\n",
        "                current_node.left_child = Node(value)\n",
        "            else:\n",
        "                self._add_recursive(current_node.left_child, value)\n",
        "        else:\n",
        "            if current_node.right_child is None:\n",
        "                current_node.right_child = Node(value)\n",
        "            else:\n",
        "                self._add_recursive(current_node.right_child, value)"
      ],
      "metadata": {
        "id": "oqfUGZXIkG8G"
      },
      "execution_count": null,
      "outputs": []
    },
    {
      "cell_type": "markdown",
      "source": [
        "## [6/10] BST Contains"
      ],
      "metadata": {
        "id": "92z2Fwe5kOEp"
      }
    },
    {
      "cell_type": "markdown",
      "source": [
        "We can now add values to the tree!\n",
        "\n",
        "The other method that we want to implement checks whether the BST contains a given value. The process for checking if the tree contains a value is quite similar to the one for adding a value.\n",
        "\n",
        "Starting from the root, we go down the tree trying to find a node that contains the value that we're looking for. At each node, we compare the lookup value with the node value to decide whether we go to the left or to the right.\n",
        "\n",
        "The main difference is that if the current node value and the lookup value are equal, then we stop the search and return **``True``**. The following animation demonstrates this process:\n",
        "\n",
        "<center>\n",
        "<img src=\"https://drive.google.com/uc?id=1o7gnFdKdJem8YVnHLzmlYcrnZWE4mDVz\" width=\"60%\">\n",
        "</center>\n",
        "\n",
        "To implement this method, we can use recursion again. We will keep track of the same information as we did with the **``add_recursive()``** method: the current node and the lookup value.\n",
        "\n",
        "At each node, we do the following:\n",
        "\n",
        "1. If the node is **``None``**, we return **``False``** because we reach the place where the value should be, but we did not find it.\n",
        "2. Otherwise, we compare the value in the current node with the lookup value.\n",
        "  - If the values are the same, we found the target and return **``True``**.\n",
        "  - If the lookup value is smaller than or equal to the current node value, we call the same method again but on the left child of the current node.\n",
        "  - Otherwise, if the lookup value is bigger than the current node value, we call the same method but on the right child of the current node."
      ],
      "metadata": {
        "id": "8YeeSq8ylkRg"
      }
    },
    {
      "cell_type": "markdown",
      "source": [
        "### Instructions"
      ],
      "metadata": {
        "id": "ET9ivrNDmCHY"
      }
    },
    {
      "cell_type": "markdown",
      "source": [
        "We've provided the BST class from the previous exercise.\n",
        "\n",
        "1. Define a **``contains()``** method with three arguments:\n",
        "  - **``self``**: the self-reference\n",
        "  - **``current_node``**: the current node\n",
        "  - **``value``**: the value that we are looking for\n",
        "2. Implement the **``contains()``** method by following these steps:\n",
        "  - If the **``current_node``** is **``None``**, then return **``False``**.\n",
        "  - Otherwise, compare **``value``** with the **``current_node``** value.\n",
        "    - If they are the same, return **``True``**.\n",
        "    - If the **``value``** is smaller, return the result of calling the same method but on the left child of **``current_node``**.\n",
        "    - If the **``value``** is bigger, return the result of calling the same method but on the right child of **``current_node``**."
      ],
      "metadata": {
        "id": "JK_pjBV7mY1j"
      }
    },
    {
      "cell_type": "code",
      "source": [
        "# solved exercise\n",
        "\n",
        "class Node:\n",
        "    \"\"\"\n",
        "    A class representing a node in a Binary Search Tree (BST).\n",
        "\n",
        "    Each node contains a value and references to its left and right children.\n",
        "    \"\"\"\n",
        "\n",
        "    def __init__(self, value):\n",
        "        \"\"\"\n",
        "        Initializes a Node with a given value.\n",
        "\n",
        "        Parameters:\n",
        "        - value: The value to be stored in the node.\n",
        "\n",
        "        Both left and right child references are initialized as None.\n",
        "        \"\"\"\n",
        "        self.value = value\n",
        "        self.left_child = None\n",
        "        self.right_child = None\n",
        "\n",
        "\n",
        "class BST:\n",
        "    \"\"\"\n",
        "    A Binary Search Tree (BST) implementation.\n",
        "\n",
        "    Attributes:\n",
        "        root (Node): The root node of the BST. Initializes as None for an empty tree.\n",
        "    \"\"\"\n",
        "\n",
        "    def __init__(self):\n",
        "        \"\"\"Initializes an empty BST.\"\"\"\n",
        "        self.root = None\n",
        "\n",
        "    def add(self, value):\n",
        "        \"\"\"\n",
        "        Adds a new value to the BST.\n",
        "\n",
        "        Args:\n",
        "            value: The value to be added to the tree.\n",
        "\n",
        "        If the tree is empty, the new value becomes the root. Otherwise, the value is\n",
        "        added to the appropriate position maintaining the BST property.\n",
        "        \"\"\"\n",
        "        if self.root is None:\n",
        "            self.root = Node(value)\n",
        "        else:\n",
        "            self._add_recursive(self.root, value)\n",
        "\n",
        "    def _add_recursive(self, current_node, value):\n",
        "        \"\"\"\n",
        "        Recursively finds the appropriate position and adds a new value to the BST.\n",
        "\n",
        "        Args:\n",
        "            current_node (Node): The starting node to determine where to insert the new value.\n",
        "            value: The value to be added to the BST.\n",
        "\n",
        "        The method determines whether the new value should be placed to the left or right of\n",
        "        the current node. If the correct child node position is empty, the value is inserted.\n",
        "        Otherwise, the function recurses with the child node.\n",
        "        \"\"\"\n",
        "        if value <= current_node.value:\n",
        "            if current_node.left_child is None:\n",
        "                current_node.left_child = Node(value)\n",
        "            else:\n",
        "                self._add_recursive(current_node.left_child, value)\n",
        "        else:\n",
        "            if current_node.right_child is None:\n",
        "                current_node.right_child = Node(value)\n",
        "            else:\n",
        "                self._add_recursive(current_node.right_child, value)\n",
        "\n",
        "    def contains(self, current_node, value):\n",
        "        \"\"\"\n",
        "        Recursively checks if the BST contains a given value.\n",
        "\n",
        "        Args:\n",
        "            current_node (Node): The starting node for the search.\n",
        "            value: The value to search for.\n",
        "\n",
        "        Returns:\n",
        "            bool: True if the BST contains the value, otherwise False.\n",
        "\n",
        "        This method begins the search from the provided node and navigates down the tree.\n",
        "        \"\"\"\n",
        "        if current_node is None:\n",
        "            return False\n",
        "        if current_node.value == value:\n",
        "            return True\n",
        "        if value < current_node.value:\n",
        "            return self.contains(current_node.left_child, value)\n",
        "        return self.contains(current_node.right_child, value)\n"
      ],
      "metadata": {
        "id": "3r_-bzRunI2Y"
      },
      "execution_count": null,
      "outputs": []
    },
    {
      "cell_type": "markdown",
      "source": [
        "## [7/10] Polishing the Implementation"
      ],
      "metadata": {
        "id": "0bwR8_Knnk3T"
      }
    },
    {
      "cell_type": "markdown",
      "source": [
        "Congratulations on implementing your first tree data structure! We now have a functional BST!\n",
        "\n",
        "On this section, we're going to discuss some improvements in the implementation to fix the following problems:\n",
        "\n",
        "1. Users of the BST class shouldn't directly use the **``add_recursive()``** method. We use this method as a helper method for the **``add()``** method. To add new values, users should always use the **``add()``** method.\n",
        "\n",
        "2. When using the **``contains()``** method, users need to pass in the root as the current node. This requires them to write more code and be aware of the **``root``** attribute.\n",
        "\n",
        "For example, if **``bst``** is a **``BST``*** instance, we need to write the following code to check whether it contains value 6:\n",
        "\n",
        "```python\n",
        "bst.contains(bst.root, 6)\n",
        "```\n",
        "\n",
        "Ideally, we want users to only have to write the following:\n",
        "\n",
        "```python\n",
        "bst.contains(6)\n",
        "```\n",
        "\n",
        "> In Python, we can indicate that a method should not be used externally by adding an underscore **``_``** to the beginning of the method name.\n",
        "\n",
        "Let's use this to fix the previously mentioned problems.\n",
        "\n",
        "We will rename the **``add_recursive()``** method to **``_add_recursive()``**. Remember to also rename the method call inside the **``add()``** method from **``self.add_recursive()``** to **``self._add_recursive()``**.\n",
        "\n",
        "Next, we will rename the **``contains()``** method to **``_contains()``**. We will also need to change the two recursive calls from **``self.contains()``** to **``self._contains()``**.\n",
        "\n",
        "Then, we will create a new **``contains()``** method with a single value argument. This method will do nothing more than call the **``hidden _contains()``** method by providing self.root and value as arguments."
      ],
      "metadata": {
        "id": "8WewUYcBC47l"
      }
    },
    {
      "cell_type": "markdown",
      "source": [
        "### Instructions"
      ],
      "metadata": {
        "id": "2m20x1bcDZdr"
      }
    },
    {
      "cell_type": "markdown",
      "source": [
        "We've provided the **``BST``** class from the previous section.\n",
        "\n",
        "1. Rename all four occurrences of **``add_recursive``** to **``_add_recursive``**.\n",
        "2. Rename all three occurrences of contains to **``_contains``**.\n",
        "3. Define a new **``contains()``** method with two arguments:\n",
        "  - **``self``**: the self-reference\n",
        "  - **``value``**: the value we are looking for\n",
        "\n",
        "4. Implement the **``contains()``** method so that it returns the result of calling the **``_contains()``** method with arguments **``self.root``** and **``value``**."
      ],
      "metadata": {
        "id": "wxYqTWTuEVeD"
      }
    },
    {
      "cell_type": "code",
      "source": [
        "# solved exercise\n",
        "\n",
        "class Node:\n",
        "    \"\"\"\n",
        "    A class representing a node in a Binary Search Tree (BST).\n",
        "\n",
        "    Each node contains a value and references to its left and right children.\n",
        "    \"\"\"\n",
        "\n",
        "    def __init__(self, value):\n",
        "        \"\"\"\n",
        "        Initializes a Node with a given value.\n",
        "\n",
        "        Parameters:\n",
        "        - value: The value to be stored in the node.\n",
        "\n",
        "        Both left and right child references are initialized as None.\n",
        "        \"\"\"\n",
        "        self.value = value\n",
        "        self.left_child = None\n",
        "        self.right_child = None\n",
        "\n",
        "\n",
        "class BST:\n",
        "    \"\"\"\n",
        "    Represents a Binary Search Tree (BST).\n",
        "\n",
        "    Attributes:\n",
        "        root (Node or None): The root node of the tree. Initializes to None for an empty tree.\n",
        "    \"\"\"\n",
        "\n",
        "    def __init__(self):\n",
        "        \"\"\"Initializes an empty BST.\"\"\"\n",
        "        self.root = None\n",
        "\n",
        "    def add(self, value):\n",
        "        \"\"\"\n",
        "        Inserts a new value into the BST.\n",
        "\n",
        "        Args:\n",
        "            value: The value to be added to the tree.\n",
        "\n",
        "        If the tree is empty, the value becomes the root. Otherwise, the method uses\n",
        "        a recursive helper function to find the appropriate position to maintain the BST property.\n",
        "        \"\"\"\n",
        "        if self.root is None:\n",
        "            self.root = Node(value)\n",
        "        else:\n",
        "            self._add_recursive(self.root, value)\n",
        "\n",
        "    def _add_recursive(self, current_node, value):\n",
        "        \"\"\"\n",
        "        Recursively finds the correct position and inserts a value into the BST.\n",
        "\n",
        "        Args:\n",
        "            current_node (Node): The node to start the search for the insert position from.\n",
        "            value: The value to be added to the BST.\n",
        "\n",
        "        The method determines if the new value should be placed to the left or right of\n",
        "        the current node. If the target position is empty, the value is inserted.\n",
        "        Otherwise, the function calls itself recursively with the respective child node.\n",
        "        \"\"\"\n",
        "        if value <= current_node.value:\n",
        "            if current_node.left_child is None:\n",
        "                current_node.left_child = Node(value)\n",
        "            else:\n",
        "                self._add_recursive(current_node.left_child, value)\n",
        "        else:\n",
        "            if current_node.right_child is None:\n",
        "                current_node.right_child = Node(value)\n",
        "            else:\n",
        "                self._add_recursive(current_node.right_child, value)\n",
        "\n",
        "    def _contains(self, current_node, value):\n",
        "        \"\"\"\n",
        "        Recursively checks if the BST contains the specified value starting from a given node.\n",
        "\n",
        "        Args:\n",
        "            current_node (Node): The node to start the search from.\n",
        "            value: The value to search for in the BST.\n",
        "\n",
        "        Returns:\n",
        "            bool: True if the value exists in the subtree rooted at current_node, otherwise False.\n",
        "        \"\"\"\n",
        "        if current_node is None:\n",
        "            return False\n",
        "        if current_node.value == value:\n",
        "            return True\n",
        "        if value < current_node.value:\n",
        "            return self._contains(current_node.left_child, value)\n",
        "        return self._contains(current_node.right_child, value)\n",
        "\n",
        "    def contains(self, value):\n",
        "        \"\"\"\n",
        "        Checks if the BST contains the specified value.\n",
        "\n",
        "        Args:\n",
        "            value: The value to search for in the BST.\n",
        "\n",
        "        Returns:\n",
        "            bool: True if the BST contains the value, otherwise False.\n",
        "        \"\"\"\n",
        "        return self._contains(self.root, value)"
      ],
      "metadata": {
        "id": "zZxhybykExQG"
      },
      "execution_count": null,
      "outputs": []
    },
    {
      "cell_type": "markdown",
      "source": [
        "## [8/10] - Building your second tree"
      ],
      "metadata": {
        "id": "dv4_-JTuG2T6"
      }
    },
    {
      "cell_type": "markdown",
      "source": [
        "With the improvements from the previous section, our BST implementation is much cleaner and easier to use. Users don't need to know the internal structure of the tree anymore.\n",
        "\n",
        "At the beginning of this lesson, we built the following tree by manually creating the nodes and assigning the children:\n",
        "\n",
        "<center>\n",
        "<img src=\"https://drive.google.com/uc?id=1FhxwTNc7oznD5HjlHvFURi_uLYPdYOPX\" width=\"40%\">\n",
        "</center>\n",
        "\n",
        "On this section, we're going to create the same tree again but using the **``add()``** method this time. However, to get that exact tree, we can't insert the values in any order!\n",
        "\n",
        "For example, if we add the values in increasing order **``[1, 3, 5, 6, 8, 9, 10]``**, then we will instead get this:\n",
        "\n",
        "<center>\n",
        "<img src=\"https://drive.google.com/uc?id=1SQI8dJuTVrweJYEL71PjUMm716j7GOWU\" width=\"20%\">\n",
        "</center>\n",
        "\n",
        "If we add values in the order **``[6, 3, 9, 1, 5, 8, 10]``**, then we will get this:\n",
        "\n",
        "<center>\n",
        "<img src=\"https://drive.google.com/uc?id=1EMq8fZMDW8Fh1F2Zj8QA7Y8qbmipm9md\" width=\"60%\">\n",
        "</center>\n"
      ],
      "metadata": {
        "id": "tBmL4PjrISGS"
      }
    },
    {
      "cell_type": "markdown",
      "source": [
        "### Instructions"
      ],
      "metadata": {
        "id": "4lNuzMcmI5Qx"
      }
    },
    {
      "cell_type": "markdown",
      "source": [
        "The **``BST``** class we've defined in this lesson is available, but the code isn't visible because we won't modify it in this exercise.\n",
        "\n",
        "The goal of this exercise is to use the **``add()``** method to build the following tree:\n",
        "\n",
        "<center>\n",
        "<img src=\"https://drive.google.com/uc?id=13fs_U1rLJRGg55J0UICXl2_0T1WYVMYh\" width=\"60%\">\n",
        "</center>\n",
        "\n",
        "The challenge is to find the correct value insertion order so that the resulting tree matches the one in the figure.\n",
        "\n",
        "1. Use the **``BST()``** constructor to create an empty binary search tree. Assign it to a variable **``bst``**.\n",
        "2. Use the **``add()``** method to add the values **``1, 3, 5, 6, 8, 9, 10``** so that the resulting tree matches the one in the figure. You will need to add the values in **``another order``** to get the same tree as the diagram."
      ],
      "metadata": {
        "id": "UyVKdbqiJcSr"
      }
    },
    {
      "cell_type": "code",
      "source": [
        "# put your code here"
      ],
      "metadata": {
        "id": "fFNzNwliJ1R0"
      },
      "execution_count": null,
      "outputs": []
    },
    {
      "cell_type": "markdown",
      "source": [
        "## [9/10] BST Complexity"
      ],
      "metadata": {
        "id": "Nb5ETinZKNc8"
      }
    },
    {
      "cell_type": "markdown",
      "source": [
        "Before we finish this section, let's discuss the advantages we get from using a BST instead of a list.\n",
        "\n",
        "The time it takes to add a value to a BST or check whether it contains a value depends on how tall the tree is. The **``height``** of a tree is the length of the longest path from the root to a leaf.\n",
        "\n",
        "Here are a few examples with the longest paths highlighted in blue on each example:\n",
        "\n",
        "<center>\n",
        "<img src=\"https://drive.google.com/uc?id=1LDOPfz_awChu20A6kDarR5M3Os1A8PS9\" width=\"80%\">\n",
        "</center>\n",
        "\n",
        "In both insertions and lookups, we process at most one path of the tree. So in the worst case, the time complexity is **``O(h)``**, where **``h``** is the height of the tree.\n",
        "\n",
        "The trees in these examples were all built using the same set of values. The difference is that the values were inserted in a different order. The middle example shows the maximum possible height we can get with a tree with seven values. On the other hand, the last example shows the minimum possible height.\n",
        "\n",
        "In the worst case, each node has a single child and the height is equal to **``n - 1``**, where n is the number of values in the tree. In this case, tree operations have **``O(n)``** complexity.\n",
        "\n",
        "In the best case, each node has two children so each level has twice as many values as the previous level. The first level has one node, the second has two, the third has four, and so on. Let's calculate the height **``h``** of such a tree as a function of the number of nodes, **``n``**.\n",
        "\n",
        "The total number of nodes, **``n``**, is equal to the sum of the number of nodes in each level. So in the case where the first level has one node and each subsequent level has double the nodes of the previous level, we have the following:\n",
        "\n",
        "\n",
        "<center>\n",
        "<img src=\"https://drive.google.com/uc?id=1FjSi_bxvMY4V1T2aqbzswfiVIHVI4HZs\" width=\"80%\">\n",
        "</center>\n",
        "\n",
        "The sum $1 + 2 + 4 + \\ldots 2^{h-1}$, on the right-hand side, is equal to $2^{h - 1}$. We won't do a formal proof here but we can convince ourselves that it is true by calculating the first few terms:\n",
        "\n",
        "```python\n",
        "1 + 2 = 3 = 4 - 1\n",
        "1 + 2 + 4 = 7 = 8 - 1\n",
        "1 + 2 + 4 + 8 = 15 = 16 - 1\n",
        "1 + 2 + 4 + 8 + 16 = 31 = 32 - 1\n",
        "```\n",
        "\n",
        "This means that if each node has two children, $n = 2^{h - 1}$, our goal is to express **``h``** in term of **``n``**:\n",
        "\n",
        "$\n",
        "n = 2^h - 1 ⇒ n +1 ⇒ \\log(n+1) = h\n",
        "$\n",
        "\n",
        "We conclude that, in the best case, the height of the tree is **``O(log(n))``** (recall that the + 1 and the base of the logarithm don't matter for the complexity).\n",
        "\n",
        "The conclusion is that, depending on the order in which the values are added to the tree, the complexity of the tree operations will range from linear complexity to logarithmic complexity. Linear complexity is not very good in this case since it is not better than a list. On the other hand, logarithmic complexity is much much faster.\n",
        "\n",
        "In the next notebook, we'll learn how we can ensure that the complexity is logarithmic for any insertion order."
      ],
      "metadata": {
        "id": "fTDeWF6zKPB-"
      }
    },
    {
      "cell_type": "markdown",
      "source": [
        "## [10/10] Next Steps"
      ],
      "metadata": {
        "id": "z4TCbN53Kxi8"
      }
    },
    {
      "cell_type": "markdown",
      "source": [
        "In this notebook, we've defined and built a binary search tree and implemented insertion and lookups using recursion. We've learned that the complexity of these operations strongly depends on the height of the tree, which can be anywhere from logarithmic to linear.\n",
        "\n",
        "For the next notebook, we'll extend the BST implementation to ensure that the height of the tree remains logarithmic regardless of the order in which values are inserted."
      ],
      "metadata": {
        "id": "m6PiJM2mM0Hy"
      }
    }
  ]
}