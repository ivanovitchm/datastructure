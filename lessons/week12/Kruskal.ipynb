{
  "nbformat": 4,
  "nbformat_minor": 0,
  "metadata": {
    "colab": {
      "provenance": []
    },
    "kernelspec": {
      "name": "python3",
      "display_name": "Python 3"
    },
    "language_info": {
      "name": "python"
    }
  },
  "cells": [
    {
      "cell_type": "markdown",
      "source": [
        "# Kruskal's Algorithm"
      ],
      "metadata": {
        "id": "OFsYV9TiUXdP"
      }
    },
    {
      "cell_type": "markdown",
      "source": [
        "You're given a list of `edges` representing a weighted, undirected graph with at least one node.\n",
        "\n",
        "The given list is what's called an adjacency list, and it represents a graph. The number of vertices in the graph is equal to the length of `edges`, where each index `i` in `edges` contains vertex `i`'s siblings, in no particular order. Each of these siblings is an array of length two, with the first value denoting the index in the list that this vertex is connected to, and the second value denoting the weight of the edge. Note that this graph is undirected, meaning that if a vertex appears in the edge list of another vertex, then the inverse will also be true (along with the same weight).\n",
        "\n",
        "Write a function implementing Kruskal's Algorithm to return a new `edges` array that represents a **minimum spanning tree** (MST). A minimum spanning tree is a tree containing all of the vertices of the original graph and a subset of the edges. These edges should connect all of the vertices with the minimum total edge weight **and without generating any cycles**.\n",
        "\n",
        "If the graph is not connected, your function should return the minimum spanning forest (i.e., all of the nodes should be able to reach the same nodes as they could in the initial edge list).\n",
        "\n",
        "Note that the graph represented by `edges` won't contain any self-loops (vertices that have an outbound edge to themselves) and will only have positively weighted edges (i.e., no negative distances).\n"
      ],
      "metadata": {
        "id": "u-RgZyDsUSzi"
      }
    },
    {
      "cell_type": "markdown",
      "source": [
        "\n",
        "## Sample Input\n"
      ],
      "metadata": {
        "id": "eT-XHEWcU3J4"
      }
    },
    {
      "cell_type": "code",
      "source": [
        "edges = [\n",
        "    [[4, 3], [3, 4]],\n",
        "    [[2, 5], [3, 7]],\n",
        "    [[1, 5], [3, 6], [4, 8]],\n",
        "    [[0, 4], [1, 7], [2, 6], [4, 2]],\n",
        "    [[3, 2], [0, 3], [2,8]],\n",
        "]"
      ],
      "metadata": {
        "id": "5RzABkfLbBJA"
      },
      "execution_count": null,
      "outputs": []
    },
    {
      "cell_type": "markdown",
      "source": [
        "## Sample Output\n"
      ],
      "metadata": {
        "id": "8kmEkK-QU9uf"
      }
    },
    {
      "cell_type": "code",
      "source": [
        "\n",
        "[\n",
        "    [[4, 3]],\n",
        "    [[2, 5]],\n",
        "    [[1, 5], [3,6]],\n",
        "    [[2, 6], [4,2]],\n",
        "    [[0,3], [3,2]]\n",
        "]\n"
      ],
      "metadata": {
        "id": "zQBcSboqb93P",
        "colab": {
          "base_uri": "https://localhost:8080/"
        },
        "outputId": "2b3f9951-9dc8-47f0-a9ae-7e23d70bc509"
      },
      "execution_count": null,
      "outputs": [
        {
          "output_type": "execute_result",
          "data": {
            "text/plain": [
              "[[[4, 3]], [[2, 5]], [[1, 5], [3, 6]], [[2, 6], [4, 2]], [[0, 3], [3, 2]]]"
            ]
          },
          "metadata": {},
          "execution_count": 12
        }
      ]
    },
    {
      "cell_type": "markdown",
      "source": [
        "<img src=\"https://drive.google.com/uc?id=1n_qSdfMMZ-IvptKh4AYfAsqHdQf1RAs1\" width=\"300\" height=\"300\">\n"
      ],
      "metadata": {
        "id": "iHS4Ij8TYy3K"
      }
    },
    {
      "cell_type": "markdown",
      "source": [
        "## Hints\n",
        "\n",
        "**Hint 1**\n",
        "\n",
        "A good place to start is to transform the adjacency list into a list of all of the edges, sorted by weight.\n",
        "\n",
        "**Hint 2**\n",
        "\n",
        "To check if adding a given edge creates a cycle, try using a disjoint set. Start by thinking of each node as its own set. Then with each added edge, combine the sets of the connected nodes."
      ],
      "metadata": {
        "id": "JGyHPnD5Vkrt"
      }
    },
    {
      "cell_type": "markdown",
      "source": [
        "## Optimal Space & Time Complexity\n",
        "\n",
        "``O(e * log(e))`` time | ``O(e + v)`` space - where ``e`` is the number of edges in the input edges and ``v`` is the number of vertices."
      ],
      "metadata": {
        "id": "9iSoj-_dVwcB"
      }
    },
    {
      "cell_type": "code",
      "source": [
        "# Kruskal's Algorithm to find the Minimum Spanning Tree (MST) of a graph.\n",
        "# Time Complexity: O(e * log(e)), where 'e' is the number of edges.\n",
        "# Space Complexity: O(e + v), where 'v' is the number of vertices.\n",
        "\n",
        "\n",
        "def kruskalsAlgorithm(edges):\n",
        "    \"\"\"\n",
        "    Implements Kruskal's Algorithm to compute the Minimum Spanning Tree (MST).\n",
        "\n",
        "    Args:\n",
        "        edges (list): Adjacency list representing a graph. Each vertex contains\n",
        "                      a list of edges with the format [destination, weight].\n",
        "\n",
        "    Returns:\n",
        "        list: Adjacency list representing the MST. Each vertex's list contains\n",
        "              the edges included in the MST with the format [destination, weight].\n",
        "    \"\"\"\n",
        "    edgeList = []  # Stores all edges as [source, destination, weight].\n",
        "\n",
        "    # Step 1: Convert adjacency list to a list of edges, avoiding duplicates.\n",
        "    for sourceIndex, vertex in enumerate(edges):\n",
        "        for edge in vertex:\n",
        "            if edge[0] > sourceIndex:  # Avoid adding reverse/duplicate edges\n",
        "                edgeList.append([sourceIndex, edge[0], edge[1]])\n",
        "\n",
        "    # Step 2: Sort all edges in ascending order of their weights.\n",
        "    sortedEdges = sorted(edgeList, key=lambda edge: edge[2])\n",
        "\n",
        "    # Step 3: Initialize Union-Find structure to track connected components.\n",
        "    parents = [vertex for vertex in range(len(edges))]  # Each vertex is its own parent initially.\n",
        "    ranks = [0 for _ in range(len(edges))]  # Ranks of all vertices (for balancing).\n",
        "    mst = [[] for _ in range(len(edges))]  # Resultant MST as an adjacency list.\n",
        "\n",
        "    # Step 4: Process each edge in ascending order of weight.\n",
        "    for edge in sortedEdges:\n",
        "        vertex1Root = find(edge[0], parents)  # Find the root of vertex1\n",
        "        vertex2Root = find(edge[1], parents)  # Find the root of vertex2\n",
        "\n",
        "        # If the vertices are in different sets, add the edge to the MST.\n",
        "        if vertex1Root != vertex2Root:\n",
        "            mst[edge[0]].append([edge[1], edge[2]])\n",
        "            mst[edge[1]].append([edge[0], edge[2]])\n",
        "            union(vertex1Root, vertex2Root, parents, ranks)  # Merge the sets\n",
        "\n",
        "    return mst\n",
        "\n",
        "\n",
        "def find(vertex, parents):\n",
        "    \"\"\"\n",
        "    Finds the root of a vertex with path compression optimization.\n",
        "\n",
        "    Args:\n",
        "        vertex (int): The vertex whose root is to be found.\n",
        "        parents (list): The parent array representing the Union-Find structure.\n",
        "\n",
        "    Returns:\n",
        "        int: The root of the vertex.\n",
        "    \"\"\"\n",
        "    if vertex != parents[vertex]:  # If the vertex is not its own parent\n",
        "        parents[vertex] = find(parents[vertex], parents)  # Path compression\n",
        "    return parents[vertex]\n",
        "\n",
        "\n",
        "def union(vertex1Root, vertex2Root, parents, ranks):\n",
        "    \"\"\"\n",
        "    Merges two disjoint sets using rank-based union.\n",
        "\n",
        "    Args:\n",
        "        vertex1Root (int): The root of the first set.\n",
        "        vertex2Root (int): The root of the second set.\n",
        "        parents (list): The parent array representing the Union-Find structure.\n",
        "        ranks (list): The ranks array to keep the Union-Find balanced.\n",
        "    \"\"\"\n",
        "    # Attach the smaller tree under the root of the larger tree\n",
        "    if ranks[vertex1Root] < ranks[vertex2Root]:\n",
        "        parents[vertex1Root] = vertex2Root  # Make vertex2Root the parent\n",
        "    elif ranks[vertex1Root] > ranks[vertex2Root]:\n",
        "        parents[vertex2Root] = vertex1Root  # Make vertex1Root the parent\n",
        "    else:\n",
        "        # If ranks are equal, choose one root arbitrarily and increase its rank\n",
        "        parents[vertex2Root] = vertex1Root\n",
        "        ranks[vertex1Root] += 1"
      ],
      "metadata": {
        "id": "zu-6nImQUV4W"
      },
      "execution_count": null,
      "outputs": []
    },
    {
      "cell_type": "code",
      "source": [
        "kruskalsAlgorithm(edges)"
      ],
      "metadata": {
        "colab": {
          "base_uri": "https://localhost:8080/"
        },
        "id": "rd9PpoxXdTp0",
        "outputId": "99673042-07f6-4b11-e644-2c788b11561a"
      },
      "execution_count": null,
      "outputs": [
        {
          "output_type": "execute_result",
          "data": {
            "text/plain": [
              "[[[4, 3]], [[2, 5]], [[1, 5], [3, 6]], [[4, 2], [2, 6]], [[3, 2], [0, 3]]]"
            ]
          },
          "metadata": {},
          "execution_count": 3
        }
      ]
    },
    {
      "cell_type": "code",
      "source": [],
      "metadata": {
        "id": "3SmrLcqiuHP9"
      },
      "execution_count": null,
      "outputs": []
    }
  ]
}